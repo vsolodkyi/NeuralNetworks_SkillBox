{
  "nbformat": 4,
  "nbformat_minor": 0,
  "metadata": {
    "accelerator": "GPU",
    "colab": {
      "name": "Реализация и обучение классификатора текстов.ipynb",
      "provenance": [],
      "collapsed_sections": [],
      "include_colab_link": true
    },
    "kernelspec": {
      "name": "python3",
      "display_name": "Python 3"
    },
    "language_info": {
      "codemirror_mode": {
        "name": "ipython",
        "version": 3
      },
      "file_extension": ".py",
      "mimetype": "text/x-python",
      "name": "python",
      "nbconvert_exporter": "python",
      "pygments_lexer": "ipython3",
      "version": "3.7.1"
    }
  },
  "cells": [
    {
      "cell_type": "markdown",
      "metadata": {
        "id": "view-in-github",
        "colab_type": "text"
      },
      "source": [
        "<a href=\"https://colab.research.google.com/github/vsolodkyi/NeuralNetworks_SkillBox/blob/main/module_14/%D0%A0%D0%B5%D0%B0%D0%BB%D0%B8%D0%B7%D0%B0%D1%86%D0%B8%D1%8F_%D0%B8_%D0%BE%D0%B1%D1%83%D1%87%D0%B5%D0%BD%D0%B8%D0%B5_%D0%BA%D0%BB%D0%B0%D1%81%D1%81%D0%B8%D1%84%D0%B8%D0%BA%D0%B0%D1%82%D0%BE%D1%80%D0%B0_%D1%82%D0%B5%D0%BA%D1%81%D1%82%D0%BE%D0%B2.ipynb\" target=\"_parent\"><img src=\"https://colab.research.google.com/assets/colab-badge.svg\" alt=\"Open In Colab\"/></a>"
      ]
    },
    {
      "cell_type": "markdown",
      "metadata": {
        "id": "ZmZiFVcabyX1"
      },
      "source": [
        "#Реализация  и обучение классификатора текстов\n",
        "\n",
        "Рассмотрим реализацию классификатора текстов на примере классификации отзывов на фильмы (положительный или отрицательный). Для этого будем использовать классический датасет IMDB."
      ]
    },
    {
      "cell_type": "markdown",
      "metadata": {
        "id": "pu9Fy3R7b5cx"
      },
      "source": [
        "### Используем TensorFlow 2.0\n",
        "\n",
        "На момент подготовки этих материалов в Google Colab по умолчанию используется версия TensorFlow 1.X\n",
        "\n",
        "Переключаемся на версию 2.0 (работает только в Colab)"
      ]
    },
    {
      "cell_type": "code",
      "metadata": {
        "id": "cMnq-IQdUYef",
        "colab": {
          "base_uri": "https://localhost:8080/"
        },
        "outputId": "fb8ab24a-891a-4ae6-a0f8-386244752e8b"
      },
      "source": [
        "%tensorflow_version 2.x"
      ],
      "execution_count": 1,
      "outputs": [
        {
          "output_type": "stream",
          "name": "stdout",
          "text": [
            "Colab only includes TensorFlow 2.x; %tensorflow_version has no effect.\n"
          ]
        }
      ]
    },
    {
      "cell_type": "markdown",
      "metadata": {
        "id": "0zI3nDdteAqz"
      },
      "source": [
        "### Загрузка библиотек\n",
        "TensorFlow должен иметь как минимум версию 2.0"
      ]
    },
    {
      "cell_type": "code",
      "metadata": {
        "id": "2ew7HTbPpCJH",
        "colab": {
          "base_uri": "https://localhost:8080/"
        },
        "outputId": "698d0005-b9b0-44ec-fff8-679d334f8e51"
      },
      "source": [
        "import numpy as np\n",
        "import tensorflow as tf\n",
        "print(tf.__version__)\n",
        "\n",
        "import matplotlib.pyplot as plt\n",
        "%matplotlib inline"
      ],
      "execution_count": 2,
      "outputs": [
        {
          "output_type": "stream",
          "name": "stdout",
          "text": [
            "2.8.2\n"
          ]
        }
      ]
    },
    {
      "cell_type": "markdown",
      "metadata": {
        "id": "oH_vOZKxUUp_"
      },
      "source": [
        "### Загрузка датасета IMDB\n",
        "Загружаем датасет IMDB (обучающую и тестовую выборки). Во время загрузки датасета можно указать, какое подмножество словаря мы хотим использовать, указав `num_words=VOCAB_SIZE`, тогда останутся только самые частые слова.\n",
        "\n",
        "В датасете последовательности (предложения) уже представлены индексами слов."
      ]
    },
    {
      "cell_type": "code",
      "metadata": {
        "id": "zXXx5Oc3pOmN",
        "colab": {
          "base_uri": "https://localhost:8080/"
        },
        "outputId": "9845f1a9-8c9d-46ae-92a1-a88529265450"
      },
      "source": [
        "VOCAB_SIZE = 10000 # Количество слов в словаре\n",
        "\n",
        "(train_data, train_labels), (test_data, test_labels) = \\\n",
        "    tf.keras.datasets.imdb.load_data(num_words=VOCAB_SIZE)\n",
        "\n",
        "print(\"Training entries: {}\".format(len(train_data)))\n",
        "print('=====================================')\n",
        "print(\"Test entries: {}\".format(len(test_data)))\n",
        "print('=====================================')\n",
        "print(\"Length examples: {}\".format([len(train_data[0]), len(train_data[1])]))\n",
        "print('=====================================')\n",
        "print(\"Entry example: {}\".format(train_data[0]))"
      ],
      "execution_count": 3,
      "outputs": [
        {
          "output_type": "stream",
          "name": "stdout",
          "text": [
            "Downloading data from https://storage.googleapis.com/tensorflow/tf-keras-datasets/imdb.npz\n",
            "17465344/17464789 [==============================] - 0s 0us/step\n",
            "17473536/17464789 [==============================] - 0s 0us/step\n",
            "Training entries: 25000\n",
            "=====================================\n",
            "Test entries: 25000\n",
            "=====================================\n",
            "Length examples: [218, 189]\n",
            "=====================================\n",
            "Entry example: [1, 14, 22, 16, 43, 530, 973, 1622, 1385, 65, 458, 4468, 66, 3941, 4, 173, 36, 256, 5, 25, 100, 43, 838, 112, 50, 670, 2, 9, 35, 480, 284, 5, 150, 4, 172, 112, 167, 2, 336, 385, 39, 4, 172, 4536, 1111, 17, 546, 38, 13, 447, 4, 192, 50, 16, 6, 147, 2025, 19, 14, 22, 4, 1920, 4613, 469, 4, 22, 71, 87, 12, 16, 43, 530, 38, 76, 15, 13, 1247, 4, 22, 17, 515, 17, 12, 16, 626, 18, 2, 5, 62, 386, 12, 8, 316, 8, 106, 5, 4, 2223, 5244, 16, 480, 66, 3785, 33, 4, 130, 12, 16, 38, 619, 5, 25, 124, 51, 36, 135, 48, 25, 1415, 33, 6, 22, 12, 215, 28, 77, 52, 5, 14, 407, 16, 82, 2, 8, 4, 107, 117, 5952, 15, 256, 4, 2, 7, 3766, 5, 723, 36, 71, 43, 530, 476, 26, 400, 317, 46, 7, 4, 2, 1029, 13, 104, 88, 4, 381, 15, 297, 98, 32, 2071, 56, 26, 141, 6, 194, 7486, 18, 4, 226, 22, 21, 134, 476, 26, 480, 5, 144, 30, 5535, 18, 51, 36, 28, 224, 92, 25, 104, 4, 226, 65, 16, 38, 1334, 88, 12, 16, 283, 5, 16, 4472, 113, 103, 32, 15, 16, 5345, 19, 178, 32]\n"
          ]
        }
      ]
    },
    {
      "cell_type": "markdown",
      "metadata": {
        "id": "ddYa4j6cUfO8"
      },
      "source": [
        "### Создание функций decode_review и encode_review\n",
        "Создадим функции для конвертирования индексного представления отзыва в словесный (`decode_review`) и наоборот (`encode_review`).\n",
        "\n",
        "Функции будут используют словари `word2idx` и `idx2word` (отображение слова в индекс и индекса в слово)\n",
        "\n",
        "Кроме обычные слов в словаре будут содержаться специальные слова (токены): `<PAD>`, `<START>`, `<UNKNOWN>`\n"
      ]
    },
    {
      "cell_type": "code",
      "metadata": {
        "id": "tr5s_1alpzop",
        "colab": {
          "base_uri": "https://localhost:8080/"
        },
        "outputId": "4521742b-a73c-4532-9b2d-1a1e44a17e5d"
      },
      "source": [
        "word_index = tf.keras.datasets.imdb.get_word_index()\n",
        "\n",
        "word_index = {k:(v+3) for k,v in word_index.items()} \n",
        "word_index[\"<PAD>\"] = 0\n",
        "word_index[\"<START>\"] = 1\n",
        "word_index[\"<UNKNOWN>\"] = 2\n",
        "\n",
        "reverse_word_index = dict([(value, key) for (key, value) in word_index.items()])\n",
        "\n",
        "# последовательность индексов в текст\n",
        "def decode_review(text):\n",
        "    return ' '.join([reverse_word_index.get(i, '?') for i in text])\n",
        "\n",
        "# текст в последовательность индексов\n",
        "def encode_review(text):\n",
        "    words = text.lower().split()\n",
        "    words = ['<START>'] + words\n",
        "    idxs = [word_index.get(word, word_index['<UNKNOWN>']) for word in words]\n",
        "    return idxs\n",
        "\n",
        "print('Example of a decoded review: \\n{}'.format(decode_review(train_data[0])))"
      ],
      "execution_count": 4,
      "outputs": [
        {
          "output_type": "stream",
          "name": "stdout",
          "text": [
            "Downloading data from https://storage.googleapis.com/tensorflow/tf-keras-datasets/imdb_word_index.json\n",
            "1646592/1641221 [==============================] - 0s 0us/step\n",
            "1654784/1641221 [==============================] - 0s 0us/step\n",
            "Example of a decoded review: \n",
            "<START> this film was just brilliant casting location scenery story direction everyone's really suited the part they played and you could just imagine being there robert <UNKNOWN> is an amazing actor and now the same being director <UNKNOWN> father came from the same scottish island as myself so i loved the fact there was a real connection with this film the witty remarks throughout the film were great it was just brilliant so much that i bought the film as soon as it was released for <UNKNOWN> and would recommend it to everyone to watch and the fly fishing was amazing really cried at the end it was so sad and you know what they say if you cry at a film it must have been good and this definitely was also <UNKNOWN> to the two little boy's that played the <UNKNOWN> of norman and paul they were just brilliant children are often left out of the <UNKNOWN> list i think because the stars that play them all grown up are such a big profile for the whole film but these children are amazing and should be praised for what they have done don't you think the whole story was so lovely because it was true and was someone's life after all that was shared with us all\n"
          ]
        }
      ]
    },
    {
      "cell_type": "markdown",
      "metadata": {
        "id": "5kijgd6JfPlo"
      },
      "source": [
        "### Проверка работы функций decode_review и encode_review\n",
        "Протестируем функции `decode_review` и `encode_review`"
      ]
    },
    {
      "cell_type": "code",
      "metadata": {
        "id": "MrfmGgiFUUqG",
        "colab": {
          "base_uri": "https://localhost:8080/"
        },
        "outputId": "063a4d0b-24c6-4df8-8c9c-3550b74b84ee"
      },
      "source": [
        "text = 'hello world'\n",
        "\n",
        "print(encode_review(text))\n",
        "print(decode_review(encode_review(text)))"
      ],
      "execution_count": 5,
      "outputs": [
        {
          "output_type": "stream",
          "name": "stdout",
          "text": [
            "[1, 4825, 182]\n",
            "<START> hello world\n"
          ]
        }
      ]
    },
    {
      "cell_type": "markdown",
      "metadata": {
        "id": "gBnbaLQEUigW"
      },
      "source": [
        "### Приведение всех цепочек в датасете к одной длине с помощью паддинга\n",
        "Одна цепочка это один отзыв. А отзывы могут быть различной длины. \n",
        "\n",
        "Так как нам будет необходимо собирать из отзывов батчи (группы цепочек), удобно все отзывы привести к одной длине с помощью падинга в конце (добавлением элементов `<PAD>`)."
      ]
    },
    {
      "cell_type": "code",
      "metadata": {
        "id": "2jQv-omsHurp",
        "colab": {
          "base_uri": "https://localhost:8080/"
        },
        "outputId": "293b61dc-5380-4289-dd56-ee62e6c2dc0a"
      },
      "source": [
        "MAX_SEQ_LEN = 256 # Финальная длина последовательности\n",
        "\n",
        "train_data = tf.keras.preprocessing.sequence.pad_sequences(\n",
        "    train_data,\n",
        "    value=word_index[\"<PAD>\"],\n",
        "    padding='post',\n",
        "    maxlen=MAX_SEQ_LEN)\n",
        "\n",
        "test_data = tf.keras.preprocessing.sequence.pad_sequences(\n",
        "    test_data,\n",
        "    value=word_index[\"<PAD>\"],\n",
        "    padding='post',\n",
        "    maxlen=MAX_SEQ_LEN)\n",
        "\n",
        "print(\"Length examples: {}\".format([len(train_data[0]), len(train_data[1])]))\n",
        "print('=====================================')\n",
        "print(\"Entry example: {}\".format(train_data[0]))"
      ],
      "execution_count": 6,
      "outputs": [
        {
          "output_type": "stream",
          "name": "stdout",
          "text": [
            "Length examples: [256, 256]\n",
            "=====================================\n",
            "Entry example: [   1   14   22   16   43  530  973 1622 1385   65  458 4468   66 3941\n",
            "    4  173   36  256    5   25  100   43  838  112   50  670    2    9\n",
            "   35  480  284    5  150    4  172  112  167    2  336  385   39    4\n",
            "  172 4536 1111   17  546   38   13  447    4  192   50   16    6  147\n",
            " 2025   19   14   22    4 1920 4613  469    4   22   71   87   12   16\n",
            "   43  530   38   76   15   13 1247    4   22   17  515   17   12   16\n",
            "  626   18    2    5   62  386   12    8  316    8  106    5    4 2223\n",
            " 5244   16  480   66 3785   33    4  130   12   16   38  619    5   25\n",
            "  124   51   36  135   48   25 1415   33    6   22   12  215   28   77\n",
            "   52    5   14  407   16   82    2    8    4  107  117 5952   15  256\n",
            "    4    2    7 3766    5  723   36   71   43  530  476   26  400  317\n",
            "   46    7    4    2 1029   13  104   88    4  381   15  297   98   32\n",
            " 2071   56   26  141    6  194 7486   18    4  226   22   21  134  476\n",
            "   26  480    5  144   30 5535   18   51   36   28  224   92   25  104\n",
            "    4  226   65   16   38 1334   88   12   16  283    5   16 4472  113\n",
            "  103   32   15   16 5345   19  178   32    0    0    0    0    0    0\n",
            "    0    0    0    0    0    0    0    0    0    0    0    0    0    0\n",
            "    0    0    0    0    0    0    0    0    0    0    0    0    0    0\n",
            "    0    0    0    0]\n"
          ]
        }
      ]
    },
    {
      "cell_type": "markdown",
      "metadata": {
        "id": "3DFY3ibTUUqO"
      },
      "source": [
        "### Создание модели\n",
        "Создадим модель для бинарной классификации текстов.\n",
        "\n",
        "Здесь для простоты демонстрации будем использовать НЕ рекуррентную нейросеть, а обычную сеть прямого распространения. А после этого вам нужно будет использовать знания о рекуррентных сетях и применить их для решения той же задачи.\n",
        "\n",
        "Итак, давайте сначала воспользуемся сетью прямого распространения. Но такая нейросеть может обрабатывать лишь один входной объект (вектор), а у нас на входе последовательность векторов. Как можно перейти от последовательности к чему-то одному? \n",
        "\n",
        "Воспользуемся для этого слоем `GlobalAveragePooling1D`, который просто усреднит все вектора во входной последовательности и получит один выходной (промежуточный) вектор, который мы уже подадим на вход в полносвязную сеть. "
      ]
    },
    {
      "cell_type": "code",
      "metadata": {
        "id": "xpKOoWgu-llD",
        "colab": {
          "base_uri": "https://localhost:8080/"
        },
        "outputId": "0412c887-dde0-46c3-bc71-541d55ab5abd"
      },
      "source": [
        "EMB_SIZE = 16 # Размер векторного представления (эмбеддинга)\n",
        "    \n",
        "model = tf.keras.Sequential([\n",
        "    tf.keras.layers.Embedding(VOCAB_SIZE, 16),\n",
        "    tf.keras.layers.GlobalAveragePooling1D(),\n",
        "    tf.keras.layers.Dense(16, activation=tf.nn.relu),\n",
        "    tf.keras.layers.Dense(1, activation=tf.nn.sigmoid),\n",
        "])\n",
        "\n",
        "model.summary()"
      ],
      "execution_count": 7,
      "outputs": [
        {
          "output_type": "stream",
          "name": "stdout",
          "text": [
            "Model: \"sequential\"\n",
            "_________________________________________________________________\n",
            " Layer (type)                Output Shape              Param #   \n",
            "=================================================================\n",
            " embedding (Embedding)       (None, None, 16)          160000    \n",
            "                                                                 \n",
            " global_average_pooling1d (G  (None, 16)               0         \n",
            " lobalAveragePooling1D)                                          \n",
            "                                                                 \n",
            " dense (Dense)               (None, 16)                272       \n",
            "                                                                 \n",
            " dense_1 (Dense)             (None, 1)                 17        \n",
            "                                                                 \n",
            "=================================================================\n",
            "Total params: 160,289\n",
            "Trainable params: 160,289\n",
            "Non-trainable params: 0\n",
            "_________________________________________________________________\n"
          ]
        }
      ]
    },
    {
      "cell_type": "markdown",
      "metadata": {
        "id": "Q8J112EGUUqS"
      },
      "source": [
        "### Подготовка модели к обучению\n",
        "Далее мы будем обучать модель так же, как обычный классификатор."
      ]
    },
    {
      "cell_type": "code",
      "metadata": {
        "id": "Mr0GP-cQ-llN"
      },
      "source": [
        "model.compile(optimizer='adam',\n",
        "              loss='binary_crossentropy',\n",
        "              metrics=['acc'])"
      ],
      "execution_count": 8,
      "outputs": []
    },
    {
      "cell_type": "markdown",
      "metadata": {
        "id": "eTE1uIbSUUqV"
      },
      "source": [
        "### Разбиение обучающего датасета на обучающий и валидационный"
      ]
    },
    {
      "cell_type": "code",
      "metadata": {
        "id": "-NpcXY9--llS"
      },
      "source": [
        "x_val = train_data[:10000]\n",
        "partial_x_train = train_data[10000:]\n",
        "\n",
        "y_val = train_labels[:10000]\n",
        "partial_y_train = train_labels[10000:]"
      ],
      "execution_count": 9,
      "outputs": []
    },
    {
      "cell_type": "markdown",
      "metadata": {
        "id": "hFmKIMq0UUqY"
      },
      "source": [
        "### Обучение модели"
      ]
    },
    {
      "cell_type": "code",
      "metadata": {
        "id": "tXSGrjWZ-llW",
        "scrolled": false,
        "colab": {
          "base_uri": "https://localhost:8080/"
        },
        "outputId": "766e123f-1768-4c39-a036-216b7ea7d633"
      },
      "source": [
        "BATCH_SIZE = 512\n",
        "NUM_EPOCHS = 20\n",
        "\n",
        "history = model.fit(partial_x_train,\n",
        "                    partial_y_train,\n",
        "                    epochs=NUM_EPOCHS,\n",
        "                    batch_size=BATCH_SIZE,\n",
        "                    validation_data=(x_val, y_val),\n",
        "                    verbose=1)"
      ],
      "execution_count": 10,
      "outputs": [
        {
          "output_type": "stream",
          "name": "stdout",
          "text": [
            "Epoch 1/20\n",
            "30/30 [==============================] - 4s 12ms/step - loss: 0.6918 - acc: 0.6010 - val_loss: 0.6898 - val_acc: 0.6252\n",
            "Epoch 2/20\n",
            "30/30 [==============================] - 0s 6ms/step - loss: 0.6866 - acc: 0.6582 - val_loss: 0.6827 - val_acc: 0.6936\n",
            "Epoch 3/20\n",
            "30/30 [==============================] - 0s 7ms/step - loss: 0.6756 - acc: 0.7203 - val_loss: 0.6686 - val_acc: 0.7369\n",
            "Epoch 4/20\n",
            "30/30 [==============================] - 0s 7ms/step - loss: 0.6564 - acc: 0.7309 - val_loss: 0.6471 - val_acc: 0.7725\n",
            "Epoch 5/20\n",
            "30/30 [==============================] - 0s 6ms/step - loss: 0.6281 - acc: 0.7865 - val_loss: 0.6161 - val_acc: 0.7736\n",
            "Epoch 6/20\n",
            "30/30 [==============================] - 0s 7ms/step - loss: 0.5909 - acc: 0.7961 - val_loss: 0.5796 - val_acc: 0.8024\n",
            "Epoch 7/20\n",
            "30/30 [==============================] - 0s 7ms/step - loss: 0.5481 - acc: 0.8270 - val_loss: 0.5388 - val_acc: 0.8151\n",
            "Epoch 8/20\n",
            "30/30 [==============================] - 0s 7ms/step - loss: 0.5032 - acc: 0.8421 - val_loss: 0.4988 - val_acc: 0.8264\n",
            "Epoch 9/20\n",
            "30/30 [==============================] - 0s 7ms/step - loss: 0.4596 - acc: 0.8567 - val_loss: 0.4618 - val_acc: 0.8398\n",
            "Epoch 10/20\n",
            "30/30 [==============================] - 0s 7ms/step - loss: 0.4197 - acc: 0.8691 - val_loss: 0.4292 - val_acc: 0.8472\n",
            "Epoch 11/20\n",
            "30/30 [==============================] - 0s 6ms/step - loss: 0.3854 - acc: 0.8777 - val_loss: 0.4018 - val_acc: 0.8547\n",
            "Epoch 12/20\n",
            "30/30 [==============================] - 0s 7ms/step - loss: 0.3554 - acc: 0.8849 - val_loss: 0.3794 - val_acc: 0.8596\n",
            "Epoch 13/20\n",
            "30/30 [==============================] - 0s 7ms/step - loss: 0.3303 - acc: 0.8915 - val_loss: 0.3612 - val_acc: 0.8648\n",
            "Epoch 14/20\n",
            "30/30 [==============================] - 0s 7ms/step - loss: 0.3086 - acc: 0.8974 - val_loss: 0.3464 - val_acc: 0.8701\n",
            "Epoch 15/20\n",
            "30/30 [==============================] - 0s 7ms/step - loss: 0.2897 - acc: 0.9021 - val_loss: 0.3345 - val_acc: 0.8718\n",
            "Epoch 16/20\n",
            "30/30 [==============================] - 0s 7ms/step - loss: 0.2737 - acc: 0.9066 - val_loss: 0.3251 - val_acc: 0.8742\n",
            "Epoch 17/20\n",
            "30/30 [==============================] - 0s 7ms/step - loss: 0.2596 - acc: 0.9111 - val_loss: 0.3166 - val_acc: 0.8766\n",
            "Epoch 18/20\n",
            "30/30 [==============================] - 0s 7ms/step - loss: 0.2459 - acc: 0.9150 - val_loss: 0.3092 - val_acc: 0.8789\n",
            "Epoch 19/20\n",
            "30/30 [==============================] - 0s 7ms/step - loss: 0.2342 - acc: 0.9181 - val_loss: 0.3038 - val_acc: 0.8798\n",
            "Epoch 20/20\n",
            "30/30 [==============================] - 0s 6ms/step - loss: 0.2230 - acc: 0.9229 - val_loss: 0.2991 - val_acc: 0.8824\n"
          ]
        }
      ]
    },
    {
      "cell_type": "markdown",
      "metadata": {
        "id": "eo3qpeqTUUqb"
      },
      "source": [
        "### Оценка качества на тестовом датасете"
      ]
    },
    {
      "cell_type": "code",
      "metadata": {
        "id": "zOMKywn4zReN",
        "colab": {
          "base_uri": "https://localhost:8080/"
        },
        "outputId": "0b4a7eea-f666-4986-c0e2-d97e1ec96111"
      },
      "source": [
        "results = model.evaluate(test_data, test_labels)\n",
        "\n",
        "print('Test loss: {:.4f}'.format(results[0]))\n",
        "print('Test accuracy: {:.2f} %'.format(results[1]*100))"
      ],
      "execution_count": 11,
      "outputs": [
        {
          "output_type": "stream",
          "name": "stdout",
          "text": [
            "782/782 [==============================] - 2s 2ms/step - loss: 0.3128 - acc: 0.8734\n",
            "Test loss: 0.3128\n",
            "Test accuracy: 87.34 %\n"
          ]
        }
      ]
    },
    {
      "cell_type": "markdown",
      "metadata": {
        "id": "vEZH1SneWpPu"
      },
      "source": [
        "### Графики лосса и точности на обучающем и валидационном датасетах"
      ]
    },
    {
      "cell_type": "code",
      "metadata": {
        "id": "nGoYf2Js-lle",
        "scrolled": false,
        "colab": {
          "base_uri": "https://localhost:8080/",
          "height": 573
        },
        "outputId": "c4cc4441-b436-4214-9f59-e57d1dba5c85"
      },
      "source": [
        "epochs = range(1, len(history.history['acc']) + 1)\n",
        "\n",
        "plt.figure()\n",
        "plt.plot(epochs, history.history['loss'], 'bo', label='Training loss')\n",
        "plt.plot(epochs, history.history['val_loss'], 'b', label='Validation loss')\n",
        "plt.title('Training and validation loss')\n",
        "plt.xlabel('Epochs')\n",
        "plt.ylabel('Loss')\n",
        "plt.legend()\n",
        "plt.grid()\n",
        "\n",
        "plt.figure()\n",
        "plt.plot(epochs, history.history['acc'], 'bo', label='Training acc')\n",
        "plt.plot(epochs, history.history['val_acc'], 'b', label='Validation acc')\n",
        "plt.title('Training and validation accuracy')\n",
        "plt.xlabel('Epochs')\n",
        "plt.ylabel('Accuracy')\n",
        "plt.legend()\n",
        "plt.grid()"
      ],
      "execution_count": 12,
      "outputs": [
        {
          "output_type": "display_data",
          "data": {
            "text/plain": [
              "<Figure size 432x288 with 1 Axes>"
            ],
            "image/png": "[encoded data removed]"
          },
          "metadata": {
            "needs_background": "light"
          }
        },
        {
          "output_type": "display_data",
          "data": {
            "text/plain": [
              "<Figure size 432x288 with 1 Axes>"
            ],
            "image/png": "[encoded data removed]"
          },
          "metadata": {
            "needs_background": "light"
          }
        }
      ]
    },
    {
      "cell_type": "markdown",
      "metadata": {
        "id": "zh3G6kIxW41a"
      },
      "source": [
        "### Тестирование обученной модели на новой последовательности\n",
        "\n",
        "Проверим работу модели на собственном отзыве.\n",
        "\n",
        "Напишем текст (отзыв), закодируем его в индексы с помощью `encode_review` и подадим на вход в нейронную сеть, приклеив батч-измерение. Выход из сети -- вероятность того, что отзыв положительный."
      ]
    },
    {
      "cell_type": "code",
      "metadata": {
        "id": "OCrqqoy4xFkp",
        "colab": {
          "base_uri": "https://localhost:8080/"
        },
        "outputId": "6ec1e03d-a55e-4d94-8b31-feb5cfd1cc54"
      },
      "source": [
        "text = 'It was a really good movie it was so fantastic'\n",
        "\n",
        "encoded = encode_review(text)\n",
        "prediction = model.predict(np.array(encoded)[None, :])[0,0]\n",
        "\n",
        "print(prediction)\n",
        "print('Positive' if prediction > 0.5 else 'Negative')"
      ],
      "execution_count": 13,
      "outputs": [
        {
          "output_type": "stream",
          "name": "stdout",
          "text": [
            "0.99913377\n",
            "Positive\n"
          ]
        }
      ]
    },
    {
      "cell_type": "markdown",
      "metadata": {
        "id": "-r5RHF5cWwR8"
      },
      "source": [
        "В нашем решении выше мы воспользовались тем, что просто усреднили информацию обо всех словах и никак не использовали тот факт, что эти слова идут в определённой последовательности. То есть применение простых сетей прямого распространения может сработать для не очень сложных задач, где важны лишь какие-то ключевые слова, типа \"хороший фильм\" или \"плохой фильм\". Однако, как мы знаем, рекуррентные нейросети могут отслеживать закономерности в последовательностях и обладают намного более мощным потенциалом. \n",
        "\n",
        "**[Задание 1]** Замените модель прямого распространения на рекуррентную модель и обучите на датасете IMDB. Попробуйте различное количество рекуррентных слоёв, LSTM или GRU, различные гиперпараметры, двунаправленные сети и другие знания из предыдущих модулей.  "
      ]
    },
    {
      "cell_type": "code",
      "source": [
        "model_lstm = tf.keras.Sequential([\n",
        "    tf.keras.layers.Embedding(VOCAB_SIZE, 16),\n",
        "    tf.keras.layers.Bidirectional(\n",
        "        tf.keras.layers.LSTM(16, return_sequences=True, dropout=0.5, recurrent_dropout=0.5)),\n",
        "    tf.keras.layers.Bidirectional(\n",
        "        tf.keras.layers.LSTM(16, return_sequences=False, dropout=0.5, recurrent_dropout=0.5)),\n",
        "    tf.keras.layers.Dense(1, activation=tf.nn.sigmoid),\n",
        "])\n",
        "\n"
      ],
      "metadata": {
        "colab": {
          "base_uri": "https://localhost:8080/"
        },
        "id": "A2Fi5H_yDIVH",
        "outputId": "91fbab97-04c8-4d01-c6a2-29acddee58f6"
      },
      "execution_count": 14,
      "outputs": [
        {
          "output_type": "stream",
          "name": "stderr",
          "text": [
            "WARNING:tensorflow:Layer lstm will not use cuDNN kernels since it doesn't meet the criteria. It will use a generic GPU kernel as fallback when running on GPU.\n",
            "WARNING:tensorflow:Layer lstm will not use cuDNN kernels since it doesn't meet the criteria. It will use a generic GPU kernel as fallback when running on GPU.\n",
            "WARNING:tensorflow:Layer lstm will not use cuDNN kernels since it doesn't meet the criteria. It will use a generic GPU kernel as fallback when running on GPU.\n",
            "WARNING:tensorflow:Layer lstm_1 will not use cuDNN kernels since it doesn't meet the criteria. It will use a generic GPU kernel as fallback when running on GPU.\n",
            "WARNING:tensorflow:Layer lstm_1 will not use cuDNN kernels since it doesn't meet the criteria. It will use a generic GPU kernel as fallback when running on GPU.\n",
            "WARNING:tensorflow:Layer lstm_1 will not use cuDNN kernels since it doesn't meet the criteria. It will use a generic GPU kernel as fallback when running on GPU.\n"
          ]
        }
      ]
    },
    {
      "cell_type": "code",
      "source": [
        "model_lstm.summary()"
      ],
      "metadata": {
        "colab": {
          "base_uri": "https://localhost:8080/"
        },
        "id": "IkfxA6wkDTZn",
        "outputId": "745773dd-d20b-491d-e976-8dabc2ef07c3"
      },
      "execution_count": 15,
      "outputs": [
        {
          "output_type": "stream",
          "name": "stdout",
          "text": [
            "Model: \"sequential_1\"\n",
            "_________________________________________________________________\n",
            " Layer (type)                Output Shape              Param #   \n",
            "=================================================================\n",
            " embedding_1 (Embedding)     (None, None, 16)          160000    \n",
            "                                                                 \n",
            " bidirectional (Bidirectiona  (None, None, 32)         4224      \n",
            " l)                                                              \n",
            "                                                                 \n",
            " bidirectional_1 (Bidirectio  (None, 32)               6272      \n",
            " nal)                                                            \n",
            "                                                                 \n",
            " dense_2 (Dense)             (None, 1)                 33        \n",
            "                                                                 \n",
            "=================================================================\n",
            "Total params: 170,529\n",
            "Trainable params: 170,529\n",
            "Non-trainable params: 0\n",
            "_________________________________________________________________\n"
          ]
        }
      ]
    },
    {
      "cell_type": "code",
      "source": [
        "model_lstm.compile(optimizer='adam',\n",
        "              loss='binary_crossentropy',\n",
        "              metrics=['acc'])"
      ],
      "metadata": {
        "id": "CUUAJML2DcXr"
      },
      "execution_count": 16,
      "outputs": []
    },
    {
      "cell_type": "code",
      "source": [
        "BATCH_SIZE = 512\n",
        "NUM_EPOCHS = 20\n",
        "\n",
        "history_lstm = model_lstm.fit(partial_x_train,\n",
        "                    partial_y_train,\n",
        "                    epochs=NUM_EPOCHS,\n",
        "                    batch_size=BATCH_SIZE,\n",
        "                    validation_data=(x_val, y_val),\n",
        "                    verbose=1)"
      ],
      "metadata": {
        "colab": {
          "base_uri": "https://localhost:8080/"
        },
        "id": "B9JdKB38DgxT",
        "outputId": "4b25d958-b729-4fe9-d343-856ddc33eb92"
      },
      "execution_count": 17,
      "outputs": [
        {
          "output_type": "stream",
          "name": "stdout",
          "text": [
            "Epoch 1/20\n",
            "30/30 [==============================] - 142s 4s/step - loss: 0.6927 - acc: 0.5140 - val_loss: 0.6916 - val_acc: 0.5426\n",
            "Epoch 2/20\n",
            "30/30 [==============================] - 129s 4s/step - loss: 0.6686 - acc: 0.6123 - val_loss: 0.5810 - val_acc: 0.7178\n",
            "Epoch 3/20\n",
            "30/30 [==============================] - 126s 4s/step - loss: 0.4846 - acc: 0.7865 - val_loss: 0.4262 - val_acc: 0.8172\n",
            "Epoch 4/20\n",
            "30/30 [==============================] - 126s 4s/step - loss: 0.3785 - acc: 0.8473 - val_loss: 0.3892 - val_acc: 0.8329\n",
            "Epoch 5/20\n",
            "30/30 [==============================] - 126s 4s/step - loss: 0.3108 - acc: 0.8781 - val_loss: 0.3412 - val_acc: 0.8657\n",
            "Epoch 6/20\n",
            "30/30 [==============================] - 123s 4s/step - loss: 0.2663 - acc: 0.9018 - val_loss: 0.3354 - val_acc: 0.8724\n",
            "Epoch 7/20\n",
            "30/30 [==============================] - 124s 4s/step - loss: 0.2534 - acc: 0.9095 - val_loss: 0.3506 - val_acc: 0.8699\n",
            "Epoch 8/20\n",
            "30/30 [==============================] - 124s 4s/step - loss: 0.2323 - acc: 0.9149 - val_loss: 0.3527 - val_acc: 0.8629\n",
            "Epoch 9/20\n",
            "30/30 [==============================] - 125s 4s/step - loss: 0.2582 - acc: 0.9019 - val_loss: 0.4089 - val_acc: 0.8494\n",
            "Epoch 10/20\n",
            "30/30 [==============================] - 124s 4s/step - loss: 0.2401 - acc: 0.9103 - val_loss: 0.3910 - val_acc: 0.8646\n",
            "Epoch 11/20\n",
            "30/30 [==============================] - 124s 4s/step - loss: 0.2097 - acc: 0.9251 - val_loss: 0.4022 - val_acc: 0.8632\n",
            "Epoch 12/20\n",
            "30/30 [==============================] - 125s 4s/step - loss: 0.2053 - acc: 0.9269 - val_loss: 0.3606 - val_acc: 0.8732\n",
            "Epoch 13/20\n",
            "30/30 [==============================] - 122s 4s/step - loss: 0.1870 - acc: 0.9350 - val_loss: 0.3894 - val_acc: 0.8701\n",
            "Epoch 14/20\n",
            "30/30 [==============================] - 122s 4s/step - loss: 0.1955 - acc: 0.9287 - val_loss: 0.3810 - val_acc: 0.8689\n",
            "Epoch 15/20\n",
            "30/30 [==============================] - 121s 4s/step - loss: 0.1691 - acc: 0.9415 - val_loss: 0.3937 - val_acc: 0.8701\n",
            "Epoch 16/20\n",
            "30/30 [==============================] - 122s 4s/step - loss: 0.1628 - acc: 0.9445 - val_loss: 0.3950 - val_acc: 0.8707\n",
            "Epoch 17/20\n",
            "30/30 [==============================] - 122s 4s/step - loss: 0.1518 - acc: 0.9499 - val_loss: 0.4038 - val_acc: 0.8694\n",
            "Epoch 18/20\n",
            "30/30 [==============================] - 121s 4s/step - loss: 0.1377 - acc: 0.9539 - val_loss: 0.4130 - val_acc: 0.8719\n",
            "Epoch 19/20\n",
            "30/30 [==============================] - 122s 4s/step - loss: 0.1359 - acc: 0.9542 - val_loss: 0.3930 - val_acc: 0.8686\n",
            "Epoch 20/20\n",
            "30/30 [==============================] - 122s 4s/step - loss: 0.1407 - acc: 0.9528 - val_loss: 0.3962 - val_acc: 0.8710\n"
          ]
        }
      ]
    },
    {
      "cell_type": "code",
      "source": [
        "epochs = range(1, len(history_lstm.history['acc']) + 1)\n",
        "\n",
        "plt.figure()\n",
        "plt.plot(epochs, history_lstm.history['loss'], 'bo', label='Training loss')\n",
        "plt.plot(epochs, history_lstm.history['val_loss'], 'b', label='Validation loss')\n",
        "plt.title('Training and validation loss')\n",
        "plt.xlabel('Epochs')\n",
        "plt.ylabel('Loss')\n",
        "plt.legend()\n",
        "plt.grid()\n",
        "\n",
        "plt.figure()\n",
        "plt.plot(epochs, history_lstm.history['acc'], 'bo', label='Training acc')\n",
        "plt.plot(epochs, history_lstm.history['val_acc'], 'b', label='Validation acc')\n",
        "plt.title('Training and validation accuracy')\n",
        "plt.xlabel('Epochs')\n",
        "plt.ylabel('Accuracy')\n",
        "plt.legend()\n",
        "plt.grid()"
      ],
      "metadata": {
        "colab": {
          "base_uri": "https://localhost:8080/",
          "height": 573
        },
        "id": "kvoJeBFLDy9f",
        "outputId": "e6bba5f4-1c7e-42c6-c20c-ea45c74b6b83"
      },
      "execution_count": 18,
      "outputs": [
        {
          "output_type": "display_data",
          "data": {
            "text/plain": [
              "<Figure size 432x288 with 1 Axes>"
            ],
            "image/png": "[encoded data removed]"
          },
          "metadata": {
            "needs_background": "light"
          }
        },
        {
          "output_type": "display_data",
          "data": {
            "text/plain": [
              "<Figure size 432x288 with 1 Axes>"
            ],
            "image/png": "[encoded data removed]"
          },
          "metadata": {
            "needs_background": "light"
          }
        }
      ]
    },
    {
      "cell_type": "code",
      "source": [
        "text = 'It was a really good movie it was so fantastic'\n",
        "\n",
        "encoded = encode_review(text)\n",
        "prediction_new = model_lstm.predict(np.array(encoded)[None, :])[0,0]\n",
        "\n",
        "print(prediction_new)\n",
        "print('Positive' if prediction_new > 0.5 else 'Negative')"
      ],
      "metadata": {
        "colab": {
          "base_uri": "https://localhost:8080/"
        },
        "id": "OJ_ObFURNPBT",
        "outputId": "e03e9003-b7ed-4177-8a53-faf4b3cc1e81"
      },
      "execution_count": 19,
      "outputs": [
        {
          "output_type": "stream",
          "name": "stdout",
          "text": [
            "0.8773059\n",
            "Positive\n"
          ]
        }
      ]
    }
  ]
}