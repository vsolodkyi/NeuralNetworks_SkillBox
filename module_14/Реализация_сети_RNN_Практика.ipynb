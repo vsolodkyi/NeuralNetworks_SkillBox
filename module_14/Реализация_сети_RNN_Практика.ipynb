{
  "nbformat": 4,
  "nbformat_minor": 0,
  "metadata": {
    "accelerator": "GPU",
    "colab": {
      "name": "Реализация сети RNN. Практика.ipynb",
      "provenance": [],
      "collapsed_sections": [],
      "include_colab_link": true
    },
    "kernelspec": {
      "name": "python3",
      "display_name": "Python 3"
    },
    "language_info": {
      "codemirror_mode": {
        "name": "ipython",
        "version": 3
      },
      "file_extension": ".py",
      "mimetype": "text/x-python",
      "name": "python",
      "nbconvert_exporter": "python",
      "pygments_lexer": "ipython3",
      "version": "3.7.1"
    }
  },
  "cells": [
    {
      "cell_type": "markdown",
      "metadata": {
        "id": "view-in-github",
        "colab_type": "text"
      },
      "source": [
        "<a href=\"https://colab.research.google.com/github/vsolodkyi/NeuralNetworks_SkillBox/blob/main/module_14/%D0%A0%D0%B5%D0%B0%D0%BB%D0%B8%D0%B7%D0%B0%D1%86%D0%B8%D1%8F_%D1%81%D0%B5%D1%82%D0%B8_RNN_%D0%9F%D1%80%D0%B0%D0%BA%D1%82%D0%B8%D0%BA%D0%B0.ipynb\" target=\"_parent\"><img src=\"https://colab.research.google.com/assets/colab-badge.svg\" alt=\"Open In Colab\"/></a>"
      ]
    },
    {
      "cell_type": "markdown",
      "metadata": {
        "id": "sAM12o8mbdOg"
      },
      "source": [
        "#Реализация сети RNN\n",
        "Теперь рассмотрим, как реализовать многослойную рекуррентную нейронную сеть. В ней будет один рекуррентный слой и один обычный полносвязный слой. Сначала создадим такую сеть с помощью Keras, а потом с помощью нашей реализации RNN слоя из предыдущего урока."
      ]
    },
    {
      "cell_type": "markdown",
      "metadata": {
        "id": "w7ehmgC5eG1u"
      },
      "source": [
        "### Используем TensorFlow 2.0\n",
        "\n",
        "На момент подготовки этих материалов в Google Colab по умолчанию используется версия TensorFlow 1.X\n",
        "\n",
        "Переключаемся на версию 2.0 (работает только в Colab)"
      ]
    },
    {
      "cell_type": "code",
      "metadata": {
        "id": "carDuaZIHioO",
        "outputId": "ae4b42c9-fbc4-495c-fe06-555f0d9e2f98",
        "colab": {
          "base_uri": "https://localhost:8080/",
          "height": 34
        }
      },
      "source": [
        "%tensorflow_version 2.x"
      ],
      "execution_count": null,
      "outputs": [
        {
          "output_type": "stream",
          "text": [
            "TensorFlow 2.x selected.\n"
          ],
          "name": "stdout"
        }
      ]
    },
    {
      "cell_type": "markdown",
      "metadata": {
        "id": "y64xoUeSeORu"
      },
      "source": [
        "### Загрузка библиотек\n",
        "TensorFlow должен иметь как минимум версию 2.0"
      ]
    },
    {
      "cell_type": "code",
      "metadata": {
        "id": "2-zMowjHFz3t",
        "outputId": "fd9e8c31-d1a5-48a5-e7fc-664b0b4a5859",
        "colab": {
          "base_uri": "https://localhost:8080/",
          "height": 34
        }
      },
      "source": [
        "import numpy as np\n",
        "import tensorflow as tf\n",
        "print(tf.__version__)"
      ],
      "execution_count": null,
      "outputs": [
        {
          "output_type": "stream",
          "text": [
            "2.0.0\n"
          ],
          "name": "stdout"
        }
      ]
    },
    {
      "cell_type": "markdown",
      "metadata": {
        "id": "buLM5yWZhGC_"
      },
      "source": [
        "### Входной тензор\n",
        "Подготовим входной тензор для тестов аналогично тому, как мы это делали в предыдущем уроке.\n",
        "\n",
        "Размерности тензора `x`: (батч, длина цепочки, размер эмбеддинга)"
      ]
    },
    {
      "cell_type": "code",
      "metadata": {
        "id": "mIprlbAyJo18",
        "outputId": "d9139a96-d096-4823-8569-2d6cc264c789",
        "colab": {
          "base_uri": "https://localhost:8080/",
          "height": 34
        }
      },
      "source": [
        "BATCH_SIZE = 2\n",
        "SEQ_LEN = 100 # Длина последовательности\n",
        "EMB_SIZE = 16 # Размер векторного представления (эмбеддинга)\n",
        "\n",
        "x = np.random.rand(BATCH_SIZE, SEQ_LEN, EMB_SIZE).astype(np.float32)\n",
        "print(x.shape)"
      ],
      "execution_count": null,
      "outputs": [
        {
          "output_type": "stream",
          "text": [
            "(2, 100, 16)\n"
          ],
          "name": "stdout"
        }
      ]
    },
    {
      "cell_type": "markdown",
      "metadata": {
        "id": "56v4jisMjVil"
      },
      "source": [
        "### Создание простой RNN сети с помощью Keras\n",
        "Создадим рекуррентную нейронную сеть с помощью `keras.Sequential`. В сети будет два слоя: один рекуррентный, один полносвязный. Рекуррентный слой будет возвращать цепочку векторов `h`, и полносвязный слой будет применяться к каждому элементу такой цепочки, так что на выходе у нас снова будет цепочка.\n",
        "\n",
        "Дополнительный параметр  -- размерность выходных векторов `OUT_SIZE`"
      ]
    },
    {
      "cell_type": "code",
      "metadata": {
        "id": "UUS0EKcuNdt6"
      },
      "source": [
        "H_SIZE = 32\n",
        "OUT_SIZE = 16\n",
        "\n",
        "rnn = tf.keras.Sequential([\n",
        "    tf.keras.layers.SimpleRNN(H_SIZE, activation='relu', return_sequences=True),\n",
        "    tf.keras.layers.Dense(OUT_SIZE)\n",
        "])"
      ],
      "execution_count": null,
      "outputs": []
    },
    {
      "cell_type": "markdown",
      "metadata": {
        "id": "BpxnJVIFiABm"
      },
      "source": [
        "Запускаем инференс (прямое распространение) для созданной сети и проверяем размерность выходного тензора.\n",
        "\n",
        "Она должна была получиться `(BATCH_SIZE, SEQ_LEN, OUT_SIZE)`"
      ]
    },
    {
      "cell_type": "code",
      "metadata": {
        "id": "mbN4gUDySy9h",
        "outputId": "f3653333-be08-439e-e316-44f6cc6d52b0",
        "colab": {
          "base_uri": "https://localhost:8080/",
          "height": 34
        }
      },
      "source": [
        "y = rnn(x)\n",
        "print(y.shape)"
      ],
      "execution_count": null,
      "outputs": [
        {
          "output_type": "stream",
          "text": [
            "(2, 100, 16)\n"
          ],
          "name": "stdout"
        }
      ]
    },
    {
      "cell_type": "markdown",
      "metadata": {
        "id": "aAmGPnuTS2vC"
      },
      "source": [
        "Теперь давайте напишем свою реализацию рекуррентной нейросети (без использования `keras.Sequential` и `keras.layers.SimpleRNN`)\n",
        "\n",
        "**[Задание 1]** Реализуйте рекуррентную нейронную сеть (класс `RNN`, наследованный от `tf.keras.Model`), эквивалентную описанной выше модели на Keras. Используйте для этого RNN ячейку (класс `RNNCell`) из предыдущего урока. \n",
        "\n",
        "**[Задание 2]** Сравните результаты работы класса `RNN` с оригинальной моделью на Keras так же, как мы это делали раньше (разница должна получиться равной нулю). Вам также будет необходимо скопировать веса в новую модель. В Keras модели веса находятся вот в таких переменных: `rnn.layers[i].weights[j]`"
      ]
    }
  ]
}