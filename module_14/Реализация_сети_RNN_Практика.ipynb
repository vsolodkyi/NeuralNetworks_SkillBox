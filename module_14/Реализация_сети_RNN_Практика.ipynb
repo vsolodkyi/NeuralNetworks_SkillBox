{
  "nbformat": 4,
  "nbformat_minor": 0,
  "metadata": {
    "accelerator": "GPU",
    "colab": {
      "name": "Реализация сети RNN. Практика.ipynb",
      "provenance": [],
      "collapsed_sections": [],
      "include_colab_link": true
    },
    "kernelspec": {
      "name": "python3",
      "display_name": "Python 3"
    },
    "language_info": {
      "codemirror_mode": {
        "name": "ipython",
        "version": 3
      },
      "file_extension": ".py",
      "mimetype": "text/x-python",
      "name": "python",
      "nbconvert_exporter": "python",
      "pygments_lexer": "ipython3",
      "version": "3.7.1"
    }
  },
  "cells": [
    {
      "cell_type": "markdown",
      "metadata": {
        "id": "view-in-github",
        "colab_type": "text"
      },
      "source": [
        "<a href=\"https://colab.research.google.com/github/vsolodkyi/NeuralNetworks_SkillBox/blob/main/module_14/%D0%A0%D0%B5%D0%B0%D0%BB%D0%B8%D0%B7%D0%B0%D1%86%D0%B8%D1%8F_%D1%81%D0%B5%D1%82%D0%B8_RNN_%D0%9F%D1%80%D0%B0%D0%BA%D1%82%D0%B8%D0%BA%D0%B0.ipynb\" target=\"_parent\"><img src=\"https://colab.research.google.com/assets/colab-badge.svg\" alt=\"Open In Colab\"/></a>"
      ]
    },
    {
      "cell_type": "markdown",
      "metadata": {
        "id": "sAM12o8mbdOg"
      },
      "source": [
        "#Реализация сети RNN\n",
        "Теперь рассмотрим, как реализовать многослойную рекуррентную нейронную сеть. В ней будет один рекуррентный слой и один обычный полносвязный слой. Сначала создадим такую сеть с помощью Keras, а потом с помощью нашей реализации RNN слоя из предыдущего урока."
      ]
    },
    {
      "cell_type": "markdown",
      "metadata": {
        "id": "w7ehmgC5eG1u"
      },
      "source": [
        "### Используем TensorFlow 2.0\n",
        "\n",
        "На момент подготовки этих материалов в Google Colab по умолчанию используется версия TensorFlow 1.X\n",
        "\n",
        "Переключаемся на версию 2.0 (работает только в Colab)"
      ]
    },
    {
      "cell_type": "code",
      "metadata": {
        "id": "carDuaZIHioO",
        "outputId": "bb71a17f-e421-478f-edce-532c90a82cd1",
        "colab": {
          "base_uri": "https://localhost:8080/"
        }
      },
      "source": [
        "%tensorflow_version 2.x"
      ],
      "execution_count": 1,
      "outputs": [
        {
          "output_type": "stream",
          "name": "stdout",
          "text": [
            "Colab only includes TensorFlow 2.x; %tensorflow_version has no effect.\n"
          ]
        }
      ]
    },
    {
      "cell_type": "markdown",
      "metadata": {
        "id": "y64xoUeSeORu"
      },
      "source": [
        "### Загрузка библиотек\n",
        "TensorFlow должен иметь как минимум версию 2.0"
      ]
    },
    {
      "cell_type": "code",
      "metadata": {
        "id": "2-zMowjHFz3t",
        "outputId": "bc98e7e3-f60d-40b4-855c-e09e51d5b4a3",
        "colab": {
          "base_uri": "https://localhost:8080/"
        }
      },
      "source": [
        "import numpy as np\n",
        "import tensorflow as tf\n",
        "print(tf.__version__)"
      ],
      "execution_count": 2,
      "outputs": [
        {
          "output_type": "stream",
          "name": "stdout",
          "text": [
            "2.8.2\n"
          ]
        }
      ]
    },
    {
      "cell_type": "markdown",
      "metadata": {
        "id": "buLM5yWZhGC_"
      },
      "source": [
        "### Входной тензор\n",
        "Подготовим входной тензор для тестов аналогично тому, как мы это делали в предыдущем уроке.\n",
        "\n",
        "Размерности тензора `x`: (батч, длина цепочки, размер эмбеддинга)"
      ]
    },
    {
      "cell_type": "code",
      "metadata": {
        "id": "mIprlbAyJo18",
        "outputId": "4bd439ab-67ec-49f3-cb1f-0c4c988a96b9",
        "colab": {
          "base_uri": "https://localhost:8080/"
        }
      },
      "source": [
        "BATCH_SIZE = 2\n",
        "SEQ_LEN = 100 # Длина последовательности\n",
        "EMB_SIZE = 16 # Размер векторного представления (эмбеддинга)\n",
        "\n",
        "x = np.random.rand(BATCH_SIZE, SEQ_LEN, EMB_SIZE).astype(np.float32)\n",
        "print(x.shape)"
      ],
      "execution_count": 3,
      "outputs": [
        {
          "output_type": "stream",
          "name": "stdout",
          "text": [
            "(2, 100, 16)\n"
          ]
        }
      ]
    },
    {
      "cell_type": "markdown",
      "metadata": {
        "id": "56v4jisMjVil"
      },
      "source": [
        "### Создание простой RNN сети с помощью Keras\n",
        "Создадим рекуррентную нейронную сеть с помощью `keras.Sequential`. В сети будет два слоя: один рекуррентный, один полносвязный. Рекуррентный слой будет возвращать цепочку векторов `h`, и полносвязный слой будет применяться к каждому элементу такой цепочки, так что на выходе у нас снова будет цепочка.\n",
        "\n",
        "Дополнительный параметр  -- размерность выходных векторов `OUT_SIZE`"
      ]
    },
    {
      "cell_type": "code",
      "metadata": {
        "id": "UUS0EKcuNdt6"
      },
      "source": [
        "H_SIZE = 32\n",
        "OUT_SIZE = 16\n",
        "\n",
        "rnn = tf.keras.Sequential([\n",
        "    tf.keras.layers.SimpleRNN(H_SIZE, activation='relu', return_sequences=True),\n",
        "    tf.keras.layers.Dense(OUT_SIZE)\n",
        "])"
      ],
      "execution_count": 18,
      "outputs": []
    },
    {
      "cell_type": "markdown",
      "metadata": {
        "id": "BpxnJVIFiABm"
      },
      "source": [
        "Запускаем инференс (прямое распространение) для созданной сети и проверяем размерность выходного тензора.\n",
        "\n",
        "Она должна была получиться `(BATCH_SIZE, SEQ_LEN, OUT_SIZE)`"
      ]
    },
    {
      "cell_type": "code",
      "metadata": {
        "id": "mbN4gUDySy9h",
        "outputId": "ba8839f8-14dd-427b-9e1c-ea112c17c58a",
        "colab": {
          "base_uri": "https://localhost:8080/"
        }
      },
      "source": [
        "y = rnn(x)\n",
        "print(y.shape)"
      ],
      "execution_count": 19,
      "outputs": [
        {
          "output_type": "stream",
          "name": "stdout",
          "text": [
            "(2, 100, 16)\n"
          ]
        }
      ]
    },
    {
      "cell_type": "markdown",
      "metadata": {
        "id": "aAmGPnuTS2vC"
      },
      "source": [
        "Теперь давайте напишем свою реализацию рекуррентной нейросети (без использования `keras.Sequential` и `keras.layers.SimpleRNN`)\n",
        "\n",
        "**[Задание 1]** Реализуйте рекуррентную нейронную сеть (класс `RNN`, наследованный от `tf.keras.Model`), эквивалентную описанной выше модели на Keras. Используйте для этого RNN ячейку (класс `RNNCell`) из предыдущего урока. \n",
        "\n",
        "**[Задание 2]** Сравните результаты работы класса `RNN` с оригинальной моделью на Keras так же, как мы это делали раньше (разница должна получиться равной нулю). Вам также будет необходимо скопировать веса в новую модель. В Keras модели веса находятся вот в таких переменных: `rnn.layers[i].weights[j]`"
      ]
    },
    {
      "cell_type": "code",
      "source": [
        "class RNNCell(tf.keras.Model):\n",
        "      def __init__(self, h_size):\n",
        "        super().__init__()\n",
        "        self.h_size = h_size\n",
        "        self.fcXH = tf.keras.layers.Dense(self.h_size)\n",
        "        self.fcHH = tf.keras.layers.Dense(self.h_size, use_bias=False) # биас не нужен, так как он есть в fcXH\n",
        "\n",
        "      def call(self, x, h):\n",
        "        h = tf.nn.relu(self.fcXH(x) + self.fcHH(h))\n",
        "        return h\n",
        "  "
      ],
      "metadata": {
        "id": "8641j1vh8lQx"
      },
      "execution_count": 6,
      "outputs": []
    },
    {
      "cell_type": "code",
      "source": [
        "\n",
        "class RNNLayerNew(tf.keras.Model):\n",
        "\n",
        "      def __init__(self, h_size, out_size):\n",
        "        super().__init__()\n",
        "        self.h_size = h_size\n",
        "        self.rnn_cell = RNNCell(h_size)\n",
        "        self.fcHY = tf.keras.layers.Dense(out_size)\n",
        "      \n",
        "\n",
        "      def call(self, x_all):\n",
        "        batch, length, emb_size = x.shape\n",
        "        h = tf.zeros((batch, self.h_size))\n",
        "        y_all = [] # список всех получившихся векторов h\n",
        "        \n",
        "        # Цикл по входной последовательности\n",
        "        for i in range(length):\n",
        "            h = self.rnn_cell(x_all[:, i, :], h)\n",
        "            y = self.fcHY(h)\n",
        "            y_all.append(y)\n",
        "            \n",
        "        # склеиваем все ответы и меняем размерности, чтоб получилось (batch, length, h_size)\n",
        "        y_all = tf.transpose(tf.stack(y_all), [1, 0, 2])\n",
        "        return y_all\n",
        "\n",
        "rnn_my =  RNNLayerNew(H_SIZE, OUT_SIZE)"
      ],
      "metadata": {
        "id": "tu23wO999UkL"
      },
      "execution_count": 20,
      "outputs": []
    },
    {
      "cell_type": "code",
      "source": [
        "y = rnn_my(x)\n",
        "print(y.shape)"
      ],
      "metadata": {
        "id": "Ev2GzdqR_THV",
        "outputId": "5ffee571-6241-42ae-8a9f-fa4925a92ae5",
        "colab": {
          "base_uri": "https://localhost:8080/"
        }
      },
      "execution_count": 21,
      "outputs": [
        {
          "output_type": "stream",
          "name": "stdout",
          "text": [
            "(2, 100, 16)\n"
          ]
        }
      ]
    },
    {
      "cell_type": "code",
      "source": [
        "# Перед тем, как что-то присваивать в параметры модели, нужно чтобы они создались.\n",
        "# Для этого можно вызвать либо инференс с каким-то входом, либо model.build(...)\n",
        "\n",
        "rnn_my.rnn_cell.fcXH.kernel = rnn.layers[0].weights[0]\n",
        "rnn_my.rnn_cell.fcHH.kernel = rnn.layers[0].weights[1]\n",
        "rnn_my.rnn_cell.fcXH.bias = rnn.layers[0].weights[2]\n",
        "\n",
        "rnn_my.fcHY.kernel = rnn.layers[1].weights[0]\n",
        "rnn_my.fcHY.bias = rnn.layers[1].weights[1]\n",
        "\n",
        "\n",
        "y = rnn(x)\n",
        "y_my = rnn_my(x)\n",
        "\n",
        "print(round(np.max(np.abs(y.numpy() - y_my.numpy())), 3))"
      ],
      "metadata": {
        "id": "IylIE_9T-MjU",
        "outputId": "47034235-233d-4e71-92b6-b5c9d557a33c",
        "colab": {
          "base_uri": "https://localhost:8080/"
        }
      },
      "execution_count": 23,
      "outputs": [
        {
          "output_type": "stream",
          "name": "stdout",
          "text": [
            "0.0\n"
          ]
        }
      ]
    }
  ]
}