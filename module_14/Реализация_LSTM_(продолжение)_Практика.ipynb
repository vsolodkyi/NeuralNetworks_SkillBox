{
  "nbformat": 4,
  "nbformat_minor": 0,
  "metadata": {
    "accelerator": "GPU",
    "colab": {
      "name": "Реализация LSTM (продолжение). Практика.ipynb",
      "provenance": [],
      "collapsed_sections": [],
      "include_colab_link": true
    },
    "kernelspec": {
      "name": "python3",
      "display_name": "Python 3"
    },
    "language_info": {
      "codemirror_mode": {
        "name": "ipython",
        "version": 3
      },
      "file_extension": ".py",
      "mimetype": "text/x-python",
      "name": "python",
      "nbconvert_exporter": "python",
      "pygments_lexer": "ipython3",
      "version": "3.7.1"
    }
  },
  "cells": [
    {
      "cell_type": "markdown",
      "metadata": {
        "id": "view-in-github",
        "colab_type": "text"
      },
      "source": [
        "<a href=\"https://colab.research.google.com/github/vsolodkyi/NeuralNetworks_SkillBox/blob/main/module_14/%D0%A0%D0%B5%D0%B0%D0%BB%D0%B8%D0%B7%D0%B0%D1%86%D0%B8%D1%8F_LSTM_(%D0%BF%D1%80%D0%BE%D0%B4%D0%BE%D0%BB%D0%B6%D0%B5%D0%BD%D0%B8%D0%B5)_%D0%9F%D1%80%D0%B0%D0%BA%D1%82%D0%B8%D0%BA%D0%B0.ipynb\" target=\"_parent\"><img src=\"https://colab.research.google.com/assets/colab-badge.svg\" alt=\"Open In Colab\"/></a>"
      ]
    },
    {
      "cell_type": "markdown",
      "metadata": {
        "id": "idc3qVC3bio1"
      },
      "source": [
        "#Реализация LSTM (продолжение)\n",
        "В этом уроке мы продолжим знакомство с LSTM и рассмотрим подробнее флаг `return_sequences`"
      ]
    },
    {
      "cell_type": "markdown",
      "metadata": {
        "id": "xjQ5s-qHeGDb"
      },
      "source": [
        "### Используем TensorFlow 2.0\n",
        "\n",
        "На момент подготовки этих материалов в Google Colab по умолчанию используется версия TensorFlow 1.X\n",
        "\n",
        "Переключаемся на версию 2.0 (работает только в Colab)"
      ]
    },
    {
      "cell_type": "code",
      "metadata": {
        "id": "carDuaZIHioO",
        "outputId": "f6d9418e-6371-4865-c5a9-498b24166d83",
        "colab": {
          "base_uri": "https://localhost:8080/",
          "height": 34
        }
      },
      "source": [
        "%tensorflow_version 2.x"
      ],
      "execution_count": null,
      "outputs": [
        {
          "output_type": "stream",
          "text": [
            "TensorFlow 2.x selected.\n"
          ],
          "name": "stdout"
        }
      ]
    },
    {
      "cell_type": "markdown",
      "metadata": {
        "id": "2zyC3i2ceNIq"
      },
      "source": [
        "### Загрузка библиотек\n",
        "TensorFlow должен иметь как минимум версию 2.0"
      ]
    },
    {
      "cell_type": "code",
      "metadata": {
        "id": "2-zMowjHFz3t",
        "outputId": "d41a320a-45da-4d78-cd41-6d4dd9ada97c",
        "colab": {
          "base_uri": "https://localhost:8080/",
          "height": 34
        }
      },
      "source": [
        "import numpy as np\n",
        "import tensorflow as tf\n",
        "print(tf.__version__)"
      ],
      "execution_count": null,
      "outputs": [
        {
          "output_type": "stream",
          "text": [
            "2.0.0\n"
          ],
          "name": "stdout"
        }
      ]
    },
    {
      "cell_type": "markdown",
      "metadata": {
        "id": "0glpMFM9hHfl"
      },
      "source": [
        "### Входной тензор\n",
        "Подготовим входной тензор для тестов аналогично тому, как мы это делали в предыдущем уроке.\n",
        "\n",
        "Размерности тензора `x`: (батч, длина цепочки, размер эмбеддинга)"
      ]
    },
    {
      "cell_type": "code",
      "metadata": {
        "id": "mIprlbAyJo18",
        "outputId": "472d62ce-a229-4721-b0e9-c228522b3c3f",
        "colab": {
          "base_uri": "https://localhost:8080/",
          "height": 34
        }
      },
      "source": [
        "BATCH_SIZE = 2\n",
        "SEQ_LEN = 100 # Длина последовательности\n",
        "EMB_SIZE = 16 # Размер векторного представления (эмбеддинга)\n",
        "\n",
        "x = np.random.rand(BATCH_SIZE, SEQ_LEN, EMB_SIZE).astype(np.float32)\n",
        "print(x.shape)"
      ],
      "execution_count": null,
      "outputs": [
        {
          "output_type": "stream",
          "text": [
            "(2, 100, 16)\n"
          ],
          "name": "stdout"
        }
      ]
    },
    {
      "cell_type": "markdown",
      "metadata": {
        "id": "zNBkAMi5dOjJ"
      },
      "source": [
        "### Флаг `return_sequences`\n",
        "\n",
        "В рекуррентных слоях, как правило, есть флаг `return_sequences`. Ранее мы использовали `return_sequences=True`\n",
        "\n",
        "Если же установить флаг `return_sequences=False`, то рекуррентный слой будет выдавать лишь **последний** вектор `h`, а не всю цепочку векторов `h`."
      ]
    },
    {
      "cell_type": "code",
      "metadata": {
        "id": "asenPOiadCoY"
      },
      "source": [
        "H_SIZE = 32\n",
        "lstm = tf.keras.layers.LSTM(H_SIZE, return_sequences=False, recurrent_activation='sigmoid')"
      ],
      "execution_count": null,
      "outputs": []
    },
    {
      "cell_type": "markdown",
      "metadata": {
        "id": "khR8ukq-vque"
      },
      "source": [
        "Запускаем инференс (прямое распространение) для созданного слоя и проверяем размерность выходного тензора.\n",
        "\n",
        "Она должна была получиться `(BATCH_SIZE, H_SIZE)`"
      ]
    },
    {
      "cell_type": "code",
      "metadata": {
        "id": "474chqPKdEpz",
        "outputId": "c957ad94-cbcd-42f6-92b8-a7989b98961d",
        "colab": {
          "base_uri": "https://localhost:8080/",
          "height": 34
        }
      },
      "source": [
        "y = lstm(x)\n",
        "print(y.shape)"
      ],
      "execution_count": null,
      "outputs": [
        {
          "output_type": "stream",
          "text": [
            "(2, 32)\n"
          ],
          "name": "stdout"
        }
      ]
    },
    {
      "cell_type": "markdown",
      "metadata": {
        "id": "UTqLmgTHbD1V"
      },
      "source": [
        "**[Задание 1]** Модернизируйте класс `LSTM` из предыдущего урока, добавив в него (в конструктор) флаг `return_sequences`, чтобы поддерживались обе опции (True/False).\n",
        "\n",
        "**[Задание 2]** Сравните результаты работы нового класса `LSTM` (с параметром `return_sequences=False`) с исходной моделью на Keras так же, как мы это делали раньше (разница должна получиться равной нулю или очень маленькой)"
      ]
    }
  ]
}