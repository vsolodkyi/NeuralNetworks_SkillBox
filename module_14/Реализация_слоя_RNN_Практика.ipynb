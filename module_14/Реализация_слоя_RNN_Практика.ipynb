{
  "nbformat": 4,
  "nbformat_minor": 0,
  "metadata": {
    "accelerator": "GPU",
    "colab": {
      "name": "Реализация слоя RNN. Практика.ipynb",
      "provenance": [],
      "collapsed_sections": [],
      "include_colab_link": true
    },
    "kernelspec": {
      "name": "python3",
      "display_name": "Python 3"
    },
    "language_info": {
      "codemirror_mode": {
        "name": "ipython",
        "version": 3
      },
      "file_extension": ".py",
      "mimetype": "text/x-python",
      "name": "python",
      "nbconvert_exporter": "python",
      "pygments_lexer": "ipython3",
      "version": "3.7.1"
    }
  },
  "cells": [
    {
      "cell_type": "markdown",
      "metadata": {
        "id": "view-in-github",
        "colab_type": "text"
      },
      "source": [
        "<a href=\"https://colab.research.google.com/github/vsolodkyi/NeuralNetworks_SkillBox/blob/main/module_14/%D0%A0%D0%B5%D0%B0%D0%BB%D0%B8%D0%B7%D0%B0%D1%86%D0%B8%D1%8F_%D1%81%D0%BB%D0%BE%D1%8F_RNN_%D0%9F%D1%80%D0%B0%D0%BA%D1%82%D0%B8%D0%BA%D0%B0.ipynb\" target=\"_parent\"><img src=\"https://colab.research.google.com/assets/colab-badge.svg\" alt=\"Open In Colab\"/></a>"
      ]
    },
    {
      "cell_type": "markdown",
      "metadata": {
        "id": "EgshItiNbYmH"
      },
      "source": [
        "#Реализация слоя RNN\n",
        "\n",
        "\n",
        "\n",
        "\n",
        "В этом уроке мы посмотрим, как реализовать простой RNN слой. Причём, сделаем это двумя способами. Сначала будем использовать готовую реализацию из Keras, а затем реализуем свой RNN слой с нуля на чистом TensorFlow, чтобы лучше понять, как он устроен внутри. Затем сравним результаты работы двух версий RNN слоя, чтобы убедиться, что они эквивалентны."
      ]
    },
    {
      "cell_type": "markdown",
      "metadata": {
        "id": "5ScVSbBleHiq"
      },
      "source": [
        "### Используем TensorFlow 2.0\n",
        "\n",
        "На момент подготовки этих материалов в Google Colab по умолчанию используется версия TensorFlow 1.X\n",
        "\n",
        "Переключаемся на версию 2.0 (работает только в Colab)"
      ]
    },
    {
      "cell_type": "code",
      "metadata": {
        "id": "ixxLAjOiA4S4",
        "colab": {
          "base_uri": "https://localhost:8080/"
        },
        "outputId": "43314107-8a87-4a09-c793-d46d57aa67c3"
      },
      "source": [
        "%tensorflow_version 2.x"
      ],
      "execution_count": 1,
      "outputs": [
        {
          "output_type": "stream",
          "name": "stdout",
          "text": [
            "Colab only includes TensorFlow 2.x; %tensorflow_version has no effect.\n"
          ]
        }
      ]
    },
    {
      "cell_type": "markdown",
      "metadata": {
        "id": "Y1c9g1MHeUCl"
      },
      "source": [
        "### Загрузка библиотек\n",
        "TensorFlow должен иметь как минимум версию 2.0"
      ]
    },
    {
      "cell_type": "code",
      "metadata": {
        "id": "2-zMowjHFz3t",
        "colab": {
          "base_uri": "https://localhost:8080/"
        },
        "outputId": "ddbc00a5-2f15-463a-fb09-e5ec9f9cfa4a"
      },
      "source": [
        "import numpy as np\n",
        "import tensorflow as tf\n",
        "print(tf.__version__)"
      ],
      "execution_count": 2,
      "outputs": [
        {
          "output_type": "stream",
          "name": "stdout",
          "text": [
            "2.8.2\n"
          ]
        }
      ]
    },
    {
      "cell_type": "markdown",
      "metadata": {
        "id": "IAGOjhbmg409"
      },
      "source": [
        "### Входной тензор\n",
        "Подготовим данные, на которых будем тестировать наш RNN слой. Пока что мы не решаем никакую конкретную задачу и ничего не обучаем. Мы просто хотим посмотреть, как работает прямое распространение RNN слоя (и сравнить две версии), поэтому нам подойдут просто случайные данные (случайный входной тензор).\n",
        "\n",
        "В работе с рекуррентными нейронными сетями на входе, как правило, используется трёхмерный тензор. Первое измерение - батч (это измерение есть почти всегда, когда мы работаем с любыми нейронными сетями). Его смысл всегда в том, что мы одновременно обрабатываем пакет (группу) данных вместо одного экземпляра. Второе измерение - измерение последовательности. То есть, если наша последовательность была длины 100, то второе измерение будет 100. И третье измерение - размер векторного представления (эмбеддинга) каждого элемента последовательности.\n",
        "\n",
        "Если в реальной задаче цепочки в пределах одного батча имеют разную длину (например, это предложения с разным количеством слов), то обычно все цепочки предварительно приводят к равным длинам за счёт добавления нулевых векторов (или других специальных векторов, трактуемых как элементы паддинга цепочки), чтобы мы смогли собрать нужный нам тензор.\n",
        "\n",
        "Размерности тензора `x`: (батч, длина цепочки, размер эмбеддинга)"
      ]
    },
    {
      "cell_type": "code",
      "metadata": {
        "id": "mIprlbAyJo18",
        "colab": {
          "base_uri": "https://localhost:8080/"
        },
        "outputId": "c829faa3-5e91-4f15-d0d0-b455c38fe5d1"
      },
      "source": [
        "BATCH_SIZE = 2\n",
        "SEQ_LEN = 100 # Длина последовательности\n",
        "EMB_SIZE = 16 # Размер векторного представления (эмбеддинга)\n",
        "\n",
        "x = np.random.rand(BATCH_SIZE, SEQ_LEN, EMB_SIZE).astype(np.float32)\n",
        "print(x.shape)"
      ],
      "execution_count": 18,
      "outputs": [
        {
          "output_type": "stream",
          "name": "stdout",
          "text": [
            "(2, 100, 16)\n"
          ]
        }
      ]
    },
    {
      "cell_type": "markdown",
      "metadata": {
        "id": "4a8luH2CinU9"
      },
      "source": [
        "### Создание простого RNN слоя с помощью Keras\n",
        "Для начала создадим и протестируем обычный RNN слой из Keras.\n",
        "\n",
        "Для его создания нам понадобятся следующие параметры:\n",
        "\n",
        "`H_SIZE` - количество элементов в выходном векторе `h`.\n",
        "\n",
        "`activation` - функция активации для слоя\n",
        "\n",
        "`return_sequences` - флаг, в зависимости от которого на выходе мы получаем цепочку векторов `h` (той же длины, что и входная цепочка) или только последний вектор `h`\n",
        "\n",
        "В этом примере мы будем использовать такой RNN слой, который возвращает выходной вектор `h` для каждого элемента выходной последовательности. То есть, на входе последовательность длины `SEQ_LEN`, на выходе последовательность `SEQ_LEN`"
      ]
    },
    {
      "cell_type": "code",
      "metadata": {
        "id": "NhN_5VeyHrZc"
      },
      "source": [
        "H_SIZE = 32\n",
        "rnn_layer = tf.keras.layers.SimpleRNN(H_SIZE, activation='relu', return_sequences=True)"
      ],
      "execution_count": 13,
      "outputs": []
    },
    {
      "cell_type": "markdown",
      "metadata": {
        "id": "A9kamObVGkdM"
      },
      "source": [
        "Запускаем инференс (прямое распространение) для созданного слоя и проверяем размерность выходного тензора.\n",
        "\n",
        "Она должна была получиться `(BATCH_SIZE, SEQ_LEN, H_SIZE)`"
      ]
    },
    {
      "cell_type": "code",
      "metadata": {
        "id": "iL_A90iGH2Pd",
        "colab": {
          "base_uri": "https://localhost:8080/"
        },
        "outputId": "c2177db4-2062-4246-8c76-8d8b9795106d"
      },
      "source": [
        "y = rnn_layer(x)\n",
        "print(y.shape)"
      ],
      "execution_count": 19,
      "outputs": [
        {
          "output_type": "stream",
          "name": "stdout",
          "text": [
            "(2, 100, 32)\n"
          ]
        }
      ]
    },
    {
      "cell_type": "markdown",
      "metadata": {
        "id": "X-wUEHfWkEpp"
      },
      "source": [
        "### Создание простого RNN слоя с помощью TensorFlow\n",
        "Теперь давайте создадим свой RNN слой на чистом TensorFlow, а затем сравним результат его работы с версией из Keras.\n",
        "\n",
        "Отдельно выделим функцию для так называемой RNN ячейки, задача которой сделать прямое распространение в данный момент времени `t`. То есть, по входу `x` и вектору `h` с предыдущего момента времени получить новый вектор `h`.\n",
        "\n",
        "И тогда останется просто пройтись в цикле по входной последовательности и вызвать RNN ячейку для каждого её элемента (передавая при этом текущий полученный вектор `h` в следующий запуск ячейки).\n",
        "\n",
        "Вспомним, какие обучаемые параметры нам нужны для простого RNN слоя: две матрицы и один вектор смещений (биас). Для этого в конструкторе создадим два полносвязных слоя и у второго выключим `bias` (нам будет достаточно биаса из первого слоя)."
      ]
    },
    {
      "cell_type": "code",
      "metadata": {
        "id": "R0CrXfk4LKe4"
      },
      "source": [
        "class RNNLayer(tf.keras.Model):\n",
        "    def __init__(self, h_size):\n",
        "        super().__init__()\n",
        "        self.h_size = h_size\n",
        "        self.fcXH = tf.keras.layers.Dense(self.h_size)\n",
        "        self.fcHH = tf.keras.layers.Dense(self.h_size, use_bias=False) # биас не нужен, так как он есть в fcXH\n",
        "\n",
        "    # RNN ячейка\n",
        "    def RNN_cell(self, x, h):\n",
        "        h = tf.nn.relu(self.fcXH(x) + self.fcHH(h))\n",
        "        return h\n",
        "\n",
        "    def call(self, x_all):\n",
        "        batch, length, emb_size = x.shape\n",
        "        h = tf.zeros((batch, self.h_size))\n",
        "        h_all = [] # список всех получившихся векторов h\n",
        "        \n",
        "        # Цикл по входной последовательности\n",
        "        for i in range(length):\n",
        "            h = self.RNN_cell(x_all[:, i, :], h)\n",
        "            h_all.append(h)\n",
        "            \n",
        "        # склеиваем все ответы и меняем размерности, чтоб получилось (batch, length, h_size)\n",
        "        h_all = tf.transpose(tf.stack(h_all), [1, 0, 2])\n",
        "        return h_all\n",
        "\n",
        "rnn_layer_my = RNNLayer(H_SIZE)"
      ],
      "execution_count": 15,
      "outputs": []
    },
    {
      "cell_type": "markdown",
      "metadata": {
        "id": "CtYzm68tHkYX"
      },
      "source": [
        "Запускаем инференс (прямое распространение) для созданного слоя и проверяем размерность выходного тензора.\n",
        "\n",
        "Она должна была получиться `(BATCH_SIZE, SEQ_LEN, H_SIZE)`"
      ]
    },
    {
      "cell_type": "code",
      "metadata": {
        "id": "PQOAidLLOUB2",
        "colab": {
          "base_uri": "https://localhost:8080/"
        },
        "outputId": "2c25b116-986b-4f0f-9d7a-0197bcd0ae0c"
      },
      "source": [
        "y = rnn_layer_my(x)\n",
        "print(y.shape)"
      ],
      "execution_count": 20,
      "outputs": [
        {
          "output_type": "stream",
          "name": "stdout",
          "text": [
            "(2, 100, 32)\n"
          ]
        }
      ]
    },
    {
      "cell_type": "markdown",
      "metadata": {
        "id": "jJluutj0ls6H"
      },
      "source": [
        "### Проверка эквивалентности двух реализаций\n",
        "Теперь проверим эквивалентность двух созданных RNN слоёв (из Keras и нашего собственного).\n",
        "\n",
        "Пока что сравнить их ответы мы не можем, так как у каждой версии слоя при его создании веса инициализировались случайным образом. Параметры инициализируются либо во время первого инференса, либо после вызова `model.build(...)`.\n",
        "\n",
        "Для того, чтобы наши слои работали одинаково, надо скопировать веса из одного в другой.\n",
        "\n",
        "Скопируем веса из `rnn_layer` в наш `rnn_layer_my`, после чего сделаем прямое распространение для обоих реализаций и сравним результаты. Разница должна получиться нулевой (или очень маленькой)."
      ]
    },
    {
      "cell_type": "code",
      "metadata": {
        "id": "r_HT9VKdM1HA",
        "colab": {
          "base_uri": "https://localhost:8080/"
        },
        "outputId": "639dabe8-b747-4508-ce04-6ec2c1c6e6e6"
      },
      "source": [
        "# Перед тем, как что-то присваивать в параметры модели, нужно чтобы они создались.\n",
        "# Для этого можно вызвать либо инференс с каким-то входом, либо model.build(...)\n",
        "\n",
        "rnn_layer_my.fcXH.kernel = rnn_layer.weights[0]\n",
        "rnn_layer_my.fcHH.kernel = rnn_layer.weights[1]\n",
        "rnn_layer_my.fcXH.bias = rnn_layer.weights[2]\n",
        "\n",
        "y = rnn_layer(x)\n",
        "y_my = rnn_layer_my(x)\n",
        "\n",
        "print(np.max(np.abs(y.numpy() - y_my.numpy())))"
      ],
      "execution_count": 21,
      "outputs": [
        {
          "output_type": "stream",
          "name": "stdout",
          "text": [
            "0.0\n"
          ]
        }
      ]
    },
    {
      "cell_type": "markdown",
      "metadata": {
        "id": "jd1LSLgIOuj5"
      },
      "source": [
        "Очень часто RNN ячейка является отдельной сущностью. Особенно это удобно, если у неё довольно сложное строение, и если мы не хотим вдаваться в детали её реализации, а просто хотим строить рекуррентную сеть из некоторых ячеек. Чтобы закрепить эту информацию, выполните следующие задания:\n",
        "\n",
        "**[Задание 1]** Разделите реализации RNN ячейки и RNN слоя. Другими словами, реализуйте отдельный класс `RNNCell` (унаследованный от `tf.keras.Model`) и перенесите туда все обучаемые параметры RNN слоя. Задача ячейки (при инференсе) по векторам x и h предсказывать новый вектор h. А в новом классе `RNNLayer` вместо полносвязных слоёв сразу создайте экземпляр класса `RNNCell` и используйте его для обработки входной последовательности всё в том же цикле, что и раньше. \n",
        "\n",
        "**[Задание 2]** Сравните результаты работы нового `RNNLayer` с оригинальным RNN слоем из Keras также, как мы это делали раньше (разница предсказаний должна получиться равной нулю)."
      ]
    },
    {
      "cell_type": "code",
      "source": [
        "class RNNCell(tf.keras.Model):\n",
        "      def __init__(self, h_size):\n",
        "        super().__init__()\n",
        "        self.h_size = h_size\n",
        "        self.fcXH = tf.keras.layers.Dense(self.h_size)\n",
        "        self.fcHH = tf.keras.layers.Dense(self.h_size, use_bias=False) # биас не нужен, так как он есть в fcXH\n",
        "\n",
        "      def call(self, x, h):\n",
        "        h = tf.nn.relu(self.fcXH(x) + self.fcHH(h))\n",
        "        return h\n",
        "  \n",
        "class RNNLayerNew(tf.keras.Model):\n",
        "\n",
        "      def __init__(self, h_size):\n",
        "        super().__init__()\n",
        "        self.h_size = h_size\n",
        "        self.rnn_cell = RNNCell(h_size)\n",
        "\n",
        "      \n",
        "\n",
        "      def call(self, x_all):\n",
        "        batch, length, emb_size = x.shape\n",
        "        h = tf.zeros((batch, self.h_size))\n",
        "        h_all = [] # список всех получившихся векторов h\n",
        "        \n",
        "        # Цикл по входной последовательности\n",
        "        for i in range(length):\n",
        "            h = self.rnn_cell(x_all[:, i, :], h)\n",
        "            h_all.append(h)\n",
        "            \n",
        "        # склеиваем все ответы и меняем размерности, чтоб получилось (batch, length, h_size)\n",
        "        h_all = tf.transpose(tf.stack(h_all), [1, 0, 2])\n",
        "        return h_all "
      ],
      "metadata": {
        "id": "m0eW6M1a4m49"
      },
      "execution_count": 23,
      "outputs": []
    },
    {
      "cell_type": "code",
      "source": [
        "rnn_layer_new = RNNLayerNew(H_SIZE)\n",
        "cell_new = RNNCell(H_SIZE) "
      ],
      "metadata": {
        "id": "y62z2AUS6RO8"
      },
      "execution_count": 26,
      "outputs": []
    },
    {
      "cell_type": "code",
      "source": [
        "y_my = rnn_layer_my(x)\n",
        "print(y_my.shape)"
      ],
      "metadata": {
        "id": "1EMW3I1a7SGV",
        "outputId": "6a60a4f9-20bd-4a89-de72-ad31a42691cb",
        "colab": {
          "base_uri": "https://localhost:8080/"
        }
      },
      "execution_count": 27,
      "outputs": [
        {
          "output_type": "stream",
          "name": "stdout",
          "text": [
            "(2, 100, 32)\n"
          ]
        }
      ]
    },
    {
      "cell_type": "markdown",
      "source": [
        ""
      ],
      "metadata": {
        "id": "2GCrewJG6Zj8"
      }
    },
    {
      "cell_type": "code",
      "source": [
        "# Перед тем, как что-то присваивать в параметры модели, нужно чтобы они создались.\n",
        "# Для этого можно вызвать либо инференс с каким-то входом, либо model.build(...)\n",
        "\n",
        "rnn_layer_new.rnn_cell.fcXH.kernel = rnn_layer.weights[0]\n",
        "rnn_layer_new.rnn_cell.fcHH.kernel = rnn_layer.weights[1]\n",
        "rnn_layer_new.rnn_cell.fcXH.bias = rnn_layer.weights[2]\n",
        "\n",
        "y = rnn_layer(x)\n",
        "y_my = rnn_layer_my(x)\n",
        "\n",
        "print(np.max(np.abs(y.numpy() - y_my.numpy())))"
      ],
      "metadata": {
        "id": "_-m35MJs6Z4Z",
        "outputId": "e31215d5-eeb2-4fbd-f865-b1914e96d45d",
        "colab": {
          "base_uri": "https://localhost:8080/"
        }
      },
      "execution_count": 29,
      "outputs": [
        {
          "output_type": "stream",
          "name": "stdout",
          "text": [
            "0.0\n"
          ]
        }
      ]
    }
  ]
}