{
  "nbformat": 4,
  "nbformat_minor": 0,
  "metadata": {
    "kernelspec": {
      "display_name": "Python 3",
      "language": "python",
      "name": "python3"
    },
    "language_info": {
      "codemirror_mode": {
        "name": "ipython",
        "version": 3
      },
      "file_extension": ".py",
      "mimetype": "text/x-python",
      "name": "python",
      "nbconvert_exporter": "python",
      "pygments_lexer": "ipython3",
      "version": "3.6.3"
    },
    "colab": {
      "name": "mid_ml_nlp_hw-3.ipynb",
      "provenance": [],
      "collapsed_sections": [],
      "include_colab_link": true
    }
  },
  "cells": [
    {
      "cell_type": "markdown",
      "metadata": {
        "id": "view-in-github",
        "colab_type": "text"
      },
      "source": [
        "<a href=\"https://colab.research.google.com/github/vsolodkyi/NeuralNetworks_SkillBox/blob/main/module_13/mid_ml_nlp_hw_3.ipynb\" target=\"_parent\"><img src=\"https://colab.research.google.com/assets/colab-badge.svg\" alt=\"Open In Colab\"/></a>"
      ]
    },
    {
      "cell_type": "markdown",
      "metadata": {
        "id": "vGhDg4qLnDYW"
      },
      "source": [
        "## Урок 3 \n",
        "\n",
        "### Задание начального уровня\n",
        "\n",
        "Потренируйтесь в нахождении матрицы схожести для валидационного сета\n",
        "\n",
        "* загрузите `brand_tweets_valid.csv`\n",
        "* примените объект `vectorizer`, обученный на датасете `brand_tweets.csv` (просто скопируйте этот код из урока)\n",
        "* примените функцию `pairwise_distances` к полученной матрице"
      ]
    },
    {
      "cell_type": "code",
      "metadata": {
        "id": "krkc6JvTnDYa"
      },
      "source": [
        "import pandas as pd\n",
        "\n",
        "df_valid = pd.read_csv('data/brand_tweets_valid.csv', sep=',', encoding='utf8')\n",
        "# удаляем строки, в которых отсутствует текст твита\n",
        "df_valid.drop(df[df.tweet_text.isnull()].index, inplace=True)\n",
        "\n",
        "### YOUR CODE HERE ###\n",
        "\n"
      ],
      "execution_count": null,
      "outputs": []
    },
    {
      "cell_type": "markdown",
      "metadata": {
        "id": "RQ7_b8FbnDYg"
      },
      "source": [
        "### Задание среднего уровня\n",
        "\n",
        "Пользуясь матрицей схожести, полученной на предыдущем этапе, найдите top-5 твитов, похожих на твит валидационного сета с `id=14`."
      ]
    },
    {
      "cell_type": "code",
      "metadata": {
        "id": "SgmUriXSnDYh",
        "outputId": "5525b1ec-d86b-4d1a-afea-784afc8bed33"
      },
      "source": [
        "test_tweet_index = 14\n",
        "\n",
        "print(df_valid.iloc[test_tweet_index].tweet_text+'\\n------------------------------\\n')\n",
        "\n",
        "\n",
        "### YOUR CODE HERE ###\n",
        "\n"
      ],
      "execution_count": null,
      "outputs": [
        {
          "output_type": "stream",
          "text": [
            "Popup Apple Store crew has been giving out water to the people in line but they are in street clothes. No Apple logos anywhere yet. #SXSW\n",
            "------------------------------\n",
            "\n"
          ],
          "name": "stdout"
        }
      ]
    },
    {
      "cell_type": "markdown",
      "metadata": {
        "id": "HdW_C-ninDYm"
      },
      "source": [
        "### Задание высокого уровня.\n",
        "\n",
        "У вас есть матрица схожести между объектами. Попробуйте решить задачу поиска дубликатов в тексте\n",
        "\n",
        "1. Визуализируйте гистограмму значений в матрице схожести.\n",
        "1. Напишите функцию на Python, которая принимает индекс твита, пороговое значение (число от $0.0$ до $1.0$ и матрицу схожести, а затем выводит все твиты, схожесть которых больше, чем пороговое значение."
      ]
    },
    {
      "cell_type": "code",
      "metadata": {
        "id": "tEVocl2mnDYn"
      },
      "source": [
        "### YOUR CODE HERE ###\n",
        "from matplotlib import pyplot as plt\n",
        "\n",
        "%matplotlib inline\n",
        "\n",
        "### YOUR CODE HERE ###\n",
        "\n"
      ],
      "execution_count": null,
      "outputs": []
    }
  ]
}