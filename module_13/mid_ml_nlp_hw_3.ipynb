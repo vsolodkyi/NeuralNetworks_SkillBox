{
  "nbformat": 4,
  "nbformat_minor": 0,
  "metadata": {
    "kernelspec": {
      "display_name": "Python 3",
      "language": "python",
      "name": "python3"
    },
    "language_info": {
      "codemirror_mode": {
        "name": "ipython",
        "version": 3
      },
      "file_extension": ".py",
      "mimetype": "text/x-python",
      "name": "python",
      "nbconvert_exporter": "python",
      "pygments_lexer": "ipython3",
      "version": "3.6.3"
    },
    "colab": {
      "name": "mid_ml_nlp_hw-3.ipynb",
      "provenance": [],
      "collapsed_sections": [],
      "include_colab_link": true
    }
  },
  "cells": [
    {
      "cell_type": "markdown",
      "metadata": {
        "id": "view-in-github",
        "colab_type": "text"
      },
      "source": [
        "<a href=\"https://colab.research.google.com/github/vsolodkyi/NeuralNetworks_SkillBox/blob/main/module_13/mid_ml_nlp_hw_3.ipynb\" target=\"_parent\"><img src=\"https://colab.research.google.com/assets/colab-badge.svg\" alt=\"Open In Colab\"/></a>"
      ]
    },
    {
      "cell_type": "markdown",
      "metadata": {
        "id": "vGhDg4qLnDYW"
      },
      "source": [
        "## Урок 3 \n",
        "\n",
        "### Задание начального уровня\n",
        "\n",
        "Потренируйтесь в нахождении матрицы схожести для валидационного сета\n",
        "\n",
        "* загрузите `brand_tweets_valid.csv`\n",
        "* примените объект `vectorizer`, обученный на датасете `brand_tweets.csv` (просто скопируйте этот код из урока)\n",
        "* примените функцию `pairwise_distances` к полученной матрице"
      ]
    },
    {
      "cell_type": "code",
      "metadata": {
        "id": "krkc6JvTnDYa"
      },
      "source": [
        "import pandas as pd\n",
        "\n",
        "df_valid = pd.read_csv('data/brand_tweets_valid.csv', sep=',', encoding='utf8')\n",
        "# удаляем строки, в которых отсутствует текст твита\n",
        "df_valid.drop(df_valid[df_valid.tweet_text.isnull()].index, inplace=True)\n",
        "\n",
        "### YOUR CODE HERE ###\n",
        "\n"
      ],
      "execution_count": 16,
      "outputs": []
    },
    {
      "cell_type": "code",
      "source": [
        "import nltk\n",
        "import string\n",
        "\n",
        "# дополнительный словарь со знаками пунктуации\n",
        "nltk.download('punkt', download_dir='.')"
      ],
      "metadata": {
        "id": "UuGuQH5oEEhz",
        "outputId": "eb96b8cc-768f-4c67-863d-7fc4ae1973dc",
        "colab": {
          "base_uri": "https://localhost:8080/"
        }
      },
      "execution_count": 3,
      "outputs": [
        {
          "output_type": "stream",
          "name": "stderr",
          "text": [
            "[nltk_data] Downloading package punkt to ....\n",
            "[nltk_data]   Unzipping tokenizers/punkt.zip.\n"
          ]
        },
        {
          "output_type": "execute_result",
          "data": {
            "text/plain": [
              "True"
            ]
          },
          "metadata": {},
          "execution_count": 3
        }
      ]
    },
    {
      "cell_type": "code",
      "source": [
        "df = pd.read_csv('data/brand_tweets.csv', sep=',', encoding='utf8')\n",
        "# удаляем строки, в которых отсутствует текст твита\n",
        "df.drop(df[df.tweet_text.isnull()].index, inplace=True)"
      ],
      "metadata": {
        "id": "CzcLAgwhEgXE"
      },
      "execution_count": 4,
      "outputs": []
    },
    {
      "cell_type": "code",
      "source": [
        "stop_words = [\n",
        "    'i', 'me', 'my', 'myself', 'we', 'our', 'ours', 'ourselves', 'you', \"you're\", \"you've\", \"you'll\", \"you'd\",\n",
        "    'your', 'yours', 'yourself', 'yourselves', 'he', 'him', 'his', 'himself', 'she', \"she's\", 'her', 'hers',\n",
        "    'herself', 'it', \"it's\", 'its', 'itself', 'they', 'them', 'their', 'theirs', 'themselves', 'what', 'which',\n",
        "    'who', 'whom', 'this', 'that', \"that'll\", 'these', 'those', 'am', 'is', 'are', 'was', 'were', 'be', 'been',\n",
        "    'being', 'have', 'has', 'had', 'having', 'do', 'does', 'did', 'doing', 'a', 'an', 'the', 'and', 'but', 'if',\n",
        "    'or', 'because', 'as', 'until', 'while', 'of', 'at', 'by', 'for', 'with', 'about', 'against', 'between',\n",
        "    'into', 'through', 'during', 'before', 'after', 'above', 'below', 'to', 'from', 'up', 'down', 'in', 'out',\n",
        "    'on', 'off', 'over', 'under', 'again', 'further', 'then', 'once', 'here', 'there', 'when', 'where', 'why',\n",
        "    'how', 'all', 'any', 'both', 'each', 'few', 'more', 'most', 'other', 'some', 'such', 'no', 'nor', 'not',\n",
        "    'only', 'own', 'same', 'so', 'than', 'too', 'very', 's', 't', 'can', 'will', 'just', 'don', \"don't\", 'shold',\n",
        "    \"should've\", 'now', 'd', 'll', 'm', 'o', 're', 've', 'y', 'ain', 'aren', \"aren't\", 'couldn', \"couldn't\",\n",
        "    'didn', \"didn't\", 'doesn', \"doesn't\", 'hadn', \"hadn't\", 'hasn', \"hasn't\", 'haven', \"haven't\", 'isn', \"isn't\",\n",
        "    'ma', 'mightn', \"mightn't\", 'mustn', \"mustn't\", 'needn', \"needn't\", 'shan', \"shan't\", 'shouldn', \"shouldn't\",\n",
        "    'wasn', \"wasn't\", 'weren', \"weren't\", 'won', \"won't\", 'wouldn', \"wouldn't\"\n",
        "]"
      ],
      "metadata": {
        "id": "9uLOdvtzEpnT"
      },
      "execution_count": 5,
      "outputs": []
    },
    {
      "cell_type": "code",
      "source": [
        "def tokenize_text(raw_text: str):\n",
        "    \"\"\"Функция для токенизации текста\n",
        "    \n",
        "    :param raw_text: исходная текстовая строка\n",
        "    \"\"\"\n",
        "    tokenized_str = nltk.word_tokenize(raw_text)\n",
        "    tokens = [i.lower() for i in tokenized_str if ( i not in string.punctuation )]\n",
        "    filtered_tokens = [i for i in tokens if ( i not in stop_words )]\n",
        "    return filtered_tokens\n",
        "\n",
        "# применяем функцию в датафрейму с помощью метода .apply()\n",
        "tokenized_tweets= df.tweet_text.apply(tokenize_text)\n",
        "\n",
        "# добавляем новую колонку в исходный датафрейм\n",
        "df = df.assign(\n",
        "    tokenized=tokenized_tweets\n",
        ")\n",
        "\n",
        "df.tokenized.head()"
      ],
      "metadata": {
        "id": "rKTE6eYAEqZk",
        "outputId": "7b81dc4e-32cd-466b-d297-4cf4809b8c27",
        "colab": {
          "base_uri": "https://localhost:8080/"
        }
      },
      "execution_count": 6,
      "outputs": [
        {
          "output_type": "execute_result",
          "data": {
            "text/plain": [
              "0    [wesley83, 3g, iphone, 3, hrs, tweeting, rise_...\n",
              "1    [jessedee, know, fludapp, awesome, ipad/iphone...\n",
              "2    [swonderlin, wait, ipad, 2, also, should, sale...\n",
              "3    [sxsw, hope, year, 's, festival, n't, crashy, ...\n",
              "4    [sxtxstate, great, stuff, fri, sxsw, marissa, ...\n",
              "Name: tokenized, dtype: object"
            ]
          },
          "metadata": {},
          "execution_count": 6
        }
      ]
    },
    {
      "cell_type": "code",
      "source": [
        "tokenized_vaidtweets = df_valid.tweet_text.apply(tokenize_text)\n",
        "df_valid = df_valid.assign(\n",
        "    tokenized=tokenized_vaidtweets\n",
        ")\n",
        "\n",
        "df_valid.tokenized.head()"
      ],
      "metadata": {
        "id": "XVE3E76xFuAb",
        "outputId": "5899d5a7-45a5-4ad6-876e-9683ec2e8063",
        "colab": {
          "base_uri": "https://localhost:8080/"
        }
      },
      "execution_count": 17,
      "outputs": [
        {
          "output_type": "execute_result",
          "data": {
            "text/plain": [
              "0    [wow, google, maps, mobile, v5, demo, sxsw, nice]\n",
              "1    [google, name, built, gettinng, stuff, trying,...\n",
              "2    [quot, apple, opening, temporary, store, austi...\n",
              "3    [tech, apple, opening, pop-up, store, austin, ...\n",
              "4              [gsdm, google, party, hook, sxsw, link]\n",
              "Name: tokenized, dtype: object"
            ]
          },
          "metadata": {},
          "execution_count": 17
        }
      ]
    },
    {
      "cell_type": "code",
      "source": [
        "from sklearn.feature_extraction.text import CountVectorizer\n",
        "\n",
        "# инициализируем объект, который токенизирует наш текст\n",
        "# в качестве единственного аргимента передаём функцию, которую мы написали в Уроке 2\n",
        "# на разбивает каждый документ на токены\n",
        "vectorizer = CountVectorizer(tokenizer=tokenize_text)\n",
        "# применяем наш объект-токенизатор к датафрейму с твитами\n",
        "document_matrix = vectorizer.fit_transform(df.tweet_text.values)\n",
        "# результат - матрица, в которой находятся числа, строк в мастрице столько, сколько документов\n",
        "# а столбцов столько, сколько токенов\n",
        "document_matrix"
      ],
      "metadata": {
        "id": "kpi2EU9hEtx6",
        "outputId": "e61988df-acc1-4745-ffe3-11e9e75b7a1a",
        "colab": {
          "base_uri": "https://localhost:8080/"
        }
      },
      "execution_count": 9,
      "outputs": [
        {
          "output_type": "execute_result",
          "data": {
            "text/plain": [
              "<3904x7260 sparse matrix of type '<class 'numpy.int64'>'\n",
              "\twith 46060 stored elements in Compressed Sparse Row format>"
            ]
          },
          "metadata": {},
          "execution_count": 9
        }
      ]
    },
    {
      "cell_type": "code",
      "source": [
        "document_valid_matrix = vectorizer.fit_transform(df_valid.tweet_text.values)\n",
        "document_valid_matrix"
      ],
      "metadata": {
        "colab": {
          "base_uri": "https://localhost:8080/"
        },
        "id": "HAj3LerEGJiv",
        "outputId": "ea7e286f-1ae8-41e3-928c-3281599e0e73"
      },
      "execution_count": 18,
      "outputs": [
        {
          "output_type": "execute_result",
          "data": {
            "text/plain": [
              "<402x1760 sparse matrix of type '<class 'numpy.int64'>'\n",
              "\twith 4927 stored elements in Compressed Sparse Row format>"
            ]
          },
          "metadata": {},
          "execution_count": 18
        }
      ]
    },
    {
      "cell_type": "code",
      "source": [
        ""
      ],
      "metadata": {
        "id": "TQNv8_MPIznO",
        "outputId": "f7737d8b-cf83-4d4c-baf5-3519c07ede48",
        "colab": {
          "base_uri": "https://localhost:8080/"
        }
      },
      "execution_count": 28,
      "outputs": [
        {
          "output_type": "execute_result",
          "data": {
            "text/plain": [
              "<1x1760 sparse matrix of type '<class 'numpy.int64'>'\n",
              "\twith 8 stored elements in Compressed Sparse Row format>"
            ]
          },
          "metadata": {},
          "execution_count": 28
        }
      ]
    },
    {
      "cell_type": "code",
      "source": [
        "from sklearn.metrics import pairwise_distances\n",
        "\n",
        "tweet_distance = 1-pairwise_distances(document_matrix, metric=\"cosine\")\n",
        "\n",
        "tweet_distance.shape"
      ],
      "metadata": {
        "id": "mpzNxWkzE0WC",
        "outputId": "c857c479-dd58-4c47-8ea9-91ce84312a1d",
        "colab": {
          "base_uri": "https://localhost:8080/"
        }
      },
      "execution_count": 11,
      "outputs": [
        {
          "output_type": "execute_result",
          "data": {
            "text/plain": [
              "(3904, 3904)"
            ]
          },
          "metadata": {},
          "execution_count": 11
        }
      ]
    },
    {
      "cell_type": "code",
      "source": [
        "tweet_valid_distance = 1-pairwise_distances(document_valid_matrix, metric=\"cosine\")\n",
        "\n",
        "tweet_valid_distance.shape"
      ],
      "metadata": {
        "id": "3phnymiTGW5N",
        "outputId": "d814219e-f585-4c29-f10a-acc8612f6e1d",
        "colab": {
          "base_uri": "https://localhost:8080/"
        }
      },
      "execution_count": 19,
      "outputs": [
        {
          "output_type": "execute_result",
          "data": {
            "text/plain": [
              "(402, 402)"
            ]
          },
          "metadata": {},
          "execution_count": 19
        }
      ]
    },
    {
      "cell_type": "code",
      "source": [
        "source_tweet_index = 0\n",
        "print(df.iloc[source_tweet_index].tweet_text)"
      ],
      "metadata": {
        "id": "PMZ5QLMhE-NC",
        "outputId": "97828077-41a6-4cf8-8df3-c2bb1723b26b",
        "colab": {
          "base_uri": "https://localhost:8080/"
        }
      },
      "execution_count": 13,
      "outputs": [
        {
          "output_type": "stream",
          "name": "stdout",
          "text": [
            ".@wesley83 I have a 3G iPhone. After 3 hrs tweeting at #RISE_Austin, it was dead!  I need to upgrade. Plugin stations at #SXSW.\n"
          ]
        }
      ]
    },
    {
      "cell_type": "code",
      "source": [
        "import numpy as np\n",
        "\n",
        "# отсортируем твиты по “похожести” - чем похожее на source_tweet_index,\n",
        "# тем ближе к началу списка sorted_similarity\n",
        "sorted_similarity = np.argsort(-tweet_distance[source_tweet_index,:])\n",
        "\n",
        "sorted_similarity"
      ],
      "metadata": {
        "id": "n1sP1WcaE3Bj",
        "outputId": "56e1f8c3-1072-4337-f58c-40da41f18726",
        "colab": {
          "base_uri": "https://localhost:8080/"
        }
      },
      "execution_count": 14,
      "outputs": [
        {
          "output_type": "execute_result",
          "data": {
            "text/plain": [
              "array([   0,  633,  420, ..., 2861,  287, 1330])"
            ]
          },
          "metadata": {},
          "execution_count": 14
        }
      ]
    },
    {
      "cell_type": "markdown",
      "metadata": {
        "id": "RQ7_b8FbnDYg"
      },
      "source": [
        "### Задание среднего уровня\n",
        "\n",
        "Пользуясь матрицей схожести, полученной на предыдущем этапе, найдите top-5 твитов, похожих на твит валидационного сета с `id=14`."
      ]
    },
    {
      "cell_type": "code",
      "metadata": {
        "id": "SgmUriXSnDYh",
        "outputId": "1b5ded8c-34ac-44e2-d663-7fdf706e15be",
        "colab": {
          "base_uri": "https://localhost:8080/"
        }
      },
      "source": [
        "test_tweet_index = 14\n",
        "\n",
        "print(df_valid.iloc[test_tweet_index].tweet_text+'\\n------------------------------\\n')\n",
        "\n",
        "\n",
        "### YOUR CODE HERE ###\n",
        "sorted_valid_similarity = np.argsort(-tweet_valid_distance[test_tweet_index,:])\n",
        "\n",
        "print(df_valid.iloc[sorted_valid_similarity[1]].tweet_text)\n",
        "print('-------------')\n",
        "print(df_valid.iloc[sorted_valid_similarity[2]].tweet_text)\n",
        "print('-------------')\n",
        "print(df_valid.iloc[sorted_valid_similarity[3]].tweet_text)\n",
        "print('-------------')\n",
        "print(df_valid.iloc[sorted_valid_similarity[4]].tweet_text)\n",
        "print('-------------')\n",
        "print(df_valid.iloc[sorted_valid_similarity[5]].tweet_text)"
      ],
      "execution_count": 21,
      "outputs": [
        {
          "output_type": "stream",
          "name": "stdout",
          "text": [
            "Popup Apple Store crew has been giving out water to the people in line but they are in street clothes. No Apple logos anywhere yet. #SXSW\n",
            "------------------------------\n",
            "\n",
            "Apple employees just showed up in force to the #SXSW PopUp Apple Store. #iPad2\n",
            "-------------\n",
            "#sxsw apple store run out for the day :( boo apple.\n",
            "-------------\n",
            "video from the popup Apple store: {link} #sxsw #sxswi\n",
            "-------------\n",
            "#SXSW Apple Pop Up Store still has iPads in stock, we are waiting on line {link} via @mention #apple #ipad2‰Ыќ\n",
            "-------------\n",
            "Wanting in line at the unconfirmed Apple pop-up store for an iPad 2. #sxsw\n"
          ]
        }
      ]
    },
    {
      "cell_type": "code",
      "source": [
        "np.sort(-tweet_valid_distance[test_tweet_index,:])[:5]"
      ],
      "metadata": {
        "id": "tpZRejWeSgrT",
        "outputId": "eb2480e9-d7e9-4eae-aea6-79d04cbf7a8b",
        "colab": {
          "base_uri": "https://localhost:8080/"
        }
      },
      "execution_count": 88,
      "outputs": [
        {
          "output_type": "execute_result",
          "data": {
            "text/plain": [
              "array([-1.        , -0.5118907 , -0.48507125, -0.45834925, -0.42443734])"
            ]
          },
          "metadata": {},
          "execution_count": 88
        }
      ]
    },
    {
      "cell_type": "markdown",
      "metadata": {
        "id": "HdW_C-ninDYm"
      },
      "source": [
        "### Задание высокого уровня.\n",
        "\n",
        "У вас есть матрица схожести между объектами. Попробуйте решить задачу поиска дубликатов в тексте\n",
        "\n",
        "1. Визуализируйте гистограмму значений в матрице схожести.\n",
        "1. Напишите функцию на Python, которая принимает индекс твита, пороговое значение (число от $0.0$ до $1.0$ и матрицу схожести, а затем выводит все твиты, схожесть которых больше, чем пороговое значение."
      ]
    },
    {
      "cell_type": "code",
      "metadata": {
        "id": "tEVocl2mnDYn"
      },
      "source": [
        "### YOUR CODE HERE ###\n",
        "from matplotlib import pyplot as plt\n",
        "\n",
        "%matplotlib inline\n",
        "\n",
        "\n",
        "### YOUR CODE HERE ###\n",
        "\n"
      ],
      "execution_count": 25,
      "outputs": []
    },
    {
      "cell_type": "code",
      "source": [
        "plt.hist(tweet_valid_distance)\n",
        "plt.show()"
      ],
      "metadata": {
        "id": "jz8lDxuMHwYs",
        "outputId": "52d8811f-9b43-46ca-f5b4-97c85d60b2d4",
        "colab": {
          "base_uri": "https://localhost:8080/",
          "height": 265
        }
      },
      "execution_count": 27,
      "outputs": [
        {
          "output_type": "display_data",
          "data": {
            "text/plain": [
              "<Figure size 432x288 with 1 Axes>"
            ],
            "image/png": "[encoded data removed]"
          },
          "metadata": {
            "needs_background": "light"
          }
        }
      ]
    },
    {
      "cell_type": "code",
      "source": [
        "threshold = 0.4 # user assign less 1 and more 0\n",
        "input_tweet_index = 14 #integer between 0 and length train tweets - 401"
      ],
      "metadata": {
        "id": "tOmiPrtqRzMk"
      },
      "execution_count": 78,
      "outputs": []
    },
    {
      "cell_type": "code",
      "source": [
        "\n",
        "#similarity_matrix = {}\n",
        "def sim_phrases(threshold=1.0, input_tweet_index=0):\n",
        "    print('User asked for index = {0}, phrase is {1}'.format(input_tweet_index, df_valid.iloc[input_tweet_index].tweet_text))\n",
        "    temp_similarity = np.argsort(-tweet_valid_distance[input_tweet_index,:])\n",
        "    filter_temp_similarity = [(x,tweet_valid_distance[input_tweet_index,x] )  for x in temp_similarity if tweet_valid_distance[input_tweet_index,x]  >= threshold]\n",
        "\n",
        "    for i, koef in filter_temp_similarity:\n",
        "      if i != input_tweet_index:\n",
        "        print('      KOEF = {0}, PHRASE is {1}'.format(koef, df_valid.iloc[i].tweet_text))"
      ],
      "metadata": {
        "id": "K0t9ycM-HbL9"
      },
      "execution_count": 86,
      "outputs": []
    },
    {
      "cell_type": "code",
      "source": [
        "sim_phrases(threshold=threshold, input_tweet_index=input_tweet_index)"
      ],
      "metadata": {
        "id": "dfSI2cMwJBx6",
        "outputId": "804a1253-f1f6-40fb-f9f3-c3fe7a266aab",
        "colab": {
          "base_uri": "https://localhost:8080/"
        }
      },
      "execution_count": 87,
      "outputs": [
        {
          "output_type": "stream",
          "name": "stdout",
          "text": [
            "User asked for index = 14, phrase is Popup Apple Store crew has been giving out water to the people in line but they are in street clothes. No Apple logos anywhere yet. #SXSW\n",
            "      KOEF = 0.5118906968889915, PHRASE is Apple employees just showed up in force to the #SXSW PopUp Apple Store. #iPad2\n",
            "      KOEF = 0.4850712500726658, PHRASE is #sxsw apple store run out for the day :( boo apple.\n",
            "      KOEF = 0.45834924851410563, PHRASE is video from the popup Apple store: {link} #sxsw #sxswi\n",
            "      KOEF = 0.4244373438135828, PHRASE is #SXSW Apple Pop Up Store still has iPads in stock, we are waiting on line {link} via @mention #apple #ipad2‰Ыќ\n",
            "      KOEF = 0.40422604172722154, PHRASE is Wanting in line at the unconfirmed Apple pop-up store for an iPad 2. #sxsw\n"
          ]
        }
      ]
    }
  ]
}