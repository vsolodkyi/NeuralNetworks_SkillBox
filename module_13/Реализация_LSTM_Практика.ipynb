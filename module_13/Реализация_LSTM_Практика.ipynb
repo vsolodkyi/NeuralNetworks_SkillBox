{
  "nbformat": 4,
  "nbformat_minor": 0,
  "metadata": {
    "accelerator": "GPU",
    "colab": {
      "name": "Реализация LSTM. Практика.ipynb",
      "provenance": [],
      "collapsed_sections": [],
      "include_colab_link": true
    },
    "kernelspec": {
      "name": "python3",
      "display_name": "Python 3"
    },
    "language_info": {
      "codemirror_mode": {
        "name": "ipython",
        "version": 3
      },
      "file_extension": ".py",
      "mimetype": "text/x-python",
      "name": "python",
      "nbconvert_exporter": "python",
      "pygments_lexer": "ipython3",
      "version": "3.7.1"
    }
  },
  "cells": [
    {
      "cell_type": "markdown",
      "metadata": {
        "id": "view-in-github",
        "colab_type": "text"
      },
      "source": [
        "<a href=\"https://colab.research.google.com/github/vsolodkyi/NeuralNetworks_SkillBox/blob/main/module_13/%D0%A0%D0%B5%D0%B0%D0%BB%D0%B8%D0%B7%D0%B0%D1%86%D0%B8%D1%8F_LSTM_%D0%9F%D1%80%D0%B0%D0%BA%D1%82%D0%B8%D0%BA%D0%B0.ipynb\" target=\"_parent\"><img src=\"https://colab.research.google.com/assets/colab-badge.svg\" alt=\"Open In Colab\"/></a>"
      ]
    },
    {
      "cell_type": "markdown",
      "metadata": {
        "id": "idc3qVC3bio1"
      },
      "source": [
        "#Реализация LSTM\n",
        "В этом уроке мы рассмотрим реализацию продвинутого RNN слоя -- LSTM. Как и раньше, создадим одну версию с помощью Keras и одну версию с помощью чистого TensorFlow (для наглядной демонстрации внутреннего устройства)."
      ]
    },
    {
      "cell_type": "markdown",
      "metadata": {
        "id": "xjQ5s-qHeGDb"
      },
      "source": [
        "### Используем TensorFlow 2.0\n",
        "\n",
        "На момент подготовки этих материалов в Google Colab по умолчанию используется версия TensorFlow 1.X\n",
        "\n",
        "Переключаемся на версию 2.0 (работает только в Colab)"
      ]
    },
    {
      "cell_type": "code",
      "metadata": {
        "id": "carDuaZIHioO",
        "outputId": "8ba1c433-a37e-4334-d307-ff0010889b41",
        "colab": {
          "base_uri": "https://localhost:8080/"
        }
      },
      "source": [
        "%tensorflow_version 2.x"
      ],
      "execution_count": 1,
      "outputs": [
        {
          "output_type": "stream",
          "name": "stdout",
          "text": [
            "Colab only includes TensorFlow 2.x; %tensorflow_version has no effect.\n"
          ]
        }
      ]
    },
    {
      "cell_type": "markdown",
      "metadata": {
        "id": "2zyC3i2ceNIq"
      },
      "source": [
        "### Загрузка библиотек\n",
        "TensorFlow должен иметь как минимум версию 2.0"
      ]
    },
    {
      "cell_type": "code",
      "metadata": {
        "id": "2-zMowjHFz3t",
        "outputId": "40e14a3b-fbf9-403c-dcb7-4de8b3df097f",
        "colab": {
          "base_uri": "https://localhost:8080/"
        }
      },
      "source": [
        "import numpy as np\n",
        "import tensorflow as tf\n",
        "print(tf.__version__)"
      ],
      "execution_count": 2,
      "outputs": [
        {
          "output_type": "stream",
          "name": "stdout",
          "text": [
            "2.8.2\n"
          ]
        }
      ]
    },
    {
      "cell_type": "markdown",
      "metadata": {
        "id": "0glpMFM9hHfl"
      },
      "source": [
        "### Входной тензор\n",
        "Подготовим входной тензор для тестов аналогично тому, как мы это делали в предыдущем уроке.\n",
        "\n",
        "Размерности тензора `x`: (батч, длина цепочки, размер эмбеддинга)"
      ]
    },
    {
      "cell_type": "code",
      "metadata": {
        "id": "mIprlbAyJo18",
        "outputId": "2a66dd53-c538-4bd5-ea2d-07753fd3fcc5",
        "colab": {
          "base_uri": "https://localhost:8080/"
        }
      },
      "source": [
        "BATCH_SIZE = 2\n",
        "SEQ_LEN = 100 # Длина последовательности\n",
        "EMB_SIZE = 16 # Размер векторного представления (эмбеддинга)\n",
        "\n",
        "x = np.random.rand(BATCH_SIZE, SEQ_LEN, EMB_SIZE).astype(np.float32)\n",
        "print(x.shape)"
      ],
      "execution_count": 12,
      "outputs": [
        {
          "output_type": "stream",
          "name": "stdout",
          "text": [
            "(2, 100, 16)\n"
          ]
        }
      ]
    },
    {
      "cell_type": "markdown",
      "metadata": {
        "id": "8o34jYKjq8QB"
      },
      "source": [
        "### Создание простого LSTM слоя с помощью Keras\n",
        "Создание LSTM слоя на Keras очень похоже на создание SimpleRNN слоя\n",
        "\n",
        "`H_SIZE` - количество элементов в выходном векторе `h`. Такое же количество элементов будет в вектор внутренней памяти `C`.\n",
        "\n",
        "`return_sequences` - флаг, в зависимости от которого на выходе мы получаем цепочку векторов `h` (той же длины что и входная цепочка) или только последний вектор `h`\n",
        "\n",
        "`recurrent_activation` - функция активации для некоторых внутренних полносвязных слоёв. В классической LSTM это sigmoid"
      ]
    },
    {
      "cell_type": "code",
      "metadata": {
        "id": "UUS0EKcuNdt6"
      },
      "source": [
        "H_SIZE = 32\n",
        "\n",
        "lstm = tf.keras.layers.LSTM(H_SIZE, return_sequences=True, recurrent_activation='sigmoid')"
      ],
      "execution_count": 13,
      "outputs": []
    },
    {
      "cell_type": "markdown",
      "metadata": {
        "id": "cu7LyJk_rNra"
      },
      "source": [
        "Запускаем инференс (прямое распространение) для созданного слоя и проверяем размерность выходного тензора.\n",
        "\n",
        "Она должна была получиться `(BATCH_SIZE, SEQ_LEN, H_SIZE)`"
      ]
    },
    {
      "cell_type": "code",
      "metadata": {
        "id": "mbN4gUDySy9h",
        "outputId": "290a5563-c91b-4f2f-8a98-b2ea3dde12ee",
        "colab": {
          "base_uri": "https://localhost:8080/"
        }
      },
      "source": [
        "y = lstm(x)\n",
        "print(y.shape)"
      ],
      "execution_count": 14,
      "outputs": [
        {
          "output_type": "stream",
          "name": "stdout",
          "text": [
            "(2, 100, 32)\n"
          ]
        }
      ]
    },
    {
      "cell_type": "markdown",
      "metadata": {
        "id": "U4LAIwYPsRUQ"
      },
      "source": [
        "### Реализация LSTM ячейки\n",
        "Ранее мы обсуждали, что в рекуррентных сетях имеет смысл выделять понятие \"ячейка\". Это по сути слой, который работает с текущим элементом последовательности. А уже внешний рекуррентный слой использует ячейку для прохода по последовательности.\n",
        "\n",
        "Для LSTM ячейки задача состоит в том, чтобы по входному вектору `x`, скрытому состоянию `h` и вектору памяти `c` предсказать новые `h` и `c`.\n",
        "\n",
        "В основе LSTM ячейки лежат 4 линейных преобразования: 3 гейта (input, forget, output) и преобразование, ответственное за создание нового кандидата в ячейку памяти.\n",
        "\n",
        "Каждое такое линейное преобразование задаётся двумя матрицами и одним вектором смещения (как и в SimpleRNN), поэтому для его описания нужно два полносвязных слоя, у одного из которых выключен биас.\n",
        "\n",
        "Прямое распространение (в функции `call`) осуществляется согласно оригинальному алгоритму LSTM (из теоретической части).\n"
      ]
    },
    {
      "cell_type": "code",
      "metadata": {
        "id": "NLQ83QHFYhO-"
      },
      "source": [
        "class LSTMCell(tf.keras.Model):\n",
        "    def __init__(self, h_size):\n",
        "        super().__init__()\n",
        "        self.h_size = h_size\n",
        "        \n",
        "        # input gate\n",
        "        self.fcXI = tf.keras.layers.Dense(self.h_size)\n",
        "        self.fcHI = tf.keras.layers.Dense(self.h_size, use_bias=False)\n",
        "        \n",
        "        # forget gate\n",
        "        self.fcXF = tf.keras.layers.Dense(self.h_size)\n",
        "        self.fcHF = tf.keras.layers.Dense(self.h_size, use_bias=False)\n",
        "        \n",
        "        # создание нового кандидата CH\n",
        "        self.fcXC = tf.keras.layers.Dense(self.h_size)\n",
        "        self.fcHC = tf.keras.layers.Dense(self.h_size, use_bias=False)\n",
        "        \n",
        "        # output gate\n",
        "        self.fcXO = tf.keras.layers.Dense(self.h_size)\n",
        "        self.fcHO = tf.keras.layers.Dense(self.h_size, use_bias=False)\n",
        "        \n",
        "    def call(self, x, h, c):\n",
        "        i = tf.nn.sigmoid(self.fcXI(x) + self.fcHI(h))\n",
        "        f = tf.nn.sigmoid(self.fcXF(x) + self.fcHF(h))\n",
        "        o = tf.nn.sigmoid(self.fcXO(x) + self.fcHO(h))\n",
        "        ch = tf.nn.tanh(self.fcXC(x) + self.fcHC(h))\n",
        "        c = f*c + i*ch # поэлементное произведение и сумма\n",
        "        h = o*tf.nn.tanh(c) # поэлементное произведение\n",
        "        return h, c"
      ],
      "execution_count": 15,
      "outputs": []
    },
    {
      "cell_type": "markdown",
      "metadata": {
        "id": "uKOrfEpiZVgs"
      },
      "source": [
        "**[Задание 1]** Реализуйте LSTM слой (класс `LSTM`, наследованный от `tf.keras.Model`), эквивалентный описанной выше модели на Keras. Используйте для этого описанную выше ячейку `LSTMCell`. \n",
        "\n",
        "**[Задание 2]** Сравните результаты работы класса нового `LSTM` с оригинальной моделью на Keras так же, как мы это делали раньше (разница должна получиться равной нулю или очень маленькой). \n",
        "\n",
        "Вам также будет необходимо скопировать веса в новую модель. В модели Keras веса находятся вот в таких переменных:\n",
        "\n",
        "`lstm.weights[0]` - матрицы, связанные с вектором x\n",
        "\n",
        "`lstm.weights[1]` - матрицы, связанные с вектором h\n",
        "\n",
        "`lstm.weights[2]` - биасы\n",
        "\n",
        "В каждой такой матрице объединены все матрицы, соответствующие разным линейным преобразованиям.\n",
        "\n",
        "Их индексы подматриц:\n",
        "\n",
        "`I` -- 0:32\n",
        "\n",
        "`F` -- 32:64\n",
        "\n",
        "`C` -- 64:96\n",
        "\n",
        "`O` -- 96:128\n",
        "\n",
        "Например, матрица весов (`kernel`) для слоя `fcHC` будет находиться в подматрице `lstm.weights[1][:, 64:96]`"
      ]
    },
    {
      "cell_type": "code",
      "source": [
        "# Рекуррентная нейросеть\n",
        "class LSTM(tf.keras.Model):\n",
        "    def __init__(self, h_size):\n",
        "        super().__init__()\n",
        "        self.h_size = h_size\n",
        "        self.lstm_cell = LSTMCell(h_size)\n",
        "        \n",
        "\n",
        "    def call(self, x_all):\n",
        "        batch, length, emb_size = x.shape\n",
        "        h = tf.zeros((batch, self.h_size))\n",
        "        c = tf.zeros((batch, self.h_size))\n",
        "        h_all = []\n",
        "        \n",
        "        for i in range(length):\n",
        "            h, c = self.lstm_cell(x_all[:, i, :], h, c)\n",
        "            #\n",
        "            h_all.append(h)\n",
        "            \n",
        "        h_all = tf.transpose(tf.stack(h_all), [1, 0, 2])\n",
        "        return h_all\n",
        "    \n",
        "lstm_my = LSTM(H_SIZE)"
      ],
      "metadata": {
        "id": "InE7iX6w1Y7D"
      },
      "execution_count": 16,
      "outputs": []
    },
    {
      "cell_type": "code",
      "source": [
        "y = lstm_my(x)\n",
        "print(y.shape)"
      ],
      "metadata": {
        "id": "6R9CJ8Bb3EH3",
        "outputId": "744a08e4-54db-484b-8954-62171d58ba43",
        "colab": {
          "base_uri": "https://localhost:8080/"
        }
      },
      "execution_count": 17,
      "outputs": [
        {
          "output_type": "stream",
          "name": "stdout",
          "text": [
            "(2, 100, 32)\n"
          ]
        }
      ]
    },
    {
      "cell_type": "code",
      "source": [
        "# Перед тем, как что-то присваивать в параметры модели, нужно чтобы они создались.\n",
        "# Для этого можно вызвать либо инференс с каким-то входом, либо model.build(...)\n",
        "\n",
        "lstm_my.lstm_cell.fcXI.kernel = lstm.weights[0][:, 0:32]\n",
        "lstm_my.lstm_cell.fcXF.kernel = lstm.weights[0][:, 32:64]\n",
        "lstm_my.lstm_cell.fcXC.kernel = lstm.weights[0][:, 64:96]\n",
        "lstm_my.lstm_cell.fcXO.kernel = lstm.weights[0][:, 96:128]\n",
        "\n",
        "lstm_my.lstm_cell.fcHI.kernel = lstm.weights[1][:, 0:32]\n",
        "lstm_my.lstm_cell.fcHF.kernel = lstm.weights[1][:, 32:64]\n",
        "lstm_my.lstm_cell.fcHC.kernel = lstm.weights[1][:, 64:96]\n",
        "lstm_my.lstm_cell.fcHO.kernel = lstm.weights[1][:, 96:128]\n",
        "\n",
        "lstm_my.lstm_cell.fcXI.bias = lstm.weights[2][0:32]\n",
        "lstm_my.lstm_cell.fcXF.bias = lstm.weights[2][32:64]\n",
        "lstm_my.lstm_cell.fcXC.bias = lstm.weights[2][64:96]\n",
        "lstm_my.lstm_cell.fcXO.bias = lstm.weights[2][96:128]\n",
        "\n",
        "y = lstm(x)\n",
        "y_my = lstm_my(x)\n",
        "\n",
        "print(np.max(np.abs(y.numpy() - y_my.numpy())))"
      ],
      "metadata": {
        "id": "rf-wMwrX4oiA",
        "outputId": "e587aef1-c76d-42d2-d3f1-a5a78f52cfb8",
        "colab": {
          "base_uri": "https://localhost:8080/"
        }
      },
      "execution_count": 18,
      "outputs": [
        {
          "output_type": "stream",
          "name": "stdout",
          "text": [
            "1.4901161e-07\n"
          ]
        }
      ]
    }
  ]
}