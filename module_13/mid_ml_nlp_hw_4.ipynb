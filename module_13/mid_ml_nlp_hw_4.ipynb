{
  "nbformat": 4,
  "nbformat_minor": 0,
  "metadata": {
    "kernelspec": {
      "display_name": "Python 3",
      "language": "python",
      "name": "python3"
    },
    "language_info": {
      "codemirror_mode": {
        "name": "ipython",
        "version": 3
      },
      "file_extension": ".py",
      "mimetype": "text/x-python",
      "name": "python",
      "nbconvert_exporter": "python",
      "pygments_lexer": "ipython3",
      "version": "3.6.3"
    },
    "colab": {
      "name": "mid_ml_nlp_hw-4.ipynb",
      "provenance": [],
      "collapsed_sections": [],
      "include_colab_link": true
    }
  },
  "cells": [
    {
      "cell_type": "markdown",
      "metadata": {
        "id": "view-in-github",
        "colab_type": "text"
      },
      "source": [
        "<a href=\"https://colab.research.google.com/github/vsolodkyi/NeuralNetworks_SkillBox/blob/main/module_13/mid_ml_nlp_hw_4.ipynb\" target=\"_parent\"><img src=\"https://colab.research.google.com/assets/colab-badge.svg\" alt=\"Open In Colab\"/></a>"
      ]
    },
    {
      "cell_type": "markdown",
      "metadata": {
        "id": "5SGn801yaveE"
      },
      "source": [
        "## Урок 4.\n",
        "\n",
        "### Задание начального уровня\n",
        "\n",
        "Обучите модель Skip-Gram (передав параметр `sg=1`. Какие top-10 слов больше всего похожи на слово `iphone` ?"
      ]
    },
    {
      "cell_type": "code",
      "metadata": {
        "id": "MKl_QAtOaved"
      },
      "source": [
        "from gensim.models import Word2Vec\n",
        "import logging\n",
        "\n",
        "logging.basicConfig(format='%(asctime)s : %(levelname)s : %(message)s', level=logging.INFO)\n",
        "\n",
        "### YOUR CODE HERE ###\n",
        "\n"
      ],
      "execution_count": 1,
      "outputs": []
    },
    {
      "cell_type": "code",
      "source": [
        "import pandas as pd"
      ],
      "metadata": {
        "id": "KXVW3pFBXHRn",
        "outputId": "4fbd8f29-4110-44a1-b373-33da0db3e41e",
        "colab": {
          "base_uri": "https://localhost:8080/"
        }
      },
      "execution_count": 2,
      "outputs": [
        {
          "output_type": "stream",
          "name": "stderr",
          "text": [
            "2022-08-07 12:52:17,433 : INFO : NumExpr defaulting to 2 threads.\n"
          ]
        }
      ]
    },
    {
      "cell_type": "code",
      "source": [
        "df = pd.read_csv('brand_tweets.csv', sep=',', encoding='utf8')\n",
        "df.drop(df[df.tweet_text.isnull()].index, inplace=True)"
      ],
      "metadata": {
        "id": "LtC4adkcXQNq"
      },
      "execution_count": 3,
      "outputs": []
    },
    {
      "cell_type": "code",
      "source": [
        "import nltk\n",
        "import string\n",
        "# дополнительный словарь со знаками пунктуации\n",
        "nltk.download('punkt', download_dir='.')"
      ],
      "metadata": {
        "id": "LtGNMVLUXkB5",
        "outputId": "673c519e-9b43-4d39-f0f5-6d799ce06f9a",
        "colab": {
          "base_uri": "https://localhost:8080/"
        }
      },
      "execution_count": 5,
      "outputs": [
        {
          "output_type": "stream",
          "name": "stderr",
          "text": [
            "[nltk_data] Downloading package punkt to ....\n",
            "[nltk_data]   Unzipping tokenizers/punkt.zip.\n"
          ]
        },
        {
          "output_type": "execute_result",
          "data": {
            "text/plain": [
              "True"
            ]
          },
          "metadata": {},
          "execution_count": 5
        }
      ]
    },
    {
      "cell_type": "code",
      "source": [
        "stop_words = [\n",
        "    'i', 'me', 'my', 'myself', 'we', 'our', 'ours', 'ourselves', 'you', \"you're\", \"you've\", \"you'll\", \"you'd\",\n",
        "    'your', 'yours', 'yourself', 'yourselves', 'he', 'him', 'his', 'himself', 'she', \"she's\", 'her', 'hers',\n",
        "    'herself', 'it', \"it's\", 'its', 'itself', 'they', 'them', 'their', 'theirs', 'themselves', 'what', 'which',\n",
        "    'who', 'whom', 'this', 'that', \"that'll\", 'these', 'those', 'am', 'is', 'are', 'was', 'were', 'be', 'been',\n",
        "    'being', 'have', 'has', 'had', 'having', 'do', 'does', 'did', 'doing', 'a', 'an', 'the', 'and', 'but', 'if',\n",
        "    'or', 'because', 'as', 'until', 'while', 'of', 'at', 'by', 'for', 'with', 'about', 'against', 'between',\n",
        "    'into', 'through', 'during', 'before', 'after', 'above', 'below', 'to', 'from', 'up', 'down', 'in', 'out',\n",
        "    'on', 'off', 'over', 'under', 'again', 'further', 'then', 'once', 'here', 'there', 'when', 'where', 'why',\n",
        "    'how', 'all', 'any', 'both', 'each', 'few', 'more', 'most', 'other', 'some', 'such', 'no', 'nor', 'not',\n",
        "    'only', 'own', 'same', 'so', 'than', 'too', 'very', 's', 't', 'can', 'will', 'just', 'don', \"don't\", 'shold',\n",
        "    \"should've\", 'now', 'd', 'll', 'm', 'o', 're', 've', 'y', 'ain', 'aren', \"aren't\", 'couldn', \"couldn't\",\n",
        "    'didn', \"didn't\", 'doesn', \"doesn't\", 'hadn', \"hadn't\", 'hasn', \"hasn't\", 'haven', \"haven't\", 'isn', \"isn't\",\n",
        "    'ma', 'mightn', \"mightn't\", 'mustn', \"mustn't\", 'needn', \"needn't\", 'shan', \"shan't\", 'shouldn', \"shouldn't\",\n",
        "    'wasn', \"wasn't\", 'weren', \"weren't\", 'won', \"won't\", 'wouldn', \"wouldn't\"\n",
        "]"
      ],
      "metadata": {
        "id": "HzvYhlNJXs6R"
      },
      "execution_count": 6,
      "outputs": []
    },
    {
      "cell_type": "code",
      "source": [
        "def tokenize_text(raw_text: str):\n",
        "    \"\"\"Функция для токенизации текста\n",
        "    \n",
        "    :param raw_text: исходная текстовая строка\n",
        "    \"\"\"\n",
        "    tokenized_str = nltk.word_tokenize(raw_text)\n",
        "    tokens = [i.lower() for i in tokenized_str if ( i not in string.punctuation )]\n",
        "    filtered_tokens = [i for i in tokens if ( i not in stop_words )]\n",
        "    return filtered_tokens\n",
        "\n",
        "# применяем функцию в датафрейму с помощью метода .apply()\n",
        "tokenized_tweets= df.tweet_text.apply(tokenize_text)\n",
        "\n",
        "# добавляем новую колонку в исходный датафрейм\n",
        "df = df.assign(\n",
        "    tokenized=tokenized_tweets\n",
        ")\n",
        "\n",
        "df.tokenized.head()"
      ],
      "metadata": {
        "id": "dvZRCyQ6XvWS",
        "outputId": "b2dcb156-9feb-40f1-f32c-a00e44e795fb",
        "colab": {
          "base_uri": "https://localhost:8080/"
        }
      },
      "execution_count": 7,
      "outputs": [
        {
          "output_type": "execute_result",
          "data": {
            "text/plain": [
              "0    [wesley83, 3g, iphone, 3, hrs, tweeting, rise_...\n",
              "1    [jessedee, know, fludapp, awesome, ipad/iphone...\n",
              "2    [swonderlin, wait, ipad, 2, also, should, sale...\n",
              "3    [sxsw, hope, year, 's, festival, n't, crashy, ...\n",
              "4    [sxtxstate, great, stuff, fri, sxsw, marissa, ...\n",
              "Name: tokenized, dtype: object"
            ]
          },
          "metadata": {},
          "execution_count": 7
        }
      ]
    },
    {
      "cell_type": "code",
      "source": [
        ""
      ],
      "metadata": {
        "id": "Kaf4wzLCXw_i"
      },
      "execution_count": null,
      "outputs": []
    },
    {
      "cell_type": "code",
      "source": [
        "\n",
        "\n",
        "texts = df.tokenized.values\n",
        "\n",
        "model = Word2Vec(texts, size=10, window=7, min_count=2, workers=4, iter=10, sg=1)"
      ],
      "metadata": {
        "id": "zJwiey6_W4nx",
        "outputId": "37b4fe3b-cd9d-4b56-cde2-10c95ef5b1e3",
        "colab": {
          "base_uri": "https://localhost:8080/"
        }
      },
      "execution_count": 8,
      "outputs": [
        {
          "output_type": "stream",
          "name": "stderr",
          "text": [
            "2022-08-07 12:55:02,226 : WARNING : consider setting layer size to a multiple of 4 for greater performance\n",
            "2022-08-07 12:55:02,230 : INFO : collecting all words and their counts\n",
            "2022-08-07 12:55:02,232 : INFO : PROGRESS: at sentence #0, processed 0 words, keeping 0 word types\n",
            "2022-08-07 12:55:02,250 : INFO : collected 7255 word types from a corpus of 48408 raw words and 3904 sentences\n",
            "2022-08-07 12:55:02,251 : INFO : Loading a fresh vocabulary\n",
            "2022-08-07 12:55:02,329 : INFO : effective_min_count=2 retains 3084 unique words (42% of original 7255, drops 4171)\n",
            "2022-08-07 12:55:02,331 : INFO : effective_min_count=2 leaves 44237 word corpus (91% of original 48408, drops 4171)\n",
            "2022-08-07 12:55:02,343 : INFO : deleting the raw counts dictionary of 7255 items\n",
            "2022-08-07 12:55:02,345 : INFO : sample=0.001 downsamples 40 most-common words\n",
            "2022-08-07 12:55:02,348 : INFO : downsampling leaves estimated 30599 word corpus (69.2% of prior 44237)\n",
            "2022-08-07 12:55:02,356 : INFO : estimated required memory for 3084 words and 10 dimensions: 1788720 bytes\n",
            "2022-08-07 12:55:02,358 : INFO : resetting layer weights\n",
            "2022-08-07 12:55:02,923 : INFO : training model with 4 workers on 3084 vocabulary and 10 features, using sg=1 hs=0 sample=0.001 negative=5 window=7\n",
            "2022-08-07 12:55:02,989 : INFO : worker thread finished; awaiting finish of 3 more threads\n",
            "2022-08-07 12:55:03,003 : INFO : worker thread finished; awaiting finish of 2 more threads\n",
            "2022-08-07 12:55:03,009 : INFO : worker thread finished; awaiting finish of 1 more threads\n",
            "2022-08-07 12:55:03,015 : INFO : worker thread finished; awaiting finish of 0 more threads\n",
            "2022-08-07 12:55:03,016 : INFO : EPOCH - 1 : training on 48408 raw words (30609 effective words) took 0.1s, 371493 effective words/s\n",
            "2022-08-07 12:55:03,088 : INFO : worker thread finished; awaiting finish of 3 more threads\n",
            "2022-08-07 12:55:03,093 : INFO : worker thread finished; awaiting finish of 2 more threads\n",
            "2022-08-07 12:55:03,094 : INFO : worker thread finished; awaiting finish of 1 more threads\n",
            "2022-08-07 12:55:03,114 : INFO : worker thread finished; awaiting finish of 0 more threads\n",
            "2022-08-07 12:55:03,115 : INFO : EPOCH - 2 : training on 48408 raw words (30647 effective words) took 0.1s, 350167 effective words/s\n",
            "2022-08-07 12:55:03,183 : INFO : worker thread finished; awaiting finish of 3 more threads\n",
            "2022-08-07 12:55:03,186 : INFO : worker thread finished; awaiting finish of 2 more threads\n",
            "2022-08-07 12:55:03,194 : INFO : worker thread finished; awaiting finish of 1 more threads\n",
            "2022-08-07 12:55:03,209 : INFO : worker thread finished; awaiting finish of 0 more threads\n",
            "2022-08-07 12:55:03,210 : INFO : EPOCH - 3 : training on 48408 raw words (30539 effective words) took 0.1s, 365461 effective words/s\n",
            "2022-08-07 12:55:03,285 : INFO : worker thread finished; awaiting finish of 3 more threads\n",
            "2022-08-07 12:55:03,289 : INFO : worker thread finished; awaiting finish of 2 more threads\n",
            "2022-08-07 12:55:03,291 : INFO : worker thread finished; awaiting finish of 1 more threads\n",
            "2022-08-07 12:55:03,309 : INFO : worker thread finished; awaiting finish of 0 more threads\n",
            "2022-08-07 12:55:03,311 : INFO : EPOCH - 4 : training on 48408 raw words (30633 effective words) took 0.1s, 358509 effective words/s\n",
            "2022-08-07 12:55:03,370 : INFO : worker thread finished; awaiting finish of 3 more threads\n",
            "2022-08-07 12:55:03,384 : INFO : worker thread finished; awaiting finish of 2 more threads\n",
            "2022-08-07 12:55:03,388 : INFO : worker thread finished; awaiting finish of 1 more threads\n",
            "2022-08-07 12:55:03,399 : INFO : worker thread finished; awaiting finish of 0 more threads\n",
            "2022-08-07 12:55:03,400 : INFO : EPOCH - 5 : training on 48408 raw words (30569 effective words) took 0.1s, 383893 effective words/s\n",
            "2022-08-07 12:55:03,476 : INFO : worker thread finished; awaiting finish of 3 more threads\n",
            "2022-08-07 12:55:03,478 : INFO : worker thread finished; awaiting finish of 2 more threads\n",
            "2022-08-07 12:55:03,483 : INFO : worker thread finished; awaiting finish of 1 more threads\n",
            "2022-08-07 12:55:03,497 : INFO : worker thread finished; awaiting finish of 0 more threads\n",
            "2022-08-07 12:55:03,498 : INFO : EPOCH - 6 : training on 48408 raw words (30584 effective words) took 0.1s, 347134 effective words/s\n",
            "2022-08-07 12:55:03,566 : INFO : worker thread finished; awaiting finish of 3 more threads\n",
            "2022-08-07 12:55:03,570 : INFO : worker thread finished; awaiting finish of 2 more threads\n",
            "2022-08-07 12:55:03,577 : INFO : worker thread finished; awaiting finish of 1 more threads\n",
            "2022-08-07 12:55:03,595 : INFO : worker thread finished; awaiting finish of 0 more threads\n",
            "2022-08-07 12:55:03,596 : INFO : EPOCH - 7 : training on 48408 raw words (30528 effective words) took 0.1s, 354357 effective words/s\n",
            "2022-08-07 12:55:03,666 : INFO : worker thread finished; awaiting finish of 3 more threads\n",
            "2022-08-07 12:55:03,671 : INFO : worker thread finished; awaiting finish of 2 more threads\n",
            "2022-08-07 12:55:03,674 : INFO : worker thread finished; awaiting finish of 1 more threads\n",
            "2022-08-07 12:55:03,689 : INFO : worker thread finished; awaiting finish of 0 more threads\n",
            "2022-08-07 12:55:03,691 : INFO : EPOCH - 8 : training on 48408 raw words (30644 effective words) took 0.1s, 367519 effective words/s\n",
            "2022-08-07 12:55:03,751 : INFO : worker thread finished; awaiting finish of 3 more threads\n",
            "2022-08-07 12:55:03,765 : INFO : worker thread finished; awaiting finish of 2 more threads\n",
            "2022-08-07 12:55:03,773 : INFO : worker thread finished; awaiting finish of 1 more threads\n",
            "2022-08-07 12:55:03,779 : INFO : worker thread finished; awaiting finish of 0 more threads\n",
            "2022-08-07 12:55:03,781 : INFO : EPOCH - 9 : training on 48408 raw words (30682 effective words) took 0.1s, 380172 effective words/s\n",
            "2022-08-07 12:55:03,850 : INFO : worker thread finished; awaiting finish of 3 more threads\n",
            "2022-08-07 12:55:03,857 : INFO : worker thread finished; awaiting finish of 2 more threads\n",
            "2022-08-07 12:55:03,861 : INFO : worker thread finished; awaiting finish of 1 more threads\n",
            "2022-08-07 12:55:03,879 : INFO : worker thread finished; awaiting finish of 0 more threads\n",
            "2022-08-07 12:55:03,880 : INFO : EPOCH - 10 : training on 48408 raw words (30561 effective words) took 0.1s, 339821 effective words/s\n",
            "2022-08-07 12:55:03,887 : INFO : training on a 484080 raw words (305996 effective words) took 1.0s, 318094 effective words/s\n"
          ]
        }
      ]
    },
    {
      "cell_type": "code",
      "source": [
        "model.wv.most_similar('android')"
      ],
      "metadata": {
        "id": "cbJL-mfYXGk6",
        "outputId": "4ef7ec3c-3964-4f28-9d93-516f6c7dc00c",
        "colab": {
          "base_uri": "https://localhost:8080/"
        }
      },
      "execution_count": 9,
      "outputs": [
        {
          "output_type": "stream",
          "name": "stderr",
          "text": [
            "2022-08-07 12:56:15,330 : INFO : precomputing L2-norms of word weight vectors\n"
          ]
        },
        {
          "output_type": "execute_result",
          "data": {
            "text/plain": [
              "[('team', 0.962506890296936),\n",
              " ('awards', 0.9521539211273193),\n",
              " ('choice', 0.948726236820221),\n",
              " ('working', 0.9354925155639648),\n",
              " ('andoid', 0.9248296022415161),\n",
              " ('ios', 0.9130396246910095),\n",
              " ('thanks', 0.8904908299446106),\n",
              " ('blackberry', 0.8773975372314453),\n",
              " ('concertgoers', 0.8738850951194763),\n",
              " ('bizzy', 0.8686618804931641)]"
            ]
          },
          "metadata": {},
          "execution_count": 9
        }
      ]
    }
  ]
}