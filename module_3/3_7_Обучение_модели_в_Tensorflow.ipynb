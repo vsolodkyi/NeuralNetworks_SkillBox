{
  "nbformat": 4,
  "nbformat_minor": 0,
  "metadata": {
    "colab": {
      "name": "3.7 Обучение модели в Tensorflow.ipynb",
      "provenance": [],
      "collapsed_sections": [],
      "include_colab_link": true
    },
    "kernelspec": {
      "name": "python3",
      "display_name": "Python 3"
    }
  },
  "cells": [
    {
      "cell_type": "markdown",
      "metadata": {
        "id": "view-in-github",
        "colab_type": "text"
      },
      "source": [
        "<a href=\"https://colab.research.google.com/github/vsolodkyi/NeuralNetworks_SkillBox/blob/main/module_3/3_7_%D0%9E%D0%B1%D1%83%D1%87%D0%B5%D0%BD%D0%B8%D0%B5_%D0%BC%D0%BE%D0%B4%D0%B5%D0%BB%D0%B8_%D0%B2_Tensorflow.ipynb\" target=\"_parent\"><img src=\"https://colab.research.google.com/assets/colab-badge.svg\" alt=\"Open In Colab\"/></a>"
      ]
    },
    {
      "cell_type": "markdown",
      "metadata": {
        "id": "6kuM0Ad00gEi"
      },
      "source": [
        "# Обучение модели в Tensorflow\n",
        "\n",
        "На прошлом уроке мы узнали, как описывать модель. Теперь мы должны понять как определять две другие важные составляющие пайплайна -- лосс функцию и оптимизатор. И наконец, понять как это все соединить вместе."
      ]
    },
    {
      "cell_type": "markdown",
      "metadata": {
        "id": "_w7jiv8kP7gM"
      },
      "source": [
        "##Определение лосс функции\n",
        "\n",
        "На протяжении курса вы познакомились как минимум с тремя типами функций потерь \n",
        "\n",
        "\n",
        "*   MSE (mean squared error) -- для задачи регрессии\n",
        "*   BCE (binary cross entropy) -- для задачи бинарной классификации\n",
        "*   Categorical cross entropy -- для задачи многоклассовой классификации\n",
        "\n",
        "Все они реализованы в Keras и находятся в tf.keras.losses:\n",
        "*   tf.keras.losses.MSE()\n",
        "*   tf.keras.losses.binary_crossentropy()\n",
        "*   tf.keras.losses.sparse_categorical_crossentropy()\n"
      ]
    },
    {
      "cell_type": "code",
      "metadata": {
        "id": "Q3jXmnKqR0N9"
      },
      "source": [
        "import tensorflow as tf\n",
        "#tf.enable_eager_execution()"
      ],
      "execution_count": null,
      "outputs": []
    },
    {
      "cell_type": "code",
      "metadata": {
        "id": "keC_WKagSTfB",
        "colab": {
          "base_uri": "https://localhost:8080/"
        },
        "outputId": "37d451b9-d4fd-4b6b-b59d-ffeecf65cb14"
      },
      "source": [
        "import numpy as np\n",
        "\n",
        "y_true = np.random.rand(10)\n",
        "y_pred = np.random.rand(10)\n",
        "\n",
        "# MSE\n",
        "# лосс функция принимает предсказанные значение и реальные, и возвращает значение, которое в идеале должно быть близко к 0 -- все просто\n",
        "print(tf.keras.losses.MSE(y_true=y_true, y_pred=y_pred))"
      ],
      "execution_count": null,
      "outputs": [
        {
          "output_type": "stream",
          "name": "stdout",
          "text": [
            "tf.Tensor(0.1334008721101027, shape=(), dtype=float64)\n"
          ]
        }
      ]
    },
    {
      "cell_type": "code",
      "metadata": {
        "id": "BWBW7YEVtrLW",
        "colab": {
          "base_uri": "https://localhost:8080/"
        },
        "outputId": "d0e13817-102d-44a2-9b5a-465584b06c95"
      },
      "source": [
        "# Можно проверить, правильно ли MSE реализована в Keras :)\n",
        "print(np.mean((y_true - y_pred)**2))"
      ],
      "execution_count": null,
      "outputs": [
        {
          "output_type": "stream",
          "name": "stdout",
          "text": [
            "0.1334008721101027\n"
          ]
        }
      ]
    },
    {
      "cell_type": "code",
      "metadata": {
        "id": "l3Qci-dpuQTP",
        "colab": {
          "base_uri": "https://localhost:8080/"
        },
        "outputId": "67be3e04-bf06-482b-f828-724780db5cbf"
      },
      "source": [
        "# BCE\n",
        "\n",
        "print(tf.keras.losses.binary_crossentropy(np.ones(10), np.ones(10)))\n",
        "\n",
        "loss = tf.keras.losses.BinaryCrossentropy()\n",
        "print(loss(np.ones(10), np.ones(10)))"
      ],
      "execution_count": null,
      "outputs": [
        {
          "output_type": "stream",
          "name": "stdout",
          "text": [
            "tf.Tensor(0.0, shape=(), dtype=float64)\n",
            "tf.Tensor(0.0, shape=(), dtype=float64)\n"
          ]
        }
      ]
    },
    {
      "cell_type": "markdown",
      "metadata": {
        "id": "c1K29G5sUdfM"
      },
      "source": [
        "Но у некоторых функций есть особенности -- например у sparse_categorical_crossentropy. Взгляните на ее сигнатуру ниже:\n",
        "\n",
        "*Если в Colab написать знак вопроса после функции, можно получить ее сигнатуру и описание входных переменных*"
      ]
    },
    {
      "cell_type": "code",
      "metadata": {
        "id": "d_wEdJ1IUbmn"
      },
      "source": [
        "tf.keras.losses.SparseCategoricalCrossentropy?\n",
        "\n",
        "# обратите внимание на from_logits=False, аналогично в tf.keras.losses.BinaryCrossentropy"
      ],
      "execution_count": null,
      "outputs": []
    },
    {
      "cell_type": "markdown",
      "metadata": {
        "id": "voKfQFwMVCEG"
      },
      "source": [
        "Обратите внимание, что она принимает дополнительный параметр -- from_logits. Здесь стоит напомнить, что данную лосс функцию можно считать двумя способами -- из предсказанных вероятностей и из предсказанных логитов. *Мы использовали этот трюк в последнем домашнем задании*. \n",
        "\n",
        "Напомню, что сеть изначально предсказывает логиты, и затем мы превращаем их в вероятности --  с помощью функции активации. Но т.к. мы знаем, что нам предстоит считать лосс, то мы можем не тратить \"силы\" на вычисление вероятностей и посчитать лосс основываясь на логитах (логарифм + экспонента сильно упрощают запись). Мы как бы перебросили активацию из слоя в лосс и оставили “голый” слой без активации. Такая запись проще и вычислительно более стабильная.\n",
        "\n",
        "\n",
        "**Важно помнить, что в случае использования логитов (from_logits=True), последний слой должен быть без активации. Это очень распространенная ошибка. Всегда помните об этом.**\n",
        "\n",
        "Ниже приведем небольшую шпаргалку о том, как комбинировать активацию последнего слоя с лосс функцией:"
      ]
    },
    {
      "cell_type": "markdown",
      "metadata": {
        "id": "DKTYJx1H0Bjn"
      },
      "source": [
        "*Для задачи классификации*\n",
        "![alt text](https://drive.google.com/uc?export=view&id=1meej-OaIyY4ix00j1zHtBQbkRpwwlA2f)\n",
        "![alt text](https://drive.google.com/uc?export=view&id=15XvkHAUN6z23RI1UgtBJe94sQ1KNlqiq)\n",
        "*Для задачи регрессии*\n",
        "![alt text](https://drive.google.com/uc?export=view&id=1gGkI7RO_tdyaMr8I77ia5BTkJ1kqzo7F)"
      ]
    },
    {
      "cell_type": "markdown",
      "metadata": {
        "id": "P9H8nw02WwR5"
      },
      "source": [
        "## Определение оптимизатора\n",
        "\n",
        "С оптимизатором -- все аналогично. Они живут в tf.keras.optimizers. Например:\n",
        "*  tf.keras.optimizers.Adam\n",
        "*  tf.keras.optimizers.SGD и многие другие.\n",
        "\n",
        "Каждый из оптимизаторов имеет свои параметры, но все разделяют общий -- learning rate."
      ]
    },
    {
      "cell_type": "code",
      "metadata": {
        "id": "FPrrLKMEXGAS",
        "colab": {
          "base_uri": "https://localhost:8080/"
        },
        "outputId": "a7903509-4357-4a5a-e6d3-233f0453f196"
      },
      "source": [
        "tf.keras.optimizers.Adam, tf.keras.optimizers.SGD()"
      ],
      "execution_count": null,
      "outputs": [
        {
          "output_type": "execute_result",
          "data": {
            "text/plain": [
              "(keras.optimizer_v2.adam.Adam,\n",
              " <keras.optimizer_v2.gradient_descent.SGD at 0x7ff2295912d0>)"
            ]
          },
          "metadata": {},
          "execution_count": 7
        }
      ]
    },
    {
      "cell_type": "markdown",
      "metadata": {
        "id": "VpSOIHLeDRk3"
      },
      "source": [
        "# Собираем все вместе"
      ]
    },
    {
      "cell_type": "markdown",
      "metadata": {
        "id": "Md5HvWF1ZaDg"
      },
      "source": [
        "##Задача регрессии\n",
        "\n",
        "Рассмотрим простую задачу определения коэффициентов зависимости шкалы фаренгейта от цельсия. Это классическая формулировка задачи линейной регрессии. Известно, что эта зависимость линейная -- давайте посчитаем ее параметры, исходя из данных:"
      ]
    },
    {
      "cell_type": "code",
      "metadata": {
        "id": "vI9GVZ8hePYG",
        "colab": {
          "base_uri": "https://localhost:8080/"
        },
        "outputId": "7ae46d0d-d02e-489f-af2e-4ab3856726b5"
      },
      "source": [
        "import tensorflow as tf\n",
        "import numpy as np\n",
        "\n",
        "print(tf.__version__)\n",
        "\n",
        "# определим наш скромный датасет\n",
        "celsius = np.array([-10, -40, 10, 20, 36, 5, -12, 14, 36]).astype(np.float32)\n",
        "fahrenheit = np.array([14., -40., 50., 68., 96.8, 41., 10.4, 57.2, 96.8])"
      ],
      "execution_count": null,
      "outputs": [
        {
          "output_type": "stream",
          "name": "stdout",
          "text": [
            "2.7.0\n"
          ]
        }
      ]
    },
    {
      "cell_type": "code",
      "metadata": {
        "id": "_mL-sD-a7nqq"
      },
      "source": [
        "model = tf.keras.Sequential() # модель состоит из одного слоя с одним выходом и входом.\n",
        "model.add(tf.keras.layers.Dense(1, input_shape=(1,)))\n",
        "\n",
        "optimizer = tf.keras.optimizers.Adam(learning_rate=0.5) \n",
        "loss = tf.keras.losses.MSE"
      ],
      "execution_count": null,
      "outputs": []
    },
    {
      "cell_type": "code",
      "metadata": {
        "id": "npUkFJECUaiu"
      },
      "source": [
        "# cледующий шаг -- компиляция модели: \"связываем\" модель, оптимайзер и лосс\n",
        "model.compile(optimizer=optimizer, loss=loss) "
      ],
      "execution_count": null,
      "outputs": []
    },
    {
      "cell_type": "code",
      "metadata": {
        "id": "qbp6B-bB5aWG"
      },
      "source": [
        "# и наконец, обучение модели с помощью метода model.fit.\n",
        "\n",
        "model.fit?"
      ],
      "execution_count": null,
      "outputs": []
    },
    {
      "cell_type": "markdown",
      "metadata": {
        "id": "e8Y2pZX26HWL"
      },
      "source": [
        " Сигнатура выглядит следующим образом (часть параметров, которые мы не будем использовать в ближайшее время скрыта).\n",
        "\n",
        "```\n",
        "model.fit(x=None, y=None, batch_size=None, epochs=1, validation_data=None, shuffle=True, ...)\n",
        "```\n",
        "\n",
        "*   x, y -- обучающая выборка, входные признаки и ответы\n",
        "*   batch_size -- размер батча при обучении\n",
        "*   epochs -- количество эпох\n",
        "*   validation_data -- данные для валидации, например, (x_val, y_val)\n",
        "*   shuffle -- перемешивать данные при обучении или нет\n",
        "\n",
        "\n"
      ]
    },
    {
      "cell_type": "code",
      "metadata": {
        "id": "5V2WZp6F5yCG",
        "colab": {
          "base_uri": "https://localhost:8080/"
        },
        "outputId": "aa892e0a-e271-401e-cf22-204904fbb8ba"
      },
      "source": [
        "history = model.fit(celsius, fahrenheit, epochs=200, verbose=2)"
      ],
      "execution_count": null,
      "outputs": [
        {
          "output_type": "stream",
          "name": "stdout",
          "text": [
            "Epoch 1/200\n",
            "1/1 - 0s - loss: 7640.4473 - 437ms/epoch - 437ms/step\n",
            "Epoch 2/200\n",
            "1/1 - 0s - loss: 5776.8447 - 3ms/epoch - 3ms/step\n",
            "Epoch 3/200\n",
            "1/1 - 0s - loss: 4217.0347 - 5ms/epoch - 5ms/step\n",
            "Epoch 4/200\n",
            "1/1 - 0s - loss: 2962.4771 - 5ms/epoch - 5ms/step\n",
            "Epoch 5/200\n",
            "1/1 - 0s - loss: 2008.5415 - 3ms/epoch - 3ms/step\n",
            "Epoch 6/200\n",
            "1/1 - 0s - loss: 1342.1241 - 3ms/epoch - 3ms/step\n",
            "Epoch 7/200\n",
            "1/1 - 0s - loss: 939.2366 - 4ms/epoch - 4ms/step\n",
            "Epoch 8/200\n",
            "1/1 - 0s - loss: 763.1962 - 2ms/epoch - 2ms/step\n",
            "Epoch 9/200\n",
            "1/1 - 0s - loss: 764.6826 - 5ms/epoch - 5ms/step\n",
            "Epoch 10/200\n",
            "1/1 - 0s - loss: 884.9651 - 3ms/epoch - 3ms/step\n",
            "Epoch 11/200\n",
            "1/1 - 0s - loss: 1062.5999 - 4ms/epoch - 4ms/step\n",
            "Epoch 12/200\n",
            "1/1 - 0s - loss: 1242.0554 - 3ms/epoch - 3ms/step\n",
            "Epoch 13/200\n",
            "1/1 - 0s - loss: 1381.2677 - 4ms/epoch - 4ms/step\n",
            "Epoch 14/200\n",
            "1/1 - 0s - loss: 1455.5226 - 10ms/epoch - 10ms/step\n",
            "Epoch 15/200\n",
            "1/1 - 0s - loss: 1457.0801 - 7ms/epoch - 7ms/step\n",
            "Epoch 16/200\n",
            "1/1 - 0s - loss: 1391.7859 - 5ms/epoch - 5ms/step\n",
            "Epoch 17/200\n",
            "1/1 - 0s - loss: 1274.4758 - 3ms/epoch - 3ms/step\n",
            "Epoch 18/200\n",
            "1/1 - 0s - loss: 1124.5288 - 3ms/epoch - 3ms/step\n",
            "Epoch 19/200\n",
            "1/1 - 0s - loss: 962.1990 - 3ms/epoch - 3ms/step\n",
            "Epoch 20/200\n",
            "1/1 - 0s - loss: 805.8702 - 3ms/epoch - 3ms/step\n",
            "Epoch 21/200\n",
            "1/1 - 0s - loss: 670.1663 - 3ms/epoch - 3ms/step\n",
            "Epoch 22/200\n",
            "1/1 - 0s - loss: 564.8079 - 4ms/epoch - 4ms/step\n",
            "Epoch 23/200\n",
            "1/1 - 0s - loss: 494.1473 - 3ms/epoch - 3ms/step\n",
            "Epoch 24/200\n",
            "1/1 - 0s - loss: 457.3453 - 4ms/epoch - 4ms/step\n",
            "Epoch 25/200\n",
            "1/1 - 0s - loss: 449.1550 - 3ms/epoch - 3ms/step\n",
            "Epoch 26/200\n",
            "1/1 - 0s - loss: 461.2137 - 2ms/epoch - 2ms/step\n",
            "Epoch 27/200\n",
            "1/1 - 0s - loss: 483.6659 - 4ms/epoch - 4ms/step\n",
            "Epoch 28/200\n",
            "1/1 - 0s - loss: 506.8518 - 4ms/epoch - 4ms/step\n",
            "Epoch 29/200\n",
            "1/1 - 0s - loss: 522.7769 - 3ms/epoch - 3ms/step\n",
            "Epoch 30/200\n",
            "1/1 - 0s - loss: 526.1206 - 2ms/epoch - 2ms/step\n",
            "Epoch 31/200\n",
            "1/1 - 0s - loss: 514.6618 - 6ms/epoch - 6ms/step\n",
            "Epoch 32/200\n",
            "1/1 - 0s - loss: 489.1312 - 3ms/epoch - 3ms/step\n",
            "Epoch 33/200\n",
            "1/1 - 0s - loss: 452.6047 - 4ms/epoch - 4ms/step\n",
            "Epoch 34/200\n",
            "1/1 - 0s - loss: 409.6212 - 6ms/epoch - 6ms/step\n",
            "Epoch 35/200\n",
            "1/1 - 0s - loss: 365.2075 - 5ms/epoch - 5ms/step\n",
            "Epoch 36/200\n",
            "1/1 - 0s - loss: 323.9808 - 4ms/epoch - 4ms/step\n",
            "Epoch 37/200\n",
            "1/1 - 0s - loss: 289.4477 - 2ms/epoch - 2ms/step\n",
            "Epoch 38/200\n",
            "1/1 - 0s - loss: 263.5828 - 5ms/epoch - 5ms/step\n",
            "Epoch 39/200\n",
            "1/1 - 0s - loss: 246.7132 - 2ms/epoch - 2ms/step\n",
            "Epoch 40/200\n",
            "1/1 - 0s - loss: 237.6929 - 4ms/epoch - 4ms/step\n",
            "Epoch 41/200\n",
            "1/1 - 0s - loss: 234.3074 - 2ms/epoch - 2ms/step\n",
            "Epoch 42/200\n",
            "1/1 - 0s - loss: 233.8114 - 4ms/epoch - 4ms/step\n",
            "Epoch 43/200\n",
            "1/1 - 0s - loss: 233.4919 - 2ms/epoch - 2ms/step\n",
            "Epoch 44/200\n",
            "1/1 - 0s - loss: 231.1493 - 2ms/epoch - 2ms/step\n",
            "Epoch 45/200\n",
            "1/1 - 0s - loss: 225.4169 - 5ms/epoch - 5ms/step\n",
            "Epoch 46/200\n",
            "1/1 - 0s - loss: 215.8810 - 2ms/epoch - 2ms/step\n",
            "Epoch 47/200\n",
            "1/1 - 0s - loss: 203.0049 - 2ms/epoch - 2ms/step\n",
            "Epoch 48/200\n",
            "1/1 - 0s - loss: 187.9013 - 5ms/epoch - 5ms/step\n",
            "Epoch 49/200\n",
            "1/1 - 0s - loss: 172.0165 - 3ms/epoch - 3ms/step\n",
            "Epoch 50/200\n",
            "1/1 - 0s - loss: 156.7976 - 2ms/epoch - 2ms/step\n",
            "Epoch 51/200\n",
            "1/1 - 0s - loss: 143.4113 - 4ms/epoch - 4ms/step\n",
            "Epoch 52/200\n",
            "1/1 - 0s - loss: 132.5562 - 4ms/epoch - 4ms/step\n",
            "Epoch 53/200\n",
            "1/1 - 0s - loss: 124.3948 - 4ms/epoch - 4ms/step\n",
            "Epoch 54/200\n",
            "1/1 - 0s - loss: 118.6006 - 2ms/epoch - 2ms/step\n",
            "Epoch 55/200\n",
            "1/1 - 0s - loss: 114.4956 - 4ms/epoch - 4ms/step\n",
            "Epoch 56/200\n",
            "1/1 - 0s - loss: 111.2392 - 3ms/epoch - 3ms/step\n",
            "Epoch 57/200\n",
            "1/1 - 0s - loss: 108.0223 - 5ms/epoch - 5ms/step\n",
            "Epoch 58/200\n",
            "1/1 - 0s - loss: 104.2269 - 2ms/epoch - 2ms/step\n",
            "Epoch 59/200\n",
            "1/1 - 0s - loss: 99.5215 - 5ms/epoch - 5ms/step\n",
            "Epoch 60/200\n",
            "1/1 - 0s - loss: 93.8832 - 2ms/epoch - 2ms/step\n",
            "Epoch 61/200\n",
            "1/1 - 0s - loss: 87.5501 - 5ms/epoch - 5ms/step\n",
            "Epoch 62/200\n",
            "1/1 - 0s - loss: 80.9270 - 10ms/epoch - 10ms/step\n",
            "Epoch 63/200\n",
            "1/1 - 0s - loss: 74.4685 - 5ms/epoch - 5ms/step\n",
            "Epoch 64/200\n",
            "1/1 - 0s - loss: 68.5703 - 4ms/epoch - 4ms/step\n",
            "Epoch 65/200\n",
            "1/1 - 0s - loss: 63.4903 - 4ms/epoch - 4ms/step\n",
            "Epoch 66/200\n",
            "1/1 - 0s - loss: 59.3109 - 2ms/epoch - 2ms/step\n",
            "Epoch 67/200\n",
            "1/1 - 0s - loss: 55.9472 - 5ms/epoch - 5ms/step\n",
            "Epoch 68/200\n",
            "1/1 - 0s - loss: 53.1910 - 2ms/epoch - 2ms/step\n",
            "Epoch 69/200\n",
            "1/1 - 0s - loss: 50.7752 - 2ms/epoch - 2ms/step\n",
            "Epoch 70/200\n",
            "1/1 - 0s - loss: 48.4424 - 4ms/epoch - 4ms/step\n",
            "Epoch 71/200\n",
            "1/1 - 0s - loss: 46.0006 - 4ms/epoch - 4ms/step\n",
            "Epoch 72/200\n",
            "1/1 - 0s - loss: 43.3543 - 4ms/epoch - 4ms/step\n",
            "Epoch 73/200\n",
            "1/1 - 0s - loss: 40.5101 - 2ms/epoch - 2ms/step\n",
            "Epoch 74/200\n",
            "1/1 - 0s - loss: 37.5558 - 4ms/epoch - 4ms/step\n",
            "Epoch 75/200\n",
            "1/1 - 0s - loss: 34.6251 - 4ms/epoch - 4ms/step\n",
            "Epoch 76/200\n",
            "1/1 - 0s - loss: 31.8569 - 6ms/epoch - 6ms/step\n",
            "Epoch 77/200\n",
            "1/1 - 0s - loss: 29.3592 - 4ms/epoch - 4ms/step\n",
            "Epoch 78/200\n",
            "1/1 - 0s - loss: 27.1870 - 5ms/epoch - 5ms/step\n",
            "Epoch 79/200\n",
            "1/1 - 0s - loss: 25.3363 - 5ms/epoch - 5ms/step\n",
            "Epoch 80/200\n",
            "1/1 - 0s - loss: 23.7530 - 2ms/epoch - 2ms/step\n",
            "Epoch 81/200\n",
            "1/1 - 0s - loss: 22.3537 - 5ms/epoch - 5ms/step\n",
            "Epoch 82/200\n",
            "1/1 - 0s - loss: 21.0494 - 2ms/epoch - 2ms/step\n",
            "Epoch 83/200\n",
            "1/1 - 0s - loss: 19.7674 - 5ms/epoch - 5ms/step\n",
            "Epoch 84/200\n",
            "1/1 - 0s - loss: 18.4653 - 2ms/epoch - 2ms/step\n",
            "Epoch 85/200\n",
            "1/1 - 0s - loss: 17.1358 - 5ms/epoch - 5ms/step\n",
            "Epoch 86/200\n",
            "1/1 - 0s - loss: 15.8013 - 2ms/epoch - 2ms/step\n",
            "Epoch 87/200\n",
            "1/1 - 0s - loss: 14.5019 - 5ms/epoch - 5ms/step\n",
            "Epoch 88/200\n",
            "1/1 - 0s - loss: 13.2814 - 2ms/epoch - 2ms/step\n",
            "Epoch 89/200\n",
            "1/1 - 0s - loss: 12.1739 - 5ms/epoch - 5ms/step\n",
            "Epoch 90/200\n",
            "1/1 - 0s - loss: 11.1960 - 2ms/epoch - 2ms/step\n",
            "Epoch 91/200\n",
            "1/1 - 0s - loss: 10.3442 - 5ms/epoch - 5ms/step\n",
            "Epoch 92/200\n",
            "1/1 - 0s - loss: 9.5983 - 2ms/epoch - 2ms/step\n",
            "Epoch 93/200\n",
            "1/1 - 0s - loss: 8.9286 - 5ms/epoch - 5ms/step\n",
            "Epoch 94/200\n",
            "1/1 - 0s - loss: 8.3047 - 2ms/epoch - 2ms/step\n",
            "Epoch 95/200\n",
            "1/1 - 0s - loss: 7.7025 - 5ms/epoch - 5ms/step\n",
            "Epoch 96/200\n",
            "1/1 - 0s - loss: 7.1095 - 2ms/epoch - 2ms/step\n",
            "Epoch 97/200\n",
            "1/1 - 0s - loss: 6.5246 - 2ms/epoch - 2ms/step\n",
            "Epoch 98/200\n",
            "1/1 - 0s - loss: 5.9565 - 3ms/epoch - 3ms/step\n",
            "Epoch 99/200\n",
            "1/1 - 0s - loss: 5.4183 - 5ms/epoch - 5ms/step\n",
            "Epoch 100/200\n",
            "1/1 - 0s - loss: 4.9230 - 5ms/epoch - 5ms/step\n",
            "Epoch 101/200\n",
            "1/1 - 0s - loss: 4.4789 - 4ms/epoch - 4ms/step\n",
            "Epoch 102/200\n",
            "1/1 - 0s - loss: 4.0878 - 3ms/epoch - 3ms/step\n",
            "Epoch 103/200\n",
            "1/1 - 0s - loss: 3.7448 - 4ms/epoch - 4ms/step\n",
            "Epoch 104/200\n",
            "1/1 - 0s - loss: 3.4404 - 4ms/epoch - 4ms/step\n",
            "Epoch 105/200\n",
            "1/1 - 0s - loss: 3.1633 - 5ms/epoch - 5ms/step\n",
            "Epoch 106/200\n",
            "1/1 - 0s - loss: 2.9037 - 3ms/epoch - 3ms/step\n",
            "Epoch 107/200\n",
            "1/1 - 0s - loss: 2.6549 - 3ms/epoch - 3ms/step\n",
            "Epoch 108/200\n",
            "1/1 - 0s - loss: 2.4146 - 4ms/epoch - 4ms/step\n",
            "Epoch 109/200\n",
            "1/1 - 0s - loss: 2.1842 - 4ms/epoch - 4ms/step\n",
            "Epoch 110/200\n",
            "1/1 - 0s - loss: 1.9675 - 3ms/epoch - 3ms/step\n",
            "Epoch 111/200\n",
            "1/1 - 0s - loss: 1.7686 - 2ms/epoch - 2ms/step\n",
            "Epoch 112/200\n",
            "1/1 - 0s - loss: 1.5903 - 2ms/epoch - 2ms/step\n",
            "Epoch 113/200\n",
            "1/1 - 0s - loss: 1.4335 - 4ms/epoch - 4ms/step\n",
            "Epoch 114/200\n",
            "1/1 - 0s - loss: 1.2965 - 3ms/epoch - 3ms/step\n",
            "Epoch 115/200\n",
            "1/1 - 0s - loss: 1.1759 - 5ms/epoch - 5ms/step\n",
            "Epoch 116/200\n",
            "1/1 - 0s - loss: 1.0676 - 4ms/epoch - 4ms/step\n",
            "Epoch 117/200\n",
            "1/1 - 0s - loss: 0.9677 - 2ms/epoch - 2ms/step\n",
            "Epoch 118/200\n",
            "1/1 - 0s - loss: 0.8736 - 4ms/epoch - 4ms/step\n",
            "Epoch 119/200\n",
            "1/1 - 0s - loss: 0.7842 - 2ms/epoch - 2ms/step\n",
            "Epoch 120/200\n",
            "1/1 - 0s - loss: 0.6998 - 3ms/epoch - 3ms/step\n",
            "Epoch 121/200\n",
            "1/1 - 0s - loss: 0.6215 - 5ms/epoch - 5ms/step\n",
            "Epoch 122/200\n",
            "1/1 - 0s - loss: 0.5506 - 6ms/epoch - 6ms/step\n",
            "Epoch 123/200\n",
            "1/1 - 0s - loss: 0.4878 - 3ms/epoch - 3ms/step\n",
            "Epoch 124/200\n",
            "1/1 - 0s - loss: 0.4333 - 5ms/epoch - 5ms/step\n",
            "Epoch 125/200\n",
            "1/1 - 0s - loss: 0.3862 - 5ms/epoch - 5ms/step\n",
            "Epoch 126/200\n",
            "1/1 - 0s - loss: 0.3452 - 5ms/epoch - 5ms/step\n",
            "Epoch 127/200\n",
            "1/1 - 0s - loss: 0.3088 - 3ms/epoch - 3ms/step\n",
            "Epoch 128/200\n",
            "1/1 - 0s - loss: 0.2755 - 5ms/epoch - 5ms/step\n",
            "Epoch 129/200\n",
            "1/1 - 0s - loss: 0.2444 - 5ms/epoch - 5ms/step\n",
            "Epoch 130/200\n",
            "1/1 - 0s - loss: 0.2153 - 5ms/epoch - 5ms/step\n",
            "Epoch 131/200\n",
            "1/1 - 0s - loss: 0.1883 - 3ms/epoch - 3ms/step\n",
            "Epoch 132/200\n",
            "1/1 - 0s - loss: 0.1637 - 5ms/epoch - 5ms/step\n",
            "Epoch 133/200\n",
            "1/1 - 0s - loss: 0.1420 - 6ms/epoch - 6ms/step\n",
            "Epoch 134/200\n",
            "1/1 - 0s - loss: 0.1232 - 3ms/epoch - 3ms/step\n",
            "Epoch 135/200\n",
            "1/1 - 0s - loss: 0.1073 - 3ms/epoch - 3ms/step\n",
            "Epoch 136/200\n",
            "1/1 - 0s - loss: 0.0939 - 5ms/epoch - 5ms/step\n",
            "Epoch 137/200\n",
            "1/1 - 0s - loss: 0.0824 - 3ms/epoch - 3ms/step\n",
            "Epoch 138/200\n",
            "1/1 - 0s - loss: 0.0723 - 4ms/epoch - 4ms/step\n",
            "Epoch 139/200\n",
            "1/1 - 0s - loss: 0.0630 - 3ms/epoch - 3ms/step\n",
            "Epoch 140/200\n",
            "1/1 - 0s - loss: 0.0544 - 5ms/epoch - 5ms/step\n",
            "Epoch 141/200\n",
            "1/1 - 0s - loss: 0.0465 - 4ms/epoch - 4ms/step\n",
            "Epoch 142/200\n",
            "1/1 - 0s - loss: 0.0393 - 3ms/epoch - 3ms/step\n",
            "Epoch 143/200\n",
            "1/1 - 0s - loss: 0.0329 - 4ms/epoch - 4ms/step\n",
            "Epoch 144/200\n",
            "1/1 - 0s - loss: 0.0276 - 5ms/epoch - 5ms/step\n",
            "Epoch 145/200\n",
            "1/1 - 0s - loss: 0.0232 - 3ms/epoch - 3ms/step\n",
            "Epoch 146/200\n",
            "1/1 - 0s - loss: 0.0196 - 4ms/epoch - 4ms/step\n",
            "Epoch 147/200\n",
            "1/1 - 0s - loss: 0.0167 - 3ms/epoch - 3ms/step\n",
            "Epoch 148/200\n",
            "1/1 - 0s - loss: 0.0143 - 2ms/epoch - 2ms/step\n",
            "Epoch 149/200\n",
            "1/1 - 0s - loss: 0.0121 - 4ms/epoch - 4ms/step\n",
            "Epoch 150/200\n",
            "1/1 - 0s - loss: 0.0101 - 4ms/epoch - 4ms/step\n",
            "Epoch 151/200\n",
            "1/1 - 0s - loss: 0.0083 - 6ms/epoch - 6ms/step\n",
            "Epoch 152/200\n",
            "1/1 - 0s - loss: 0.0066 - 3ms/epoch - 3ms/step\n",
            "Epoch 153/200\n",
            "1/1 - 0s - loss: 0.0052 - 2ms/epoch - 2ms/step\n",
            "Epoch 154/200\n",
            "1/1 - 0s - loss: 0.0040 - 4ms/epoch - 4ms/step\n",
            "Epoch 155/200\n",
            "1/1 - 0s - loss: 0.0031 - 5ms/epoch - 5ms/step\n",
            "Epoch 156/200\n",
            "1/1 - 0s - loss: 0.0024 - 4ms/epoch - 4ms/step\n",
            "Epoch 157/200\n",
            "1/1 - 0s - loss: 0.0020 - 3ms/epoch - 3ms/step\n",
            "Epoch 158/200\n",
            "1/1 - 0s - loss: 0.0016 - 3ms/epoch - 3ms/step\n",
            "Epoch 159/200\n",
            "1/1 - 0s - loss: 0.0013 - 3ms/epoch - 3ms/step\n",
            "Epoch 160/200\n",
            "1/1 - 0s - loss: 0.0011 - 3ms/epoch - 3ms/step\n",
            "Epoch 161/200\n",
            "1/1 - 0s - loss: 7.8187e-04 - 2ms/epoch - 2ms/step\n",
            "Epoch 162/200\n",
            "1/1 - 0s - loss: 5.2460e-04 - 3ms/epoch - 3ms/step\n",
            "Epoch 163/200\n",
            "1/1 - 0s - loss: 3.0784e-04 - 3ms/epoch - 3ms/step\n",
            "Epoch 164/200\n",
            "1/1 - 0s - loss: 1.5224e-04 - 5ms/epoch - 5ms/step\n",
            "Epoch 165/200\n",
            "1/1 - 0s - loss: 6.5542e-05 - 5ms/epoch - 5ms/step\n",
            "Epoch 166/200\n",
            "1/1 - 0s - loss: 4.0063e-05 - 7ms/epoch - 7ms/step\n",
            "Epoch 167/200\n",
            "1/1 - 0s - loss: 5.5881e-05 - 2ms/epoch - 2ms/step\n",
            "Epoch 168/200\n",
            "1/1 - 0s - loss: 8.8364e-05 - 4ms/epoch - 4ms/step\n",
            "Epoch 169/200\n",
            "1/1 - 0s - loss: 1.1676e-04 - 3ms/epoch - 3ms/step\n",
            "Epoch 170/200\n",
            "1/1 - 0s - loss: 1.2943e-04 - 4ms/epoch - 4ms/step\n",
            "Epoch 171/200\n",
            "1/1 - 0s - loss: 1.2572e-04 - 4ms/epoch - 4ms/step\n",
            "Epoch 172/200\n",
            "1/1 - 0s - loss: 1.1308e-04 - 6ms/epoch - 6ms/step\n",
            "Epoch 173/200\n",
            "1/1 - 0s - loss: 1.0245e-04 - 5ms/epoch - 5ms/step\n",
            "Epoch 174/200\n",
            "1/1 - 0s - loss: 1.0289e-04 - 9ms/epoch - 9ms/step\n",
            "Epoch 175/200\n",
            "1/1 - 0s - loss: 1.1809e-04 - 2ms/epoch - 2ms/step\n",
            "Epoch 176/200\n",
            "1/1 - 0s - loss: 1.4557e-04 - 2ms/epoch - 2ms/step\n",
            "Epoch 177/200\n",
            "1/1 - 0s - loss: 1.7858e-04 - 4ms/epoch - 4ms/step\n",
            "Epoch 178/200\n",
            "1/1 - 0s - loss: 2.0908e-04 - 3ms/epoch - 3ms/step\n",
            "Epoch 179/200\n",
            "1/1 - 0s - loss: 2.3069e-04 - 3ms/epoch - 3ms/step\n",
            "Epoch 180/200\n",
            "1/1 - 0s - loss: 2.4114e-04 - 4ms/epoch - 4ms/step\n",
            "Epoch 181/200\n",
            "1/1 - 0s - loss: 2.4161e-04 - 4ms/epoch - 4ms/step\n",
            "Epoch 182/200\n",
            "1/1 - 0s - loss: 2.3646e-04 - 5ms/epoch - 5ms/step\n",
            "Epoch 183/200\n",
            "1/1 - 0s - loss: 2.3032e-04 - 2ms/epoch - 2ms/step\n",
            "Epoch 184/200\n",
            "1/1 - 0s - loss: 2.2672e-04 - 5ms/epoch - 5ms/step\n",
            "Epoch 185/200\n",
            "1/1 - 0s - loss: 2.2692e-04 - 2ms/epoch - 2ms/step\n",
            "Epoch 186/200\n",
            "1/1 - 0s - loss: 2.2968e-04 - 5ms/epoch - 5ms/step\n",
            "Epoch 187/200\n",
            "1/1 - 0s - loss: 2.3251e-04 - 3ms/epoch - 3ms/step\n",
            "Epoch 188/200\n",
            "1/1 - 0s - loss: 2.3274e-04 - 4ms/epoch - 4ms/step\n",
            "Epoch 189/200\n",
            "1/1 - 0s - loss: 2.2872e-04 - 9ms/epoch - 9ms/step\n",
            "Epoch 190/200\n",
            "1/1 - 0s - loss: 2.2029e-04 - 3ms/epoch - 3ms/step\n",
            "Epoch 191/200\n",
            "1/1 - 0s - loss: 2.0874e-04 - 4ms/epoch - 4ms/step\n",
            "Epoch 192/200\n",
            "1/1 - 0s - loss: 1.9602e-04 - 2ms/epoch - 2ms/step\n",
            "Epoch 193/200\n",
            "1/1 - 0s - loss: 1.8395e-04 - 3ms/epoch - 3ms/step\n",
            "Epoch 194/200\n",
            "1/1 - 0s - loss: 1.7355e-04 - 2ms/epoch - 2ms/step\n",
            "Epoch 195/200\n",
            "1/1 - 0s - loss: 1.6489e-04 - 5ms/epoch - 5ms/step\n",
            "Epoch 196/200\n",
            "1/1 - 0s - loss: 1.5733e-04 - 2ms/epoch - 2ms/step\n",
            "Epoch 197/200\n",
            "1/1 - 0s - loss: 1.4983e-04 - 5ms/epoch - 5ms/step\n",
            "Epoch 198/200\n",
            "1/1 - 0s - loss: 1.4150e-04 - 2ms/epoch - 2ms/step\n",
            "Epoch 199/200\n",
            "1/1 - 0s - loss: 1.3204e-04 - 5ms/epoch - 5ms/step\n",
            "Epoch 200/200\n",
            "1/1 - 0s - loss: 1.2158e-04 - 2ms/epoch - 2ms/step\n"
          ]
        }
      ]
    },
    {
      "cell_type": "markdown",
      "metadata": {
        "id": "GCtVaWoWVMWJ"
      },
      "source": [
        "Модель обучена. Для того, чтобы узнать итоговые коэффициенты, воcпользуемся model.get_weights()"
      ]
    },
    {
      "cell_type": "code",
      "metadata": {
        "id": "J1-lyp2dVLDF",
        "colab": {
          "base_uri": "https://localhost:8080/"
        },
        "outputId": "b4912421-54f1-4e05-d906-352fbca60ceb"
      },
      "source": [
        "model.get_weights()"
      ],
      "execution_count": null,
      "outputs": [
        {
          "output_type": "execute_result",
          "data": {
            "text/plain": [
              "[array([[-1.2516521]], dtype=float32), array([0.], dtype=float32)]"
            ]
          },
          "metadata": {},
          "execution_count": 13
        }
      ]
    },
    {
      "cell_type": "markdown",
      "metadata": {
        "id": "4H7kG-de3iBa"
      },
      "source": [
        "В реальности эти две шкалы связаны формулой:\n",
        "$$\n",
        "F = 1.8C + 32\n",
        "$$"
      ]
    },
    {
      "cell_type": "markdown",
      "metadata": {
        "id": "uNX3rwFXVnzx"
      },
      "source": [
        "Неудивительно, что мы получили правильные коэффициенты ;)\n",
        "\n",
        "\n",
        "**История обучения**\n",
        "\n",
        "Помимо обучения модели и прогресс бара, model.fit(...), возвращает полезный объект -- историю. Давайте взглянем на нее ближе."
      ]
    },
    {
      "cell_type": "code",
      "metadata": {
        "id": "zlVie2L4VGGo",
        "colab": {
          "base_uri": "https://localhost:8080/",
          "height": 201
        },
        "outputId": "053de777-4f45-4d47-a4b0-0d7e76f21828"
      },
      "source": [
        "import pandas as pd\n",
        "history_df = pd.DataFrame(history.history)\n",
        "history_df.head()"
      ],
      "execution_count": null,
      "outputs": [
        {
          "output_type": "execute_result",
          "data": {
            "text/html": [
              "\n",
              "  <div id=\"df-63e9ac25-0389-450f-92b2-48e8b437e3c4\">\n",
              "    <div class=\"colab-df-container\">\n",
              "      <div>\n",
              "<style scoped>\n",
              "    .dataframe tbody tr th:only-of-type {\n",
              "        vertical-align: middle;\n",
              "    }\n",
              "\n",
              "    .dataframe tbody tr th {\n",
              "        vertical-align: top;\n",
              "    }\n",
              "\n",
              "    .dataframe thead th {\n",
              "        text-align: right;\n",
              "    }\n",
              "</style>\n",
              "<table border=\"1\" class=\"dataframe\">\n",
              "  <thead>\n",
              "    <tr style=\"text-align: right;\">\n",
              "      <th></th>\n",
              "      <th>loss</th>\n",
              "    </tr>\n",
              "  </thead>\n",
              "  <tbody>\n",
              "    <tr>\n",
              "      <th>0</th>\n",
              "      <td>7640.447266</td>\n",
              "    </tr>\n",
              "    <tr>\n",
              "      <th>1</th>\n",
              "      <td>5776.844727</td>\n",
              "    </tr>\n",
              "    <tr>\n",
              "      <th>2</th>\n",
              "      <td>4217.034668</td>\n",
              "    </tr>\n",
              "    <tr>\n",
              "      <th>3</th>\n",
              "      <td>2962.477051</td>\n",
              "    </tr>\n",
              "    <tr>\n",
              "      <th>4</th>\n",
              "      <td>2008.541504</td>\n",
              "    </tr>\n",
              "  </tbody>\n",
              "</table>\n",
              "</div>\n",
              "      <button class=\"colab-df-convert\" onclick=\"convertToInteractive('df-63e9ac25-0389-450f-92b2-48e8b437e3c4')\"\n",
              "              title=\"Convert this dataframe to an interactive table.\"\n",
              "              style=\"display:none;\">\n",
              "        \n",
              "  <svg xmlns=\"http://www.w3.org/2000/svg\" height=\"24px\"viewBox=\"0 0 24 24\"\n",
              "       width=\"24px\">\n",
              "    <path d=\"M0 0h24v24H0V0z\" fill=\"none\"/>\n",
              "    <path d=\"M18.56 5.44l.94 2.06.94-2.06 2.06-.94-2.06-.94-.94-2.06-.94 2.06-2.06.94zm-11 1L8.5 8.5l.94-2.06 2.06-.94-2.06-.94L8.5 2.5l-.94 2.06-2.06.94zm10 10l.94 2.06.94-2.06 2.06-.94-2.06-.94-.94-2.06-.94 2.06-2.06.94z\"/><path d=\"M17.41 7.96l-1.37-1.37c-.4-.4-.92-.59-1.43-.59-.52 0-1.04.2-1.43.59L10.3 9.45l-7.72 7.72c-.78.78-.78 2.05 0 2.83L4 21.41c.39.39.9.59 1.41.59.51 0 1.02-.2 1.41-.59l7.78-7.78 2.81-2.81c.8-.78.8-2.07 0-2.86zM5.41 20L4 18.59l7.72-7.72 1.47 1.35L5.41 20z\"/>\n",
              "  </svg>\n",
              "      </button>\n",
              "      \n",
              "  <style>\n",
              "    .colab-df-container {\n",
              "      display:flex;\n",
              "      flex-wrap:wrap;\n",
              "      gap: 12px;\n",
              "    }\n",
              "\n",
              "    .colab-df-convert {\n",
              "      background-color: #E8F0FE;\n",
              "      border: none;\n",
              "      border-radius: 50%;\n",
              "      cursor: pointer;\n",
              "      display: none;\n",
              "      fill: #1967D2;\n",
              "      height: 32px;\n",
              "      padding: 0 0 0 0;\n",
              "      width: 32px;\n",
              "    }\n",
              "\n",
              "    .colab-df-convert:hover {\n",
              "      background-color: #E2EBFA;\n",
              "      box-shadow: 0px 1px 2px rgba(60, 64, 67, 0.3), 0px 1px 3px 1px rgba(60, 64, 67, 0.15);\n",
              "      fill: #174EA6;\n",
              "    }\n",
              "\n",
              "    [theme=dark] .colab-df-convert {\n",
              "      background-color: #3B4455;\n",
              "      fill: #D2E3FC;\n",
              "    }\n",
              "\n",
              "    [theme=dark] .colab-df-convert:hover {\n",
              "      background-color: #434B5C;\n",
              "      box-shadow: 0px 1px 3px 1px rgba(0, 0, 0, 0.15);\n",
              "      filter: drop-shadow(0px 1px 2px rgba(0, 0, 0, 0.3));\n",
              "      fill: #FFFFFF;\n",
              "    }\n",
              "  </style>\n",
              "\n",
              "      <script>\n",
              "        const buttonEl =\n",
              "          document.querySelector('#df-63e9ac25-0389-450f-92b2-48e8b437e3c4 button.colab-df-convert');\n",
              "        buttonEl.style.display =\n",
              "          google.colab.kernel.accessAllowed ? 'block' : 'none';\n",
              "\n",
              "        async function convertToInteractive(key) {\n",
              "          const element = document.querySelector('#df-63e9ac25-0389-450f-92b2-48e8b437e3c4');\n",
              "          const dataTable =\n",
              "            await google.colab.kernel.invokeFunction('convertToInteractive',\n",
              "                                                     [key], {});\n",
              "          if (!dataTable) return;\n",
              "\n",
              "          const docLinkHtml = 'Like what you see? Visit the ' +\n",
              "            '<a target=\"_blank\" href=https://colab.research.google.com/notebooks/data_table.ipynb>data table notebook</a>'\n",
              "            + ' to learn more about interactive tables.';\n",
              "          element.innerHTML = '';\n",
              "          dataTable['output_type'] = 'display_data';\n",
              "          await google.colab.output.renderOutput(dataTable, element);\n",
              "          const docLink = document.createElement('div');\n",
              "          docLink.innerHTML = docLinkHtml;\n",
              "          element.appendChild(docLink);\n",
              "        }\n",
              "      </script>\n",
              "    </div>\n",
              "  </div>\n",
              "  "
            ],
            "text/plain": [
              "          loss\n",
              "0  7640.447266\n",
              "1  5776.844727\n",
              "2  4217.034668\n",
              "3  2962.477051\n",
              "4  2008.541504"
            ]
          },
          "metadata": {},
          "execution_count": 16
        }
      ]
    },
    {
      "cell_type": "code",
      "metadata": {
        "id": "fj12ioIeXhGo",
        "colab": {
          "base_uri": "https://localhost:8080/",
          "height": 284
        },
        "outputId": "461bea09-2ede-4a9b-a11f-b45aef8077c1"
      },
      "source": [
        "import matplotlib.pyplot as plt\n",
        "plt.plot(history_df.loss)"
      ],
      "execution_count": null,
      "outputs": [
        {
          "output_type": "execute_result",
          "data": {
            "text/plain": [
              "[<matplotlib.lines.Line2D at 0x7ff2289bba10>]"
            ]
          },
          "metadata": {},
          "execution_count": 17
        },
        {
          "output_type": "display_data",
          "data": {
            "image/png": "[encoded data removed]",
            "text/plain": [
              "<Figure size 432x288 with 1 Axes>"
            ]
          },
          "metadata": {
            "needs_background": "light"
          }
        }
      ]
    },
    {
      "cell_type": "markdown",
      "metadata": {
        "id": "08p_QQfivsEv"
      },
      "source": [
        "На графике можно увидеть как менялся лосс на протяжении 200 эпох. Можно заметить, что обучение можно было остановить после 100 эпохи.\n"
      ]
    },
    {
      "cell_type": "markdown",
      "metadata": {
        "id": "CkQPRsMHXxEQ"
      },
      "source": [
        "##Задача классификации"
      ]
    },
    {
      "cell_type": "code",
      "metadata": {
        "id": "ZHDLtJa_PyWk",
        "cellView": "form"
      },
      "source": [
        "#@title\n",
        "import numpy as np\n",
        "import matplotlib.pyplot as plt\n",
        "import matplotlib.cm as cm\n",
        "from matplotlib.colors import ListedColormap, LinearSegmentedColormap, Normalize\n",
        "from sklearn.metrics import accuracy_score\n",
        "\n",
        "\n",
        "%matplotlib inline\n",
        "np.random.seed(10)\n",
        "\n",
        "colors = ['red', \"blue\"]\n",
        "labels_cmap = ListedColormap(colors, 2)\n",
        "colors = [(1, 0, 0), (1, 1, 1), (0, 0, 1)]  # R -> W -> B\n",
        "main_cmap = LinearSegmentedColormap.from_list(\"main_scheme\", colors, N=300)\n",
        "\n",
        "def show_data(X, y):\n",
        "    plt.figure(figsize=(5, 5))\n",
        "    plt.scatter(X[:, 0], X[:, 1], s=120, color=labels_cmap(y))\n",
        "    \n",
        "\n",
        "def show_descision_boundary(clf, limits, binary=False, X=None, y=None, n_lines=10, show_lines=False,\n",
        "                           figsize=(5, 5), ax=None):\n",
        "    xs, ys = limits\n",
        "    x_min, x_max = xs\n",
        "    y_min, y_max = ys\n",
        "    \n",
        "    xx, yy = np.meshgrid(np.arange(x_min, x_max, 0.01),\n",
        "                         np.arange(y_min, y_max, 0.01))\n",
        "    \n",
        "    if ax is None:\n",
        "        fig = plt.figure(figsize=figsize)\n",
        "        ax = fig.add_subplot(1, 1, 1)\n",
        "    \n",
        "    if binary:\n",
        "        Z = clf.predict_class(np.c_[xx.ravel(), xx.ravel()])\n",
        "        Z = clf.predict_class(np.c_[xx.ravel(), yy.ravel()])\n",
        "        norm = Normalize(vmin=0.,vmax=1.)\n",
        "    else:\n",
        "        Z = clf(np.c_[xx.ravel(), xx.ravel()])\n",
        "        Z = clf(np.c_[xx.ravel(), yy.ravel()])\n",
        "        #if clf.prob_output:\n",
        "        #    norm = Normalize(vmin=0.,vmax=1.)\n",
        "        #else:\n",
        "        norm = Normalize(vmin=-10.,vmax=10., clip=True)\n",
        "    Z = Z.numpy() \n",
        "    Z = Z.reshape(xx.shape)\n",
        "    Z = Z.astype(np.float32)\n",
        "    \n",
        "    ax.contourf(xx, yy, Z, n_lines, alpha=0.4, cmap=main_cmap, norm=norm)\n",
        "    if show_lines:\n",
        "        cp = ax.contour(xx, yy, Z, n_lines)\n",
        "        ax.clabel(cp, inline=True, \n",
        "              fontsize=10, colors=\"green\")\n",
        "    \n",
        "    if y is not None:\n",
        "        X = np.array(X)\n",
        "        y = np.array(y)\n",
        "        ax.scatter(X[:, 0], X[:, 1], s=120, color=labels_cmap(y),\n",
        "                   zorder=4)\n",
        "        \n"
      ],
      "execution_count": null,
      "outputs": []
    },
    {
      "cell_type": "markdown",
      "metadata": {
        "id": "izD5mZpR7auO"
      },
      "source": [
        "Аналогично можно решить задачу классификации. Помните эту выборку? Мы пытались ее разделить тремя нейронами самостоятельно в самом первом модуле! Давайте теперь сделаем это с помощью Tensorflow."
      ]
    },
    {
      "cell_type": "code",
      "metadata": {
        "id": "1MUslBwSPy1y",
        "colab": {
          "base_uri": "https://localhost:8080/",
          "height": 318
        },
        "outputId": "cdf1f6b7-e78b-40af-c6b5-2f59de03e13f"
      },
      "source": [
        "X = np.array([[10, 6], [7, 4], [6, 6], [9, 8], [10, 10],\n",
        "              [10, 4], [4, 4], [4, 6], [8, 9]])\n",
        "y = np.array([0, 1, 0, 0, 0, 1, 1, 1, 1])\n",
        "show_data(X, y)"
      ],
      "execution_count": null,
      "outputs": [
        {
          "output_type": "display_data",
          "data": {
            "image/png": "[encoded data removed]",
            "text/plain": [
              "<Figure size 360x360 with 1 Axes>"
            ]
          },
          "metadata": {
            "needs_background": "light"
          }
        }
      ]
    },
    {
      "cell_type": "markdown",
      "metadata": {
        "id": "MetQo2Ik7dIR"
      },
      "source": [
        "Без каких-либо сложностей, мы преобразуем модель в модель для классификации. Для этого нужно изменить лосс функцию и функцию активации последнего слоя."
      ]
    },
    {
      "cell_type": "code",
      "metadata": {
        "id": "sEs6b7mlQg5d"
      },
      "source": [
        "model = tf.keras.Sequential()\n",
        "model.add(tf.keras.layers.Dense(4, input_shape=(2,), activation=\"sigmoid\"))\n",
        "model.add(tf.keras.layers.Dense(1)) # мы хотим визуализировать логиты, поэтому без активации\n",
        "\n",
        "optimizer = tf.keras.optimizers.Adam(learning_rate=0.05) \n",
        "loss = tf.keras.losses.BinaryCrossentropy(from_logits=True) # лосс -- с логитами"
      ],
      "execution_count": null,
      "outputs": []
    },
    {
      "cell_type": "markdown",
      "metadata": {
        "id": "mU2ndXHCb5Dm"
      },
      "source": [
        "При компиляции модели добавим еще одно поле -- **metrics**. Метрики не влияют на обучение, но очень полезны для его контроля. Например, обучая классификатор удобно смотреть не только на лосс, но и на точность."
      ]
    },
    {
      "cell_type": "code",
      "metadata": {
        "id": "Wup7_mqBb1Hr",
        "colab": {
          "base_uri": "https://localhost:8080/"
        },
        "outputId": "55fe5301-d0d1-461b-d854-91b4588bd528"
      },
      "source": [
        "model.compile(optimizer=optimizer, loss=loss, metrics=[\"accuracy\"]) # для дополнительного контроля \n",
        "                                                                    #-- просим сообщать не только лосс, но и точность.\n",
        "history = model.fit(X, y, epochs=100, verbose=2)"
      ],
      "execution_count": null,
      "outputs": [
        {
          "output_type": "stream",
          "name": "stdout",
          "text": [
            "Epoch 1/100\n",
            "1/1 - 1s - loss: 0.7151 - accuracy: 0.5556 - 501ms/epoch - 501ms/step\n",
            "Epoch 2/100\n",
            "1/1 - 0s - loss: 0.6941 - accuracy: 0.5556 - 7ms/epoch - 7ms/step\n",
            "Epoch 3/100\n",
            "1/1 - 0s - loss: 0.6839 - accuracy: 0.4444 - 6ms/epoch - 6ms/step\n",
            "Epoch 4/100\n",
            "1/1 - 0s - loss: 0.6812 - accuracy: 0.4444 - 4ms/epoch - 4ms/step\n",
            "Epoch 5/100\n",
            "1/1 - 0s - loss: 0.6829 - accuracy: 0.4444 - 4ms/epoch - 4ms/step\n",
            "Epoch 6/100\n",
            "1/1 - 0s - loss: 0.6859 - accuracy: 0.4444 - 3ms/epoch - 3ms/step\n",
            "Epoch 7/100\n",
            "1/1 - 0s - loss: 0.6876 - accuracy: 0.4444 - 3ms/epoch - 3ms/step\n",
            "Epoch 8/100\n",
            "1/1 - 0s - loss: 0.6872 - accuracy: 0.4444 - 6ms/epoch - 6ms/step\n",
            "Epoch 9/100\n",
            "1/1 - 0s - loss: 0.6850 - accuracy: 0.4444 - 3ms/epoch - 3ms/step\n",
            "Epoch 10/100\n",
            "1/1 - 0s - loss: 0.6818 - accuracy: 0.4444 - 3ms/epoch - 3ms/step\n",
            "Epoch 11/100\n",
            "1/1 - 0s - loss: 0.6787 - accuracy: 0.4444 - 3ms/epoch - 3ms/step\n",
            "Epoch 12/100\n",
            "1/1 - 0s - loss: 0.6767 - accuracy: 0.4444 - 3ms/epoch - 3ms/step\n",
            "Epoch 13/100\n",
            "1/1 - 0s - loss: 0.6762 - accuracy: 0.4444 - 3ms/epoch - 3ms/step\n",
            "Epoch 14/100\n",
            "1/1 - 0s - loss: 0.6774 - accuracy: 0.4444 - 3ms/epoch - 3ms/step\n",
            "Epoch 15/100\n",
            "1/1 - 0s - loss: 0.6788 - accuracy: 0.4444 - 3ms/epoch - 3ms/step\n",
            "Epoch 16/100\n",
            "1/1 - 0s - loss: 0.6789 - accuracy: 0.4444 - 3ms/epoch - 3ms/step\n",
            "Epoch 17/100\n",
            "1/1 - 0s - loss: 0.6774 - accuracy: 0.4444 - 5ms/epoch - 5ms/step\n",
            "Epoch 18/100\n",
            "1/1 - 0s - loss: 0.6753 - accuracy: 0.4444 - 3ms/epoch - 3ms/step\n",
            "Epoch 19/100\n",
            "1/1 - 0s - loss: 0.6736 - accuracy: 0.4444 - 3ms/epoch - 3ms/step\n",
            "Epoch 20/100\n",
            "1/1 - 0s - loss: 0.6728 - accuracy: 0.4444 - 3ms/epoch - 3ms/step\n",
            "Epoch 21/100\n",
            "1/1 - 0s - loss: 0.6727 - accuracy: 0.4444 - 4ms/epoch - 4ms/step\n",
            "Epoch 22/100\n",
            "1/1 - 0s - loss: 0.6727 - accuracy: 0.4444 - 3ms/epoch - 3ms/step\n",
            "Epoch 23/100\n",
            "1/1 - 0s - loss: 0.6724 - accuracy: 0.4444 - 3ms/epoch - 3ms/step\n",
            "Epoch 24/100\n",
            "1/1 - 0s - loss: 0.6715 - accuracy: 0.4444 - 4ms/epoch - 4ms/step\n",
            "Epoch 25/100\n",
            "1/1 - 0s - loss: 0.6701 - accuracy: 0.4444 - 3ms/epoch - 3ms/step\n",
            "Epoch 26/100\n",
            "1/1 - 0s - loss: 0.6685 - accuracy: 0.4444 - 3ms/epoch - 3ms/step\n",
            "Epoch 27/100\n",
            "1/1 - 0s - loss: 0.6671 - accuracy: 0.4444 - 7ms/epoch - 7ms/step\n",
            "Epoch 28/100\n",
            "1/1 - 0s - loss: 0.6665 - accuracy: 0.4444 - 10ms/epoch - 10ms/step\n",
            "Epoch 29/100\n",
            "1/1 - 0s - loss: 0.6662 - accuracy: 0.4444 - 4ms/epoch - 4ms/step\n",
            "Epoch 30/100\n",
            "1/1 - 0s - loss: 0.6655 - accuracy: 0.4444 - 5ms/epoch - 5ms/step\n",
            "Epoch 31/100\n",
            "1/1 - 0s - loss: 0.6640 - accuracy: 0.4444 - 3ms/epoch - 3ms/step\n",
            "Epoch 32/100\n",
            "1/1 - 0s - loss: 0.6622 - accuracy: 0.4444 - 3ms/epoch - 3ms/step\n",
            "Epoch 33/100\n",
            "1/1 - 0s - loss: 0.6609 - accuracy: 0.4444 - 3ms/epoch - 3ms/step\n",
            "Epoch 34/100\n",
            "1/1 - 0s - loss: 0.6600 - accuracy: 0.4444 - 4ms/epoch - 4ms/step\n",
            "Epoch 35/100\n",
            "1/1 - 0s - loss: 0.6591 - accuracy: 0.4444 - 9ms/epoch - 9ms/step\n",
            "Epoch 36/100\n",
            "1/1 - 0s - loss: 0.6578 - accuracy: 0.4444 - 5ms/epoch - 5ms/step\n",
            "Epoch 37/100\n",
            "1/1 - 0s - loss: 0.6561 - accuracy: 0.4444 - 7ms/epoch - 7ms/step\n",
            "Epoch 38/100\n",
            "1/1 - 0s - loss: 0.6544 - accuracy: 0.4444 - 4ms/epoch - 4ms/step\n",
            "Epoch 39/100\n",
            "1/1 - 0s - loss: 0.6530 - accuracy: 0.5556 - 6ms/epoch - 6ms/step\n",
            "Epoch 40/100\n",
            "1/1 - 0s - loss: 0.6519 - accuracy: 0.6667 - 4ms/epoch - 4ms/step\n",
            "Epoch 41/100\n",
            "1/1 - 0s - loss: 0.6505 - accuracy: 0.6667 - 4ms/epoch - 4ms/step\n",
            "Epoch 42/100\n",
            "1/1 - 0s - loss: 0.6487 - accuracy: 0.6667 - 11ms/epoch - 11ms/step\n",
            "Epoch 43/100\n",
            "1/1 - 0s - loss: 0.6468 - accuracy: 0.6667 - 9ms/epoch - 9ms/step\n",
            "Epoch 44/100\n",
            "1/1 - 0s - loss: 0.6453 - accuracy: 0.6667 - 8ms/epoch - 8ms/step\n",
            "Epoch 45/100\n",
            "1/1 - 0s - loss: 0.6438 - accuracy: 0.6667 - 5ms/epoch - 5ms/step\n",
            "Epoch 46/100\n",
            "1/1 - 0s - loss: 0.6420 - accuracy: 0.6667 - 8ms/epoch - 8ms/step\n",
            "Epoch 47/100\n",
            "1/1 - 0s - loss: 0.6401 - accuracy: 0.6667 - 6ms/epoch - 6ms/step\n",
            "Epoch 48/100\n",
            "1/1 - 0s - loss: 0.6382 - accuracy: 0.6667 - 6ms/epoch - 6ms/step\n",
            "Epoch 49/100\n",
            "1/1 - 0s - loss: 0.6364 - accuracy: 0.6667 - 4ms/epoch - 4ms/step\n",
            "Epoch 50/100\n",
            "1/1 - 0s - loss: 0.6344 - accuracy: 0.6667 - 11ms/epoch - 11ms/step\n",
            "Epoch 51/100\n",
            "1/1 - 0s - loss: 0.6320 - accuracy: 0.6667 - 4ms/epoch - 4ms/step\n",
            "Epoch 52/100\n",
            "1/1 - 0s - loss: 0.6291 - accuracy: 0.6667 - 4ms/epoch - 4ms/step\n",
            "Epoch 53/100\n",
            "1/1 - 0s - loss: 0.6255 - accuracy: 0.6667 - 6ms/epoch - 6ms/step\n",
            "Epoch 54/100\n",
            "1/1 - 0s - loss: 0.6203 - accuracy: 0.6667 - 4ms/epoch - 4ms/step\n",
            "Epoch 55/100\n",
            "1/1 - 0s - loss: 0.6126 - accuracy: 0.6667 - 4ms/epoch - 4ms/step\n",
            "Epoch 56/100\n",
            "1/1 - 0s - loss: 0.6028 - accuracy: 0.6667 - 6ms/epoch - 6ms/step\n",
            "Epoch 57/100\n",
            "1/1 - 0s - loss: 0.5980 - accuracy: 0.6667 - 2ms/epoch - 2ms/step\n",
            "Epoch 58/100\n",
            "1/1 - 0s - loss: 0.5954 - accuracy: 0.6667 - 10ms/epoch - 10ms/step\n",
            "Epoch 59/100\n",
            "1/1 - 0s - loss: 0.5875 - accuracy: 0.7778 - 5ms/epoch - 5ms/step\n",
            "Epoch 60/100\n",
            "1/1 - 0s - loss: 0.5833 - accuracy: 0.6667 - 2ms/epoch - 2ms/step\n",
            "Epoch 61/100\n",
            "1/1 - 0s - loss: 0.5785 - accuracy: 0.6667 - 4ms/epoch - 4ms/step\n",
            "Epoch 62/100\n",
            "1/1 - 0s - loss: 0.5691 - accuracy: 0.7778 - 4ms/epoch - 4ms/step\n",
            "Epoch 63/100\n",
            "1/1 - 0s - loss: 0.5617 - accuracy: 0.7778 - 5ms/epoch - 5ms/step\n",
            "Epoch 64/100\n",
            "1/1 - 0s - loss: 0.5590 - accuracy: 0.7778 - 6ms/epoch - 6ms/step\n",
            "Epoch 65/100\n",
            "1/1 - 0s - loss: 0.5505 - accuracy: 0.7778 - 4ms/epoch - 4ms/step\n",
            "Epoch 66/100\n",
            "1/1 - 0s - loss: 0.5429 - accuracy: 0.7778 - 3ms/epoch - 3ms/step\n",
            "Epoch 67/100\n",
            "1/1 - 0s - loss: 0.5384 - accuracy: 0.7778 - 5ms/epoch - 5ms/step\n",
            "Epoch 68/100\n",
            "1/1 - 0s - loss: 0.5309 - accuracy: 0.8889 - 3ms/epoch - 3ms/step\n",
            "Epoch 69/100\n",
            "1/1 - 0s - loss: 0.5239 - accuracy: 0.8889 - 3ms/epoch - 3ms/step\n",
            "Epoch 70/100\n",
            "1/1 - 0s - loss: 0.5198 - accuracy: 0.8889 - 8ms/epoch - 8ms/step\n",
            "Epoch 71/100\n",
            "1/1 - 0s - loss: 0.5125 - accuracy: 0.8889 - 2ms/epoch - 2ms/step\n",
            "Epoch 72/100\n",
            "1/1 - 0s - loss: 0.5058 - accuracy: 0.8889 - 3ms/epoch - 3ms/step\n",
            "Epoch 73/100\n",
            "1/1 - 0s - loss: 0.5014 - accuracy: 0.8889 - 4ms/epoch - 4ms/step\n",
            "Epoch 74/100\n",
            "1/1 - 0s - loss: 0.4950 - accuracy: 0.8889 - 3ms/epoch - 3ms/step\n",
            "Epoch 75/100\n",
            "1/1 - 0s - loss: 0.4892 - accuracy: 0.8889 - 9ms/epoch - 9ms/step\n",
            "Epoch 76/100\n",
            "1/1 - 0s - loss: 0.4841 - accuracy: 0.8889 - 4ms/epoch - 4ms/step\n",
            "Epoch 77/100\n",
            "1/1 - 0s - loss: 0.4776 - accuracy: 0.8889 - 8ms/epoch - 8ms/step\n",
            "Epoch 78/100\n",
            "1/1 - 0s - loss: 0.4725 - accuracy: 0.8889 - 8ms/epoch - 8ms/step\n",
            "Epoch 79/100\n",
            "1/1 - 0s - loss: 0.4674 - accuracy: 0.8889 - 6ms/epoch - 6ms/step\n",
            "Epoch 80/100\n",
            "1/1 - 0s - loss: 0.4612 - accuracy: 0.8889 - 3ms/epoch - 3ms/step\n",
            "Epoch 81/100\n",
            "1/1 - 0s - loss: 0.4557 - accuracy: 0.8889 - 6ms/epoch - 6ms/step\n",
            "Epoch 82/100\n",
            "1/1 - 0s - loss: 0.4505 - accuracy: 0.8889 - 6ms/epoch - 6ms/step\n",
            "Epoch 83/100\n",
            "1/1 - 0s - loss: 0.4448 - accuracy: 0.8889 - 6ms/epoch - 6ms/step\n",
            "Epoch 84/100\n",
            "1/1 - 0s - loss: 0.4396 - accuracy: 0.8889 - 6ms/epoch - 6ms/step\n",
            "Epoch 85/100\n",
            "1/1 - 0s - loss: 0.4341 - accuracy: 0.8889 - 5ms/epoch - 5ms/step\n",
            "Epoch 86/100\n",
            "1/1 - 0s - loss: 0.4285 - accuracy: 0.8889 - 6ms/epoch - 6ms/step\n",
            "Epoch 87/100\n",
            "1/1 - 0s - loss: 0.4235 - accuracy: 0.8889 - 5ms/epoch - 5ms/step\n",
            "Epoch 88/100\n",
            "1/1 - 0s - loss: 0.4181 - accuracy: 0.8889 - 8ms/epoch - 8ms/step\n",
            "Epoch 89/100\n",
            "1/1 - 0s - loss: 0.4126 - accuracy: 0.8889 - 5ms/epoch - 5ms/step\n",
            "Epoch 90/100\n",
            "1/1 - 0s - loss: 0.4075 - accuracy: 0.8889 - 5ms/epoch - 5ms/step\n",
            "Epoch 91/100\n",
            "1/1 - 0s - loss: 0.4022 - accuracy: 0.8889 - 5ms/epoch - 5ms/step\n",
            "Epoch 92/100\n",
            "1/1 - 0s - loss: 0.3970 - accuracy: 0.8889 - 5ms/epoch - 5ms/step\n",
            "Epoch 93/100\n",
            "1/1 - 0s - loss: 0.3919 - accuracy: 0.8889 - 4ms/epoch - 4ms/step\n",
            "Epoch 94/100\n",
            "1/1 - 0s - loss: 0.3868 - accuracy: 0.8889 - 6ms/epoch - 6ms/step\n",
            "Epoch 95/100\n",
            "1/1 - 0s - loss: 0.3819 - accuracy: 0.8889 - 7ms/epoch - 7ms/step\n",
            "Epoch 96/100\n",
            "1/1 - 0s - loss: 0.3770 - accuracy: 0.8889 - 5ms/epoch - 5ms/step\n",
            "Epoch 97/100\n",
            "1/1 - 0s - loss: 0.3721 - accuracy: 0.8889 - 4ms/epoch - 4ms/step\n",
            "Epoch 98/100\n",
            "1/1 - 0s - loss: 0.3675 - accuracy: 0.8889 - 5ms/epoch - 5ms/step\n",
            "Epoch 99/100\n",
            "1/1 - 0s - loss: 0.3629 - accuracy: 0.8889 - 6ms/epoch - 6ms/step\n",
            "Epoch 100/100\n",
            "1/1 - 0s - loss: 0.3583 - accuracy: 0.8889 - 4ms/epoch - 4ms/step\n"
          ]
        }
      ]
    },
    {
      "cell_type": "code",
      "metadata": {
        "id": "P8VXug0TRKl1",
        "colab": {
          "base_uri": "https://localhost:8080/",
          "height": 318
        },
        "outputId": "5a7d56a3-a6cd-4eea-923f-b30c1c89f7b1"
      },
      "source": [
        "limits = [[-1, 11], [-1, 11]]\n",
        "\n",
        "show_descision_boundary(limits=limits, clf=model, binary=False,\n",
        "                                X=X,\n",
        "                                y=y, \n",
        "                                n_lines=50,\n",
        "                                show_lines=False)"
      ],
      "execution_count": null,
      "outputs": [
        {
          "output_type": "display_data",
          "data": {
            "image/png": "[encoded data removed]",
            "text/plain": [
              "<Figure size 360x360 with 1 Axes>"
            ]
          },
          "metadata": {
            "needs_background": "light"
          }
        }
      ]
    },
    {
      "cell_type": "code",
      "metadata": {
        "id": "EDC9kIa6b0KN",
        "colab": {
          "base_uri": "https://localhost:8080/",
          "height": 201
        },
        "outputId": "b44ba9c2-0253-44ee-830b-3879e1fd7620"
      },
      "source": [
        "pd.DataFrame(history.history).head()"
      ],
      "execution_count": null,
      "outputs": [
        {
          "output_type": "execute_result",
          "data": {
            "text/html": [
              "\n",
              "  <div id=\"df-46eae334-331e-40f1-be0e-7117ca217a14\">\n",
              "    <div class=\"colab-df-container\">\n",
              "      <div>\n",
              "<style scoped>\n",
              "    .dataframe tbody tr th:only-of-type {\n",
              "        vertical-align: middle;\n",
              "    }\n",
              "\n",
              "    .dataframe tbody tr th {\n",
              "        vertical-align: top;\n",
              "    }\n",
              "\n",
              "    .dataframe thead th {\n",
              "        text-align: right;\n",
              "    }\n",
              "</style>\n",
              "<table border=\"1\" class=\"dataframe\">\n",
              "  <thead>\n",
              "    <tr style=\"text-align: right;\">\n",
              "      <th></th>\n",
              "      <th>loss</th>\n",
              "      <th>accuracy</th>\n",
              "    </tr>\n",
              "  </thead>\n",
              "  <tbody>\n",
              "    <tr>\n",
              "      <th>0</th>\n",
              "      <td>0.715133</td>\n",
              "      <td>0.555556</td>\n",
              "    </tr>\n",
              "    <tr>\n",
              "      <th>1</th>\n",
              "      <td>0.694092</td>\n",
              "      <td>0.555556</td>\n",
              "    </tr>\n",
              "    <tr>\n",
              "      <th>2</th>\n",
              "      <td>0.683867</td>\n",
              "      <td>0.444444</td>\n",
              "    </tr>\n",
              "    <tr>\n",
              "      <th>3</th>\n",
              "      <td>0.681213</td>\n",
              "      <td>0.444444</td>\n",
              "    </tr>\n",
              "    <tr>\n",
              "      <th>4</th>\n",
              "      <td>0.682928</td>\n",
              "      <td>0.444444</td>\n",
              "    </tr>\n",
              "  </tbody>\n",
              "</table>\n",
              "</div>\n",
              "      <button class=\"colab-df-convert\" onclick=\"convertToInteractive('df-46eae334-331e-40f1-be0e-7117ca217a14')\"\n",
              "              title=\"Convert this dataframe to an interactive table.\"\n",
              "              style=\"display:none;\">\n",
              "        \n",
              "  <svg xmlns=\"http://www.w3.org/2000/svg\" height=\"24px\"viewBox=\"0 0 24 24\"\n",
              "       width=\"24px\">\n",
              "    <path d=\"M0 0h24v24H0V0z\" fill=\"none\"/>\n",
              "    <path d=\"M18.56 5.44l.94 2.06.94-2.06 2.06-.94-2.06-.94-.94-2.06-.94 2.06-2.06.94zm-11 1L8.5 8.5l.94-2.06 2.06-.94-2.06-.94L8.5 2.5l-.94 2.06-2.06.94zm10 10l.94 2.06.94-2.06 2.06-.94-2.06-.94-.94-2.06-.94 2.06-2.06.94z\"/><path d=\"M17.41 7.96l-1.37-1.37c-.4-.4-.92-.59-1.43-.59-.52 0-1.04.2-1.43.59L10.3 9.45l-7.72 7.72c-.78.78-.78 2.05 0 2.83L4 21.41c.39.39.9.59 1.41.59.51 0 1.02-.2 1.41-.59l7.78-7.78 2.81-2.81c.8-.78.8-2.07 0-2.86zM5.41 20L4 18.59l7.72-7.72 1.47 1.35L5.41 20z\"/>\n",
              "  </svg>\n",
              "      </button>\n",
              "      \n",
              "  <style>\n",
              "    .colab-df-container {\n",
              "      display:flex;\n",
              "      flex-wrap:wrap;\n",
              "      gap: 12px;\n",
              "    }\n",
              "\n",
              "    .colab-df-convert {\n",
              "      background-color: #E8F0FE;\n",
              "      border: none;\n",
              "      border-radius: 50%;\n",
              "      cursor: pointer;\n",
              "      display: none;\n",
              "      fill: #1967D2;\n",
              "      height: 32px;\n",
              "      padding: 0 0 0 0;\n",
              "      width: 32px;\n",
              "    }\n",
              "\n",
              "    .colab-df-convert:hover {\n",
              "      background-color: #E2EBFA;\n",
              "      box-shadow: 0px 1px 2px rgba(60, 64, 67, 0.3), 0px 1px 3px 1px rgba(60, 64, 67, 0.15);\n",
              "      fill: #174EA6;\n",
              "    }\n",
              "\n",
              "    [theme=dark] .colab-df-convert {\n",
              "      background-color: #3B4455;\n",
              "      fill: #D2E3FC;\n",
              "    }\n",
              "\n",
              "    [theme=dark] .colab-df-convert:hover {\n",
              "      background-color: #434B5C;\n",
              "      box-shadow: 0px 1px 3px 1px rgba(0, 0, 0, 0.15);\n",
              "      filter: drop-shadow(0px 1px 2px rgba(0, 0, 0, 0.3));\n",
              "      fill: #FFFFFF;\n",
              "    }\n",
              "  </style>\n",
              "\n",
              "      <script>\n",
              "        const buttonEl =\n",
              "          document.querySelector('#df-46eae334-331e-40f1-be0e-7117ca217a14 button.colab-df-convert');\n",
              "        buttonEl.style.display =\n",
              "          google.colab.kernel.accessAllowed ? 'block' : 'none';\n",
              "\n",
              "        async function convertToInteractive(key) {\n",
              "          const element = document.querySelector('#df-46eae334-331e-40f1-be0e-7117ca217a14');\n",
              "          const dataTable =\n",
              "            await google.colab.kernel.invokeFunction('convertToInteractive',\n",
              "                                                     [key], {});\n",
              "          if (!dataTable) return;\n",
              "\n",
              "          const docLinkHtml = 'Like what you see? Visit the ' +\n",
              "            '<a target=\"_blank\" href=https://colab.research.google.com/notebooks/data_table.ipynb>data table notebook</a>'\n",
              "            + ' to learn more about interactive tables.';\n",
              "          element.innerHTML = '';\n",
              "          dataTable['output_type'] = 'display_data';\n",
              "          await google.colab.output.renderOutput(dataTable, element);\n",
              "          const docLink = document.createElement('div');\n",
              "          docLink.innerHTML = docLinkHtml;\n",
              "          element.appendChild(docLink);\n",
              "        }\n",
              "      </script>\n",
              "    </div>\n",
              "  </div>\n",
              "  "
            ],
            "text/plain": [
              "       loss  accuracy\n",
              "0  0.715133  0.555556\n",
              "1  0.694092  0.555556\n",
              "2  0.683867  0.444444\n",
              "3  0.681213  0.444444\n",
              "4  0.682928  0.444444"
            ]
          },
          "metadata": {},
          "execution_count": 23
        }
      ]
    },
    {
      "cell_type": "markdown",
      "metadata": {
        "id": "QatTGrh3xI3m"
      },
      "source": [
        "## Рекомендации к практическому заданию\n",
        "В следующем практическом задании перед вами будет стоять задача обучения сетей для синтетических данных. Для этого вам нужно будет подобрать самим количество слоев, количество нейронов и скорость обучения. **Как это сделать?** К сожалению, однозначного ответа на этот вопрос нет. \n",
        "\n",
        "Чем сложнее задача, тем сложнее должна быть архитектура. Сложность архитектуры зависит от количества слоев и нейронов. Задачи, которые вас ждут с ближайшей практике, данные не слишком сложные -- поэтому не переусердствуйте. *Начните с одного слоя, понаблюдайте, как изменяется точность, добавьте еще один, если понадобится. Экспериментируйте!*\n",
        "\n",
        "Но это не единственный рычаг, который можно двигать. Еще есть скорость обучения. Если вы замечаете при обучении, что ошибка не меняется, но архитектура должна справиться, то возможно скорость обучения слишком маленькая. Обычно она находится в диапазоне 0.0001-0.1.\n",
        "\n",
        "В реальных задачах глубина сети, количество нейронов, скорость обучения -- это гиперпараметры, которые нужно подбирать наблюдая за качеством на валидационной выборкой.\n"
      ]
    },
    {
      "cell_type": "markdown",
      "metadata": {
        "id": "a_20rdANCX7v"
      },
      "source": [
        "#Заключение\n",
        "В этом уроке мы научились:\n",
        "\n",
        "\n",
        "1.   Определять лосс функцию\n",
        "2.   Определять оптимизатор\n",
        "3.   Компилировать и обучать модель для задачи классификации и регрессии.\n",
        "\n",
        "Теперь вы можете перейти к практике для закрепления материала: [ссылка](https://colab.research.google.com/drive/11pzWQSauLzuoUPyRW10zV1p7o4NKMVB7).\n",
        "\n"
      ]
    }
  ]
}