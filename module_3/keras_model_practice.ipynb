{
  "nbformat": 4,
  "nbformat_minor": 0,
  "metadata": {
    "colab": {
      "name": "keras_model_practice.ipynb",
      "provenance": [],
      "collapsed_sections": [],
      "include_colab_link": true
    },
    "kernelspec": {
      "name": "python3",
      "display_name": "Python 3"
    }
  },
  "cells": [
    {
      "cell_type": "markdown",
      "metadata": {
        "id": "view-in-github",
        "colab_type": "text"
      },
      "source": [
        "<a href=\"https://colab.research.google.com/github/vsolodkyi/NeuralNetworks_SkillBox/blob/main/module_3/keras_model_practice.ipynb\" target=\"_parent\"><img src=\"https://colab.research.google.com/assets/colab-badge.svg\" alt=\"Open In Colab\"/></a>"
      ]
    },
    {
      "cell_type": "markdown",
      "metadata": {
        "id": "x_ZpEPSMmtbx"
      },
      "source": [
        "# Практика по определению моделей в Keras\n",
        "\n",
        "В каждом из заданий ниже, реализуйте модель, повторяющую архитектуру на приложенной картинке. При определении моделей, можете использовать как Sequential так и Functional API."
      ]
    },
    {
      "cell_type": "code",
      "metadata": {
        "id": "b3WDUlrzLWys"
      },
      "source": [
        "import tensorflow as tf\n",
        "from tensorflow.keras.layers import Dense\n",
        "import numpy as np"
      ],
      "execution_count": null,
      "outputs": []
    },
    {
      "cell_type": "markdown",
      "metadata": {
        "id": "RCL3xXAfnXkN"
      },
      "source": [
        "## Задание 1\n",
        "\n",
        "Реализуйте модель описанную ниже. Активацию последнего слоя сделайте \"softmax\".\n",
        "\n",
        "<img src=\"https://drive.google.com/uc?export=view&id=1QCKcPlmguNNXPvUQnUaphcfOTWvQKzEW\" width=200>\n",
        "<img src=\"https://drive.google.com/uc?export=view&id=1r6DoTrn8Pe2RKuPT3RM9rR8Xc2X3WNVe\" width=400>\n"
      ]
    },
    {
      "cell_type": "code",
      "metadata": {
        "id": "ZLqiMurVnfd8"
      },
      "source": [
        "# <YOUR CODE STARTS HERE >\n",
        "\n",
        "\n",
        "\n",
        "\n",
        "\n",
        "# <YOUR CODE ENDS HERE >\n",
        "model.summary()\n",
        "tf.keras.utils.plot_model(model, show_shapes=False)"
      ],
      "execution_count": null,
      "outputs": []
    },
    {
      "cell_type": "code",
      "metadata": {
        "id": "18bLYj04oOq_"
      },
      "source": [
        "output = model(np.ones((3, 10)))\n",
        "assert np.allclose(output.numpy().sum(1),  np.ones(3)), \"Did you forget softmax in the last layer?\"\n",
        "assert model.count_params() == 279, \"Wrong params number\"\n",
        "print(\"Simple tests passed\")"
      ],
      "execution_count": null,
      "outputs": []
    },
    {
      "cell_type": "markdown",
      "metadata": {
        "id": "Zdp3Qj9L2V8f"
      },
      "source": [
        "## Задание 2\n",
        "\n",
        "Реализуйте модель описанную ниже.\n",
        "\n",
        "<img src=\"https://lh3.googleusercontent.com/Aa_RCQNbksP9j27Br0kbq-Aj_yWHW3fofmaZj6jOm8xBLgWrEn60MbxVBkfZipLJ5mI3LAMC9wdhv08i76oKY6cQzUdYVHyRzLV4dZ8Yw-TIC6Y82gLe1zmdwzpX2JkFmo-nJy6YPLGiZuqkjKJlTdtHdFdDuIp_akK2fSMEMf85u3_3N-Gx6XSTxaQsCX5PL8aWlNeDl5rpHhmQYBTe1TR2-EDsAMgz4CLBMwyhVPJwjBR57WOBw14NPp6RrayuaPSltd9qbvQG2236WKqyL0w__y6tR6Vg7WMtUm4SKrPbTSUUyEEvU1hH6Z6yQpgyRRXecdupmTyx3FySqgERRVIqEb-JNoLppqzcaBEHDKdi0I7tQuuKXVyjSq5P02McLEwR7ej3dKVC8R3EsFDZV8uVLWJQSdpvInhp5d0fGb5u-UOfRuJ1X_4s2A6BJPbWbj4NyQAWPFem02A2Ya4CpzgDbMnjiAmlt_-JavcPCi7UALu6mH_RzPgNkzlrSqEMHpdBnVs6vhtEQGoZU1kxARvZxfBnbXTudg0IYjZ-LBKEfEFRwN3pbC3A9xnPS_-LRXcvAy45VSgH_JgPV4PpBFwo-xVg6O1RUhbOBuR8_a9OOyLd2zN8NaLO4e4bxq8pHD9mIXXBrxxCK76pjO5Vs2m03h-U7o6VTci3Fr9U5f2rF4ejP_7pNtSwfZ3RRA=w646-h220-no?authuser=0\" width=400>\n",
        "<img src=\"https://drive.google.com/uc?export=view&id=1vR3XfyYEpSmgEXZoLGY_FfWRwgOiefoj\" width=300>\n"
      ]
    },
    {
      "cell_type": "markdown",
      "metadata": {
        "id": "8bxZLZJTaUQT"
      },
      "source": [
        "*Кстати, такая кострукция не лишена смысла -- в следующем модуле мы увидим как она помогла совершить прорыв в классификации изображений. Она носит название residual block*\n",
        "\n",
        "Подсказка: на последнем слое используйте метод `Add()` класса layers, на вход которому нужно подать массик из `input_layer` и `l1_output`.\n"
      ]
    },
    {
      "cell_type": "code",
      "metadata": {
        "id": "NTJSQ6jzL8N4"
      },
      "source": [
        "# <YOUR CODE STARTS HERE >\n",
        "\n",
        "\n",
        "\n",
        "\n",
        "\n",
        "# <YOUR CODE ENDS HERE >\n",
        "model.summary()\n",
        "assert model.count_params() == 110, \"Wrong params number\"\n",
        "print(\"Simple tests passed\")\n",
        "tf.keras.utils.plot_model(model, show_shapes=True)"
      ],
      "execution_count": null,
      "outputs": []
    },
    {
      "cell_type": "markdown",
      "metadata": {
        "id": "A_mbbL304acW"
      },
      "source": [
        "## Задание 3\n",
        "\n",
        "Реализуйте модель описанную ниже. Вам пригодится tf.keras.layers.Concatenate.\n",
        "\n",
        "<img src=\"https://drive.google.com/uc?export=view&id=1LvsTd2a0HW-duuv3UyxCBLmERpqQQweU\" width=450>\n",
        "<img src=\"https://drive.google.com/uc?export=view&id=18IMatPWKG-0T9gisyJ_k465mospO_xow\" width=400>\n"
      ]
    },
    {
      "cell_type": "code",
      "metadata": {
        "id": "F6jBLTId4GGf"
      },
      "source": [
        "# <YOUR CODE STARTS HERE >\n",
        "\n",
        "\n",
        "\n",
        "\n",
        "\n",
        "\n",
        "\n",
        "\n",
        "\n",
        "\n",
        "\n",
        "\n",
        "\n",
        "\n",
        "\n",
        "\n",
        "# <YOUR CODE ENDS HERE >\n",
        "\n",
        "model.summary()\n",
        "assert model.count_params() == 783, \"Wrong params number\"\n",
        "print(\"Simple tests passed\")\n",
        "tf.keras.utils.plot_model(model, show_shapes=False)"
      ],
      "execution_count": null,
      "outputs": []
    }
  ]
}