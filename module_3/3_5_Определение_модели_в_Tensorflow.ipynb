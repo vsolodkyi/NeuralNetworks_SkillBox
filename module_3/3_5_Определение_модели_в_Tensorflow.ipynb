{
  "nbformat": 4,
  "nbformat_minor": 0,
  "metadata": {
    "colab": {
      "name": "3.5 Определение модели в Tensorflow.ipynb",
      "provenance": [],
      "collapsed_sections": [],
      "include_colab_link": true
    },
    "kernelspec": {
      "name": "python3",
      "display_name": "Python 3"
    }
  },
  "cells": [
    {
      "cell_type": "markdown",
      "metadata": {
        "id": "view-in-github",
        "colab_type": "text"
      },
      "source": [
        "<a href=\"https://colab.research.google.com/github/vsolodkyi/NeuralNetworks_SkillBox/blob/main/module_3/3_5_%D0%9E%D0%BF%D1%80%D0%B5%D0%B4%D0%B5%D0%BB%D0%B5%D0%BD%D0%B8%D0%B5_%D0%BC%D0%BE%D0%B4%D0%B5%D0%BB%D0%B8_%D0%B2_Tensorflow.ipynb\" target=\"_parent\"><img src=\"https://colab.research.google.com/assets/colab-badge.svg\" alt=\"Open In Colab\"/></a>"
      ]
    },
    {
      "cell_type": "markdown",
      "metadata": {
        "id": "SG79UvKlPBUg"
      },
      "source": [
        "## Модель\n",
        "\n",
        "Как мы с вами обсудили на лекции -- одним из основных блоков программы для обучения нейронных сетей является *описание модели*.\n",
        "\n",
        "Что такое модель? Вне зависимости от используемого фреймворка, это блок кода, который показывает нашей программе как исходные признаки должны быть преобразованы в предсказания модели. \n",
        "\n",
        "А вот само определение модели зависит от фреймворка и каждый из них предлагает свою структуру (правила) описания моделей (которые сейчас становятся все более похожи друг на друга). Структура необходима для того, чтобы фреймворк мог построить вычислительный граф и мог правильно считать его производные."
      ]
    },
    {
      "cell_type": "markdown",
      "metadata": {
        "id": "zZzdE0qXFJd8"
      },
      "source": [
        "## Keras API для Tensorflow\n",
        "\n",
        "Изучение Tensorflow мы начнем сразу с высокоуровневого интерфейса Keras, который считается основным интерфейсом для реализации нейронных сетей в tensorflow и с недавних пор является его частью. Теоретически, все, что мы будем делаем можно реализовать без использования Keras, но в таком случае нам придется писать и тестировать большое количество самописных классов и функций, что не является целью данного блока"
      ]
    },
    {
      "cell_type": "markdown",
      "metadata": {
        "id": "EUeHu8iOPD4V"
      },
      "source": [
        "\n",
        "## Модель в Keras\n",
        "\n",
        " Модель в Keras -- это объект класса **tf.keras.Model**"
      ]
    },
    {
      "cell_type": "code",
      "metadata": {
        "id": "b3WDUlrzLWys"
      },
      "source": [
        "import tensorflow as tf"
      ],
      "execution_count": null,
      "outputs": []
    },
    {
      "cell_type": "code",
      "metadata": {
        "id": "SbPYbMpfLbLi",
        "colab": {
          "base_uri": "https://localhost:8080/"
        },
        "outputId": "e26a0f3e-0cdb-4802-e4d7-5e03bfad7af3"
      },
      "source": [
        "model = tf.keras.Model()\n",
        "type(model)"
      ],
      "execution_count": null,
      "outputs": [
        {
          "output_type": "execute_result",
          "data": {
            "text/plain": [
              "keras.engine.training.Model"
            ]
          },
          "metadata": {},
          "execution_count": 3
        }
      ]
    },
    {
      "cell_type": "code",
      "metadata": {
        "id": "uKTeSzMcLmg6",
        "colab": {
          "base_uri": "https://localhost:8080/",
          "height": 34
        },
        "outputId": "cf350a2c-ca95-4b86-9f7f-51fc8d692588"
      },
      "source": [
        "tf.keras.Model?\n",
        "\"`Model` groups layers into an object with training and inference features.\""
      ],
      "execution_count": null,
      "outputs": [
        {
          "output_type": "execute_result",
          "data": {
            "application/vnd.google.colaboratory.intrinsic+json": {
              "type": "string"
            },
            "text/plain": [
              "'`Model` groups layers into an object with training and inference features.'"
            ]
          },
          "metadata": {},
          "execution_count": 4
        }
      ]
    },
    {
      "cell_type": "markdown",
      "metadata": {
        "id": "_llRWReAMPv4"
      },
      "source": [
        "Из документации видно, что модель -- работает со слоями. Что же такое слой? Если смотреть на модель как на конструктор, то слой -- это кубик.\n",
        "\n",
        "Другими словами слой -- это слой нейронной сети. Их типов существует [очень много](https://www.tensorflow.org/api_docs/python/tf/keras/layers). Но на данный момент мы знаем только один слой -- полносвязный. Давайте посмотрим, как его определить в Keras.\n"
      ]
    },
    {
      "cell_type": "markdown",
      "metadata": {
        "id": "cVjKTlb1Ozr4"
      },
      "source": [
        "### Полносвязный слой\n",
        "Полносвязный слой в Tensorflow называется Dense и живет в tensorflow.keras.layers."
      ]
    },
    {
      "cell_type": "code",
      "metadata": {
        "id": "DxWqWRrgMRn6"
      },
      "source": [
        "from tensorflow.keras.layers import Dense\n",
        "import numpy as np\n",
        "#Dense?"
      ],
      "execution_count": null,
      "outputs": []
    },
    {
      "cell_type": "markdown",
      "metadata": {
        "id": "RGxdw2XBPRLD"
      },
      "source": [
        "Он имеет следующие параметры (показаны лишь самые основные):\n",
        "\n",
        "```\n",
        "Dense(units, activation=None, use_bias=True, kernel_initializer='glorot_uniform', bias_initializer='zeros', ...)\n",
        "```\n",
        "\n",
        "\n",
        "*   units -- количество нейронов на выходе из слоя\n",
        "*   activation -- функция активации, например \"sigmoid\", \"relu\", \"softmax\". по умолчанию -- слой без активации\n",
        "*   use_bias -- применять ли bias \n",
        "*   kernel_initializer и bias_initializer -- правила инициализации матрицы весов (kernel) и баеса. Это часто используемые значения \"по-умолчанию\". Скорее всего вам не придется их никогда менять)"
      ]
    },
    {
      "cell_type": "markdown",
      "metadata": {
        "id": "zeS2kCDsMksC"
      },
      "source": [
        "Обратите внимание в этом списке нет \"количества нейронов на входе\". В keras необходимо указывать количество входных нейронов только в первом слое сети. В остальных он посчитает самостоятельно -- ведь, количество входных нейронов в слой, должно быть равно количеству выходных нейронов на предыдущем слое. \n",
        "\n",
        "В первом слое размер входа указывается через input_shape. \n",
        "\n",
        "Рассмотрим пример ниже. В нем мы “применим” слой к инпуту x. Для применения слоя нужно вызвать его метод `__call__` , который вызывается когда аргумент передается в скобках, это мы делаем в третьей строчке.\n"
      ]
    },
    {
      "cell_type": "code",
      "metadata": {
        "id": "L1d11N2PMNaG",
        "colab": {
          "base_uri": "https://localhost:8080/"
        },
        "outputId": "77807416-b817-4758-d613-a2156f677b72"
      },
      "source": [
        "x = np.ones((4, 3)) # 4 объекта, 3 признака\n",
        "\n",
        "dense_layer = Dense(units=2, input_shape=(3,))\n",
        "output = dense_layer(x)\n",
        "print(f\"Output: {output}\")"
      ],
      "execution_count": null,
      "outputs": [
        {
          "output_type": "stream",
          "name": "stdout",
          "text": [
            "Output: [[ 0.6584329 -1.1335592]\n",
            " [ 0.6584329 -1.1335592]\n",
            " [ 0.6584329 -1.1335592]\n",
            " [ 0.6584329 -1.1335592]]\n"
          ]
        }
      ]
    },
    {
      "cell_type": "code",
      "metadata": {
        "id": "fbi1YKRt7cW6",
        "colab": {
          "base_uri": "https://localhost:8080/"
        },
        "outputId": "2bceffff-bca4-4430-faef-04bad1194799"
      },
      "source": [
        "w, b = dense_layer.get_weights() \n",
        "print(f\"Weights: {w}\")\n",
        "print(f\"Bias: {b}\")"
      ],
      "execution_count": null,
      "outputs": [
        {
          "output_type": "stream",
          "name": "stdout",
          "text": [
            "Weights: [[ 0.6329919   0.3653896 ]\n",
            " [ 0.18968916 -0.5763533 ]\n",
            " [-0.16424817 -0.92259544]]\n",
            "Bias: [0. 0.]\n"
          ]
        }
      ]
    },
    {
      "cell_type": "code",
      "metadata": {
        "id": "nlx7Nd617hBo",
        "colab": {
          "base_uri": "https://localhost:8080/"
        },
        "outputId": "4455f071-ebbc-4dd2-980a-2a75985d835f"
      },
      "source": [
        "manual_output = np.matmul(x, w) + b\n",
        "print(f\"Manual output: {manual_output}\")"
      ],
      "execution_count": null,
      "outputs": [
        {
          "output_type": "stream",
          "name": "stdout",
          "text": [
            "Manual output: [[ 0.6584329  -1.13355917]\n",
            " [ 0.6584329  -1.13355917]\n",
            " [ 0.6584329  -1.13355917]\n",
            " [ 0.6584329  -1.13355917]]\n"
          ]
        }
      ]
    },
    {
      "cell_type": "code",
      "metadata": {
        "id": "QrzeIsRLZKa8",
        "colab": {
          "base_uri": "https://localhost:8080/"
        },
        "outputId": "a4c58d7b-4c79-46c7-b53c-7131bcf9014a"
      },
      "source": [
        "x = np.ones((4, 3))\n",
        "dense_layer = Dense(2, input_shape=(3,), use_bias=False) # можно инициализировать слой без баеса\n",
        "output = dense_layer(x)\n",
        "print(dense_layer.get_weights())"
      ],
      "execution_count": null,
      "outputs": [
        {
          "output_type": "stream",
          "name": "stdout",
          "text": [
            "[array([[-0.623109  , -0.98408926],\n",
            "       [ 0.8572843 ,  0.96171904],\n",
            "       [-0.8707805 ,  0.00315809]], dtype=float32)]\n"
          ]
        }
      ]
    },
    {
      "cell_type": "markdown",
      "metadata": {
        "id": "pKdM3lvWVp04"
      },
      "source": [
        "## Sequential Model\n",
        "А как же нам \"прицепить\" один слой к другому? Самый простой способ это использовать класс **Sequential**. **Sequential** создает каркас модели, в который затем последовательно добавляются слой за слоем с помощью метода `add`."
      ]
    },
    {
      "cell_type": "code",
      "metadata": {
        "id": "rIzvcz_bWKUQ"
      },
      "source": [
        "model = tf.keras.Sequential()\n",
        "model.add(Dense(10, input_shape=(10,), activation=\"relu\")) # скрытый слой 1\n",
        "model.add(Dense(20, activation=\"relu\", \n",
        "                bias_initializer=tf.keras.initializers.Constant(2.0))) # скрытый слой 2, с не дефолтной инициализацией\n",
        "model.add(Dense(5, activation=\"softmax\")) # выходной слой"
      ],
      "execution_count": null,
      "outputs": []
    },
    {
      "cell_type": "code",
      "metadata": {
        "id": "R23hn4AGX1qU",
        "colab": {
          "base_uri": "https://localhost:8080/"
        },
        "outputId": "85478e68-ce1e-4e2d-e3c2-76f211f5b8b3"
      },
      "source": [
        "sample_input = np.random.rand(2, 10)\n",
        "output = model(sample_input)\n",
        "\n",
        "print(output)"
      ],
      "execution_count": null,
      "outputs": [
        {
          "output_type": "stream",
          "name": "stdout",
          "text": [
            "tf.Tensor(\n",
            "[[0.01131993 0.42529896 0.01585618 0.00625361 0.5412713 ]\n",
            " [0.0120163  0.39303884 0.01532272 0.0054859  0.5741363 ]], shape=(2, 5), dtype=float32)\n"
          ]
        }
      ]
    },
    {
      "cell_type": "code",
      "metadata": {
        "id": "gB7dOb0JsDXm",
        "colab": {
          "base_uri": "https://localhost:8080/"
        },
        "outputId": "cebc8994-176a-4c76-8b07-13144278ced0"
      },
      "source": [
        "print(output.numpy().sum(1)) # на выходе -- софтмакс, значит сумма == 1"
      ],
      "execution_count": null,
      "outputs": [
        {
          "output_type": "stream",
          "name": "stdout",
          "text": [
            "[1. 1.]\n"
          ]
        }
      ]
    },
    {
      "cell_type": "code",
      "metadata": {
        "id": "xtjeafdIm77f",
        "colab": {
          "base_uri": "https://localhost:8080/"
        },
        "outputId": "a821549a-9b84-43d8-dee2-438c5eb1e69d"
      },
      "source": [
        "# проверим как инициализирован второй скрытый слой \n",
        "# для этого обратимся к нему с помощью:\n",
        "model.layers[1].get_weights()[1]"
      ],
      "execution_count": null,
      "outputs": [
        {
          "output_type": "execute_result",
          "data": {
            "text/plain": [
              "array([2., 2., 2., 2., 2., 2., 2., 2., 2., 2., 2., 2., 2., 2., 2., 2., 2.,\n",
              "       2., 2., 2.], dtype=float32)"
            ]
          },
          "metadata": {},
          "execution_count": 13
        }
      ]
    },
    {
      "cell_type": "markdown",
      "metadata": {
        "id": "tyU2wwuFZu0f"
      },
      "source": [
        "Есть очень удобная функция, которая подскажет сколько в нашей модели параметров, и какие размерности получены на промежуточных слоях -- model.summary()"
      ]
    },
    {
      "cell_type": "code",
      "metadata": {
        "id": "-oK3FEw8Xcg-",
        "colab": {
          "base_uri": "https://localhost:8080/"
        },
        "outputId": "9e9c34c7-bee3-489e-b9e4-3b8b17a5d49e"
      },
      "source": [
        "model.summary() # None обозначает, что размер батча может быть произвольный"
      ],
      "execution_count": null,
      "outputs": [
        {
          "output_type": "stream",
          "name": "stdout",
          "text": [
            "Model: \"sequential\"\n",
            "_________________________________________________________________\n",
            " Layer (type)                Output Shape              Param #   \n",
            "=================================================================\n",
            " dense_2 (Dense)             (None, 10)                110       \n",
            "                                                                 \n",
            " dense_3 (Dense)             (None, 20)                220       \n",
            "                                                                 \n",
            " dense_4 (Dense)             (None, 5)                 105       \n",
            "                                                                 \n",
            "=================================================================\n",
            "Total params: 435\n",
            "Trainable params: 435\n",
            "Non-trainable params: 0\n",
            "_________________________________________________________________\n"
          ]
        }
      ]
    },
    {
      "cell_type": "code",
      "metadata": {
        "id": "k_lmvspqMK2z",
        "colab": {
          "base_uri": "https://localhost:8080/",
          "height": 307
        },
        "outputId": "b5adc236-2701-4e5a-ae1f-87601f404ba3"
      },
      "source": [
        "# если не указать размер инпута в первом слое, то summary не сработает\n",
        "model_no_input = tf.keras.Sequential()\n",
        "model_no_input.add(Dense(10, activation=\"relu\")) # скрытый слой 1 \n",
        "model_no_input.add(Dense(20, activation=\"relu\"))\n",
        "model_no_input.add(Dense(5, activation=\"softmax\")) # выходной слой\n",
        "\n",
        "model_no_input.summary() # None обозначает, что размер батча может быть произвольный"
      ],
      "execution_count": null,
      "outputs": [
        {
          "output_type": "error",
          "ename": "ValueError",
          "evalue": "ignored",
          "traceback": [
            "\u001b[0;31m---------------------------------------------------------------------------\u001b[0m",
            "\u001b[0;31mValueError\u001b[0m                                Traceback (most recent call last)",
            "\u001b[0;32m<ipython-input-15-4699b57f09e6>\u001b[0m in \u001b[0;36m<module>\u001b[0;34m()\u001b[0m\n\u001b[1;32m      5\u001b[0m \u001b[0mmodel_no_input\u001b[0m\u001b[0;34m.\u001b[0m\u001b[0madd\u001b[0m\u001b[0;34m(\u001b[0m\u001b[0mDense\u001b[0m\u001b[0;34m(\u001b[0m\u001b[0;36m5\u001b[0m\u001b[0;34m,\u001b[0m \u001b[0mactivation\u001b[0m\u001b[0;34m=\u001b[0m\u001b[0;34m\"softmax\"\u001b[0m\u001b[0;34m)\u001b[0m\u001b[0;34m)\u001b[0m \u001b[0;31m# выходной слой\u001b[0m\u001b[0;34m\u001b[0m\u001b[0;34m\u001b[0m\u001b[0m\n\u001b[1;32m      6\u001b[0m \u001b[0;34m\u001b[0m\u001b[0m\n\u001b[0;32m----> 7\u001b[0;31m \u001b[0mmodel_no_input\u001b[0m\u001b[0;34m.\u001b[0m\u001b[0msummary\u001b[0m\u001b[0;34m(\u001b[0m\u001b[0;34m)\u001b[0m \u001b[0;31m# None обозначает, что размер батча может быть произвольный\u001b[0m\u001b[0;34m\u001b[0m\u001b[0;34m\u001b[0m\u001b[0m\n\u001b[0m",
            "\u001b[0;32m/usr/local/lib/python3.7/dist-packages/keras/engine/training.py\u001b[0m in \u001b[0;36msummary\u001b[0;34m(self, line_length, positions, print_fn, expand_nested)\u001b[0m\n\u001b[1;32m   2578\u001b[0m     \u001b[0;32mif\u001b[0m \u001b[0;32mnot\u001b[0m \u001b[0mself\u001b[0m\u001b[0;34m.\u001b[0m\u001b[0mbuilt\u001b[0m\u001b[0;34m:\u001b[0m\u001b[0;34m\u001b[0m\u001b[0;34m\u001b[0m\u001b[0m\n\u001b[1;32m   2579\u001b[0m       raise ValueError(\n\u001b[0;32m-> 2580\u001b[0;31m           \u001b[0;34m'This model has not yet been built. '\u001b[0m\u001b[0;34m\u001b[0m\u001b[0;34m\u001b[0m\u001b[0m\n\u001b[0m\u001b[1;32m   2581\u001b[0m           \u001b[0;34m'Build the model first by calling `build()` or by calling '\u001b[0m\u001b[0;34m\u001b[0m\u001b[0;34m\u001b[0m\u001b[0m\n\u001b[1;32m   2582\u001b[0m           'the model on a batch of data.')\n",
            "\u001b[0;31mValueError\u001b[0m: This model has not yet been built. Build the model first by calling `build()` or by calling the model on a batch of data."
          ]
        }
      ]
    },
    {
      "cell_type": "markdown",
      "metadata": {
        "id": "0_Ol-4JodNEt"
      },
      "source": [
        "Или для еще более наглядного представления -- tf.keras.utils.plot_model()"
      ]
    },
    {
      "cell_type": "code",
      "metadata": {
        "id": "ryR4ECUKdJ-j",
        "colab": {
          "base_uri": "https://localhost:8080/",
          "height": 421
        },
        "outputId": "e6185b3d-bd59-4a09-99ab-3632b97f8f8a"
      },
      "source": [
        "tf.keras.utils.plot_model(model, show_shapes=True)"
      ],
      "execution_count": null,
      "outputs": [
        {
          "output_type": "execute_result",
          "data": {
            "image/png": "[encoded data removed]",
            "text/plain": [
              "<IPython.core.display.Image object>"
            ]
          },
          "metadata": {},
          "execution_count": 16
        }
      ]
    },
    {
      "cell_type": "markdown",
      "metadata": {
        "id": "NJqFSayEgwM7"
      },
      "source": [
        "## Functional API\n",
        "Но с помощью Sequential можно представить ограниченное (хоть и часто достаточное на практике) множество моделей. Представьте, что вам пригодилось реализовать такую модель:\n",
        "\n",
        "<img src=\"https://drive.google.com/uc?export=view&id=1-1Bltu3VDEDbTl0liRmfs5Dr3r5NzBCR\" width=600>"
      ]
    },
    {
      "cell_type": "markdown",
      "metadata": {
        "id": "npdEbnEuYLYJ"
      },
      "source": [
        "Реализовать такую модель с помощью Sequential нельзя. Но здесь к нам на помощь приходит Functional API.\n",
        "\n",
        "Для понимания Functional API нужно начать относится к сети как к графу. В таком случае в роли вершин вступают слои, а ребра связывают выход одного слоя с входом другого. Иллюстрация выше как раз поможет это сделать.\n",
        "\n",
        "Определять слои в коде мы уже умеем, теперь нужно научиться \"рисовать стрелки\". Для того чтобы это сделать нужно просто применить один слой к выходу другого! Рассмотрим пример ниже."
      ]
    },
    {
      "cell_type": "code",
      "metadata": {
        "id": "GlbOvWGKWNq1",
        "colab": {
          "base_uri": "https://localhost:8080/",
          "height": 562
        },
        "outputId": "b5a057d0-a7bb-46d2-af9d-a9162879f2aa"
      },
      "source": [
        "# cпециальный Инпут слой, показывает keras куда \"положить\" данные при использовании модели\n",
        "input_layer = tf.keras.layers.Input(shape=(10, ), name=\"Input\") \n",
        "l1 = Dense(10, name=\"Layer1\") # определили первый слой\n",
        "l1_output = l1(input_layer) # соеденили его с инпутом, \"нарисовали\" самую правую стрелку на картинке выше\n",
        "\n",
        "l2_output = Dense(10, name=\"Layer2\")(input_layer) # дальше будем определять чуть компактнее\n",
        "l3_output = Dense(10, name=\"Layer3\")(l2_output)\n",
        "l4_output = Dense(10, name=\"Layer4\")(l3_output)\n",
        "\n",
        "l5_output = Dense(10, name=\"Layer5\")(l2_output)\n",
        "\n",
        "# специальный слой, который сложит выходы всех слоев, которые ему передали\n",
        "sum_output = tf.keras.layers.Add(name=\"SumLayer\")([l1_output, l4_output, l5_output])\n",
        "\n",
        "# выходной слой\n",
        "output = Dense(10, name=\"Output\")(sum_output)\n",
        "\n",
        "# создаем модель. нужно показать что мы считаем входом в нашу модель, а что выходом.\n",
        "model = tf.keras.Model(inputs=input_layer, outputs=output)\n",
        "\n",
        "tf.keras.utils.plot_model(model, show_shapes=False)"
      ],
      "execution_count": null,
      "outputs": [
        {
          "output_type": "execute_result",
          "data": {
            "image/png": "[encoded data removed]",
            "text/plain": [
              "<IPython.core.display.Image object>"
            ]
          },
          "metadata": {},
          "execution_count": 17
        }
      ]
    },
    {
      "cell_type": "code",
      "metadata": {
        "id": "zIkK3vhC2s6J",
        "colab": {
          "base_uri": "https://localhost:8080/"
        },
        "outputId": "341e8187-889f-4832-a50f-ee26586b089e"
      },
      "source": [
        "model.summary()"
      ],
      "execution_count": null,
      "outputs": [
        {
          "output_type": "stream",
          "name": "stdout",
          "text": [
            "Model: \"model_1\"\n",
            "__________________________________________________________________________________________________\n",
            " Layer (type)                   Output Shape         Param #     Connected to                     \n",
            "==================================================================================================\n",
            " Input (InputLayer)             [(None, 10)]         0           []                               \n",
            "                                                                                                  \n",
            " Layer2 (Dense)                 (None, 10)           110         ['Input[0][0]']                  \n",
            "                                                                                                  \n",
            " Layer3 (Dense)                 (None, 10)           110         ['Layer2[0][0]']                 \n",
            "                                                                                                  \n",
            " Layer1 (Dense)                 (None, 10)           110         ['Input[0][0]']                  \n",
            "                                                                                                  \n",
            " Layer4 (Dense)                 (None, 10)           110         ['Layer3[0][0]']                 \n",
            "                                                                                                  \n",
            " Layer5 (Dense)                 (None, 10)           110         ['Layer2[0][0]']                 \n",
            "                                                                                                  \n",
            " SumLayer (Add)                 (None, 10)           0           ['Layer1[0][0]',                 \n",
            "                                                                  'Layer4[0][0]',                 \n",
            "                                                                  'Layer5[0][0]']                 \n",
            "                                                                                                  \n",
            " Output (Dense)                 (None, 10)           110         ['SumLayer[0][0]']               \n",
            "                                                                                                  \n",
            "==================================================================================================\n",
            "Total params: 660\n",
            "Trainable params: 660\n",
            "Non-trainable params: 0\n",
            "__________________________________________________________________________________________________\n"
          ]
        }
      ]
    },
    {
      "cell_type": "code",
      "metadata": {
        "id": "XU_6aG3pYKcb",
        "colab": {
          "base_uri": "https://localhost:8080/",
          "height": 421
        },
        "outputId": "57f8f067-f3b2-4bed-8329-7ac336f0ef1a"
      },
      "source": [
        "# если мы укажем в аутпутах слой, для вычисления которого не нужно было считать весь граф -- \n",
        "# keras автоматически обрежет граф. \n",
        "model = tf.keras.Model(inputs=input_layer, outputs=l4_output)\n",
        "\n",
        "tf.keras.utils.plot_model(model, show_shapes=True)"
      ],
      "execution_count": null,
      "outputs": [
        {
          "output_type": "execute_result",
          "data": {
            "image/png": "[encoded data removed]",
            "text/plain": [
              "<IPython.core.display.Image object>"
            ]
          },
          "metadata": {},
          "execution_count": 19
        }
      ]
    },
    {
      "cell_type": "code",
      "metadata": {
        "id": "VzgneLplh2K5",
        "colab": {
          "base_uri": "https://localhost:8080/",
          "height": 368
        },
        "outputId": "4a3b0f14-703e-4dc2-f5a7-903cadd35256"
      },
      "source": [
        "# можно указать несколько выходов\n",
        "model = tf.keras.Model(inputs=input_layer, outputs=[l4_output, l5_output, l1_output])\n",
        "\n",
        "tf.keras.utils.plot_model(model, show_shapes=False)"
      ],
      "execution_count": null,
      "outputs": [
        {
          "output_type": "execute_result",
          "data": {
            "image/png": "[encoded data removed]",
            "text/plain": [
              "<IPython.core.display.Image object>"
            ]
          },
          "metadata": {},
          "execution_count": 20
        }
      ]
    },
    {
      "cell_type": "markdown",
      "metadata": {
        "id": "Ll9WS1fBjzvR"
      },
      "source": [
        "## Заключение\n",
        "\n",
        "Мы познакомились с одним из самых главных объектов в Keras -- модель. И сделали первый шаг -- научились ее определять. \n",
        "\n",
        "Теперь вам не составит труда построить модель самостоятельно по ее описанию. Именно это вы и попробуете сделать на [практике](https://colab.research.google.com/drive/1OFKvrSYHU71O68uXcunQtTFJE4sLZW6E). \n",
        "\n",
        "А как только вы почувствуете себя уверенно, мы перейдем к самому интересному -- обучению модели.\n",
        "\n"
      ]
    }
  ]
}