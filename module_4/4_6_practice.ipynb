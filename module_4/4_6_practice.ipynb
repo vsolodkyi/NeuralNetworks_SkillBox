{
  "nbformat": 4,
  "nbformat_minor": 0,
  "metadata": {
    "colab": {
      "name": "4_6_practice.ipynb",
      "provenance": [],
      "authorship_tag": "ABX9TyOqSJ6/vJpIuiyShfjrNKL5",
      "include_colab_link": true
    },
    "kernelspec": {
      "name": "python3",
      "display_name": "Python 3"
    },
    "language_info": {
      "name": "python"
    }
  },
  "cells": [
    {
      "cell_type": "markdown",
      "metadata": {
        "id": "view-in-github",
        "colab_type": "text"
      },
      "source": [
        "<a href=\"https://colab.research.google.com/github/vsolodkyi/NeuralNetworks_SkillBox/blob/main/module_4/4_6_practice.ipynb\" target=\"_parent\"><img src=\"https://colab.research.google.com/assets/colab-badge.svg\" alt=\"Open In Colab\"/></a>"
      ]
    },
    {
      "cell_type": "code",
      "execution_count": 1,
      "metadata": {
        "id": "8pSIHAuie35P"
      },
      "outputs": [],
      "source": [
        "import numpy as np"
      ]
    },
    {
      "cell_type": "code",
      "source": [
        ""
      ],
      "metadata": {
        "id": "hG5hdUAKfJwn"
      },
      "execution_count": null,
      "outputs": []
    },
    {
      "cell_type": "code",
      "source": [
        "def conv(matrix, conv_matrix):\n",
        "  m_length, m_width = len(matrix), len(matrix[0])\n",
        "  l_conv, w_conv = len(conv_matrix), len(conv_matrix[0])\n",
        "  new_m = np.zeros((m_length - l_conv + 1, m_width - w_conv + 1))\n",
        "  for m in range(m_width - w_conv + 1):\n",
        "    for l in range(m_length - l_conv + 1):\n",
        "      #print(l, m, l_conv, w_conv)\n",
        "      new_m[l, m] = np.multiply(matrix[l: l + l_conv, m: m + w_conv], conv_matrix).sum()\n",
        "  return new_m"
      ],
      "metadata": {
        "id": "rBdsGMsie-ci"
      },
      "execution_count": 80,
      "outputs": []
    },
    {
      "cell_type": "code",
      "source": [
        "t = np.array([[0,1,2], [2,2,0], [0,1,2]])"
      ],
      "metadata": {
        "id": "4iqOV4K7gZfM"
      },
      "execution_count": 55,
      "outputs": []
    },
    {
      "cell_type": "code",
      "source": [
        "m = np.array([[3,3,2,1,0], [0,0,1,3,1], [3,1,2,2,3], [2,0,0,2,2], [2,0,0,0,1]])"
      ],
      "metadata": {
        "id": "heFE61aEiC0A"
      },
      "execution_count": 19,
      "outputs": []
    },
    {
      "cell_type": "code",
      "source": [
        "m[0:3, 0:3]"
      ],
      "metadata": {
        "colab": {
          "base_uri": "https://localhost:8080/"
        },
        "id": "tSMbnymmk9dH",
        "outputId": "b97b6b53-c7c6-4b02-cb9b-205816ca872b"
      },
      "execution_count": 42,
      "outputs": [
        {
          "output_type": "execute_result",
          "data": {
            "text/plain": [
              "array([[3, 3, 2],\n",
              "       [0, 0, 1],\n",
              "       [3, 1, 2]])"
            ]
          },
          "metadata": {},
          "execution_count": 42
        }
      ]
    },
    {
      "cell_type": "code",
      "source": [
        "conv(m, t)"
      ],
      "metadata": {
        "colab": {
          "base_uri": "https://localhost:8080/"
        },
        "id": "CJ0hlK0qg_v1",
        "outputId": "28ba8bb0-591f-4f5b-a67e-83ef5ed335a1"
      },
      "execution_count": 81,
      "outputs": [
        {
          "output_type": "execute_result",
          "data": {
            "text/plain": [
              "array([[12., 12., 17.],\n",
              "       [10., 17., 19.],\n",
              "       [ 9.,  6., 14.]])"
            ]
          },
          "metadata": {},
          "execution_count": 81
        }
      ]
    }
  ]
}