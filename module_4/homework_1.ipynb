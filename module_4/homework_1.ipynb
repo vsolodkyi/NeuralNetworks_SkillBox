{
  "nbformat": 4,
  "nbformat_minor": 0,
  "metadata": {
    "colab": {
      "name": "homework_1.ipynb",
      "provenance": [],
      "collapsed_sections": [],
      "include_colab_link": true
    },
    "kernelspec": {
      "name": "python3",
      "display_name": "Python 3"
    },
    "accelerator": "GPU"
  },
  "cells": [
    {
      "cell_type": "markdown",
      "metadata": {
        "id": "view-in-github",
        "colab_type": "text"
      },
      "source": [
        "<a href=\"https://colab.research.google.com/github/vsolodkyi/NeuralNetworks_SkillBox/blob/main/module_4/homework_1.ipynb\" target=\"_parent\"><img src=\"https://colab.research.google.com/assets/colab-badge.svg\" alt=\"Open In Colab\"/></a>"
      ]
    },
    {
      "cell_type": "markdown",
      "metadata": {
        "id": "HQNuj9BzTI9_"
      },
      "source": [
        "# Домашнее задание по обучению сверточной сети\n",
        "\n",
        "В этом задании вы сами (с небольшой помощью) обучите нейронную сеть для классификации кошек и собак! \n",
        "\n",
        "Ниже приводится код для считывания данных аналогичный прошлому уроку, поэтому можете его просто запустить.\n",
        "\n",
        "*Не забудьте добавить в Runtime GPU для ускорения вычислений*."
      ]
    },
    {
      "cell_type": "code",
      "metadata": {
        "id": "AuXYkHfOsmBW"
      },
      "source": [
        "import matplotlib.pyplot as plt\n",
        "import numpy as np\n",
        "import os\n",
        "from pathlib import Path"
      ],
      "execution_count": null,
      "outputs": []
    },
    {
      "cell_type": "code",
      "metadata": {
        "id": "gL5kcbXTsw_G"
      },
      "source": [
        "%tensorflow_version 1.x\n",
        "import tensorflow as tf\n",
        "from tensorflow.keras.preprocessing.image import ImageDataGenerator"
      ],
      "execution_count": null,
      "outputs": []
    },
    {
      "cell_type": "code",
      "metadata": {
        "id": "ouq0gB62sy11"
      },
      "source": [
        "_URL = 'https://storage.googleapis.com/mledu-datasets/cats_and_dogs_filtered.zip'\n",
        "zip_dir = tf.keras.utils.get_file('cats_and_dogs_filterted.zip', origin=_URL, extract=True)"
      ],
      "execution_count": null,
      "outputs": []
    },
    {
      "cell_type": "code",
      "metadata": {
        "id": "H4XIxe_btN4j"
      },
      "source": [
        "! ls /root/.keras/datasets/cats_and_dogs_filtered"
      ],
      "execution_count": null,
      "outputs": []
    },
    {
      "cell_type": "code",
      "metadata": {
        "id": "sJg-w1hxtJXC"
      },
      "source": [
        "base_dir = Path(zip_dir).parent / \"cats_and_dogs_filtered\"\n",
        "train_dir = base_dir / 'train'\n",
        "validation_dir = base_dir / 'validation'\n",
        "\n",
        "train_cats_dir = train_dir / 'cats'\n",
        "train_dogs_dir = train_dir / 'dogs'\n",
        "validation_cats_dir = validation_dir / 'cats'\n",
        "validation_dogs_dir = validation_dir / 'dogs'"
      ],
      "execution_count": null,
      "outputs": []
    },
    {
      "cell_type": "code",
      "metadata": {
        "id": "AfuROvM1tTy-"
      },
      "source": [
        "num_cats_tr = len(list(train_cats_dir.glob(\"*\")))\n",
        "num_dogs_tr = len(list(train_dogs_dir.glob(\"*\")))\n",
        "\n",
        "num_cats_val = len(list(validation_cats_dir.glob(\"*\")))\n",
        "num_dogs_val = len(list(validation_dogs_dir.glob(\"*\")))\n",
        "\n",
        "total_train = num_cats_tr + num_dogs_tr\n",
        "total_val = num_cats_val + num_dogs_val"
      ],
      "execution_count": null,
      "outputs": []
    },
    {
      "cell_type": "code",
      "metadata": {
        "id": "zYYX1Dqft9dK"
      },
      "source": [
        "print('total training cat images:', num_cats_tr)\n",
        "print('total training dog images:', num_dogs_tr)\n",
        "\n",
        "print('total validation cat images:', num_cats_val)\n",
        "print('total validation dog images:', num_dogs_val)\n",
        "print(\"--\")\n",
        "print(\"Total training images:\", total_train)\n",
        "print(\"Total validation images:\", total_val)"
      ],
      "execution_count": null,
      "outputs": []
    },
    {
      "cell_type": "code",
      "metadata": {
        "id": "4d-pWgKMuIEF"
      },
      "source": [
        "BATCH_SIZE = 100\n",
        "IMG_SHAPE  = 150 "
      ],
      "execution_count": null,
      "outputs": []
    },
    {
      "cell_type": "code",
      "metadata": {
        "id": "EAYIx8Feuj8e"
      },
      "source": [
        "train_image_generator      = ImageDataGenerator(rescale=1./255)  \n",
        "validation_image_generator = ImageDataGenerator(rescale=1./255)  "
      ],
      "execution_count": null,
      "outputs": []
    },
    {
      "cell_type": "code",
      "metadata": {
        "id": "gj2Wbr6ium1j"
      },
      "source": [
        "train_data_gen = train_image_generator.flow_from_directory(batch_size=BATCH_SIZE,\n",
        "                                                           directory=train_dir,\n",
        "                                                           shuffle=True,\n",
        "                                                           target_size=(IMG_SHAPE,IMG_SHAPE), \n",
        "                                                           class_mode='binary')\n",
        "\n",
        "val_data_gen = validation_image_generator.flow_from_directory(batch_size=BATCH_SIZE,\n",
        "                                                              directory=validation_dir,\n",
        "                                                              shuffle=False,\n",
        "                                                              target_size=(IMG_SHAPE,IMG_SHAPE), \n",
        "                                                              class_mode='binary')"
      ],
      "execution_count": null,
      "outputs": []
    },
    {
      "cell_type": "code",
      "metadata": {
        "id": "yECJStg3ux26"
      },
      "source": [
        "sample_training_images, sample_labels = next(train_data_gen) "
      ],
      "execution_count": null,
      "outputs": []
    },
    {
      "cell_type": "code",
      "metadata": {
        "id": "r0iuLc59_0gN"
      },
      "source": [
        "_val_images, _val_labels = next(val_data_gen)\n",
        "next(val_data_gen)[1]"
      ],
      "execution_count": null,
      "outputs": []
    },
    {
      "cell_type": "code",
      "metadata": {
        "id": "nLpdzppNu0hY"
      },
      "source": [
        "def show_catsdogs(images, labels, predicted_labels=None):\n",
        "    names = {0: \"Cat\", 1: \"Dog\"}\n",
        "    plt.figure(figsize=(10,10))\n",
        "    for i in range(16):\n",
        "        plt.subplot(4,4, i+1)\n",
        "        plt.xticks([])\n",
        "        plt.yticks([])\n",
        "        plt.grid(False)\n",
        "        plt.imshow(images[i], cmap=plt.cm.gray)\n",
        "        if predicted_labels is not None:\n",
        "            title_obj = plt.title(f\"Real: {names[labels[i]]}. Pred: {names[predicted_labels[i]]}\")\n",
        "            if labels[i] != predicted_labels[i]:\n",
        "                plt.setp(title_obj, color='r')\n",
        "        else:\n",
        "            plt.title(f\"Real label: {names[labels[i]]}\")"
      ],
      "execution_count": null,
      "outputs": []
    },
    {
      "cell_type": "code",
      "metadata": {
        "id": "MoLR1LOtu9p0"
      },
      "source": [
        "show_catsdogs(sample_training_images, sample_labels)"
      ],
      "execution_count": null,
      "outputs": []
    },
    {
      "cell_type": "markdown",
      "metadata": {
        "id": "zF7ghYhVTnDN"
      },
      "source": [
        "# Определение модели\n",
        "\n",
        "**Задание**\n",
        "\n",
        "Определите модель аналогично модели из урока с классификации одежды.\n",
        "\n",
        "1. Используйте сверточные слои с размером фильтра (3,3) и relu активацией. Можно оставить паддинг по умолчанию.\n",
        "2. После каждого сверточного слоя применяйте MaxPool, уменьшающий размер в два раза\n",
        "3. Увеличивайте количество фильтров в два раза после каждого пуллинга до 128, начиная с 32. Таким образом вы добывите три блока conv+pool\n",
        "4. Добавьте еще один conv+pool блок с 128 фильтрами\n",
        "5. Используйте Flatten(), чтобы превратить последний тензор в вектор\n",
        "6. Добавьте полносвязный слой на 128 признаков\n",
        "7. Добавьте выходной слой с активацией sigmoid\n",
        "\n"
      ]
    },
    {
      "cell_type": "code",
      "metadata": {
        "id": "hZpzhVstvDzl"
      },
      "source": [
        "# < YOUR CODE STARTS HERE > \n",
        "\n",
        "\n",
        "\n",
        "\n",
        "\n",
        "\n",
        "\n",
        "\n",
        "\n",
        "\n",
        "\n",
        "\n",
        "# < YOUR CODE ENDS HERE >\n",
        "model.compile(optimizer=tf.keras.optimizers.Adam(1e-3),\n",
        "              loss=tf.keras.losses.binary_crossentropy,\n",
        "              metrics=['accuracy'])"
      ],
      "execution_count": null,
      "outputs": []
    },
    {
      "cell_type": "code",
      "metadata": {
        "id": "8HEoB5a8vP2z"
      },
      "source": [
        "# должно получиться около 1 000 000 параметров\n",
        "model.summary()"
      ],
      "execution_count": null,
      "outputs": []
    },
    {
      "cell_type": "code",
      "metadata": {
        "id": "aHStDvWlvmaV"
      },
      "source": [
        "# для более удобного и наглядного отображения обучения мы воспользуемся библиотекой,\n",
        "# которая реализует коллбек, отображающий кривые обучения в режиме реального времени.\n",
        "!pip install livelossplot\n",
        "from livelossplot.tf_keras import PlotLossesCallback"
      ],
      "execution_count": null,
      "outputs": []
    },
    {
      "cell_type": "code",
      "metadata": {
        "id": "agbkJl-2vU3S"
      },
      "source": [
        "# указанными параметрами спустя 30 эпох вы увидите точность около 75%. \n",
        "# если вас что-то насторожит в графиках, запомните это, это нормально :)\n",
        "EPOCHS = 30\n",
        "history = model.fit_generator(\n",
        "    train_data_gen,\n",
        "    epochs=EPOCHS,\n",
        "    validation_data=val_data_gen,\n",
        "    callbacks=[PlotLossesCallback()]) # мы добавили коллбек для отрисовки прогресса"
      ],
      "execution_count": null,
      "outputs": []
    },
    {
      "cell_type": "markdown",
      "metadata": {
        "id": "TbkNVCKnsPXO"
      },
      "source": [
        "Теперь посмотрим на предсказания нашей сети:"
      ]
    },
    {
      "cell_type": "code",
      "metadata": {
        "id": "54eMttXkvlp4"
      },
      "source": [
        "shuffle_val_data_gen = validation_image_generator.flow_from_directory(batch_size=BATCH_SIZE,\n",
        "                                                              directory=validation_dir,\n",
        "                                                              shuffle=True,\n",
        "                                                              target_size=(IMG_SHAPE,IMG_SHAPE), \n",
        "                                                              class_mode='binary')\n",
        "sample_validation_images, sample_validation_labels = next(shuffle_val_data_gen)\n",
        "predicted = model.predict_classes(sample_validation_images).flatten()\n",
        "show_catsdogs(sample_validation_images, sample_validation_labels, predicted)"
      ],
      "execution_count": null,
      "outputs": []
    },
    {
      "cell_type": "markdown",
      "metadata": {
        "id": "iELiVq6fe6XD"
      },
      "source": [
        " # Заключение\n",
        "\n",
        " В этом задании вы получили классификатор кошек и собак, который имеет точность на валидации около 75%. Поздравляем!\n",
        "\n",
        "Но вы не могли не заметить, что точность на трейне -- 100%. Это явный признак переобучения. Сможем ли мы избавиться от переобучения? Увидим с следующем уроке."
      ]
    }
  ]
}