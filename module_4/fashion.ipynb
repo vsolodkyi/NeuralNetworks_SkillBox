{
  "nbformat": 4,
  "nbformat_minor": 0,
  "metadata": {
    "colab": {
      "name": "fashion.ipynb",
      "provenance": [],
      "collapsed_sections": [],
      "include_colab_link": true
    },
    "kernelspec": {
      "name": "python3",
      "display_name": "Python 3"
    },
    "accelerator": "GPU"
  },
  "cells": [
    {
      "cell_type": "markdown",
      "metadata": {
        "id": "view-in-github",
        "colab_type": "text"
      },
      "source": [
        "<a href=\"https://colab.research.google.com/github/vsolodkyi/NeuralNetworks_SkillBox/blob/main/module_4/fashion.ipynb\" target=\"_parent\"><img src=\"https://colab.research.google.com/assets/colab-badge.svg\" alt=\"Open In Colab\"/></a>"
      ]
    },
    {
      "cell_type": "markdown",
      "metadata": {
        "id": "26VAMDr0cydP"
      },
      "source": [
        "# Сверточная сеть в Keras\n",
        "\n",
        "На лекции мы узнали, что свертки можно комбинировать, применяя друг за другом. Это увеличивает их рецептивное поле и позволяет выучить более сложные признаки. \n",
        "\n",
        "В этом уроке мы с вами обучим нашу первую свертоную нейронную сеть для задачи классификации одежды. Вот как будет выглядеть наш датасет\n",
        "\n",
        "<img src=\"https://1.bp.blogspot.com/-AIPR5UuydTY/WbCLlGEmoAI/AAAAAAAAA2U/Teu6q2FF9LslUL6t6Qn5YjzGWNfHC7y7wCLcBGAs/s1600/fashion-mnist-sprite.png\" width=\"600\">\n",
        "\n",
        "Он называется FashionMnist. Название не случайно похоже на Mnist -- с рукописными цифрами -- FashionMnist придумали как замену Mnist, потому что он стал уж слишком простым для современных нейронных сетей. Как вы помните, на нем мы без труда достигли 97-98% точности. "
      ]
    },
    {
      "cell_type": "markdown",
      "metadata": {
        "id": "GHXizaHzng5e"
      },
      "source": [
        "** перед тем как начать выполнять код мы изменим Runtime на Runtime c GPU. В этом модуле это просто необходимо для ускорения работы*"
      ]
    },
    {
      "cell_type": "code",
      "metadata": {
        "id": "Zx09bGvgLofw",
        "outputId": "b0f21c00-baae-4be1-cfa8-c1a4f248c25f",
        "colab": {
          "base_uri": "https://localhost:8080/"
        }
      },
      "source": [
        "import tensorflow as tf\n",
        "print(tf.__version__)\n",
        "#tf.enable_eager_execution()\n",
        "import matplotlib.pyplot as plt"
      ],
      "execution_count": 2,
      "outputs": [
        {
          "output_type": "stream",
          "name": "stdout",
          "text": [
            "2.8.2\n"
          ]
        }
      ]
    },
    {
      "cell_type": "code",
      "metadata": {
        "id": "6GXQQ7qEg5Uf"
      },
      "source": [
        "mapping = {0: \"T-shirt/top\", 1: \"Trouser\", 2: \"Pullover\", 3: \"Dress\",\n",
        "           4: \"Coat\", 5: \"Sandal\", 6: \"Shirt\", 7: \"Sneaker\", 8: \"Bag\",\n",
        "           9: \"Ankle boot\"}  # датасет содержит 10 классов\n",
        "\n",
        "def show_mnist(images, labels, predicted_labels=None):\n",
        "    plt.figure(figsize=(10,10))\n",
        "    for i in range(16):\n",
        "        plt.subplot(4,4, i+1)\n",
        "        plt.xticks([])\n",
        "        plt.yticks([])\n",
        "        plt.grid(False)\n",
        "        plt.imshow(images[i], cmap=plt.cm.gray)\n",
        "        if predicted_labels is not None:\n",
        "            title_obj = plt.title(f\"Real: {mapping[labels[i]]}. Pred: {mapping[predicted_labels[i]]}\")\n",
        "            if labels[i] != predicted_labels[i]:\n",
        "                plt.setp(title_obj, color='r')\n",
        "        else:\n",
        "            plt.title(f\"Real label: {mapping[labels[i]]}\")"
      ],
      "execution_count": 3,
      "outputs": []
    },
    {
      "cell_type": "code",
      "metadata": {
        "id": "paUMWfQbhL7a",
        "outputId": "aba26341-5488-4c7c-b514-8b70099a1af4",
        "colab": {
          "base_uri": "https://localhost:8080/",
          "height": 813
        }
      },
      "source": [
        "(x_train, y_train),(x_test, y_test) = tf.keras.datasets.fashion_mnist.load_data()\n",
        "x_train, x_test = x_train / 255.0, x_test / 255.0\n",
        "\n",
        "show_mnist(x_train, y_train)\n",
        "print(x_train.shape, x_test.shape)"
      ],
      "execution_count": 4,
      "outputs": [
        {
          "output_type": "stream",
          "name": "stdout",
          "text": [
            "Downloading data from https://storage.googleapis.com/tensorflow/tf-keras-datasets/train-labels-idx1-ubyte.gz\n",
            "32768/29515 [=================================] - 0s 0us/step\n",
            "40960/29515 [=========================================] - 0s 0us/step\n",
            "Downloading data from https://storage.googleapis.com/tensorflow/tf-keras-datasets/train-images-idx3-ubyte.gz\n",
            "26427392/26421880 [==============================] - 0s 0us/step\n",
            "26435584/26421880 [==============================] - 0s 0us/step\n",
            "Downloading data from https://storage.googleapis.com/tensorflow/tf-keras-datasets/t10k-labels-idx1-ubyte.gz\n",
            "16384/5148 [===============================================================================================] - 0s 0us/step\n",
            "Downloading data from https://storage.googleapis.com/tensorflow/tf-keras-datasets/t10k-images-idx3-ubyte.gz\n",
            "4423680/4422102 [==============================] - 0s 0us/step\n",
            "4431872/4422102 [==============================] - 0s 0us/step\n",
            "(60000, 28, 28) (10000, 28, 28)\n"
          ]
        },
        {
          "output_type": "display_data",
          "data": {
            "text/plain": [
              "<Figure size 720x720 with 16 Axes>"
            ],
            "image/png": "[encoded data removed]"
          },
          "metadata": {}
        }
      ]
    },
    {
      "cell_type": "markdown",
      "metadata": {
        "id": "bKeBt3GTicvO"
      },
      "source": [
        "Для начала попробуем обучить на новом датасете полносвязную сеть. В точности такую же как мы обучали ранее."
      ]
    },
    {
      "cell_type": "code",
      "metadata": {
        "id": "wANNsSYuNwFM",
        "outputId": "7094e04a-f8a1-490c-ede2-69619aa183fe",
        "colab": {
          "base_uri": "https://localhost:8080/"
        }
      },
      "source": [
        "model = tf.keras.models.Sequential([\n",
        "    tf.keras.layers.Flatten(input_shape=(28, 28)),\n",
        "    tf.keras.layers.Dense(512, activation='relu'),\n",
        "    tf.keras.layers.Dense(10, activation='softmax')\n",
        "  ])\n",
        "\n",
        "model.summary()\n",
        "model.compile(optimizer='adam',\n",
        "              loss='sparse_categorical_crossentropy',\n",
        "              metrics=['accuracy'])\n",
        "\n",
        "model.fit(x=x_train, y=y_train, \n",
        "          batch_size=128, epochs=15, \n",
        "          validation_data=(x_test, y_test))"
      ],
      "execution_count": 5,
      "outputs": [
        {
          "output_type": "stream",
          "name": "stdout",
          "text": [
            "Model: \"sequential\"\n",
            "_________________________________________________________________\n",
            " Layer (type)                Output Shape              Param #   \n",
            "=================================================================\n",
            " flatten (Flatten)           (None, 784)               0         \n",
            "                                                                 \n",
            " dense (Dense)               (None, 512)               401920    \n",
            "                                                                 \n",
            " dense_1 (Dense)             (None, 10)                5130      \n",
            "                                                                 \n",
            "=================================================================\n",
            "Total params: 407,050\n",
            "Trainable params: 407,050\n",
            "Non-trainable params: 0\n",
            "_________________________________________________________________\n",
            "Epoch 1/15\n",
            "469/469 [==============================] - 4s 3ms/step - loss: 0.5094 - accuracy: 0.8202 - val_loss: 0.4385 - val_accuracy: 0.8435\n",
            "Epoch 2/15\n",
            "469/469 [==============================] - 1s 3ms/step - loss: 0.3715 - accuracy: 0.8662 - val_loss: 0.3892 - val_accuracy: 0.8566\n",
            "Epoch 3/15\n",
            "469/469 [==============================] - 1s 3ms/step - loss: 0.3309 - accuracy: 0.8802 - val_loss: 0.3678 - val_accuracy: 0.8672\n",
            "Epoch 4/15\n",
            "469/469 [==============================] - 1s 3ms/step - loss: 0.3064 - accuracy: 0.8878 - val_loss: 0.3656 - val_accuracy: 0.8697\n",
            "Epoch 5/15\n",
            "469/469 [==============================] - 1s 3ms/step - loss: 0.2861 - accuracy: 0.8952 - val_loss: 0.3483 - val_accuracy: 0.8756\n",
            "Epoch 6/15\n",
            "469/469 [==============================] - 1s 3ms/step - loss: 0.2704 - accuracy: 0.8993 - val_loss: 0.3476 - val_accuracy: 0.8756\n",
            "Epoch 7/15\n",
            "469/469 [==============================] - 1s 3ms/step - loss: 0.2563 - accuracy: 0.9051 - val_loss: 0.3348 - val_accuracy: 0.8803\n",
            "Epoch 8/15\n",
            "469/469 [==============================] - 1s 3ms/step - loss: 0.2472 - accuracy: 0.9081 - val_loss: 0.3398 - val_accuracy: 0.8786\n",
            "Epoch 9/15\n",
            "469/469 [==============================] - 1s 3ms/step - loss: 0.2344 - accuracy: 0.9127 - val_loss: 0.3163 - val_accuracy: 0.8892\n",
            "Epoch 10/15\n",
            "469/469 [==============================] - 1s 3ms/step - loss: 0.2266 - accuracy: 0.9154 - val_loss: 0.3184 - val_accuracy: 0.8907\n",
            "Epoch 11/15\n",
            "469/469 [==============================] - 1s 3ms/step - loss: 0.2170 - accuracy: 0.9196 - val_loss: 0.3250 - val_accuracy: 0.8876\n",
            "Epoch 12/15\n",
            "469/469 [==============================] - 1s 3ms/step - loss: 0.2061 - accuracy: 0.9227 - val_loss: 0.3087 - val_accuracy: 0.8908\n",
            "Epoch 13/15\n",
            "469/469 [==============================] - 1s 3ms/step - loss: 0.2005 - accuracy: 0.9263 - val_loss: 0.3294 - val_accuracy: 0.8862\n",
            "Epoch 14/15\n",
            "469/469 [==============================] - 2s 3ms/step - loss: 0.1927 - accuracy: 0.9283 - val_loss: 0.3072 - val_accuracy: 0.8926\n",
            "Epoch 15/15\n",
            "469/469 [==============================] - 1s 3ms/step - loss: 0.1884 - accuracy: 0.9297 - val_loss: 0.3489 - val_accuracy: 0.8848\n"
          ]
        },
        {
          "output_type": "execute_result",
          "data": {
            "text/plain": [
              "<keras.callbacks.History at 0x7f3850173f10>"
            ]
          },
          "metadata": {},
          "execution_count": 5
        }
      ]
    },
    {
      "cell_type": "markdown",
      "metadata": {
        "id": "H8VrCoYNi7FB"
      },
      "source": [
        "Мы смогли достичь точности только около 88%. Сможем ли мы лучше с помощью сверточной нейронной сети? Давайте попробуем."
      ]
    },
    {
      "cell_type": "code",
      "metadata": {
        "id": "J6_bDmltif7q",
        "outputId": "af7dc865-0134-4ac3-c16b-79e1d988e5db",
        "colab": {
          "base_uri": "https://localhost:8080/"
        }
      },
      "source": [
        "# помним, что для работы со сверточной сетью нам нужны 4х мерные тензоры -- меняем размеры\n",
        "x_train = x_train[..., None]\n",
        "x_test = x_test[..., None]\n",
        "print(x_train.shape, x_test.shape)"
      ],
      "execution_count": 6,
      "outputs": [
        {
          "output_type": "stream",
          "name": "stdout",
          "text": [
            "(60000, 28, 28, 1) (10000, 28, 28, 1)\n"
          ]
        }
      ]
    },
    {
      "cell_type": "markdown",
      "metadata": {
        "id": "lmkyyR6PjqND"
      },
      "source": [
        "Мы построим архитектуру по следующим правилам:\n",
        "*   Будем использовать сверточные слои 3 на 3 с активацией ReLU\n",
        "*   За сверткой будет следовать слой MaxPool\n",
        "*   Количество фильтров при уменьшении тензора в два раза (т.е. после MaxPool)будем увеличивать в два раза\n",
        "\n"
      ]
    },
    {
      "cell_type": "code",
      "metadata": {
        "id": "GyzFL7aEg44E",
        "outputId": "4429fb77-49de-4873-8423-37034c2dff9d",
        "colab": {
          "base_uri": "https://localhost:8080/"
        }
      },
      "source": [
        "model = tf.keras.Sequential()\n",
        "model.add(tf.keras.layers.Conv2D(filters=32, kernel_size=(3, 3), padding='same', \n",
        "                                 activation='relu', input_shape=(28, 28, 1))) \n",
        "model.add(tf.keras.layers.MaxPooling2D(pool_size=2))\n",
        "\n",
        "model.add(tf.keras.layers.Conv2D(filters=64, kernel_size=(3, 3), padding='same', \n",
        "                                 activation='relu'))\n",
        "model.add(tf.keras.layers.MaxPooling2D(pool_size=2))\n",
        "# т.к. мы используем padding='same', значит, после двух пулингов размер уменьшится ровно в два раза. \n",
        "# можем это увидеть на summary\n",
        "model.summary()"
      ],
      "execution_count": 7,
      "outputs": [
        {
          "output_type": "stream",
          "name": "stdout",
          "text": [
            "Model: \"sequential_1\"\n",
            "_________________________________________________________________\n",
            " Layer (type)                Output Shape              Param #   \n",
            "=================================================================\n",
            " conv2d (Conv2D)             (None, 28, 28, 32)        320       \n",
            "                                                                 \n",
            " max_pooling2d (MaxPooling2D  (None, 14, 14, 32)       0         \n",
            " )                                                               \n",
            "                                                                 \n",
            " conv2d_1 (Conv2D)           (None, 14, 14, 64)        18496     \n",
            "                                                                 \n",
            " max_pooling2d_1 (MaxPooling  (None, 7, 7, 64)         0         \n",
            " 2D)                                                             \n",
            "                                                                 \n",
            "=================================================================\n",
            "Total params: 18,816\n",
            "Trainable params: 18,816\n",
            "Non-trainable params: 0\n",
            "_________________________________________________________________\n"
          ]
        }
      ]
    },
    {
      "cell_type": "markdown",
      "metadata": {
        "id": "p7RNvaAwlCmT"
      },
      "source": [
        "Мы получили тензор размера (7,7,64). Как же мы можем превратить его в классы? Очень просто! Мы уже умеем это делать для полносвязных сетей. Давайте и здесь применем полносвязные слои, чтобы предсказать 10 классов. \n",
        "\n",
        "Только перед тем как мы применем полносвязный слой -- мы должны \"вытянуть\" то, что мы ему подаем в строчку, ведь он ожидает вектор а не многомерный тензор.\n",
        "\n",
        "Воспользуемся **tf.keras.layers.Flatten()**."
      ]
    },
    {
      "cell_type": "code",
      "metadata": {
        "id": "J3ptQ1IOj84Z",
        "outputId": "360285ff-6089-404c-e14c-44d1e7723757",
        "colab": {
          "base_uri": "https://localhost:8080/"
        }
      },
      "source": [
        "model.add(tf.keras.layers.Flatten())\n",
        "model.add(tf.keras.layers.Dense(64, activation='relu'))\n",
        "model.add(tf.keras.layers.Dense(10, activation='softmax'))\n",
        "model.summary()"
      ],
      "execution_count": 8,
      "outputs": [
        {
          "output_type": "stream",
          "name": "stdout",
          "text": [
            "Model: \"sequential_1\"\n",
            "_________________________________________________________________\n",
            " Layer (type)                Output Shape              Param #   \n",
            "=================================================================\n",
            " conv2d (Conv2D)             (None, 28, 28, 32)        320       \n",
            "                                                                 \n",
            " max_pooling2d (MaxPooling2D  (None, 14, 14, 32)       0         \n",
            " )                                                               \n",
            "                                                                 \n",
            " conv2d_1 (Conv2D)           (None, 14, 14, 64)        18496     \n",
            "                                                                 \n",
            " max_pooling2d_1 (MaxPooling  (None, 7, 7, 64)         0         \n",
            " 2D)                                                             \n",
            "                                                                 \n",
            " flatten_1 (Flatten)         (None, 3136)              0         \n",
            "                                                                 \n",
            " dense_2 (Dense)             (None, 64)                200768    \n",
            "                                                                 \n",
            " dense_3 (Dense)             (None, 10)                650       \n",
            "                                                                 \n",
            "=================================================================\n",
            "Total params: 220,234\n",
            "Trainable params: 220,234\n",
            "Non-trainable params: 0\n",
            "_________________________________________________________________\n"
          ]
        }
      ]
    },
    {
      "cell_type": "markdown",
      "metadata": {
        "id": "Gs1Rk7vUmG9D"
      },
      "source": [
        "Обратите внимание на количество параметров -- почти в два раза меньше, чем для полносвязной сети."
      ]
    },
    {
      "cell_type": "code",
      "metadata": {
        "id": "DQAB_2Sjl_H5"
      },
      "source": [
        "model.compile(optimizer='adam',\n",
        "              loss='sparse_categorical_crossentropy',\n",
        "              metrics=['accuracy'])"
      ],
      "execution_count": 9,
      "outputs": []
    },
    {
      "cell_type": "code",
      "metadata": {
        "id": "89SI4JZbmRzR",
        "outputId": "4756c6b4-3dcc-4428-ee55-580ae54dc447",
        "colab": {
          "base_uri": "https://localhost:8080/"
        }
      },
      "source": [
        "model.fit(x=x_train, y=y_train, \n",
        "          batch_size=128, epochs=20, \n",
        "          validation_data=(x_test, y_test))"
      ],
      "execution_count": 10,
      "outputs": [
        {
          "output_type": "stream",
          "name": "stdout",
          "text": [
            "Epoch 1/20\n",
            "469/469 [==============================] - 12s 6ms/step - loss: 0.5150 - accuracy: 0.8178 - val_loss: 0.3723 - val_accuracy: 0.8684\n",
            "Epoch 2/20\n",
            "469/469 [==============================] - 3s 5ms/step - loss: 0.3269 - accuracy: 0.8844 - val_loss: 0.3279 - val_accuracy: 0.8814\n",
            "Epoch 3/20\n",
            "469/469 [==============================] - 3s 6ms/step - loss: 0.2822 - accuracy: 0.8985 - val_loss: 0.2912 - val_accuracy: 0.8978\n",
            "Epoch 4/20\n",
            "469/469 [==============================] - 3s 6ms/step - loss: 0.2502 - accuracy: 0.9100 - val_loss: 0.2764 - val_accuracy: 0.9006\n",
            "Epoch 5/20\n",
            "469/469 [==============================] - 3s 5ms/step - loss: 0.2282 - accuracy: 0.9177 - val_loss: 0.2635 - val_accuracy: 0.9044\n",
            "Epoch 6/20\n",
            "469/469 [==============================] - 3s 6ms/step - loss: 0.2099 - accuracy: 0.9239 - val_loss: 0.2582 - val_accuracy: 0.9078\n",
            "Epoch 7/20\n",
            "469/469 [==============================] - 3s 6ms/step - loss: 0.1915 - accuracy: 0.9309 - val_loss: 0.3065 - val_accuracy: 0.8955\n",
            "Epoch 8/20\n",
            "469/469 [==============================] - 3s 5ms/step - loss: 0.1793 - accuracy: 0.9353 - val_loss: 0.2429 - val_accuracy: 0.9139\n",
            "Epoch 9/20\n",
            "469/469 [==============================] - 3s 6ms/step - loss: 0.1662 - accuracy: 0.9404 - val_loss: 0.2529 - val_accuracy: 0.9135\n",
            "Epoch 10/20\n",
            "469/469 [==============================] - 3s 6ms/step - loss: 0.1505 - accuracy: 0.9452 - val_loss: 0.2307 - val_accuracy: 0.9170\n",
            "Epoch 11/20\n",
            "469/469 [==============================] - 3s 6ms/step - loss: 0.1367 - accuracy: 0.9497 - val_loss: 0.2477 - val_accuracy: 0.9173\n",
            "Epoch 12/20\n",
            "469/469 [==============================] - 3s 6ms/step - loss: 0.1264 - accuracy: 0.9547 - val_loss: 0.2463 - val_accuracy: 0.9169\n",
            "Epoch 13/20\n",
            "469/469 [==============================] - 3s 6ms/step - loss: 0.1153 - accuracy: 0.9582 - val_loss: 0.2378 - val_accuracy: 0.9206\n",
            "Epoch 14/20\n",
            "469/469 [==============================] - 3s 5ms/step - loss: 0.1058 - accuracy: 0.9619 - val_loss: 0.2414 - val_accuracy: 0.9203\n",
            "Epoch 15/20\n",
            "469/469 [==============================] - 3s 6ms/step - loss: 0.0939 - accuracy: 0.9668 - val_loss: 0.2586 - val_accuracy: 0.9211\n",
            "Epoch 16/20\n",
            "469/469 [==============================] - 3s 5ms/step - loss: 0.0881 - accuracy: 0.9682 - val_loss: 0.2603 - val_accuracy: 0.9218\n",
            "Epoch 17/20\n",
            "469/469 [==============================] - 3s 6ms/step - loss: 0.0766 - accuracy: 0.9733 - val_loss: 0.2682 - val_accuracy: 0.9215\n",
            "Epoch 18/20\n",
            "469/469 [==============================] - 3s 6ms/step - loss: 0.0704 - accuracy: 0.9748 - val_loss: 0.2832 - val_accuracy: 0.9169\n",
            "Epoch 19/20\n",
            "469/469 [==============================] - 3s 6ms/step - loss: 0.0611 - accuracy: 0.9777 - val_loss: 0.3138 - val_accuracy: 0.9126\n",
            "Epoch 20/20\n",
            "469/469 [==============================] - 3s 6ms/step - loss: 0.0531 - accuracy: 0.9814 - val_loss: 0.3238 - val_accuracy: 0.9171\n"
          ]
        },
        {
          "output_type": "execute_result",
          "data": {
            "text/plain": [
              "<keras.callbacks.History at 0x7f37e2108cd0>"
            ]
          },
          "metadata": {},
          "execution_count": 10
        }
      ]
    },
    {
      "cell_type": "markdown",
      "metadata": {
        "id": "Yk7k8-Vnm91H"
      },
      "source": [
        "Мы получили точность около 91%, что уже лучше, чем точность полносвязной сети для этой же задачи. При этом том, в нашей сети почти в два раза меньше параметров. Мы можем еще увеличить точность немного изменив архитектуру:"
      ]
    },
    {
      "cell_type": "code",
      "metadata": {
        "id": "0Poe1qXVqsJu",
        "outputId": "93ea846b-896f-4d9d-ca73-6eb4d78b362c",
        "colab": {
          "base_uri": "https://localhost:8080/"
        }
      },
      "source": [
        "# обратите внимание, сейчас перед пуллингом используется два светочных слоя\n",
        "model = tf.keras.Sequential()\n",
        "model.add(tf.keras.layers.Conv2D(filters=32, kernel_size=(3, 3), padding='same', \n",
        "                                 activation='relu', input_shape=(28, 28, 1))) \n",
        "model.add(tf.keras.layers.Conv2D(filters=32, kernel_size=(3, 3), padding='same', \n",
        "                                 activation='relu')) \n",
        "model.add(tf.keras.layers.MaxPooling2D(pool_size=2))\n",
        "\n",
        "model.add(tf.keras.layers.Conv2D(filters=64, kernel_size=(3, 3), padding='same', \n",
        "                                 activation='relu'))\n",
        "model.add(tf.keras.layers.Conv2D(filters=64, kernel_size=(3, 3), padding='same', \n",
        "                                 activation='relu'))\n",
        "model.add(tf.keras.layers.MaxPooling2D(pool_size=2))\n",
        "\n",
        "model.add(tf.keras.layers.Flatten())\n",
        "model.add(tf.keras.layers.Dense(64, activation='relu'))\n",
        "model.add(tf.keras.layers.Dense(10, activation='softmax'))\n",
        "model.summary()\n",
        "\n",
        "model.compile(optimizer='adam',\n",
        "              loss='sparse_categorical_crossentropy',\n",
        "              metrics=['accuracy'])"
      ],
      "execution_count": 11,
      "outputs": [
        {
          "output_type": "stream",
          "name": "stdout",
          "text": [
            "Model: \"sequential_2\"\n",
            "_________________________________________________________________\n",
            " Layer (type)                Output Shape              Param #   \n",
            "=================================================================\n",
            " conv2d_2 (Conv2D)           (None, 28, 28, 32)        320       \n",
            "                                                                 \n",
            " conv2d_3 (Conv2D)           (None, 28, 28, 32)        9248      \n",
            "                                                                 \n",
            " max_pooling2d_2 (MaxPooling  (None, 14, 14, 32)       0         \n",
            " 2D)                                                             \n",
            "                                                                 \n",
            " conv2d_4 (Conv2D)           (None, 14, 14, 64)        18496     \n",
            "                                                                 \n",
            " conv2d_5 (Conv2D)           (None, 14, 14, 64)        36928     \n",
            "                                                                 \n",
            " max_pooling2d_3 (MaxPooling  (None, 7, 7, 64)         0         \n",
            " 2D)                                                             \n",
            "                                                                 \n",
            " flatten_2 (Flatten)         (None, 3136)              0         \n",
            "                                                                 \n",
            " dense_4 (Dense)             (None, 64)                200768    \n",
            "                                                                 \n",
            " dense_5 (Dense)             (None, 10)                650       \n",
            "                                                                 \n",
            "=================================================================\n",
            "Total params: 266,410\n",
            "Trainable params: 266,410\n",
            "Non-trainable params: 0\n",
            "_________________________________________________________________\n"
          ]
        }
      ]
    },
    {
      "cell_type": "code",
      "metadata": {
        "id": "6FeX54o2rHXf",
        "outputId": "ee92734e-71a2-4e5d-af4f-afe636a77ec2",
        "colab": {
          "base_uri": "https://localhost:8080/"
        }
      },
      "source": [
        "model.fit(x=x_train, y=y_train, \n",
        "          batch_size=128, epochs=20, \n",
        "          validation_data=(x_test, y_test))"
      ],
      "execution_count": 12,
      "outputs": [
        {
          "output_type": "stream",
          "name": "stdout",
          "text": [
            "Epoch 1/20\n",
            "469/469 [==============================] - 6s 11ms/step - loss: 0.4769 - accuracy: 0.8286 - val_loss: 0.3278 - val_accuracy: 0.8773\n",
            "Epoch 2/20\n",
            "469/469 [==============================] - 5s 11ms/step - loss: 0.2795 - accuracy: 0.8997 - val_loss: 0.2675 - val_accuracy: 0.9038\n",
            "Epoch 3/20\n",
            "469/469 [==============================] - 5s 10ms/step - loss: 0.2299 - accuracy: 0.9162 - val_loss: 0.2484 - val_accuracy: 0.9122\n",
            "Epoch 4/20\n",
            "469/469 [==============================] - 5s 11ms/step - loss: 0.1997 - accuracy: 0.9267 - val_loss: 0.2321 - val_accuracy: 0.9178\n",
            "Epoch 5/20\n",
            "469/469 [==============================] - 5s 11ms/step - loss: 0.1731 - accuracy: 0.9362 - val_loss: 0.2222 - val_accuracy: 0.9198\n",
            "Epoch 6/20\n",
            "469/469 [==============================] - 5s 10ms/step - loss: 0.1539 - accuracy: 0.9437 - val_loss: 0.2289 - val_accuracy: 0.9208\n",
            "Epoch 7/20\n",
            "469/469 [==============================] - 5s 11ms/step - loss: 0.1333 - accuracy: 0.9511 - val_loss: 0.2260 - val_accuracy: 0.9229\n",
            "Epoch 8/20\n",
            "469/469 [==============================] - 5s 11ms/step - loss: 0.1154 - accuracy: 0.9574 - val_loss: 0.2394 - val_accuracy: 0.9202\n",
            "Epoch 9/20\n",
            "469/469 [==============================] - 5s 11ms/step - loss: 0.0996 - accuracy: 0.9625 - val_loss: 0.2445 - val_accuracy: 0.9217\n",
            "Epoch 10/20\n",
            "469/469 [==============================] - 5s 11ms/step - loss: 0.0872 - accuracy: 0.9681 - val_loss: 0.2533 - val_accuracy: 0.9255\n",
            "Epoch 11/20\n",
            "469/469 [==============================] - 5s 10ms/step - loss: 0.0717 - accuracy: 0.9735 - val_loss: 0.2671 - val_accuracy: 0.9252\n",
            "Epoch 12/20\n",
            "469/469 [==============================] - 5s 11ms/step - loss: 0.0599 - accuracy: 0.9778 - val_loss: 0.2976 - val_accuracy: 0.9221\n",
            "Epoch 13/20\n",
            "469/469 [==============================] - 5s 10ms/step - loss: 0.0523 - accuracy: 0.9812 - val_loss: 0.3147 - val_accuracy: 0.9260\n",
            "Epoch 14/20\n",
            "469/469 [==============================] - 5s 10ms/step - loss: 0.0458 - accuracy: 0.9827 - val_loss: 0.3460 - val_accuracy: 0.9221\n",
            "Epoch 15/20\n",
            "469/469 [==============================] - 5s 11ms/step - loss: 0.0382 - accuracy: 0.9855 - val_loss: 0.3309 - val_accuracy: 0.9266\n",
            "Epoch 16/20\n",
            "469/469 [==============================] - 5s 11ms/step - loss: 0.0354 - accuracy: 0.9873 - val_loss: 0.3752 - val_accuracy: 0.9222\n",
            "Epoch 17/20\n",
            "469/469 [==============================] - 5s 11ms/step - loss: 0.0316 - accuracy: 0.9885 - val_loss: 0.4044 - val_accuracy: 0.9216\n",
            "Epoch 18/20\n",
            "469/469 [==============================] - 5s 11ms/step - loss: 0.0274 - accuracy: 0.9905 - val_loss: 0.4099 - val_accuracy: 0.9233\n",
            "Epoch 19/20\n",
            "469/469 [==============================] - 5s 11ms/step - loss: 0.0266 - accuracy: 0.9902 - val_loss: 0.4563 - val_accuracy: 0.9170\n",
            "Epoch 20/20\n",
            "469/469 [==============================] - 5s 11ms/step - loss: 0.0263 - accuracy: 0.9903 - val_loss: 0.4703 - val_accuracy: 0.9243\n"
          ]
        },
        {
          "output_type": "execute_result",
          "data": {
            "text/plain": [
              "<keras.callbacks.History at 0x7f37ce302f10>"
            ]
          },
          "metadata": {},
          "execution_count": 12
        }
      ]
    },
    {
      "cell_type": "markdown",
      "metadata": {
        "id": "oDwnSMIour8r"
      },
      "source": [
        "Как выбрать архитектуру? Как мы обсуждали ранее -- однозначного ответа на этот вопрос нет. Всегда нужно эксперементировать и только так узнавать что лучше подойдет для конкретной задаче. Но через пару уроков мы узнаем про архитектуры, которые уже придумали и продумали за нас и их можно использовать почти без изменений."
      ]
    },
    {
      "cell_type": "markdown",
      "metadata": {
        "id": "3B8w-i-GowO6"
      },
      "source": [
        "# Заключение\n",
        "\n",
        "В этом уроке мы обучили свою первую сверточную нейронную сеть. Мы увидели, что благодаря Keras делать это очень просто.\n",
        "\n",
        "Также мы убедились в том, что такая архитектура больше подходит для изображений. И позволяет достичь бОльшей точности при меньшем количестве параметров. \n",
        "\n",
        "В следующем практическом задании вы научите сеть классифицировать реальные фотографии кошек и собак. Но перед этим мы немного подготовимся к работе с реальными изображениями в следующем уроке.\n"
      ]
    }
  ]
}