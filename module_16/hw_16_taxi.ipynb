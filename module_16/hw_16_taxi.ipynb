{
  "nbformat": 4,
  "nbformat_minor": 0,
  "metadata": {
    "colab": {
      "name": "Untitled0.ipynb",
      "provenance": [],
      "authorship_tag": "ABX9TyM0QYZeyIi3DMss5LRgNmlT",
      "include_colab_link": true
    },
    "kernelspec": {
      "name": "python3",
      "display_name": "Python 3"
    },
    "language_info": {
      "name": "python"
    }
  },
  "cells": [
    {
      "cell_type": "markdown",
      "metadata": {
        "id": "view-in-github",
        "colab_type": "text"
      },
      "source": [
        "<a href=\"https://colab.research.google.com/github/vsolodkyi/NeuralNetworks_SkillBox/blob/main/module_16/hw_16_taxi.ipynb\" target=\"_parent\"><img src=\"https://colab.research.google.com/assets/colab-badge.svg\" alt=\"Open In Colab\"/></a>"
      ]
    },
    {
      "cell_type": "code",
      "execution_count": 1,
      "metadata": {
        "id": "pj2Npjv12sxW"
      },
      "outputs": [],
      "source": [
        "#download libraries\n",
        "\n",
        "import numpy as np\n",
        "\n",
        "import gym\n",
        "\n",
        "import matplotlib.pyplot as plt\n",
        "%matplotlib inline"
      ]
    },
    {
      "cell_type": "code",
      "source": [
        "#create taxi simulator\n",
        "env = gym.make('Taxi-v3')\n",
        "\n",
        "NUM_STATES = env.observation_space.n\n",
        "NUM_ACTIONS = env.action_space.n\n",
        "\n",
        "print('States: {}'.format(NUM_STATES))\n",
        "print('Actions: {}'.format(NUM_ACTIONS))\n",
        "print('Actions kind: {}'.format(env.action_space))"
      ],
      "metadata": {
        "colab": {
          "base_uri": "https://localhost:8080/"
        },
        "id": "vGZwyTSx2yjI",
        "outputId": "6b81194a-0486-41f8-a9ef-8f948ae29214"
      },
      "execution_count": 5,
      "outputs": [
        {
          "output_type": "stream",
          "name": "stdout",
          "text": [
            "States: 500\n",
            "Actions: 6\n",
            "Actions kind: Discrete(6)\n"
          ]
        }
      ]
    },
    {
      "cell_type": "code",
      "source": [
        "lr = 0.8 # learning rate\n",
        "gamma = 0.95 # параметр дисконтирования\n",
        "\n",
        "NUM_EPISODES = 5000 # число эпизодов для обучения\n",
        "MAX_STEPS = 100 # максимальное число шагов в эпизоде"
      ],
      "metadata": {
        "id": "sfQqWFymCja-"
      },
      "execution_count": 18,
      "outputs": []
    },
    {
      "cell_type": "code",
      "source": [
        "pathLenList = [] # длины траекторий по эпизодам\n",
        "totalRewardList = [] # суммарные награды по эпизодам\n",
        "\n",
        "# Инициализация Q-функции (таблицы)\n",
        "Q = np.random.rand(NUM_STATES, NUM_ACTIONS)\n",
        "\n",
        "for i in range(NUM_EPISODES):\n",
        "    \n",
        "    s = env.reset()\n",
        "\n",
        "    totalReward = 0\n",
        "    step = 0\n",
        "\n",
        "    while step < MAX_STEPS:\n",
        "        step += 1\n",
        "            \n",
        "        # Выбор действия по текущей политике\n",
        "        a = np.argmax(Q[s,:])\n",
        "        \n",
        "        # Сделать шаг\n",
        "        s1, r, done, _ = env.step(a)\n",
        "        \n",
        "        # Новое (целевое) значение Q-функции\n",
        "        if done:\n",
        "            Q_target = r\n",
        "        else:\n",
        "            Q_target = r + gamma * np.max(Q[s1,:])\n",
        "            \n",
        "        # Обновление Q-функции\n",
        "        Q[s,a] = (1-lr) * Q[s,a] + lr * Q_target\n",
        "        \n",
        "        totalReward += r\n",
        "        s = s1\n",
        "        \n",
        "        # Если конец эпизода\n",
        "        if done:\n",
        "            break\n",
        "            \n",
        "    pathLenList.append(step)\n",
        "    totalRewardList.append(totalReward)\n",
        "    if i % 100 == 0:\n",
        "      print('Episode {}: Total reward = {}'.format(i, totalReward))        "
      ],
      "metadata": {
        "colab": {
          "base_uri": "https://localhost:8080/"
        },
        "id": "y0gk8BF0Cku7",
        "outputId": "c171d78b-443f-4016-b937-45f947ba2971"
      },
      "execution_count": 19,
      "outputs": [
        {
          "output_type": "stream",
          "name": "stdout",
          "text": [
            "Episode 0: Total reward = -316\n",
            "Episode 100: Total reward = -70\n",
            "Episode 200: Total reward = 11\n",
            "Episode 300: Total reward = 7\n",
            "Episode 400: Total reward = -6\n",
            "Episode 500: Total reward = 11\n",
            "Episode 600: Total reward = 6\n",
            "Episode 700: Total reward = 6\n",
            "Episode 800: Total reward = 8\n",
            "Episode 900: Total reward = 10\n",
            "Episode 1000: Total reward = 6\n",
            "Episode 1100: Total reward = 7\n",
            "Episode 1200: Total reward = 4\n",
            "Episode 1300: Total reward = 8\n",
            "Episode 1400: Total reward = 5\n",
            "Episode 1500: Total reward = 5\n",
            "Episode 1600: Total reward = 7\n",
            "Episode 1700: Total reward = 6\n",
            "Episode 1800: Total reward = 11\n",
            "Episode 1900: Total reward = 6\n",
            "Episode 2000: Total reward = 8\n",
            "Episode 2100: Total reward = 6\n",
            "Episode 2200: Total reward = 6\n",
            "Episode 2300: Total reward = 9\n",
            "Episode 2400: Total reward = 6\n",
            "Episode 2500: Total reward = 6\n",
            "Episode 2600: Total reward = 9\n",
            "Episode 2700: Total reward = 5\n",
            "Episode 2800: Total reward = 9\n",
            "Episode 2900: Total reward = 4\n",
            "Episode 3000: Total reward = 11\n",
            "Episode 3100: Total reward = 9\n",
            "Episode 3200: Total reward = 5\n",
            "Episode 3300: Total reward = 5\n",
            "Episode 3400: Total reward = 7\n",
            "Episode 3500: Total reward = 15\n",
            "Episode 3600: Total reward = 8\n",
            "Episode 3700: Total reward = 7\n",
            "Episode 3800: Total reward = 10\n",
            "Episode 3900: Total reward = 10\n",
            "Episode 4000: Total reward = 6\n",
            "Episode 4100: Total reward = 8\n",
            "Episode 4200: Total reward = 4\n",
            "Episode 4300: Total reward = 11\n",
            "Episode 4400: Total reward = 7\n",
            "Episode 4500: Total reward = 10\n",
            "Episode 4600: Total reward = 11\n",
            "Episode 4700: Total reward = 6\n",
            "Episode 4800: Total reward = 5\n",
            "Episode 4900: Total reward = 7\n"
          ]
        }
      ]
    },
    {
      "cell_type": "code",
      "source": [
        "print(Q)"
      ],
      "metadata": {
        "colab": {
          "base_uri": "https://localhost:8080/"
        },
        "id": "SoHQG4xzDIqF",
        "outputId": "fdb4004d-4615-4c2c-a13d-d746b64a595c"
      },
      "execution_count": 20,
      "outputs": [
        {
          "output_type": "stream",
          "name": "stdout",
          "text": [
            "[[ 0.78428182  0.87374006  0.8185034   0.80662921  0.57775759  0.80777416]\n",
            " [-5.97750319 -5.64855843 -5.53992639 -5.82847839  5.20997639 -7.56186705]\n",
            " [-3.3387779  -3.52282821 -3.35437822 -3.07082966 10.9512375  -7.32670259]\n",
            " ...\n",
            " [-1.38875783 -1.25441799 -1.43877917 -2.08686263 -7.6293256  -7.55853725]\n",
            " [-4.01964316 -4.13725745 -3.95863919 -4.30299486 -7.82788175 -7.71109559]\n",
            " [-0.39477872  0.32123939  0.27883023 16.67743016 -7.63497142  0.0409021 ]]\n"
          ]
        }
      ]
    },
    {
      "cell_type": "code",
      "source": [
        "plt.plot(pathLenList)\n",
        "plt.grid()"
      ],
      "metadata": {
        "colab": {
          "base_uri": "https://localhost:8080/",
          "height": 265
        },
        "id": "jO3kS2TbDQIC",
        "outputId": "e7099cc2-fb36-4146-91b3-c61813699c39"
      },
      "execution_count": 21,
      "outputs": [
        {
          "output_type": "display_data",
          "data": {
            "text/plain": [
              "<Figure size 432x288 with 1 Axes>"
            ],
            "image/png": "[encoded data removed]"
          },
          "metadata": {
            "needs_background": "light"
          }
        }
      ]
    },
    {
      "cell_type": "code",
      "source": [
        "plt.plot(totalRewardList)\n",
        "plt.grid()"
      ],
      "metadata": {
        "colab": {
          "base_uri": "https://localhost:8080/",
          "height": 265
        },
        "id": "s0-LbMxRDVi9",
        "outputId": "a84b09d9-5a87-4f89-c418-9b3c507e0d5b"
      },
      "execution_count": 22,
      "outputs": [
        {
          "output_type": "display_data",
          "data": {
            "text/plain": [
              "<Figure size 432x288 with 1 Axes>"
            ],
            "image/png": "[encoded data removed]"
          },
          "metadata": {
            "needs_background": "light"
          }
        }
      ]
    },
    {
      "cell_type": "code",
      "source": [
        "totalReward = 0\n",
        "s = env.reset()\n",
        "\n",
        "for _ in range(1000):\n",
        "    env.render()\n",
        "    a = np.argmax(Q[s,:]) # выбираем оптимальное действие\n",
        "    s, r, done, _ = env.step(a)\n",
        "    totalReward += r\n",
        "    if done:\n",
        "        env.render()        \n",
        "        break\n",
        "\n",
        "env.close()\n",
        "print('Total reward = {}'.format(totalReward))"
      ],
      "metadata": {
        "colab": {
          "base_uri": "https://localhost:8080/"
        },
        "id": "5jgD5BWvDaHo",
        "outputId": "92e7cdc1-61dd-485a-ffca-d7e384e4aa2b"
      },
      "execution_count": 23,
      "outputs": [
        {
          "output_type": "stream",
          "name": "stdout",
          "text": [
            "+---------+\n",
            "|\u001b[34;1mR\u001b[0m: | : :\u001b[35mG\u001b[0m|\n",
            "| : | : : |\n",
            "| :\u001b[43m \u001b[0m: : : |\n",
            "| | : | : |\n",
            "|Y| : |B: |\n",
            "+---------+\n",
            "\n",
            "+---------+\n",
            "|\u001b[34;1mR\u001b[0m: | : :\u001b[35mG\u001b[0m|\n",
            "| : | : : |\n",
            "|\u001b[43m \u001b[0m: : : : |\n",
            "| | : | : |\n",
            "|Y| : |B: |\n",
            "+---------+\n",
            "  (West)\n",
            "+---------+\n",
            "|\u001b[34;1mR\u001b[0m: | : :\u001b[35mG\u001b[0m|\n",
            "|\u001b[43m \u001b[0m: | : : |\n",
            "| : : : : |\n",
            "| | : | : |\n",
            "|Y| : |B: |\n",
            "+---------+\n",
            "  (North)\n",
            "+---------+\n",
            "|\u001b[34;1m\u001b[43mR\u001b[0m\u001b[0m: | : :\u001b[35mG\u001b[0m|\n",
            "| : | : : |\n",
            "| : : : : |\n",
            "| | : | : |\n",
            "|Y| : |B: |\n",
            "+---------+\n",
            "  (North)\n",
            "+---------+\n",
            "|\u001b[42mR\u001b[0m: | : :\u001b[35mG\u001b[0m|\n",
            "| : | : : |\n",
            "| : : : : |\n",
            "| | : | : |\n",
            "|Y| : |B: |\n",
            "+---------+\n",
            "  (Pickup)\n",
            "+---------+\n",
            "|R:\u001b[42m_\u001b[0m| : :\u001b[35mG\u001b[0m|\n",
            "| : | : : |\n",
            "| : : : : |\n",
            "| | : | : |\n",
            "|Y| : |B: |\n",
            "+---------+\n",
            "  (East)\n",
            "+---------+\n",
            "|R: | : :\u001b[35mG\u001b[0m|\n",
            "| :\u001b[42m_\u001b[0m| : : |\n",
            "| : : : : |\n",
            "| | : | : |\n",
            "|Y| : |B: |\n",
            "+---------+\n",
            "  (South)\n",
            "+---------+\n",
            "|R: | : :\u001b[35mG\u001b[0m|\n",
            "| : | : : |\n",
            "| :\u001b[42m_\u001b[0m: : : |\n",
            "| | : | : |\n",
            "|Y| : |B: |\n",
            "+---------+\n",
            "  (South)\n",
            "+---------+\n",
            "|R: | : :\u001b[35mG\u001b[0m|\n",
            "| : | : : |\n",
            "| : :\u001b[42m_\u001b[0m: : |\n",
            "| | : | : |\n",
            "|Y| : |B: |\n",
            "+---------+\n",
            "  (East)\n",
            "+---------+\n",
            "|R: | : :\u001b[35mG\u001b[0m|\n",
            "| : |\u001b[42m_\u001b[0m: : |\n",
            "| : : : : |\n",
            "| | : | : |\n",
            "|Y| : |B: |\n",
            "+---------+\n",
            "  (North)\n",
            "+---------+\n",
            "|R: | : :\u001b[35mG\u001b[0m|\n",
            "| : | :\u001b[42m_\u001b[0m: |\n",
            "| : : : : |\n",
            "| | : | : |\n",
            "|Y| : |B: |\n",
            "+---------+\n",
            "  (East)\n",
            "+---------+\n",
            "|R: | :\u001b[42m_\u001b[0m:\u001b[35mG\u001b[0m|\n",
            "| : | : : |\n",
            "| : : : : |\n",
            "| | : | : |\n",
            "|Y| : |B: |\n",
            "+---------+\n",
            "  (North)\n",
            "+---------+\n",
            "|R: | : :\u001b[35m\u001b[42mG\u001b[0m\u001b[0m|\n",
            "| : | : : |\n",
            "| : : : : |\n",
            "| | : | : |\n",
            "|Y| : |B: |\n",
            "+---------+\n",
            "  (East)\n",
            "+---------+\n",
            "|R: | : :\u001b[35m\u001b[34;1m\u001b[43mG\u001b[0m\u001b[0m\u001b[0m|\n",
            "| : | : : |\n",
            "| : : : : |\n",
            "| | : | : |\n",
            "|Y| : |B: |\n",
            "+---------+\n",
            "  (Dropoff)\n",
            "Total reward = 8\n"
          ]
        }
      ]
    },
    {
      "cell_type": "code",
      "source": [
        ""
      ],
      "metadata": {
        "id": "y_uxYDe2ENDd"
      },
      "execution_count": null,
      "outputs": []
    }
  ]
}