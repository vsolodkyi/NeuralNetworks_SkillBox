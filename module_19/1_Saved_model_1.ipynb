{
  "nbformat": 4,
  "nbformat_minor": 0,
  "metadata": {
    "accelerator": "GPU",
    "colab": {
      "name": "1_Saved_model_1.ipynb",
      "provenance": [],
      "collapsed_sections": [],
      "include_colab_link": true
    },
    "kernelspec": {
      "name": "python3",
      "display_name": "Python 3"
    },
    "language_info": {
      "codemirror_mode": {
        "name": "ipython",
        "version": 3
      },
      "file_extension": ".py",
      "mimetype": "text/x-python",
      "name": "python",
      "nbconvert_exporter": "python",
      "pygments_lexer": "ipython3",
      "version": "3.7.1"
    },
    "gpuClass": "standard"
  },
  "cells": [
    {
      "cell_type": "markdown",
      "metadata": {
        "id": "view-in-github",
        "colab_type": "text"
      },
      "source": [
        "<a href=\"https://colab.research.google.com/github/vsolodkyi/NeuralNetworks_SkillBox/blob/main/module_19/1_Saved_model_1.ipynb\" target=\"_parent\"><img src=\"https://colab.research.google.com/assets/colab-badge.svg\" alt=\"Open In Colab\"/></a>"
      ]
    },
    {
      "cell_type": "markdown",
      "metadata": {
        "id": "EgshItiNbYmH"
      },
      "source": [
        "# Сохранение моделей TensorFlow\n",
        "\n",
        "В этом уроке мы рассмотрим стандартный способ сохранения и последующей загрузки моделей на TensorFlow. После того, как модель обучена, необходимо сохранить её структуру и обученные веса в файл. Можно это сделать вручную, но более удобные сопособ — с использованием понятия `saved model`. Такое представление хранит в себе как вычислительный граф, так и обученные веса.\n",
        "\n",
        "Для примера создадим простую свёрточную нейросеть и обучим её на датасете MNIST. Затем сохраним её и загрузим уже в другом ноутбуке (имитируя реальную ситуацию использования модели после обучения)."
      ]
    },
    {
      "cell_type": "markdown",
      "metadata": {
        "id": "0yeG_jLT-b2h"
      },
      "source": [
        "### Используем TensorFlow 2.0\n",
        "\n",
        "На момент подготовки этих материалов в Google Colab по умолчанию используется версия TensorFlow 1.x.\n",
        "\n",
        "Переключаемся на версию 2.0 (работает только в Colab)."
      ]
    },
    {
      "cell_type": "markdown",
      "metadata": {
        "id": "Y1c9g1MHeUCl"
      },
      "source": [
        "### Загрузка библиотек"
      ]
    },
    {
      "cell_type": "code",
      "metadata": {
        "id": "iPJ0YaW58SXY"
      },
      "source": [
        "import numpy as np\n",
        "import tensorflow as tf"
      ],
      "execution_count": 1,
      "outputs": []
    },
    {
      "cell_type": "markdown",
      "metadata": {
        "id": "LngPClC8kQgR"
      },
      "source": [
        "### Загрузка датасета MNIST\n",
        "\n",
        "Загрузим MNIST и подготовим его для обучения — сделаем reshape (чтобы привести векторизованные картинки в двумерные) и приведём к float32 в диапазоне [0, 1]."
      ]
    },
    {
      "cell_type": "code",
      "metadata": {
        "id": "KyyR7EuJ8VhT",
        "colab": {
          "base_uri": "https://localhost:8080/"
        },
        "outputId": "7f957449-3e82-40a1-c012-ef7b9d1e1cb4"
      },
      "source": [
        "(train_x, train_y), (test_x, test_y) = tf.keras.datasets.mnist.load_data()\n",
        "\n",
        "train_x = train_x.reshape(-1, 28, 28, 1).astype(np.float32) / 255.\n",
        "test_x = test_x.reshape(-1, 28, 28, 1).astype(np.float32) / 255."
      ],
      "execution_count": 2,
      "outputs": [
        {
          "output_type": "stream",
          "name": "stdout",
          "text": [
            "Downloading data from https://storage.googleapis.com/tensorflow/tf-keras-datasets/mnist.npz\n",
            "11493376/11490434 [==============================] - 0s 0us/step\n",
            "11501568/11490434 [==============================] - 0s 0us/step\n"
          ]
        }
      ]
    },
    {
      "cell_type": "markdown",
      "metadata": {
        "id": "uvfGZ42IkosO"
      },
      "source": [
        "### Создание модели\n",
        "\n",
        "Создадим простую свёрточную нейронную сеть для классификации на 10 классов (цифры из MNIST). Сделаем это с помощью `keras.models.Sequential`."
      ]
    },
    {
      "cell_type": "code",
      "metadata": {
        "id": "3hKurQAc8VfY"
      },
      "source": [
        "model = tf.keras.models.Sequential([\n",
        "    tf.keras.layers.Conv2D(32, (5, 5), padding='same', activation='relu'),\n",
        "    tf.keras.layers.MaxPool2D((2, 2), (2, 2)),\n",
        "    tf.keras.layers.Conv2D(64, (5, 5), padding='same', activation='relu'),\n",
        "    tf.keras.layers.MaxPool2D((2, 2), (2, 2)),\n",
        "    tf.keras.layers.Flatten(),\n",
        "    tf.keras.layers.Dense(256, activation='relu'),\n",
        "    tf.keras.layers.Dense(10, activation='softmax')\n",
        "])"
      ],
      "execution_count": 3,
      "outputs": []
    },
    {
      "cell_type": "markdown",
      "metadata": {
        "id": "-Dq7y9SCk4XT"
      },
      "source": [
        "### Подготовка модели к обучению"
      ]
    },
    {
      "cell_type": "code",
      "metadata": {
        "id": "BCyxa_ri8Vdo"
      },
      "source": [
        "model.compile(optimizer='sgd',\n",
        "    loss='sparse_categorical_crossentropy',\n",
        "    metrics=['accuracy'])"
      ],
      "execution_count": 4,
      "outputs": []
    },
    {
      "cell_type": "markdown",
      "metadata": {
        "id": "Wm4HqEXUk-zY"
      },
      "source": [
        "### Обучение модели"
      ]
    },
    {
      "cell_type": "code",
      "metadata": {
        "id": "sBtkc8gs8VbV",
        "colab": {
          "base_uri": "https://localhost:8080/"
        },
        "outputId": "da77ab0c-8904-46b7-a805-09e8c069570f"
      },
      "source": [
        "NUM_EPOCHS = 4\n",
        "model.fit(train_x, train_y, epochs=NUM_EPOCHS)"
      ],
      "execution_count": 6,
      "outputs": [
        {
          "output_type": "stream",
          "name": "stdout",
          "text": [
            "1875/1875 [==============================] - 165s 88ms/step - loss: 0.0510 - accuracy: 0.9847\n"
          ]
        },
        {
          "output_type": "execute_result",
          "data": {
            "text/plain": [
              "<keras.callbacks.History at 0x7f23febebf10>"
            ]
          },
          "metadata": {},
          "execution_count": 6
        }
      ]
    },
    {
      "cell_type": "markdown",
      "metadata": {
        "id": "usBDbBx1lDvX"
      },
      "source": [
        "### Оценка качества обученной модели"
      ]
    },
    {
      "cell_type": "code",
      "metadata": {
        "id": "Ugw8Y5lV8VXz",
        "colab": {
          "base_uri": "https://localhost:8080/"
        },
        "outputId": "0f5c31e7-bd22-4d74-a11a-e0cf74335934"
      },
      "source": [
        "model.evaluate(test_x, test_y)"
      ],
      "execution_count": 7,
      "outputs": [
        {
          "output_type": "stream",
          "name": "stdout",
          "text": [
            "313/313 [==============================] - 7s 22ms/step - loss: 0.0425 - accuracy: 0.9856\n"
          ]
        },
        {
          "output_type": "execute_result",
          "data": {
            "text/plain": [
              "[0.042493242770433426, 0.9855999946594238]"
            ]
          },
          "metadata": {},
          "execution_count": 7
        }
      ]
    },
    {
      "cell_type": "markdown",
      "metadata": {
        "id": "3_6uZWwQlJIb"
      },
      "source": [
        "### Сохранение модели\n",
        "\n",
        "После того, как наша модель обучена, настало время её сохранить. Так как наша модель была создана с помощью `keras`, сохранение выглядит совсем просто: вызываем метод `save()` и указываем путь, по которому следует сохранить модель. Это будет некая директория с файлами.\n",
        "\n",
        "Зачастую необходимо хранить информацию о версии модели. В TensorFlow есть соглашение, что версия — это название директории, в которой лежит модель. Пусть, например, у нас будет версия `1` — тогда сохраним модель в директорию `./saved_model/1`."
      ]
    },
    {
      "cell_type": "code",
      "metadata": {
        "id": "MC96JeEU9mOx"
      },
      "source": [
        "model.save('./saved_model/1')"
      ],
      "execution_count": 8,
      "outputs": []
    },
    {
      "cell_type": "markdown",
      "metadata": {
        "id": "o1NLzLDYmR78"
      },
      "source": [
        "Для удобства скачивания директории из Colab предварительно заархивируем всю директорию `saved_model`. Затем мы сможем легко скачать получившийся zip-архив, чтобы затем загрузить его в другой ноутбук или использовать где-то ещё."
      ]
    },
    {
      "cell_type": "code",
      "metadata": {
        "id": "5lHiJPRO9oPP",
        "colab": {
          "base_uri": "https://localhost:8080/"
        },
        "outputId": "42c178d3-ee76-4203-efeb-dc065a5a4f21"
      },
      "source": [
        "!zip -r saved_model.zip saved_model"
      ],
      "execution_count": 9,
      "outputs": [
        {
          "output_type": "stream",
          "name": "stdout",
          "text": [
            "  adding: saved_model/ (stored 0%)\n",
            "  adding: saved_model/1/ (stored 0%)\n",
            "  adding: saved_model/1/saved_model.pb (deflated 88%)\n",
            "  adding: saved_model/1/assets/ (stored 0%)\n",
            "  adding: saved_model/1/variables/ (stored 0%)\n",
            "  adding: saved_model/1/variables/variables.index (deflated 55%)\n",
            "  adding: saved_model/1/variables/variables.data-00000-of-00001 (deflated 8%)\n",
            "  adding: saved_model/1/keras_metadata.pb (deflated 90%)\n"
          ]
        }
      ]
    },
    {
      "cell_type": "code",
      "metadata": {
        "id": "wCDsVkpU8T8J"
      },
      "source": [
        ""
      ],
      "execution_count": null,
      "outputs": []
    }
  ]
}