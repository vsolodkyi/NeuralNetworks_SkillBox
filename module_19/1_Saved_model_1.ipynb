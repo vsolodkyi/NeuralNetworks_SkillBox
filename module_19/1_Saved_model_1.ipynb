{
  "nbformat": 4,
  "nbformat_minor": 0,
  "metadata": {
    "accelerator": "GPU",
    "colab": {
      "name": "1_Saved_model_1.ipynb",
      "provenance": [],
      "collapsed_sections": [],
      "include_colab_link": true
    },
    "kernelspec": {
      "name": "python3",
      "display_name": "Python 3"
    },
    "language_info": {
      "codemirror_mode": {
        "name": "ipython",
        "version": 3
      },
      "file_extension": ".py",
      "mimetype": "text/x-python",
      "name": "python",
      "nbconvert_exporter": "python",
      "pygments_lexer": "ipython3",
      "version": "3.7.1"
    }
  },
  "cells": [
    {
      "cell_type": "markdown",
      "metadata": {
        "id": "view-in-github",
        "colab_type": "text"
      },
      "source": [
        "<a href=\"https://colab.research.google.com/github/vsolodkyi/NeuralNetworks_SkillBox/blob/main/module_19/1_Saved_model_1.ipynb\" target=\"_parent\"><img src=\"https://colab.research.google.com/assets/colab-badge.svg\" alt=\"Open In Colab\"/></a>"
      ]
    },
    {
      "cell_type": "markdown",
      "metadata": {
        "id": "EgshItiNbYmH"
      },
      "source": [
        "# Сохранение моделей TensorFlow\n",
        "\n",
        "В этом уроке мы рассмотрим стандартный способ сохранения и последующей загрузки моделей на TensorFlow. После того, как модель обучена, необходимо сохранить её структуру и обученные веса в файл. Можно это сделать вручную, но более удобные сопособ — с использованием понятия `saved model`. Такое представление хранит в себе как вычислительный граф, так и обученные веса.\n",
        "\n",
        "Для примера создадим простую свёрточную нейросеть и обучим её на датасете MNIST. Затем сохраним её и загрузим уже в другом ноутбуке (имитируя реальную ситуацию использования модели после обучения)."
      ]
    },
    {
      "cell_type": "markdown",
      "metadata": {
        "id": "0yeG_jLT-b2h"
      },
      "source": [
        "### Используем TensorFlow 2.0\n",
        "\n",
        "На момент подготовки этих материалов в Google Colab по умолчанию используется версия TensorFlow 1.x.\n",
        "\n",
        "Переключаемся на версию 2.0 (работает только в Colab)."
      ]
    },
    {
      "cell_type": "code",
      "metadata": {
        "id": "1mpXpfED-Z7b",
        "colab": {
          "base_uri": "https://localhost:8080/",
          "height": 35
        },
        "outputId": "43ff0180-b7ab-44cf-bd28-7a206dca34ae"
      },
      "source": [
        "%tensorflow_version 2.x"
      ],
      "execution_count": null,
      "outputs": [
        {
          "output_type": "stream",
          "text": [
            "TensorFlow 2.x selected.\n"
          ],
          "name": "stdout"
        }
      ]
    },
    {
      "cell_type": "markdown",
      "metadata": {
        "id": "Y1c9g1MHeUCl"
      },
      "source": [
        "### Загрузка библиотек"
      ]
    },
    {
      "cell_type": "code",
      "metadata": {
        "id": "iPJ0YaW58SXY"
      },
      "source": [
        "import numpy as np\n",
        "import tensorflow as tf"
      ],
      "execution_count": null,
      "outputs": []
    },
    {
      "cell_type": "markdown",
      "metadata": {
        "id": "LngPClC8kQgR"
      },
      "source": [
        "### Загрузка датасета MNIST\n",
        "\n",
        "Загрузим MNIST и подготовим его для обучения — сделаем reshape (чтобы привести векторизованные картинки в двумерные) и приведём к float32 в диапазоне [0, 1]."
      ]
    },
    {
      "cell_type": "code",
      "metadata": {
        "id": "KyyR7EuJ8VhT",
        "colab": {
          "base_uri": "https://localhost:8080/",
          "height": 52
        },
        "outputId": "2f548574-2d5c-48bc-ce3f-3c889454f48d"
      },
      "source": [
        "(train_x, train_y), (test_x, test_y) = tf.keras.datasets.mnist.load_data()\n",
        "\n",
        "train_x = train_x.reshape(-1, 28, 28, 1).astype(np.float32) / 255.\n",
        "test_x = test_x.reshape(-1, 28, 28, 1).astype(np.float32) / 255."
      ],
      "execution_count": null,
      "outputs": [
        {
          "output_type": "stream",
          "text": [
            "Downloading data from https://storage.googleapis.com/tensorflow/tf-keras-datasets/mnist.npz\n",
            "11493376/11490434 [==============================] - 1s 0us/step\n"
          ],
          "name": "stdout"
        }
      ]
    },
    {
      "cell_type": "markdown",
      "metadata": {
        "id": "uvfGZ42IkosO"
      },
      "source": [
        "### Создание модели\n",
        "\n",
        "Создадим простую свёрточную нейронную сеть для классификации на 10 классов (цифры из MNIST). Сделаем это с помощью `keras.models.Sequential`."
      ]
    },
    {
      "cell_type": "code",
      "metadata": {
        "id": "3hKurQAc8VfY"
      },
      "source": [
        "model = tf.keras.models.Sequential([\n",
        "    tf.keras.layers.Conv2D(32, (5, 5), padding='same', activation='relu'),\n",
        "    tf.keras.layers.MaxPool2D((2, 2), (2, 2)),\n",
        "    tf.keras.layers.Conv2D(64, (5, 5), padding='same', activation='relu'),\n",
        "    tf.keras.layers.MaxPool2D((2, 2), (2, 2)),\n",
        "    tf.keras.layers.Flatten(),\n",
        "    tf.keras.layers.Dense(256, activation='relu'),\n",
        "    tf.keras.layers.Dense(10, activation='softmax')\n",
        "])"
      ],
      "execution_count": null,
      "outputs": []
    },
    {
      "cell_type": "markdown",
      "metadata": {
        "id": "-Dq7y9SCk4XT"
      },
      "source": [
        "### Подготовка модели к обучению"
      ]
    },
    {
      "cell_type": "code",
      "metadata": {
        "id": "BCyxa_ri8Vdo"
      },
      "source": [
        "model.compile(optimizer='sgd',\n",
        "    loss='sparse_categorical_crossentropy',\n",
        "    metrics=['accuracy'])"
      ],
      "execution_count": null,
      "outputs": []
    },
    {
      "cell_type": "markdown",
      "metadata": {
        "id": "Wm4HqEXUk-zY"
      },
      "source": [
        "### Обучение модели"
      ]
    },
    {
      "cell_type": "code",
      "metadata": {
        "id": "sBtkc8gs8VbV",
        "colab": {
          "base_uri": "https://localhost:8080/",
          "height": 191
        },
        "outputId": "557dcb4a-25bc-4936-d41d-c788895af605"
      },
      "source": [
        "NUM_EPOCHS = 4\n",
        "model.fit(train_x, train_y, epochs=NUM_EPOCHS)"
      ],
      "execution_count": null,
      "outputs": [
        {
          "output_type": "stream",
          "text": [
            "Train on 60000 samples\n",
            "Epoch 1/4\n",
            "60000/60000 [==============================] - 12s 202us/sample - loss: 0.4043 - accuracy: 0.8805\n",
            "Epoch 2/4\n",
            "60000/60000 [==============================] - 5s 91us/sample - loss: 0.1081 - accuracy: 0.9676\n",
            "Epoch 3/4\n",
            "60000/60000 [==============================] - 5s 89us/sample - loss: 0.0748 - accuracy: 0.9772\n",
            "Epoch 4/4\n",
            "60000/60000 [==============================] - 5s 89us/sample - loss: 0.0598 - accuracy: 0.9814\n"
          ],
          "name": "stdout"
        },
        {
          "output_type": "execute_result",
          "data": {
            "text/plain": [
              "<tensorflow.python.keras.callbacks.History at 0x7fe8f084e978>"
            ]
          },
          "metadata": {
            "tags": []
          },
          "execution_count": 6
        }
      ]
    },
    {
      "cell_type": "markdown",
      "metadata": {
        "id": "usBDbBx1lDvX"
      },
      "source": [
        "### Оценка качества обученной модели"
      ]
    },
    {
      "cell_type": "code",
      "metadata": {
        "id": "Ugw8Y5lV8VXz",
        "colab": {
          "base_uri": "https://localhost:8080/",
          "height": 52
        },
        "outputId": "39078e1c-f68e-4217-bad4-fac51d70c86b"
      },
      "source": [
        "model.evaluate(test_x, test_y)"
      ],
      "execution_count": null,
      "outputs": [
        {
          "output_type": "stream",
          "text": [
            "10000/10000 [==============================] - 1s 78us/sample - loss: 0.0435 - accuracy: 0.9849\n"
          ],
          "name": "stdout"
        },
        {
          "output_type": "execute_result",
          "data": {
            "text/plain": [
              "[0.04350099836410955, 0.9849]"
            ]
          },
          "metadata": {
            "tags": []
          },
          "execution_count": 7
        }
      ]
    },
    {
      "cell_type": "markdown",
      "metadata": {
        "id": "3_6uZWwQlJIb"
      },
      "source": [
        "### Сохранение модели\n",
        "\n",
        "После того, как наша модель обучена, настало время её сохранить. Так как наша модель была создана с помощью `keras`, сохранение выглядит совсем просто: вызываем метод `save()` и указываем путь, по которому следует сохранить модель. Это будет некая директория с файлами.\n",
        "\n",
        "Зачастую необходимо хранить информацию о версии модели. В TensorFlow есть соглашение, что версия — это название директории, в которой лежит модель. Пусть, например, у нас будет версия `1` — тогда сохраним модель в директорию `./saved_model/1`."
      ]
    },
    {
      "cell_type": "code",
      "metadata": {
        "id": "MC96JeEU9mOx",
        "colab": {
          "base_uri": "https://localhost:8080/",
          "height": 107
        },
        "outputId": "0ad9173c-e99d-4d23-edac-0ce4ba2e61af"
      },
      "source": [
        "model.save('./saved_model/1')"
      ],
      "execution_count": null,
      "outputs": [
        {
          "output_type": "stream",
          "text": [
            "WARNING:tensorflow:From /tensorflow-2.1.0/python3.6/tensorflow_core/python/ops/resource_variable_ops.py:1786: calling BaseResourceVariable.__init__ (from tensorflow.python.ops.resource_variable_ops) with constraint is deprecated and will be removed in a future version.\n",
            "Instructions for updating:\n",
            "If using Keras pass *_constraint arguments to layers.\n",
            "INFO:tensorflow:Assets written to: ./saved_model/1/assets\n"
          ],
          "name": "stdout"
        }
      ]
    },
    {
      "cell_type": "markdown",
      "metadata": {
        "id": "o1NLzLDYmR78"
      },
      "source": [
        "Для удобства скачивания директории из Colab предварительно заархивируем всю директорию `saved_model`. Затем мы сможем легко скачать получившийся zip-архив, чтобы затем загрузить его в другой ноутбук или использовать где-то ещё."
      ]
    },
    {
      "cell_type": "code",
      "metadata": {
        "id": "5lHiJPRO9oPP",
        "colab": {
          "base_uri": "https://localhost:8080/",
          "height": 156
        },
        "outputId": "bc38e96a-a49c-4dbd-a1c1-0a66049b98bf"
      },
      "source": [
        "!zip -r saved_model.zip saved_model"
      ],
      "execution_count": null,
      "outputs": [
        {
          "output_type": "stream",
          "text": [
            "  adding: saved_model/ (stored 0%)\n",
            "  adding: saved_model/1/ (stored 0%)\n",
            "  adding: saved_model/1/assets/ (stored 0%)\n",
            "  adding: saved_model/1/saved_model.pb (deflated 89%)\n",
            "  adding: saved_model/1/variables/ (stored 0%)\n",
            "  adding: saved_model/1/variables/variables.data-00001-of-00002 (deflated 8%)\n",
            "  adding: saved_model/1/variables/variables.index (deflated 54%)\n",
            "  adding: saved_model/1/variables/variables.data-00000-of-00002 (deflated 76%)\n"
          ],
          "name": "stdout"
        }
      ]
    },
    {
      "cell_type": "code",
      "metadata": {
        "id": "wCDsVkpU8T8J"
      },
      "source": [
        ""
      ],
      "execution_count": null,
      "outputs": []
    }
  ]
}