{
  "nbformat": 4,
  "nbformat_minor": 0,
  "metadata": {
    "accelerator": "GPU",
    "colab": {
      "name": "1_Saved_model_2.ipynb",
      "provenance": [],
      "collapsed_sections": [],
      "include_colab_link": true
    },
    "kernelspec": {
      "name": "python3",
      "display_name": "Python 3"
    },
    "language_info": {
      "codemirror_mode": {
        "name": "ipython",
        "version": 3
      },
      "file_extension": ".py",
      "mimetype": "text/x-python",
      "name": "python",
      "nbconvert_exporter": "python",
      "pygments_lexer": "ipython3",
      "version": "3.7.1"
    }
  },
  "cells": [
    {
      "cell_type": "markdown",
      "metadata": {
        "id": "view-in-github",
        "colab_type": "text"
      },
      "source": [
        "<a href=\"https://colab.research.google.com/github/vsolodkyi/NeuralNetworks_SkillBox/blob/main/module_19/1_Saved_model_2.ipynb\" target=\"_parent\"><img src=\"https://colab.research.google.com/assets/colab-badge.svg\" alt=\"Open In Colab\"/></a>"
      ]
    },
    {
      "cell_type": "markdown",
      "metadata": {
        "id": "EgshItiNbYmH"
      },
      "source": [
        "# Загрузка моделей TensorFlow\n",
        "\n",
        "После того, как мы обучили и экспортировали TensorFlow-модель как `saved model`, мы можем загружать и использовать её для инференса.\n",
        "\n",
        "Давайте загрузим модель, обученную на MNIST, в Colab и попробуем применить её для распознавания цифр.\n",
        "\n",
        "Этим ноутбуком мы по сути имитируем простое клиентское приложение, которое использует обученную нейронную сеть для какой-то своей бизнес-логики (распознавание цифр)."
      ]
    },
    {
      "cell_type": "markdown",
      "metadata": {
        "id": "0yeG_jLT-b2h"
      },
      "source": [
        "### Используем TensorFlow 2.0\n",
        "\n",
        "На момент подготовки этих материалов в Google Colab по умолчанию используется версия TensorFlow 1.x.\n",
        "\n",
        "Переключаемся на версию 2.0 (работает только в Colab)."
      ]
    },
    {
      "cell_type": "code",
      "metadata": {
        "id": "1mpXpfED-Z7b",
        "colab": {
          "base_uri": "https://localhost:8080/",
          "height": 35
        },
        "outputId": "ed679d78-21f0-439e-d88e-697b92eb3a00"
      },
      "source": [
        "%tensorflow_version 2.x"
      ],
      "execution_count": null,
      "outputs": [
        {
          "output_type": "stream",
          "text": [
            "TensorFlow 2.x selected.\n"
          ],
          "name": "stdout"
        }
      ]
    },
    {
      "cell_type": "markdown",
      "metadata": {
        "id": "Y1c9g1MHeUCl"
      },
      "source": [
        "### Загрузка библиотек"
      ]
    },
    {
      "cell_type": "code",
      "metadata": {
        "id": "iPJ0YaW58SXY"
      },
      "source": [
        "%matplotlib inline\n",
        "import matplotlib.pyplot as plt\n",
        "import numpy as np\n",
        "\n",
        "import tensorflow as tf"
      ],
      "execution_count": null,
      "outputs": []
    },
    {
      "cell_type": "markdown",
      "metadata": {
        "id": "ZrS8TpSpWcrM"
      },
      "source": [
        "### Подготовка директории с моделью\n",
        "\n",
        "Загрузим в Colab (через Upload) архив с нашей моделью `saved_model.zip` и разархивируем (сделать нужно лишь один раз).\n",
        "\n",
        "В результате получим директорию `saved_model`, в которой будет находиться наша модель (в поддиректории `1`, соответствующей версии модели)."
      ]
    },
    {
      "cell_type": "code",
      "metadata": {
        "id": "5lHiJPRO9oPP",
        "colab": {
          "base_uri": "https://localhost:8080/",
          "height": 173
        },
        "outputId": "ad7aeb5a-ca51-465f-9476-867431633652"
      },
      "source": [
        "if 1:\n",
        "    !unzip /content/saved_model.zip -d ./"
      ],
      "execution_count": null,
      "outputs": [
        {
          "output_type": "stream",
          "text": [
            "Archive:  /content/saved_model.zip\n",
            "   creating: ./saved_model/\n",
            "   creating: ./saved_model/1/\n",
            "   creating: ./saved_model/1/assets/\n",
            "  inflating: ./saved_model/1/saved_model.pb  \n",
            "   creating: ./saved_model/1/variables/\n",
            "  inflating: ./saved_model/1/variables/variables.data-00001-of-00002  \n",
            "  inflating: ./saved_model/1/variables/variables.index  \n",
            "  inflating: ./saved_model/1/variables/variables.data-00000-of-00002  \n"
          ],
          "name": "stdout"
        }
      ]
    },
    {
      "cell_type": "markdown",
      "metadata": {
        "id": "lU3qEYFzW2FY"
      },
      "source": [
        "### Загрузка модели\n",
        "\n",
        "Теперь мы можем загрузить модель. При таком вызове в `model` будет содержаться и нужный нам вычислительный граф, и веса обученной модели."
      ]
    },
    {
      "cell_type": "code",
      "metadata": {
        "id": "bsxsOBbW-jGZ"
      },
      "source": [
        "model = tf.keras.models.load_model('saved_model/1')"
      ],
      "execution_count": null,
      "outputs": []
    },
    {
      "cell_type": "markdown",
      "metadata": {
        "id": "Sdl4xbNPXC_v"
      },
      "source": [
        "### Загрузка датасета MNIST\n",
        "\n",
        "Далее протестируем модель в режиме инференса на некоторых случайных цифрах. Для этого загрузим датасет MNIST и будем использовать тестовую выборку оттуда."
      ]
    },
    {
      "cell_type": "code",
      "metadata": {
        "id": "y-nuLZ3R-pOk",
        "colab": {
          "base_uri": "https://localhost:8080/",
          "height": 52
        },
        "outputId": "e5f8e29e-bff9-4101-c3f3-2610d0e2744d"
      },
      "source": [
        "(train_x, train_y), (test_x, test_y) = tf.keras.datasets.mnist.load_data()\n",
        "\n",
        "test_x = test_x.reshape(-1, 28, 28, 1).astype(np.float32) / 255."
      ],
      "execution_count": null,
      "outputs": [
        {
          "output_type": "stream",
          "text": [
            "Downloading data from https://storage.googleapis.com/tensorflow/tf-keras-datasets/mnist.npz\n",
            "11493376/11490434 [==============================] - 0s 0us/step\n"
          ],
          "name": "stdout"
        }
      ]
    },
    {
      "cell_type": "markdown",
      "metadata": {
        "id": "Df6RnSA6XTzr"
      },
      "source": [
        "### Функция для предсказания цифры\n",
        "\n",
        "Создадим обёртку для инференса — функцию, которая запустит прямое распространение для нашей модели и визуализирует результат предсказания.\n",
        "\n",
        "Будем визуализировать входную цифру и график распределения вероятностей по классам."
      ]
    },
    {
      "cell_type": "code",
      "metadata": {
        "id": "afNJgnIJ_6Uv"
      },
      "source": [
        "def predict_digit(sample):\n",
        "    \n",
        "    prediction = model(sample[None, ...])[0]\n",
        "    ans = np.argmax(prediction)\n",
        "    \n",
        "    fig = plt.figure(figsize=(12,4))\n",
        "\n",
        "    # Визуализация входного изображения\n",
        "    ax = fig.add_subplot(1, 2, 1)\n",
        "    ax.imshow(sample[:,:,0], cmap='gray')\n",
        "    plt.xticks([]), plt.yticks([])\n",
        "\n",
        "    # Визуализация распределения вероятностей по классам\n",
        "    ax = fig.add_subplot(1, 2, 2)\n",
        "    bar_list = ax.bar(np.arange(10), prediction, align='center')\n",
        "    bar_list[ans].set_color('g')\n",
        "    ax.set_xticks(np.arange(10))\n",
        "    ax.set_xlim([-1, 10])\n",
        "    ax.grid(True)\n",
        "\n",
        "    plt.show()\n",
        "    \n",
        "    print('Predicted number: {}'.format(ans))"
      ],
      "execution_count": null,
      "outputs": []
    },
    {
      "cell_type": "markdown",
      "metadata": {
        "id": "UjV1rwNtX5cd"
      },
      "source": [
        "### Пример запуска инференса\n",
        "\n",
        "Возьмём случайную цифру из тестового датасета MNIST и вызовем `predict_digit` для неё. Посмотрим на предсказание и на правильный ответ."
      ]
    },
    {
      "cell_type": "code",
      "metadata": {
        "id": "-cTGJJbe_8yI",
        "colab": {
          "base_uri": "https://localhost:8080/",
          "height": 300
        },
        "outputId": "42d57369-b6b3-490a-fb20-bcd653ada25c"
      },
      "source": [
        "import random\n",
        "idx = random.randint(0, test_x.shape[0])\n",
        "sample = test_x[idx, ...]\n",
        "predict_digit(sample)\n",
        "\n",
        "print('True Answer: {}'.format(test_y[idx]))"
      ],
      "execution_count": null,
      "outputs": [
        {
          "output_type": "display_data",
          "data": {
            "image/png": "[encoded data removed]",
            "text/plain": [
              "<Figure size 864x288 with 2 Axes>"
            ]
          },
          "metadata": {
            "tags": []
          }
        },
        {
          "output_type": "stream",
          "text": [
            "Predicted number: 5\n",
            "True Answer: 5\n"
          ],
          "name": "stdout"
        }
      ]
    },
    {
      "cell_type": "markdown",
      "metadata": {
        "id": "uVl2F90PY-X1"
      },
      "source": [
        "После того, как мы научились сохранять и загружать обученные модели, мы можем помещать инференс в произвольные программы на Python.\n",
        "\n",
        "**[Задание 1]** Реализуйте самостоятельное клиентское приложение: реализуйте скрипт на Python (`predict.py`), который принимает путь к изображению с цифрой в виде аргумента командной строки (`python3 predict.py path/to/digit.png`) и производит распознавание соответствующей цифры. Внутри скрипта `predict.py` вам необходимо загрузить TensorFlow-модель, открыть изображение `digit.png`, подготовить вход в нейронную сеть, запустить инференс и распечатать результат предсказания. Файл `digit.png` создайте самостоятельно в графическом редакторе (например, Paint). Запустите скрипт `predict.py` на собственной машине. Предварительно вам может понадобиться установить TensorFlow (`pip3 install tensorflow` или `pip3 install tensorflow-gpu`, если у вас есть GPU).\n",
        "\n",
        "Подробнее про установку TensorFlow: https://www.tensorflow.org/install"
      ]
    }
  ]
}