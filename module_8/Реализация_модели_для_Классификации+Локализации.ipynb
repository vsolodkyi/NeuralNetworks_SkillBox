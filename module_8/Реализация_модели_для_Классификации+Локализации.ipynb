{
  "nbformat": 4,
  "nbformat_minor": 0,
  "metadata": {
    "kernelspec": {
      "name": "python3",
      "display_name": "Python 3"
    },
    "language_info": {
      "codemirror_mode": {
        "name": "ipython",
        "version": 3
      },
      "file_extension": ".py",
      "mimetype": "text/x-python",
      "name": "python",
      "nbconvert_exporter": "python",
      "pygments_lexer": "ipython3",
      "version": "3.7.1"
    },
    "colab": {
      "name": "Реализация модели для  Классификации+Локализации.ipynb",
      "provenance": [],
      "collapsed_sections": [],
      "include_colab_link": true
    },
    "accelerator": "GPU"
  },
  "cells": [
    {
      "cell_type": "markdown",
      "metadata": {
        "id": "view-in-github",
        "colab_type": "text"
      },
      "source": [
        "<a href=\"https://colab.research.google.com/github/vsolodkyi/NeuralNetworks_SkillBox/blob/main/module_8/%D0%A0%D0%B5%D0%B0%D0%BB%D0%B8%D0%B7%D0%B0%D1%86%D0%B8%D1%8F_%D0%BC%D0%BE%D0%B4%D0%B5%D0%BB%D0%B8_%D0%B4%D0%BB%D1%8F_%D0%9A%D0%BB%D0%B0%D1%81%D1%81%D0%B8%D1%84%D0%B8%D0%BA%D0%B0%D1%86%D0%B8%D0%B8%2B%D0%9B%D0%BE%D0%BA%D0%B0%D0%BB%D0%B8%D0%B7%D0%B0%D1%86%D0%B8%D0%B8.ipynb\" target=\"_parent\"><img src=\"https://colab.research.google.com/assets/colab-badge.svg\" alt=\"Open In Colab\"/></a>"
      ]
    },
    {
      "cell_type": "markdown",
      "metadata": {
        "id": "pxjGT_BdxE8L"
      },
      "source": [
        "# Реализация модели для Классификации+Локализации\n",
        "В этом практическом уроке мы реализуем классификацию и локализацю одного объекта на изображении с помощью свёрточной нейронной сети. Локазизация объекта будет задаваться ограничивающим прямоугольником (4 числа). В качестве данных будем использовать датасает MNIST. Однако, потребуется его модификация, так как исходный датасет предназначен лишь для задачи классификации. Поэтому мы синтезируем новый датасет, в котором будем помещать цифру на некоторый холст бОльшего размера, где её и нужно будет \"локализовать\"."
      ]
    },
    {
      "cell_type": "markdown",
      "metadata": {
        "id": "SfwJ-1Ngx9jX"
      },
      "source": [
        "### Загрузка необходимых библиотек\n",
        "Здесь мы загружаем различне библиотеки, включая TensoFlow.\n"
      ]
    },
    {
      "cell_type": "code",
      "metadata": {
        "id": "jkgnWQJB6dRm",
        "outputId": "743593c8-057b-4bc6-f619-5b11c8aaaf4f",
        "colab": {
          "base_uri": "https://localhost:8080/"
        }
      },
      "source": [
        "import random\n",
        "import numpy as np\n",
        "import skimage.filters\n",
        "\n",
        "%matplotlib inline\n",
        "import matplotlib.pyplot as plt\n",
        "\n",
        "import tensorflow as tf\n",
        "#tf.enable_eager_execution()\n",
        "print('TensorFlow version:', tf.__version__)"
      ],
      "execution_count": 1,
      "outputs": [
        {
          "output_type": "stream",
          "name": "stdout",
          "text": [
            "TensorFlow version: 2.8.2\n"
          ]
        }
      ]
    },
    {
      "cell_type": "markdown",
      "metadata": {
        "id": "7CohBRITyKYM"
      },
      "source": [
        "# Подготовка датасета"
      ]
    },
    {
      "cell_type": "markdown",
      "metadata": {
        "id": "yrJNFDpWyLNt"
      },
      "source": [
        "### Загрузка оригинального датасета MNIST\n",
        "Загружаем датасет MNIST (train и test) и приводим данные к удобному формату:\n",
        "* Размер: (N, 28, 28, 1), где N - количество образцов в подвыборке\n",
        "* Значения интесивности: float32 в диапазоне [0, 1]"
      ]
    },
    {
      "cell_type": "code",
      "metadata": {
        "id": "fkT545pq6dRs",
        "outputId": "2661afbe-0949-47ae-bc39-5966dda87a42",
        "colab": {
          "base_uri": "https://localhost:8080/"
        }
      },
      "source": [
        "(train_x, train_y), (test_x, test_y) = tf.keras.datasets.mnist.load_data()\n",
        "\n",
        "train_x = train_x.reshape(-1, 28, 28, 1).astype(np.float32) / 255.\n",
        "test_x = test_x.reshape(-1, 28, 28, 1).astype(np.float32) / 255."
      ],
      "execution_count": 2,
      "outputs": [
        {
          "output_type": "stream",
          "name": "stdout",
          "text": [
            "Downloading data from https://storage.googleapis.com/tensorflow/tf-keras-datasets/mnist.npz\n",
            "11493376/11490434 [==============================] - 0s 0us/step\n",
            "11501568/11490434 [==============================] - 0s 0us/step\n"
          ]
        }
      ]
    },
    {
      "cell_type": "markdown",
      "metadata": {
        "id": "3TlfNYsr2dmX"
      },
      "source": [
        "### Подготовка фона для для новых изображений\n",
        "\n",
        "Нам предстоит синтезировать новый датасет, который будет состоять из изображений бОльшего размера, чем 28x28. На каждом таком новом изображении где-то будет находиться цифра из MNIST, которую нужно будет \"локализовать\".\n",
        "\n",
        "Мы могли бы сделать фон таких новых изображений просто чёрным, однако это не интересно. Поэтому мы возьмем в качестве фона некоторый сгенерированный шум. Для синтеза такого фона сгенерируем случайный равномерный шум и \"размоем\" его с помощью фильтра Гаусса. Сразу синтезируем одно большое изображение 1000x1000 из которого будем случайным образом брать кусочки для фона очрендного образца.\n",
        "\n"
      ]
    },
    {
      "cell_type": "code",
      "metadata": {
        "id": "T6mX96Wt6dRv",
        "outputId": "b1b5f6b3-f3ad-42f6-99b1-3be582cb4ebf",
        "colab": {
          "base_uri": "https://localhost:8080/",
          "height": 287
        }
      },
      "source": [
        "bg_source = np.random.rand(1000, 1000, 1).astype(np.float32)\n",
        "bg_source = skimage.filters.gaussian(bg_source, 4)\n",
        "bg_source = (bg_source - np.min(bg_source))/(np.max(bg_source) - np.min(bg_source))\n",
        "bg_source = np.clip(bg_source, 0, 1)\n",
        "\n",
        "plt.imshow(bg_source[..., 0], 'gray')"
      ],
      "execution_count": 4,
      "outputs": [
        {
          "output_type": "execute_result",
          "data": {
            "text/plain": [
              "<matplotlib.image.AxesImage at 0x7fc7cf203990>"
            ]
          },
          "metadata": {},
          "execution_count": 4
        },
        {
          "output_type": "display_data",
          "data": {
            "text/plain": [
              "<Figure size 432x288 with 1 Axes>"
            ],
            "image/png": "[encoded data removed]"
          },
          "metadata": {
            "needs_background": "light"
          }
        }
      ]
    },
    {
      "cell_type": "markdown",
      "metadata": {
        "id": "sIWp3bMf5NQr"
      },
      "source": [
        "### Функция для конвертации MNIST в датасет для локализации\n",
        "Реализуем функцию `convert_to_loc_ds`, в которую передается подвыборка (train или test) картинок из MNIST (x) и правильных классификационных ответов (y). Задача функции сгенерировать новый датасет, состоящий из картинок размера `new_size`. Для каждой новой картинки мы сначала возьмем случайный кусочек фона из `bg_source`, а затем поместим цифру из MNIST на случайное место в новой картинке.\n",
        "\n",
        "В качестве Ground-Truth (истинных) данных для одного образца будем использовать матрицу размером 10x5, где 10 = количество классов, а 5 = 1+4 (вероятность данного класса + прямоугольник (бокс), соответствующий данному классу). Для истинного класса вероятность будет равна 1, а координаты прямоугольника соовтетствовать тому случайному месту, куда мы поместили цифру из MNIST. Для остальных классов вероятность будет равна 0, а в качестве прямоугольника мы возьмём невозможный прямоуголник с координатами [-1, -1, -1, -1] -- это будет дополниеьльный сигнал для модели, что на картинке нет соответствующего класса.\n",
        "\n",
        "Кроме того, координаты прямоуголника обычно нормализуют относительно размеров картинки (`new_size`)."
      ]
    },
    {
      "cell_type": "code",
      "metadata": {
        "id": "tQEaYrEs6dRy"
      },
      "source": [
        "def convert_to_loc_ds(x, y, bg_source, new_size):\n",
        "    x_new = np.zeros((x.shape[0], new_size[0], new_size[1], 1), dtype=np.float32)\n",
        "    y_new = np.zeros((y.shape[0], 10, 5), dtype=np.float32)\n",
        "    y_new[:, :, 1:] = -1\n",
        "\n",
        "    rh = float(x.shape[1]) / new_size[0]\n",
        "    rw = float(x.shape[2]) / new_size[1]\n",
        "\n",
        "    for i in range(x.shape[0]):\n",
        "        oh = random.randint(0, bg_source.shape[0] - new_size[0])\n",
        "        ow = random.randint(0, bg_source.shape[1] - new_size[1])\n",
        "        x_new[i] = bg_source[oh:oh+new_size[0], ow:ow+new_size[1], :]\n",
        "        oh = random.randint(0, x_new[i,...].shape[0] - x[i].shape[0])\n",
        "        ow = random.randint(0, x_new[i,...].shape[1] - x[i].shape[1])\n",
        "        x_new[i, oh:oh+x[i].shape[0], ow:ow+x[i].shape[1], :] += x[i]\n",
        "        x_new[i] = np.clip(x_new[i], 0, 1)\n",
        "        ry = float(oh) / new_size[0]\n",
        "        rx = float(ow) / new_size[1]\n",
        "        y_new[i][y[i]] = [1.0, ry, rx, rh, rw]\n",
        "        \n",
        "    return x_new, y_new"
      ],
      "execution_count": 5,
      "outputs": []
    },
    {
      "cell_type": "markdown",
      "metadata": {
        "id": "i-EoL-Nr7ljS"
      },
      "source": [
        "### Генерация локализационного датасета\n",
        "Сгенерируем локализационный датасет (train и test). Размер новых картинок (`new_size`) возьмем 64x64"
      ]
    },
    {
      "cell_type": "code",
      "metadata": {
        "id": "6LtiO2Tj6dR1",
        "outputId": "5b8f9a45-c7eb-4790-a6ee-ebfffaf4eab2",
        "colab": {
          "base_uri": "https://localhost:8080/"
        }
      },
      "source": [
        "new_size = (64, 64)\n",
        "\n",
        "train_x_new, train_y_new = convert_to_loc_ds(train_x, train_y, bg_source, new_size)\n",
        "test_x_new, test_y_new = convert_to_loc_ds(test_x, test_y, bg_source, new_size)\n",
        "\n",
        "print(train_x_new.shape)\n",
        "print(train_y_new.shape)\n",
        "print(test_x_new.shape)\n",
        "print(test_y_new.shape)"
      ],
      "execution_count": 8,
      "outputs": [
        {
          "output_type": "stream",
          "name": "stdout",
          "text": [
            "(60000, 64, 64, 1)\n",
            "(60000, 10, 5)\n",
            "(10000, 64, 64, 1)\n",
            "(10000, 10, 5)\n"
          ]
        }
      ]
    },
    {
      "cell_type": "markdown",
      "metadata": {
        "id": "-_kfjRIA8Gx9"
      },
      "source": [
        "### Фнкция для отображения локализации\n",
        "Реализуем функцию, которая по входной картинке и предсказанию (ground-truth или выход модели `logits`) визуализирует это предсказание на картинке."
      ]
    },
    {
      "cell_type": "code",
      "metadata": {
        "id": "sGH0vv4E6dR4"
      },
      "source": [
        "def show_prediction(x, logits):\n",
        "    import matplotlib.patches as patches\n",
        "\n",
        "    pred_cls = np.argmax(logits[:,0])\n",
        "    ry, rx, rh, rw = logits[pred_cls][1:]\n",
        "\n",
        "    box_y = int(ry * x.shape[0])\n",
        "    box_x = int(rx * x.shape[1])\n",
        "    box_w = int(rw * x.shape[0])\n",
        "    box_h = int(rh * x.shape[0])\n",
        "\n",
        "    fig,ax = plt.subplots(1)\n",
        "    ax.imshow(x[...,0], 'gray', vmin=0, vmax=1,)\n",
        "    rect = patches.Rectangle((box_x, box_y), box_w, box_h, linewidth=1, edgecolor='r', facecolor='none')\n",
        "    ax.add_patch(rect)\n",
        "    print('Prediction: {}'.format(pred_cls))\n",
        "    print('Box: {}'.format((box_x, box_y, box_w, box_h)))"
      ],
      "execution_count": 9,
      "outputs": []
    },
    {
      "cell_type": "markdown",
      "metadata": {
        "id": "5ooGpBl68dux"
      },
      "source": [
        "### Визуализация Ground-Truth образца"
      ]
    },
    {
      "cell_type": "code",
      "metadata": {
        "id": "8zkX-uHg6dR6",
        "outputId": "d4fed288-dead-4637-c01c-33a064750226",
        "colab": {
          "base_uri": "https://localhost:8080/",
          "height": 304
        }
      },
      "source": [
        "i = random.randint(0, train_x_new.shape[0])\n",
        "show_prediction(train_x_new[i], train_y_new[i])"
      ],
      "execution_count": 15,
      "outputs": [
        {
          "output_type": "stream",
          "name": "stdout",
          "text": [
            "Prediction: 4\n",
            "Box: (8, 14, 28, 28)\n"
          ]
        },
        {
          "output_type": "display_data",
          "data": {
            "text/plain": [
              "<Figure size 432x288 with 1 Axes>"
            ],
            "image/png": "[encoded data removed]"
          },
          "metadata": {
            "needs_background": "light"
          }
        }
      ]
    },
    {
      "cell_type": "markdown",
      "metadata": {
        "id": "hLW6VMx9dgEL"
      },
      "source": [
        "# Классиифкация и Локализация"
      ]
    },
    {
      "cell_type": "markdown",
      "metadata": {
        "id": "RQAropr89LjF"
      },
      "source": [
        "### Создание модели для классификации и локализации\n",
        "Теперь наш датасет готов, так что давайти создадим и обучим на нём модель для классификации и локализации. Она будет очень похожа на обычную CNN для классификации, но здесь мы сделаем так, что выход из последнего слоя будет содержать не просто распределение веротяностей по классам, а еще и координаты прямоугольника для каждого класса. Итого 10*(1+4) чисел на выходе. Для удобства отделим в выходном тензоре размерностии, соответствующие классам и пятёрке, отвечающей за один класс (с помощью reshape). Таким образом, выходной тензор будет иметь размерность (количество образцов, количество классов, 5)\n",
        "\n",
        "**[ЗАДАНИЕ 1]** Вопрос: Почему для такой архитектуры в последнем слое (`fc2`) мы не можем сразу указать функцию активации `softmax`, и нам приходится здсь использовать `None`, а softmax навешивать уже потом (в лоссе)?"
      ]
    },
    {
      "cell_type": "markdown",
      "source": [
        "функція активації софтмакс не підходить для моделі визначення правильного прямокутника для локалізації. Одночасно використовувати одну функцію активації для завдань класифікації та регресії є методологічною помилкою"
      ],
      "metadata": {
        "id": "TgWmaj_um6mZ"
      }
    },
    {
      "cell_type": "code",
      "metadata": {
        "id": "kdOTZb4e6dR8"
      },
      "source": [
        "class Model(tf.keras.Model):\n",
        "    \n",
        "    def __init__(self):\n",
        "        super(Model, self).__init__()\n",
        "        \n",
        "        self.conv1 = tf.keras.layers.Conv2D(32, (5, 5), activation=tf.nn.relu, padding='same')\n",
        "        self.conv2 = tf.keras.layers.Conv2D(64, (5, 5), activation=tf.nn.relu, padding='same')\n",
        "        self.conv3 = tf.keras.layers.Conv2D(128, (5, 5), activation=tf.nn.relu, padding='same')\n",
        "        self.conv4 = tf.keras.layers.Conv2D(128, (5, 5), activation=tf.nn.relu, padding='same')\n",
        "        self.fc1 = tf.keras.layers.Dense(256, activation=tf.nn.relu)\n",
        "        self.fc2 = tf.keras.layers.Dense(5*10, activation=None)\n",
        "        self.max_pool = tf.keras.layers.MaxPooling2D((2, 2), (2, 2), padding='same')\n",
        "        \n",
        "    def call(self, inp):\n",
        "        \n",
        "        out = self.conv1(inp)\n",
        "        out = self.max_pool(out)\n",
        "        out = self.conv2(out)\n",
        "        out = self.max_pool(out)\n",
        "        out = self.conv3(out)\n",
        "        out = self.max_pool(out)\n",
        "        out = self.conv4(out)\n",
        "        out = self.max_pool(out)\n",
        "        out = tf.keras.layers.Flatten()(out)\n",
        "        out = self.fc1(out)\n",
        "        out = self.fc2(out)\n",
        "        out = tf.reshape(out, (-1, out.shape[1]//5, 5))\n",
        "        \n",
        "        return out\n",
        "    \n",
        "model = Model()"
      ],
      "execution_count": 28,
      "outputs": []
    },
    {
      "cell_type": "markdown",
      "metadata": {
        "id": "tagOMI5f8vo2"
      },
      "source": [
        "### Функция потерь (Loss)\n",
        "Зададим функцию потерь. В этом премере она будет не совсем стандартной. Так как теперь наша модель выдаёт и информацию про метку класса и информацию про ограничивающие прямоугольники, нам надо будет учесть и то и то. Для этого нам понадобятся два лосса: один для классификации (`loss_cls`), дургой для регрессии (`loss_box`). \n",
        "\n",
        "Каждый из этих лоссов будет применяться к определённой части тензоров, соответствующих выходу сети и Ground-Truth. Классификационный лосс будем применять для элементов `[:,:,0]`, а локализационный для элементов `[:,:,1:]`, ибо так мы пострили наш Ground-Truth. Для классификации будем применять `softmax_cross_entropy` (в этом лоссе нужен дополнительный софтмакс, так как мы не использовали софтмакс в самой модели). Для регрессии -- `mean_squared_error` (MSE).\n",
        "\n",
        "Далее нам нужно будет получить единый лосс, как взвешеную сумму `loss_cls` и `loss_box`. За взвешивание будет отвечать параметр `LAMBDA`, величина которого будет отвечать за то, чему больше должна уделять внимание нейроннная сеть -- классификации или локализации. Это гиперпараметр.\n",
        "\n",
        "**[ЗАДАНИЕ 2]** Вопрос: Каковы размеры тензора `logits_box`, при условии, что batch_size = 64?"
      ]
    },
    {
      "cell_type": "markdown",
      "source": [
        "logits_box = [64, 10, 4]"
      ],
      "metadata": {
        "id": "XEFfIPqAry0K"
      }
    },
    {
      "cell_type": "code",
      "metadata": {
        "id": "e2DlhaDd6dR-"
      },
      "source": [
        "def loss_cls(labels, logits):\n",
        "    logits_cls = logits[:,:,0]\n",
        "    labels_cls = labels[:,:,0]\n",
        "    return tf.compat.v1.losses.softmax_cross_entropy(labels_cls, logits_cls)\n",
        "\n",
        "def loss_box(labels, logits):\n",
        "    logits_box = logits[:,:,1:]\n",
        "    labels_box = labels[:,:,1:]\n",
        "    return tf.losses.mean_squared_error(labels_box, logits_box)\n",
        "\n",
        "LAMBDA = 1.0\n",
        "def loss_composit(labels, logits):\n",
        "    return loss_cls(labels, logits) + LAMBDA * loss_box(labels, logits)"
      ],
      "execution_count": 29,
      "outputs": []
    },
    {
      "cell_type": "markdown",
      "metadata": {
        "id": "uvRDNnKoAdpm"
      },
      "source": [
        "### Обучение\n",
        "\n",
        "**[ЗАДАНИЕ 3]** Реализуйте пайплайн обучения описанной выше модели `model`, как это делалось для других задач обучения в tensorFlow. Используйте созданные выше `train_x_new` и `train_y_new` в качестве обучающего датасета. Во время обучения минимизируйте композитный лосс `loss_composit`. Постройте график зависимости лосса от эпохи."
      ]
    },
    {
      "cell_type": "code",
      "metadata": {
        "id": "aLP_a0bU6dSB"
      },
      "source": [
        "# Ваш код здесь\n",
        "model.build(input_shape=(128, 64, 64, 1))\n",
        "model.compile(loss=loss_composit, metrics=['accuracy'], optimizer=tf.keras.optimizers.Adam(learning_rate=1e-4))"
      ],
      "execution_count": 30,
      "outputs": []
    },
    {
      "cell_type": "code",
      "source": [
        "history = model.fit(x=train_x_new, y=train_y_new, validation_data=(test_x_new, test_y_new), epochs=20, batch_size=128)"
      ],
      "metadata": {
        "id": "RR2fYVlRqL2b",
        "outputId": "c7c87d73-1333-457f-ac4c-7315e4924e92",
        "colab": {
          "base_uri": "https://localhost:8080/"
        }
      },
      "execution_count": 41,
      "outputs": [
        {
          "output_type": "stream",
          "name": "stdout",
          "text": [
            "Epoch 1/20\n",
            "469/469 [==============================] - 18s 35ms/step - loss: 0.8936 - accuracy: 0.6350 - val_loss: 0.7424 - val_accuracy: 0.6048\n",
            "Epoch 2/20\n",
            "469/469 [==============================] - 16s 33ms/step - loss: 0.6465 - accuracy: 0.5814 - val_loss: 0.5495 - val_accuracy: 0.5701\n",
            "Epoch 3/20\n",
            "469/469 [==============================] - 15s 33ms/step - loss: 0.5172 - accuracy: 0.5617 - val_loss: 0.4395 - val_accuracy: 0.5580\n",
            "Epoch 4/20\n",
            "469/469 [==============================] - 16s 33ms/step - loss: 0.4160 - accuracy: 0.5548 - val_loss: 0.3653 - val_accuracy: 0.5419\n",
            "Epoch 5/20\n",
            "469/469 [==============================] - 15s 33ms/step - loss: 0.3470 - accuracy: 0.5539 - val_loss: 0.3053 - val_accuracy: 0.5556\n",
            "Epoch 6/20\n",
            "469/469 [==============================] - 16s 33ms/step - loss: 0.3008 - accuracy: 0.5601 - val_loss: 0.2590 - val_accuracy: 0.5615\n",
            "Epoch 7/20\n",
            "469/469 [==============================] - 16s 33ms/step - loss: 0.2588 - accuracy: 0.5623 - val_loss: 0.2162 - val_accuracy: 0.5547\n",
            "Epoch 8/20\n",
            "469/469 [==============================] - 15s 33ms/step - loss: 0.2368 - accuracy: 0.5617 - val_loss: 0.2013 - val_accuracy: 0.5532\n",
            "Epoch 9/20\n",
            "469/469 [==============================] - 15s 33ms/step - loss: 0.2105 - accuracy: 0.5569 - val_loss: 0.1914 - val_accuracy: 0.5658\n",
            "Epoch 10/20\n",
            "469/469 [==============================] - 15s 33ms/step - loss: 0.1902 - accuracy: 0.5525 - val_loss: 0.1912 - val_accuracy: 0.5375\n",
            "Epoch 11/20\n",
            "469/469 [==============================] - 16s 33ms/step - loss: 0.1771 - accuracy: 0.5457 - val_loss: 0.1528 - val_accuracy: 0.5444\n",
            "Epoch 12/20\n",
            "469/469 [==============================] - 15s 33ms/step - loss: 0.1612 - accuracy: 0.5388 - val_loss: 0.1463 - val_accuracy: 0.5281\n",
            "Epoch 13/20\n",
            "469/469 [==============================] - 15s 33ms/step - loss: 0.1479 - accuracy: 0.5330 - val_loss: 0.1353 - val_accuracy: 0.5234\n",
            "Epoch 14/20\n",
            "469/469 [==============================] - 15s 33ms/step - loss: 0.1348 - accuracy: 0.5256 - val_loss: 0.1193 - val_accuracy: 0.5263\n",
            "Epoch 15/20\n",
            "469/469 [==============================] - 15s 33ms/step - loss: 0.1252 - accuracy: 0.5209 - val_loss: 0.1095 - val_accuracy: 0.5142\n",
            "Epoch 16/20\n",
            "469/469 [==============================] - 15s 33ms/step - loss: 0.1140 - accuracy: 0.5131 - val_loss: 0.1095 - val_accuracy: 0.5050\n",
            "Epoch 17/20\n",
            "469/469 [==============================] - 15s 33ms/step - loss: 0.1045 - accuracy: 0.5047 - val_loss: 0.1126 - val_accuracy: 0.4952\n",
            "Epoch 18/20\n",
            "469/469 [==============================] - 15s 33ms/step - loss: 0.0956 - accuracy: 0.4996 - val_loss: 0.0942 - val_accuracy: 0.4855\n",
            "Epoch 19/20\n",
            "469/469 [==============================] - 15s 33ms/step - loss: 0.0891 - accuracy: 0.4917 - val_loss: 0.0944 - val_accuracy: 0.4869\n",
            "Epoch 20/20\n",
            "469/469 [==============================] - 16s 33ms/step - loss: 0.0831 - accuracy: 0.4849 - val_loss: 0.0850 - val_accuracy: 0.4784\n"
          ]
        }
      ]
    },
    {
      "cell_type": "code",
      "source": [
        "plt.plot(history.history['loss'])"
      ],
      "metadata": {
        "id": "qx0r3gdAp9Dw"
      },
      "execution_count": null,
      "outputs": []
    },
    {
      "cell_type": "markdown",
      "metadata": {
        "id": "pY1q19AcCpEm"
      },
      "source": [
        "### Тестирование модели\n",
        "Возьмём случайный образец из нашей тестовой выборки и пропустим его через обученную модель. Визуализируем результат предсказания.\n",
        "\n",
        "**[ЗАДАНИЕ 4]** Позапускайте этот блок и посмотрите, как работает обученая модель на различных тестовых изображениях."
      ]
    },
    {
      "cell_type": "code",
      "metadata": {
        "id": "g7a1rnF36dSJ",
        "outputId": "b8465905-4a08-4049-f682-e7ba1795d282",
        "colab": {
          "base_uri": "https://localhost:8080/",
          "height": 304
        }
      },
      "source": [
        "i = random.randint(0, test_x_new.shape[0])\n",
        "sample = test_x_new[i]\n",
        "          \n",
        "pred = model.predict(sample[None, ...])[0, ...]\n",
        "show_prediction(sample, pred)"
      ],
      "execution_count": 48,
      "outputs": [
        {
          "output_type": "stream",
          "name": "stdout",
          "text": [
            "Prediction: 7\n",
            "Box: (14, 14, 44, 52)\n"
          ]
        },
        {
          "output_type": "display_data",
          "data": {
            "text/plain": [
              "<Figure size 432x288 with 1 Axes>"
            ],
            "image/png": "[encoded data removed]"
          },
          "metadata": {
            "needs_background": "light"
          }
        }
      ]
    },
    {
      "cell_type": "markdown",
      "metadata": {
        "id": "suLPXTzmKzwR"
      },
      "source": [
        "### Дополнительное задание\n",
        "**[ЗАДАНИЕ 5]** Поэксперементируйте c гипермарамтерами модели и обучения для улучшения качества работы модели. Уделите внимание парамтеру LAMBDA и количеству эпох. Кроме того, попробуйте модифицировать архитектуру нейросети."
      ]
    },
    {
      "cell_type": "code",
      "source": [
        "LAMBDA = 10.0\n",
        "def loss_composit(labels, logits):\n",
        "    return loss_cls(labels, logits) + LAMBDA * loss_box(labels, logits)\n",
        "\n",
        "\n",
        "# Ваш код здесь\n",
        "model.build(input_shape=(128, 64, 64, 1))\n",
        "model.compile(loss=loss_composit, metrics=['accuracy'], optimizer=tf.keras.optimizers.Adam(learning_rate=1e-4))\n",
        "\n"
      ],
      "metadata": {
        "id": "QI2PoXKAuGEQ"
      },
      "execution_count": 70,
      "outputs": []
    },
    {
      "cell_type": "code",
      "source": [
        "history = model.fit(x=train_x_new, y=train_y_new, validation_data=(test_x_new, test_y_new), epochs=20, batch_size=128)"
      ],
      "metadata": {
        "id": "Wf06cVEdwYZA",
        "outputId": "f6b2ec6d-eb55-4489-e60e-367dc7fc904d",
        "colab": {
          "base_uri": "https://localhost:8080/"
        }
      },
      "execution_count": 71,
      "outputs": [
        {
          "output_type": "stream",
          "name": "stdout",
          "text": [
            "Epoch 1/20\n",
            "469/469 [==============================] - 16s 33ms/step - loss: 0.1097 - accuracy: 0.3867 - val_loss: 0.1457 - val_accuracy: 0.3854\n",
            "Epoch 2/20\n",
            "469/469 [==============================] - 15s 32ms/step - loss: 0.0981 - accuracy: 0.3763 - val_loss: 0.1318 - val_accuracy: 0.3706\n",
            "Epoch 3/20\n",
            "469/469 [==============================] - 15s 33ms/step - loss: 0.0896 - accuracy: 0.3669 - val_loss: 0.1118 - val_accuracy: 0.3580\n",
            "Epoch 4/20\n",
            "469/469 [==============================] - 15s 33ms/step - loss: 0.0827 - accuracy: 0.3576 - val_loss: 0.1155 - val_accuracy: 0.3496\n",
            "Epoch 5/20\n",
            "469/469 [==============================] - 15s 33ms/step - loss: 0.0760 - accuracy: 0.3493 - val_loss: 0.1125 - val_accuracy: 0.3420\n",
            "Epoch 6/20\n",
            "469/469 [==============================] - 15s 32ms/step - loss: 0.0699 - accuracy: 0.3405 - val_loss: 0.1145 - val_accuracy: 0.3288\n",
            "Epoch 7/20\n",
            "469/469 [==============================] - 15s 33ms/step - loss: 0.0647 - accuracy: 0.3320 - val_loss: 0.0988 - val_accuracy: 0.3260\n",
            "Epoch 8/20\n",
            "469/469 [==============================] - 15s 32ms/step - loss: 0.0602 - accuracy: 0.3235 - val_loss: 0.0977 - val_accuracy: 0.3201\n",
            "Epoch 9/20\n",
            "469/469 [==============================] - 15s 33ms/step - loss: 0.0544 - accuracy: 0.3155 - val_loss: 0.0899 - val_accuracy: 0.3107\n",
            "Epoch 10/20\n",
            "469/469 [==============================] - 15s 32ms/step - loss: 0.0510 - accuracy: 0.3081 - val_loss: 0.0899 - val_accuracy: 0.3061\n",
            "Epoch 11/20\n",
            "469/469 [==============================] - 15s 32ms/step - loss: 0.0467 - accuracy: 0.3007 - val_loss: 0.0909 - val_accuracy: 0.2949\n",
            "Epoch 12/20\n",
            "469/469 [==============================] - 15s 32ms/step - loss: 0.0438 - accuracy: 0.2945 - val_loss: 0.0847 - val_accuracy: 0.2942\n",
            "Epoch 13/20\n",
            "469/469 [==============================] - 15s 32ms/step - loss: 0.0409 - accuracy: 0.2876 - val_loss: 0.0838 - val_accuracy: 0.2864\n",
            "Epoch 14/20\n",
            "469/469 [==============================] - 15s 32ms/step - loss: 0.0378 - accuracy: 0.2798 - val_loss: 0.0843 - val_accuracy: 0.2861\n",
            "Epoch 15/20\n",
            "469/469 [==============================] - 15s 32ms/step - loss: 0.0345 - accuracy: 0.2746 - val_loss: 0.0882 - val_accuracy: 0.2739\n",
            "Epoch 16/20\n",
            "469/469 [==============================] - 15s 32ms/step - loss: 0.0322 - accuracy: 0.2680 - val_loss: 0.0841 - val_accuracy: 0.2759\n",
            "Epoch 17/20\n",
            "469/469 [==============================] - 15s 32ms/step - loss: 0.0289 - accuracy: 0.2614 - val_loss: 0.0780 - val_accuracy: 0.2582\n",
            "Epoch 18/20\n",
            "469/469 [==============================] - 15s 32ms/step - loss: 0.0275 - accuracy: 0.2565 - val_loss: 0.0773 - val_accuracy: 0.2603\n",
            "Epoch 19/20\n",
            "469/469 [==============================] - 15s 32ms/step - loss: 0.0260 - accuracy: 0.2511 - val_loss: 0.0752 - val_accuracy: 0.2540\n",
            "Epoch 20/20\n",
            "469/469 [==============================] - 15s 32ms/step - loss: 0.0230 - accuracy: 0.2439 - val_loss: 0.0716 - val_accuracy: 0.2396\n"
          ]
        }
      ]
    },
    {
      "cell_type": "code",
      "source": [
        "plt.plot(history.history['loss'])"
      ],
      "metadata": {
        "id": "uuP0ai2xymbh",
        "outputId": "42e1eb8c-7192-4ab3-f245-46903ebd4f04",
        "colab": {
          "base_uri": "https://localhost:8080/",
          "height": 283
        }
      },
      "execution_count": 74,
      "outputs": [
        {
          "output_type": "execute_result",
          "data": {
            "text/plain": [
              "[<matplotlib.lines.Line2D at 0x7fc4bd6a9650>]"
            ]
          },
          "metadata": {},
          "execution_count": 74
        },
        {
          "output_type": "display_data",
          "data": {
            "text/plain": [
              "<Figure size 432x288 with 1 Axes>"
            ],
            "image/png": "[encoded data removed]"
          },
          "metadata": {
            "needs_background": "light"
          }
        }
      ]
    },
    {
      "cell_type": "code",
      "source": [
        "i = random.randint(0, test_x_new.shape[0])\n",
        "sample = test_x_new[i]\n",
        "          \n",
        "pred = model.predict(sample[None, ...])[0, ...]\n",
        "show_prediction(sample, pred)"
      ],
      "metadata": {
        "id": "i-aAtW40w0HW",
        "outputId": "e86a8fe7-a21f-4f4b-98f8-1b678906a5e1",
        "colab": {
          "base_uri": "https://localhost:8080/",
          "height": 304
        }
      },
      "execution_count": 97,
      "outputs": [
        {
          "output_type": "stream",
          "name": "stdout",
          "text": [
            "Prediction: 0\n",
            "Box: (11, 30, 27, 28)\n"
          ]
        },
        {
          "output_type": "display_data",
          "data": {
            "text/plain": [
              "<Figure size 432x288 with 1 Axes>"
            ],
            "image/png": "[encoded data removed]"
          },
          "metadata": {
            "needs_background": "light"
          }
        }
      ]
    }
  ]
}