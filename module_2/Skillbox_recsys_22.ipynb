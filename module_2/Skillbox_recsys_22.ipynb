{
  "nbformat": 4,
  "nbformat_minor": 0,
  "metadata": {
    "kernelspec": {
      "display_name": "Python 3",
      "language": "python",
      "name": "python3"
    },
    "language_info": {
      "codemirror_mode": {
        "name": "ipython",
        "version": 3
      },
      "file_extension": ".py",
      "mimetype": "text/x-python",
      "name": "python",
      "nbconvert_exporter": "python",
      "pygments_lexer": "ipython3",
      "version": "3.7.4"
    },
    "colab": {
      "name": "Skillbox_recsys_22.ipynb",
      "provenance": [],
      "collapsed_sections": [],
      "include_colab_link": true
    }
  },
  "cells": [
    {
      "cell_type": "markdown",
      "metadata": {
        "id": "view-in-github",
        "colab_type": "text"
      },
      "source": [
        "<a href=\"https://colab.research.google.com/github/vsolodkyi/NeuralNetworks_SkillBox/blob/main/module_2/Skillbox_recsys_22.ipynb\" target=\"_parent\"><img src=\"https://colab.research.google.com/assets/colab-badge.svg\" alt=\"Open In Colab\"/></a>"
      ]
    },
    {
      "cell_type": "markdown",
      "metadata": {
        "id": "JEH0PmL7ZW-U"
      },
      "source": [
        "# Рекомендательная система на библиотеке surprise (Практика 2)\n",
        "\n",
        "В этом практическом задании вы будете работать с набором данных \n",
        "\n",
        "```data = Dataset.load_builtin('ml-100k')```\n",
        "\n",
        "Это тот же датасет, с которым вы уже работали в предыдущем модуле.\n",
        "\n",
        "### Что нужно сделать:\n",
        "\n",
        "1. Разбейте пользователей на 2 группы: на тестовую - туда нужно отобрать всех пользователей у которых строго меньше 30 оценок; и обучающую - туда добавьте всех оставльных пользователей. \n",
        "Будем считать, что пользователи, у которых мало оценок, являются новыми.\n",
        "\n",
        "2. Реализуйте алгоритм для рекомендации фильмов пользователю, а также попробуйте решить проблему холодного старта двумя способами. \n",
        "* Считать средние оценки для всех фильмов и рекомендовать топ-5 фильмов\n",
        "* Считать средние оценки фильмов, для которых поставлено строго больше четырёх оценок, и рекомендовать топ-5 фильмов\n",
        "\n",
        "Для какого подхода метрика map@5 для окажется лучше?\n"
      ]
    },
    {
      "cell_type": "code",
      "metadata": {
        "id": "8ZX0cxKRZW-U"
      },
      "source": [
        "import pandas as pd\n",
        "import numpy as np"
      ],
      "execution_count": null,
      "outputs": []
    },
    {
      "cell_type": "code",
      "metadata": {
        "id": "E5SIdNpwZW-Y"
      },
      "source": [
        "from surprise import Dataset\n",
        "from surprise import Reader"
      ],
      "execution_count": null,
      "outputs": []
    },
    {
      "cell_type": "code",
      "metadata": {
        "id": "iIB76VaAZW-b"
      },
      "source": [
        "data = Dataset.load_builtin('ml-100k') #загружаем данные о фильмах"
      ],
      "execution_count": null,
      "outputs": []
    }
  ]
}