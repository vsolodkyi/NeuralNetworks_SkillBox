{
  "nbformat": 4,
  "nbformat_minor": 0,
  "metadata": {
    "accelerator": "GPU",
    "colab": {
      "name": "5_DQN.ipynb",
      "provenance": [],
      "collapsed_sections": [],
      "include_colab_link": true
    },
    "kernelspec": {
      "name": "python3",
      "display_name": "Python 3"
    },
    "language_info": {
      "codemirror_mode": {
        "name": "ipython",
        "version": 3
      },
      "file_extension": ".py",
      "mimetype": "text/x-python",
      "name": "python",
      "nbconvert_exporter": "python",
      "pygments_lexer": "ipython3",
      "version": "3.7.1"
    }
  },
  "cells": [
    {
      "cell_type": "markdown",
      "metadata": {
        "id": "view-in-github",
        "colab_type": "text"
      },
      "source": [
        "<a href=\"https://colab.research.google.com/github/vsolodkyi/NeuralNetworks_SkillBox/blob/main/module_17/5_DQN.ipynb\" target=\"_parent\"><img src=\"https://colab.research.google.com/assets/colab-badge.svg\" alt=\"Open In Colab\"/></a>"
      ]
    },
    {
      "cell_type": "markdown",
      "metadata": {
        "id": "EgshItiNbYmH"
      },
      "source": [
        "# Реализация DQN\n",
        "\n",
        "В этом уроке мы разберем на практике обучение DQN (Deep Q Network) для задачи Frozen Lake."
      ]
    },
    {
      "cell_type": "markdown",
      "metadata": {
        "id": "0yeG_jLT-b2h"
      },
      "source": [
        "### Используем TensorFlow 2.0\n",
        "\n",
        "На момент подготовки этих материалов в Google Colab по умолчанию используется версия TensorFlow 1.X\n",
        "\n",
        "Переключаемся на версию 2.0 (работает только в Colab)"
      ]
    },
    {
      "cell_type": "code",
      "metadata": {
        "id": "1mpXpfED-Z7b"
      },
      "source": [
        "#%tensorflow_version 2.x"
      ],
      "execution_count": null,
      "outputs": []
    },
    {
      "cell_type": "markdown",
      "metadata": {
        "id": "Y1c9g1MHeUCl"
      },
      "source": [
        "### Загрузка библиотек\n",
        "\n",
        "Для обучения нейросети будем использовать TensorFlow"
      ]
    },
    {
      "cell_type": "code",
      "metadata": {
        "id": "2-zMowjHFz3t"
      },
      "source": [
        "import numpy as np\n",
        "import matplotlib.pyplot as plt\n",
        "%matplotlib inline\n",
        "\n",
        "import gym\n",
        "\n",
        "import tensorflow as tf"
      ],
      "execution_count": 25,
      "outputs": []
    },
    {
      "cell_type": "markdown",
      "metadata": {
        "id": "IAGOjhbmg409"
      },
      "source": [
        "### Создание игровой среды\n",
        "Создадим симулятор Frozen Lake."
      ]
    },
    {
      "cell_type": "code",
      "metadata": {
        "id": "mIprlbAyJo18",
        "colab": {
          "base_uri": "https://localhost:8080/"
        },
        "outputId": "2155c3e8-8739-4211-d57e-52f1421d3b70"
      },
      "source": [
        "env = gym.make('FrozenLake-v1', is_slippery=False)\n",
        "\n",
        "NUM_STATES = env.observation_space.n\n",
        "NUM_ACTIONS = env.action_space.n\n",
        "\n",
        "print('States: {}'.format(NUM_STATES))\n",
        "print('Actions: {}'.format(NUM_ACTIONS))"
      ],
      "execution_count": 26,
      "outputs": [
        {
          "output_type": "stream",
          "name": "stdout",
          "text": [
            "States: 16\n",
            "Actions: 4\n"
          ]
        },
        {
          "output_type": "stream",
          "name": "stderr",
          "text": [
            "/usr/local/lib/python3.7/dist-packages/gym/core.py:330: DeprecationWarning: \u001b[33mWARN: Initializing wrapper in old step API which returns one bool instead of two. It is recommended to set `new_step_api=True` to use new step API. This will be the default behaviour in future.\u001b[0m\n",
            "  \"Initializing wrapper in old step API which returns one bool instead of two. It is recommended to set `new_step_api=True` to use new step API. This will be the default behaviour in future.\"\n",
            "/usr/local/lib/python3.7/dist-packages/gym/wrappers/step_api_compatibility.py:40: DeprecationWarning: \u001b[33mWARN: Initializing environment in old step API which returns one bool instead of two. It is recommended to set `new_step_api=True` to use new step API. This will be the default behaviour in future.\u001b[0m\n",
            "  \"Initializing environment in old step API which returns one bool instead of two. It is recommended to set `new_step_api=True` to use new step API. This will be the default behaviour in future.\"\n"
          ]
        }
      ]
    },
    {
      "cell_type": "markdown",
      "metadata": {
        "id": "GjQrZ6wlFHxX"
      },
      "source": [
        "### Параметры обучения\n",
        "\n",
        "* `lr` - скорость обучения (в теории это был параметр `alpha`)\n",
        "* `gamma` - параметр дисконтирования\n",
        "* `NUM_EPISODES` - сколько всего эпизодов игры будем осуществлять\n",
        "* `MAX_STEPS` - максимальное количесвто шагов в рамках одного эпизода. Эпизод может закончиться и раньше. Это ограничение нужно, если агент зашёл в какой-то тупик и там застрял. Или для бесконечных игр/симуляций.\n",
        "\n",
        "Кроме того, будем смотреть на награду, усреднённую в некотором временнОм окне (окно по эпизодам).\n",
        "\n",
        "* `REWARD_AVERAGE_WINDOW` - размер этого окна."
      ]
    },
    {
      "cell_type": "code",
      "metadata": {
        "id": "DWdeWWIHZcC2"
      },
      "source": [
        "lr = 0.1 # learning rate\n",
        "gamma = 0.99 # параметр дисконтирования\n",
        "\n",
        "NUM_EPISODES = 1000 # число эпизодов для обучения\n",
        "MAX_STEPS = 100 # максимальное число шагов в эпизоде\n",
        "\n",
        "REWARD_AVERAGE_WINDOW = 20 # окно для усреднения наград по эпизодам"
      ],
      "execution_count": 27,
      "outputs": []
    },
    {
      "cell_type": "markdown",
      "metadata": {
        "id": "g3UDmQWw-sXc"
      },
      "source": [
        "### Создание модели\n",
        "\n",
        "Создадим простую модель для аппроксимации оптимальной Q-функции. Формально это будет нейронная сеть на TensorFlow. Однако, по факту, мы будем использовать лишь один Embedding слой. Это обучаемый слой, который по некоторому целочисленному входу выдаёт некоторый вектор. Именно это нам и нужно для отображения состояния `s` в вектор `Q(s, :)` для различных действий.\n",
        "\n",
        "Интересным фактом является то, что так как Embedding слой это по сути матрица, а прямое распространиене для него -- это выбор `s`-той строчки в этой матрице, такая модель эквивалентная обычной Q-таблице. Такое сработает лишь потому, что у нас очень простая задача (Frozen Lake). Для более сложных задач надо использовать более сложные нейросети.\n",
        "\n",
        "Кроме самой модели создадим функцию для инференса `evalQ`, которая будет вычислять вектор `Q(s, :)` по входному состоянию `s`"
      ]
    },
    {
      "cell_type": "code",
      "metadata": {
        "id": "omhrJD1I-sxM"
      },
      "source": [
        "model = tf.keras.Sequential([\n",
        "    tf.keras.layers.Embedding(NUM_STATES, NUM_ACTIONS, tf.initializers.RandomUniform(0, 1)),\n",
        "])\n",
        "\n",
        "def evalQ(s):\n",
        "    inp = np.array([[s]], dtype=np.int32)\n",
        "    return model(inp).numpy()[0][0]"
      ],
      "execution_count": 28,
      "outputs": []
    },
    {
      "cell_type": "markdown",
      "metadata": {
        "id": "HGDAxuZ9_j_f"
      },
      "source": [
        "### Подготовка к обучению\n",
        "\n",
        "В качестве функции потерь будем использовать квадрат нормы разницы между целевым и предсказанным вектором Q(s, :), как это обычно делается в задачах регрессии (ведь нам нужно притянуть друг к другу эти два вектора). Зададим это функцией `loss()`\n",
        "\n",
        "В качестве оптимизатора для нейросети будем использовать SGD."
      ]
    },
    {
      "cell_type": "code",
      "metadata": {
        "id": "5kfCNcok_jZ-"
      },
      "source": [
        "def loss(q1, q2):\n",
        "    return tf.reduce_sum(tf.square(q1 - q2))\n",
        "\n",
        "optimizer = tf.keras.optimizers.SGD(learning_rate=lr)\n",
        "model.compile(loss=loss, optimizer=optimizer)"
      ],
      "execution_count": 29,
      "outputs": []
    },
    {
      "cell_type": "markdown",
      "metadata": {
        "id": "RMqTIKoAF6VG"
      },
      "source": [
        "### Обучение DQN\n",
        "\n",
        "Обучение DQN во многом похоже на табличный Q-Learning. Рассмотрим подробнее лишь те части, котороые отличаются.\n",
        "\n",
        "Чтобы получить значения Q-функции для текущего состояния `s` и всех действий, воспользуемся функцией `evalQ`: \n",
        "\n",
        "`Q_s = evalQ(s)`\n",
        "\n",
        "Во время обучения будем использовать eps-greedy подход для выбора действия (в зависимости от параметра `eps` выбирать случайное действие или по текущей политике).\n",
        "\n",
        "Самое интересное -- как сделать обновление Q-функции. Для начала, надо разобраться, как получить целевой вектор Q-target. Вспомним, что в Q-Learning мы должны обновить только значение `Q(s, a)` (через уравнение Беллмана). Но так как нейросеть предсказывает веткор для всех возможных действий (`Q(s, :)`), сделать нужно следующим образом.\n",
        "\n",
        " Пусть целевой вектор для `Q(s, :)` будет равен исходным (предсказанным нейросетью) значениям для всех действий, кроме действия `a`. То есть скопируем в `Q_target` текущий предсказанный `Q_s` и заменим в нём лишь `Q_target[a]` на та, что дает нам Беллман. И теперь наша задача \"обучить\" нейросеть на этот целевой вектор, то есть заставить её изменить свои веса так, чтобы только значение для действия `a` изменилось, а остальные значения `Q(s, :)` по возможности не изменялись. Делаем это через минимизацию ошибки между этими векторами.\n",
        "\n",
        "А чтобы сделать один шаг минимизации ошибки, нам надо сделать один шаг градиентного спуска (или в общем случае один шаг обучения модели). Сделать это можно с помощью функции `model.train_on_batch(...)`, которая делает шаг обучения на данном батче. На входе у неё батч входов и батч правильных ответов. У нас будет батч из одного элемента.\n",
        "\n",
        "В остальном всё то же самое, как было в Q-Learning.\n",
        "\n",
        "И еще дополнительно накапливаем список \"усредненных в окне наград\" -- `totalRewardAverageList`"
      ]
    },
    {
      "cell_type": "code",
      "metadata": {
        "id": "gsz97yV_dbce",
        "colab": {
          "base_uri": "https://localhost:8080/"
        },
        "outputId": "b24c7c5a-ae2f-4cd7-d19e-0f31342ce956"
      },
      "source": [
        "pathLenList = [] # длины траекторий по эпизодам\n",
        "totalRewardList = [] # суммарные награды по эпизодам\n",
        "totalRewardAverageList = [] # суммарные награды по эпизодам (среднее по окну)\n",
        "\n",
        "for i in range(NUM_EPISODES):\n",
        "\n",
        "    eps = 1.0 - i / NUM_EPISODES\n",
        "\n",
        "    s = env.reset()\n",
        "\n",
        "    totalReward = 0\n",
        "    step = 0\n",
        "\n",
        "    while step < MAX_STEPS:\n",
        "        step += 1\n",
        "\n",
        "        Q_s = evalQ(s)\n",
        "        \n",
        "        if np.random.rand() < eps:\n",
        "            # Выбор случайного действия\n",
        "            a = env.action_space.sample()\n",
        "        else:\n",
        "            # Выбор действия по текущей политике\n",
        "            a = np.argmax(Q_s)\n",
        "        \n",
        "        # Сделать шаг\n",
        "        s1, r, done, _ = env.step(a)\n",
        "\n",
        "        Q_s1 = evalQ(s1)\n",
        "        \n",
        "        # Новое (целевое) значение Q-функции\n",
        "        Q_target = Q_s\n",
        "        if done:\n",
        "            Q_target[a] = r\n",
        "        else:\n",
        "            Q_target[a] = r + gamma * np.max(Q_s1)\n",
        "              \n",
        "        # Обновление Q-функции\n",
        "        inp = np.array([[s]], dtype=np.int32)\n",
        "        model.train_on_batch(inp, Q_target[None, None, ...])\n",
        "        \n",
        "        totalReward += r\n",
        "        s = s1\n",
        "        \n",
        "        # Если конец эпизода\n",
        "        if done:\n",
        "            break\n",
        "            \n",
        "    pathLenList.append(step)\n",
        "    totalRewardList.append(totalReward)\n",
        "    \n",
        "    if i % REWARD_AVERAGE_WINDOW == 0 and i >= REWARD_AVERAGE_WINDOW:\n",
        "        totalRewardAverage = np.mean(totalRewardList[-REWARD_AVERAGE_WINDOW:])\n",
        "        totalRewardAverageList.append(totalRewardAverage)\n",
        "        if i % 100 == 0:\n",
        "            print('Episode {}: average total reward = {}'.format(i, totalRewardAverage))"
      ],
      "execution_count": 30,
      "outputs": [
        {
          "output_type": "stream",
          "name": "stdout",
          "text": [
            "Episode 100: average total reward = 0.0\n",
            "Episode 200: average total reward = 0.15\n",
            "Episode 300: average total reward = 0.15\n",
            "Episode 400: average total reward = 0.2\n",
            "Episode 500: average total reward = 0.25\n",
            "Episode 600: average total reward = 0.45\n",
            "Episode 700: average total reward = 0.5\n",
            "Episode 800: average total reward = 0.75\n",
            "Episode 900: average total reward = 0.95\n"
          ]
        }
      ]
    },
    {
      "cell_type": "markdown",
      "metadata": {
        "id": "O5mhKjbxK8ev"
      },
      "source": [
        "Посмотрим на историю длин траекторий."
      ]
    },
    {
      "cell_type": "code",
      "metadata": {
        "id": "mGlhKYpcdoR8",
        "colab": {
          "base_uri": "https://localhost:8080/",
          "height": 265
        },
        "outputId": "c2655c59-69d3-421b-8747-04496887972f"
      },
      "source": [
        "plt.plot(pathLenList)\n",
        "plt.grid()"
      ],
      "execution_count": 31,
      "outputs": [
        {
          "output_type": "display_data",
          "data": {
            "text/plain": [
              "<Figure size 432x288 with 1 Axes>"
            ],
            "image/png": "[encoded data removed]"
          },
          "metadata": {
            "needs_background": "light"
          }
        }
      ]
    },
    {
      "cell_type": "markdown",
      "metadata": {
        "id": "Ft3igyadLQ81"
      },
      "source": [
        "Посмотрим на среднюю суммарную награду. Видно, что это значение со временем стремится к единице (то есть все траектории в окне начинают доходить до конца). Во многом такой вид графика связан с eps-greedy подходом и с тем, что `eps` падает с номером эпохи."
      ]
    },
    {
      "cell_type": "code",
      "metadata": {
        "id": "A91RbeMHdpL4",
        "colab": {
          "base_uri": "https://localhost:8080/",
          "height": 265
        },
        "outputId": "73e6ee5f-6d5c-4c76-8721-cdcde545797d"
      },
      "source": [
        "plt.plot(totalRewardAverageList)\n",
        "plt.grid()"
      ],
      "execution_count": 32,
      "outputs": [
        {
          "output_type": "display_data",
          "data": {
            "text/plain": [
              "<Figure size 432x288 with 1 Axes>"
            ],
            "image/png": "[encoded data removed]"
          },
          "metadata": {
            "needs_background": "light"
          }
        }
      ]
    },
    {
      "cell_type": "markdown",
      "metadata": {
        "id": "NCRcn4ihLo2m"
      },
      "source": [
        "### Запуск симуляции\n",
        "\n",
        "Запустим симуляцию для Frozen Lake так же, как мы делали до этого. \n",
        "\n",
        "В качестве политики будем использовать нашу обученную DQN:\n",
        "\n",
        "`np.argmax(evalQ(s))`"
      ]
    },
    {
      "cell_type": "code",
      "source": [
        "!pip install pygame"
      ],
      "metadata": {
        "id": "ow1Qd4BhI7PJ",
        "outputId": "fa646998-966a-4915-8b42-e83f7aea77b4",
        "colab": {
          "base_uri": "https://localhost:8080/"
        }
      },
      "execution_count": 33,
      "outputs": [
        {
          "output_type": "stream",
          "name": "stdout",
          "text": [
            "Looking in indexes: https://pypi.org/simple, https://us-python.pkg.dev/colab-wheels/public/simple/\n",
            "Requirement already satisfied: pygame in /usr/local/lib/python3.7/dist-packages (2.1.2)\n"
          ]
        }
      ]
    },
    {
      "cell_type": "code",
      "source": [
        "import os\n",
        "os.environ[\"SDL_VIDEODRIVER\"] = \"dummy\""
      ],
      "metadata": {
        "id": "x0u71h6VJoGM"
      },
      "execution_count": 34,
      "outputs": []
    },
    {
      "cell_type": "code",
      "source": [
        "import pygame\n",
        "pygame.init()\n",
        "pygame.display.list_modes()"
      ],
      "metadata": {
        "id": "SCo5KjaiJc22",
        "outputId": "a8dd12a6-8262-416f-ca8d-5ae012815052",
        "colab": {
          "base_uri": "https://localhost:8080/"
        }
      },
      "execution_count": 35,
      "outputs": [
        {
          "output_type": "execute_result",
          "data": {
            "text/plain": [
              "[(1024, 768)]"
            ]
          },
          "metadata": {},
          "execution_count": 35
        }
      ]
    },
    {
      "cell_type": "code",
      "source": [
        "#!pip install gym['FrozenLake']"
      ],
      "metadata": {
        "id": "aeCGhKrjIIa0",
        "outputId": "45d27a47-76d5-4d10-b6e8-d7350c0e600d",
        "colab": {
          "base_uri": "https://localhost:8080/"
        }
      },
      "execution_count": null,
      "outputs": [
        {
          "output_type": "stream",
          "name": "stdout",
          "text": [
            "Looking in indexes: https://pypi.org/simple, https://us-python.pkg.dev/colab-wheels/public/simple/\n",
            "Requirement already satisfied: gym[FrozenLake] in /usr/local/lib/python3.7/dist-packages (0.25.1)\n",
            "\u001b[33mWARNING: gym 0.25.1 does not provide the extra 'frozenlake'\u001b[0m\n",
            "Requirement already satisfied: importlib-metadata>=4.8.0 in /usr/local/lib/python3.7/dist-packages (from gym[FrozenLake]) (4.12.0)\n",
            "Requirement already satisfied: gym-notices>=0.0.4 in /usr/local/lib/python3.7/dist-packages (from gym[FrozenLake]) (0.0.8)\n",
            "Requirement already satisfied: cloudpickle>=1.2.0 in /usr/local/lib/python3.7/dist-packages (from gym[FrozenLake]) (1.5.0)\n",
            "Requirement already satisfied: numpy>=1.18.0 in /usr/local/lib/python3.7/dist-packages (from gym[FrozenLake]) (1.21.6)\n",
            "Requirement already satisfied: zipp>=0.5 in /usr/local/lib/python3.7/dist-packages (from importlib-metadata>=4.8.0->gym[FrozenLake]) (3.8.1)\n",
            "Requirement already satisfied: typing-extensions>=3.6.4 in /usr/local/lib/python3.7/dist-packages (from importlib-metadata>=4.8.0->gym[FrozenLake]) (4.1.1)\n"
          ]
        }
      ]
    },
    {
      "cell_type": "code",
      "metadata": {
        "id": "7ZQcB09FZfCC",
        "colab": {
          "base_uri": "https://localhost:8080/"
        },
        "outputId": "a08311b9-f72c-4792-8fbb-141dd81c3661"
      },
      "source": [
        "env = gym.make('FrozenLake-v1', is_slippery=False)\n",
        "totalReward = 0\n",
        "s = env.reset()\n",
        "\n",
        "for _ in range(100):\n",
        "    env.render()\n",
        "    a = np.argmax(evalQ(s)) # выбираем оптимальное действие\n",
        "    s, r, done, _ = env.step(a)\n",
        "    totalReward += r\n",
        "    if done:\n",
        "        env.render()        \n",
        "        break\n",
        "\n",
        "env.close()\n",
        "print('Total reward = {}'.format(totalReward))"
      ],
      "execution_count": 38,
      "outputs": [
        {
          "output_type": "stream",
          "name": "stdout",
          "text": [
            "Total reward = 1.0\n"
          ]
        }
      ]
    },
    {
      "cell_type": "code",
      "source": [
        ""
      ],
      "metadata": {
        "id": "gJbLjP_eynom"
      },
      "execution_count": null,
      "outputs": []
    },
    {
      "cell_type": "markdown",
      "metadata": {
        "id": "-guk5IuwXz0Y"
      },
      "source": [
        "**[Задание 1]** Добавьте в DQN полносвязных слоёв (сделайте сеть глубже) и переобучите агента. Обратите внимание на инициализацию параметров (весов) слоёв. При некоторых начальных значениях модель может не сходиться. Используйте парметр `kernel_initializer` для `tf.keras.layers.Dense`"
      ]
    },
    {
      "cell_type": "code",
      "source": [
        "model_new = tf.keras.Sequential([\n",
        "    tf.keras.layers.Embedding(NUM_STATES, NUM_ACTIONS, tf.initializers.RandomUniform(0, 1)),\n",
        "])\n",
        "#model_new.add(tf.keras.layers.Dense(20, activation = 'relu'))\n",
        "model_new.add(tf.keras.layers.Dense(4, activation = None))\n"
      ],
      "metadata": {
        "id": "Sio5fOyyyoTH"
      },
      "execution_count": 47,
      "outputs": []
    },
    {
      "cell_type": "code",
      "source": [
        "def evalQ_new(s):\n",
        "    inp = np.array([[s]], dtype=np.int32)\n",
        "    return model_new(inp).numpy()[0][0]"
      ],
      "metadata": {
        "id": "jVNTugm6iAWb"
      },
      "execution_count": 40,
      "outputs": []
    },
    {
      "cell_type": "code",
      "source": [
        "optimizer = tf.keras.optimizers.SGD(learning_rate=0.2)\n",
        "model_new.compile(loss=loss, optimizer=optimizer)"
      ],
      "metadata": {
        "id": "zMHeyGtf4YQF"
      },
      "execution_count": 48,
      "outputs": []
    },
    {
      "cell_type": "code",
      "source": [
        "model_new.summary()"
      ],
      "metadata": {
        "id": "7VW9qOJQ4fF8",
        "outputId": "be51042d-1bbd-4f6d-8fa7-cd40903935f7",
        "colab": {
          "base_uri": "https://localhost:8080/"
        }
      },
      "execution_count": 49,
      "outputs": [
        {
          "output_type": "stream",
          "name": "stdout",
          "text": [
            "Model: \"sequential_4\"\n",
            "_________________________________________________________________\n",
            " Layer (type)                Output Shape              Param #   \n",
            "=================================================================\n",
            " embedding_4 (Embedding)     (None, None, 4)           64        \n",
            "                                                                 \n",
            " dense_4 (Dense)             (None, None, 20)          100       \n",
            "                                                                 \n",
            " dense_5 (Dense)             (None, None, 4)           84        \n",
            "                                                                 \n",
            "=================================================================\n",
            "Total params: 248\n",
            "Trainable params: 248\n",
            "Non-trainable params: 0\n",
            "_________________________________________________________________\n"
          ]
        }
      ]
    },
    {
      "cell_type": "code",
      "source": [
        "evalQ_new(10)"
      ],
      "metadata": {
        "id": "TwQsw25YOEbE",
        "outputId": "e26afe05-51a4-4ef4-8a3a-f8a41dfaa151",
        "colab": {
          "base_uri": "https://localhost:8080/"
        }
      },
      "execution_count": 52,
      "outputs": [
        {
          "output_type": "execute_result",
          "data": {
            "text/plain": [
              "array([ 0.29399118, -0.22826025,  0.71551734, -0.04081128], dtype=float32)"
            ]
          },
          "metadata": {},
          "execution_count": 52
        }
      ]
    },
    {
      "cell_type": "code",
      "source": [
        "evalQ(10)"
      ],
      "metadata": {
        "id": "_-dfFa1bOOFq",
        "outputId": "612c0988-46ab-48d8-8a9e-0893e63983d7",
        "colab": {
          "base_uri": "https://localhost:8080/"
        }
      },
      "execution_count": 53,
      "outputs": [
        {
          "output_type": "execute_result",
          "data": {
            "text/plain": [
              "array([9.7029698e-01, 9.8999977e-01, 1.5270392e-05, 9.7029847e-01],\n",
              "      dtype=float32)"
            ]
          },
          "metadata": {},
          "execution_count": 53
        }
      ]
    },
    {
      "cell_type": "code",
      "source": [
        "pathLenList = [] # длины траекторий по эпизодам\n",
        "totalRewardList = [] # суммарные награды по эпизодам\n",
        "totalRewardAverageList = [] # суммарные награды по эпизодам (среднее по окну)\n",
        "\n",
        "for i in range(NUM_EPISODES):\n",
        "\n",
        "    eps = 1.0 - i / NUM_EPISODES\n",
        "\n",
        "    s = env.reset()\n",
        "\n",
        "    totalReward = 0\n",
        "    step = 0\n",
        "\n",
        "    while step < MAX_STEPS:\n",
        "        step += 1\n",
        "\n",
        "        Q_s = evalQ_new(s)\n",
        "        \n",
        "        if np.random.rand() < eps:\n",
        "            # Выбор случайного действия\n",
        "            a = env.action_space.sample()\n",
        "        else:\n",
        "            # Выбор действия по текущей политике\n",
        "            a = np.argmax(Q_s)\n",
        "        \n",
        "        # Сделать шаг\n",
        "        s1, r, done, _ = env.step(a)\n",
        "\n",
        "        Q_s1 = evalQ_new(s1)\n",
        "        \n",
        "        # Новое (целевое) значение Q-функции\n",
        "        Q_target = Q_s\n",
        "        if done:\n",
        "            Q_target[a] = r\n",
        "        else:\n",
        "            Q_target[a] = r + gamma * np.max(Q_s1)\n",
        "              \n",
        "        # Обновление Q-функции\n",
        "        inp = np.array([[s]], dtype=np.int32)\n",
        "        model_new.train_on_batch(inp, Q_target[None, None, ...])\n",
        "        \n",
        "        totalReward += r\n",
        "        s = s1\n",
        "        \n",
        "        # Если конец эпизода\n",
        "        if done:\n",
        "            break\n",
        "            \n",
        "    pathLenList.append(step)\n",
        "    totalRewardList.append(totalReward)\n",
        "    \n",
        "    if i % REWARD_AVERAGE_WINDOW == 0 and i >= REWARD_AVERAGE_WINDOW:\n",
        "        totalRewardAverage = np.mean(totalRewardList[-REWARD_AVERAGE_WINDOW:])\n",
        "        totalRewardAverageList.append(totalRewardAverage)\n",
        "        if i % 100 == 0:\n",
        "            print('Episode {}: average total reward = {}'.format(i, totalRewardAverage))"
      ],
      "metadata": {
        "id": "fu1ExIf04jQd",
        "outputId": "c036b77a-8376-4c01-8272-d8728630eb5c",
        "colab": {
          "base_uri": "https://localhost:8080/"
        }
      },
      "execution_count": 54,
      "outputs": [
        {
          "output_type": "stream",
          "name": "stdout",
          "text": [
            "Episode 100: average total reward = 0.0\n",
            "Episode 200: average total reward = 0.0\n",
            "Episode 300: average total reward = 0.0\n",
            "Episode 400: average total reward = 0.0\n",
            "Episode 500: average total reward = 0.0\n",
            "Episode 600: average total reward = 0.0\n",
            "Episode 700: average total reward = 0.0\n",
            "Episode 800: average total reward = 0.0\n",
            "Episode 900: average total reward = 0.0\n"
          ]
        }
      ]
    },
    {
      "cell_type": "code",
      "source": [
        "plt.plot(pathLenList)\n",
        "plt.grid()"
      ],
      "metadata": {
        "id": "aWr2scIuhduT"
      },
      "execution_count": null,
      "outputs": []
    },
    {
      "cell_type": "code",
      "source": [
        "plt.plot(totalRewardAverageList)\n",
        "plt.grid()"
      ],
      "metadata": {
        "id": "eQ9jdOnXhg1y"
      },
      "execution_count": null,
      "outputs": []
    },
    {
      "cell_type": "code",
      "source": [
        "totalReward = 0\n",
        "s = env.reset()\n",
        "\n",
        "for _ in range(100):\n",
        "    env.render()\n",
        "    a = np.argmax(evalQ_new(s)) # выбираем оптимальное действие\n",
        "    s, r, done, _ = env.step(a)\n",
        "    totalReward += r\n",
        "    if done:\n",
        "        env.render()        \n",
        "        break\n",
        "\n",
        "env.close()\n",
        "print('Total reward = {}'.format(totalReward))"
      ],
      "metadata": {
        "id": "agbf1qn4hlts"
      },
      "execution_count": null,
      "outputs": []
    }
  ]
}