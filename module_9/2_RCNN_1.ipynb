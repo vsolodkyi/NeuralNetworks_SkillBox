{
  "nbformat": 4,
  "nbformat_minor": 0,
  "metadata": {
    "kernelspec": {
      "name": "python3",
      "display_name": "Python 3"
    },
    "language_info": {
      "codemirror_mode": {
        "name": "ipython",
        "version": 3
      },
      "file_extension": ".py",
      "mimetype": "text/x-python",
      "name": "python",
      "nbconvert_exporter": "python",
      "pygments_lexer": "ipython3",
      "version": "3.7.1"
    },
    "colab": {
      "name": "2_RCNN_1.ipynb",
      "provenance": [],
      "collapsed_sections": [],
      "include_colab_link": true
    },
    "accelerator": "GPU"
  },
  "cells": [
    {
      "cell_type": "markdown",
      "metadata": {
        "id": "view-in-github",
        "colab_type": "text"
      },
      "source": [
        "<a href=\"https://colab.research.google.com/github/vsolodkyi/NeuralNetworks_SkillBox/blob/main/module_9/2_RCNN_1.ipynb\" target=\"_parent\"><img src=\"https://colab.research.google.com/assets/colab-badge.svg\" alt=\"Open In Colab\"/></a>"
      ]
    },
    {
      "cell_type": "markdown",
      "metadata": {
        "id": "OkpcE-PdbNs7"
      },
      "source": [
        "# Реализация R-CNN\n",
        "В этом уроке мы реализуем детектирование объектов с помощью метода R-CNN. Как и в предыдущем практическом уроке, возьмём датасет MNIST и создадим на его основе детекционный датасет, который будет сосотять из изображений, на которых будет располагаться произвольное количество цифр из MNIST.\n",
        "\n",
        "Для работы R-CNN нам потребуются две состовляющее: Region Proposals (пропозалы) и классификатор. Для простоты демонстрации в качестве пропозалов будем использовать сгенерированные \"фейковые\" пропозалы, полученные по известным ground-truth боксам. В идеале за их создание должен был бы отвечать какой-то сторонний алгоритм.\n",
        "\n",
        "В качестве классификатора возьмём обычную CNN, обученную на классификациию цифр. Однако, обучать такую модель нужно на данных, соответствующих нашему детекционному датасету. Поэтому нам дополнительно придётся создать классификационный датасет, состоящий из вырезанных кусочков изображений детекционного датасета. Исходный датасет MNIST не подойдет, так как боксы могут быть различных размеров, а также нужно будет добавить класс фон. Тем более в реальном приложении при постановке задачи нам был бы дан именно детекционный датасет."
      ]
    },
    {
      "cell_type": "markdown",
      "metadata": {
        "id": "d7DtaAQBbNfU"
      },
      "source": [
        "### Загрузка необходимых библиотек\n",
        "Здесь мы загружаем различне библиотеки, включая TensoFlow.\n"
      ]
    },
    {
      "cell_type": "code",
      "metadata": {
        "id": "PnIYkdPj6lMa",
        "colab": {
          "base_uri": "https://localhost:8080/"
        },
        "outputId": "523332c7-74b4-4eea-aead-b6f6cf032688"
      },
      "source": [
        "import random\n",
        "import numpy as np\n",
        "import skimage.filters\n",
        "from skimage.transform import resize\n",
        "\n",
        "%matplotlib inline\n",
        "import matplotlib.pyplot as plt\n",
        "\n",
        "import tensorflow as tf\n",
        "#tf.enable_eager_execution()\n",
        "print('TensorFlow version:', tf.__version__)"
      ],
      "execution_count": 1,
      "outputs": [
        {
          "output_type": "stream",
          "name": "stdout",
          "text": [
            "TensorFlow version: 2.8.2\n"
          ]
        }
      ]
    },
    {
      "cell_type": "markdown",
      "metadata": {
        "id": "k4rHtV6lbYq3"
      },
      "source": [
        "# Подготовка датасета"
      ]
    },
    {
      "cell_type": "markdown",
      "metadata": {
        "id": "0rb_DBFgbZ_J"
      },
      "source": [
        "### Загрузка оригинального датасета MNIST\n",
        "Загружаем датасет MNIST (train и test) и приводим данные к удобному формату:\n",
        "* Размер: (N, 28, 28, 1), где N - количество образцов в подвыборке\n",
        "* Значения интесивности: float32 в диапазоне [0, 1]"
      ]
    },
    {
      "cell_type": "code",
      "metadata": {
        "id": "yk3hVgVm6lMf",
        "colab": {
          "base_uri": "https://localhost:8080/"
        },
        "outputId": "45733d71-b9e2-4c6b-a9b4-3e57256a2733"
      },
      "source": [
        "(train_x, train_y), (test_x, test_y) = tf.keras.datasets.mnist.load_data()\n",
        "\n",
        "train_x = train_x.reshape(-1, 28, 28, 1).astype(np.float32) / 255.\n",
        "test_x = test_x.reshape(-1, 28, 28, 1).astype(np.float32) / 255."
      ],
      "execution_count": 2,
      "outputs": [
        {
          "output_type": "stream",
          "name": "stdout",
          "text": [
            "Downloading data from https://storage.googleapis.com/tensorflow/tf-keras-datasets/mnist.npz\n",
            "11493376/11490434 [==============================] - 0s 0us/step\n",
            "11501568/11490434 [==============================] - 0s 0us/step\n"
          ]
        }
      ]
    },
    {
      "cell_type": "markdown",
      "metadata": {
        "id": "XfWU_61GbgsN"
      },
      "source": [
        "### Подготовка фона для для новых изображений\n",
        "\n",
        "Нам предстоит синтезировать новый датасет, который будет состоять из изображений бОльшего размера, чем 28x28. На каждом таком новом изображении будет находиться несколько цифр из MNIST, которые нам нужно будет задетектировать.\n",
        "\n",
        "Мы могли бы сделать фон таких новых изображений просто чёрным, однако это не интересно. Поэтому мы возьмем в качестве фона некоторый сгенерированный шум. Для синтеза такого фона сгенерируем случайный равномерный шум и \"размоем\" его с помощью фильтра Гаусса. Сразу синтезируем одно большое изображение 1000x1000 из которого будем случайным образом брать кусочки для фона очрендного образца.\n",
        "\n"
      ]
    },
    {
      "cell_type": "code",
      "metadata": {
        "id": "k_J1kWyl6lMi"
      },
      "source": [
        "bg_source = np.random.rand(1000, 1000, 1).astype(np.float32)\n",
        "bg_source = skimage.filters.gaussian(bg_source, 4)\n",
        "bg_source = (bg_source - np.min(bg_source))/(np.max(bg_source) - np.min(bg_source))\n",
        "bg_source = np.clip(bg_source, 0, 1)"
      ],
      "execution_count": 3,
      "outputs": []
    },
    {
      "cell_type": "markdown",
      "metadata": {
        "id": "dTBDYj6BcMdb"
      },
      "source": [
        "### Функция генерации датасета для задачи детектирования объектов\n",
        "Реализуем функцию `gen_od_ds`, в которую передается подвыборка (train или test) картинок из MNIST (x) и правильных классификационных ответов (y). Задача функции сгенерировать новый датасет, состоящий из картинок размера `new_size`. Для создания каждой новой картинки мы сначала возьмем случайный кусочек фона из bg_source, а затем поместим несколько цифр из MNIST на случайные места в новой картинке. Количество цифр тоже выбирается случайно.\n",
        "\n",
        "В качестве Ground-Truth данных для одного образца будем использовать список боксов с правильными классами. Один бокс будет представлять собой список из 5 элеменов `[ys, ry, rx, rh, rw]`: метка класса, и четыре числа, задающих бокс (нормализованные координаты относительно размера нового изображения)."
      ]
    },
    {
      "cell_type": "code",
      "metadata": {
        "id": "uljxyfmv6lMm"
      },
      "source": [
        "def gen_od_ds(x, y, bg_source, new_size, num_samples, max_num_objects):\n",
        "    x_new = np.zeros((num_samples, new_size[0], new_size[1], 1), dtype=np.float32)\n",
        "    y_new = []\n",
        "    \n",
        "    rh = float(x.shape[1]) / new_size[0]\n",
        "    rw = float(x.shape[2]) / new_size[1]\n",
        "    \n",
        "    for i in range(num_samples):\n",
        "        oh = random.randint(0, bg_source.shape[0] - new_size[0])\n",
        "        ow = random.randint(0, bg_source.shape[1] - new_size[1])\n",
        "        x_new[i] = bg_source[oh:oh+new_size[0], ow:ow+new_size[1], :]\n",
        "        num_of_objects = random.randint(1, max_num_objects)\n",
        "        y_new.append([])\n",
        "        for _ in range(num_of_objects):\n",
        "            sample_idx = random.randint(0, x.shape[0]-1)\n",
        "            xs = x[sample_idx]\n",
        "            ys = y[sample_idx]\n",
        "            ofs = (random.randint(0, x_new[i].shape[0]-xs.shape[0]),\n",
        "                   random.randint(0, x_new[i].shape[1]-xs.shape[1]))\n",
        "            x_new[i][ofs[0]:ofs[0]+xs.shape[0], ofs[1]:ofs[1]+xs.shape[1], :] += xs\n",
        "            ry = float(ofs[0]) / new_size[0]\n",
        "            rx = float(ofs[1]) / new_size[1]\n",
        "            y_new[-1].append([ys, ry, rx, rh, rw])\n",
        "            \n",
        "        x_new[i] = np.clip(x_new[i], 0.0, 1.0)\n",
        "        \n",
        "    return x_new, y_new"
      ],
      "execution_count": 4,
      "outputs": []
    },
    {
      "cell_type": "markdown",
      "metadata": {
        "id": "b0pMpzE9cZDN"
      },
      "source": [
        "### Генерация датасета для детектирования объектов\n",
        "Сгенерируем детекционный датасет (train и test). Размер новых картинок (`new_size`) возьмем 128x128"
      ]
    },
    {
      "cell_type": "code",
      "metadata": {
        "id": "R7ycwgHE6lMo",
        "colab": {
          "base_uri": "https://localhost:8080/"
        },
        "outputId": "a7598a00-d41a-41ef-85c9-286525d8d5b5"
      },
      "source": [
        "new_size = (128, 128)\n",
        "train_num_samples = 60000\n",
        "test_num_samples = 10000\n",
        "max_num_objects = 3 # максимальное кол-во цифр на одном изображении\n",
        "\n",
        "train_x_det, train_y_det = gen_od_ds(train_x, train_y, bg_source, new_size, train_num_samples, max_num_objects)\n",
        "test_x_det, test_y_det = gen_od_ds(test_x, test_y, bg_source, new_size, test_num_samples, max_num_objects)\n",
        "\n",
        "print(train_x_det.shape)\n",
        "print(len(train_y_det))\n",
        "print(test_x_det.shape)\n",
        "print(len(test_y_det))"
      ],
      "execution_count": 5,
      "outputs": [
        {
          "output_type": "stream",
          "name": "stdout",
          "text": [
            "(60000, 128, 128, 1)\n",
            "60000\n",
            "(10000, 128, 128, 1)\n",
            "10000\n"
          ]
        }
      ]
    },
    {
      "cell_type": "markdown",
      "metadata": {
        "id": "B5iowqDyc39k"
      },
      "source": [
        "### Фнкция для отображения детекций\n",
        "Реализуем функцию, которая по входной картинке и предсказанию (ground-truth или выход модели) визуализирует это предсказание на картинке: все найденные боксы и соответствующие им классы."
      ]
    },
    {
      "cell_type": "code",
      "metadata": {
        "id": "c6Q_Wf186lMq"
      },
      "source": [
        "def show_prediction(img, preds):\n",
        "    import matplotlib.patches as patches\n",
        "    \n",
        "    fig,ax = plt.subplots(1)\n",
        "    ax.imshow(img[...,0], 'gray', vmin=0, vmax=1,)\n",
        "    \n",
        "    for pred in preds:\n",
        "\n",
        "        pred_cls = pred[0]\n",
        "        ry, rx, rh, rw = pred[1:]\n",
        "        \n",
        "        box_y = int(ry * img.shape[0])\n",
        "        box_x = int(rx * img.shape[1])\n",
        "        box_w = int(rw * img.shape[1])\n",
        "        box_h = int(rh * img.shape[0])\n",
        "\n",
        "        rect = patches.Rectangle((box_x, box_y), box_w, box_h, linewidth=1, edgecolor='r', facecolor='none')\n",
        "        ax.add_patch(rect)\n",
        "        \n",
        "        rect = patches.Rectangle((box_x, box_y), 10, -10, linewidth=1, edgecolor='r', facecolor='r')\n",
        "        ax.add_patch(rect)\n",
        "        ax.text(box_x+4, box_y-2, pred_cls)"
      ],
      "execution_count": 6,
      "outputs": []
    },
    {
      "cell_type": "markdown",
      "metadata": {
        "id": "DgOqVrGAdE57"
      },
      "source": [
        "### Визуализация Ground-Truth образца"
      ]
    },
    {
      "cell_type": "code",
      "metadata": {
        "id": "WApl12WF6lMs",
        "colab": {
          "base_uri": "https://localhost:8080/",
          "height": 268
        },
        "outputId": "fb49172a-f20d-468b-906b-f3a3d1a65af8"
      },
      "source": [
        "idx = 0\n",
        "show_prediction(train_x_det[idx], train_y_det[idx])"
      ],
      "execution_count": 11,
      "outputs": [
        {
          "output_type": "display_data",
          "data": {
            "text/plain": [
              "<Figure size 432x288 with 1 Axes>"
            ],
            "image/png": "[encoded data removed]"
          },
          "metadata": {
            "needs_background": "light"
          }
        }
      ]
    },
    {
      "cell_type": "markdown",
      "metadata": {
        "id": "_C7367UydmFO"
      },
      "source": [
        "# Детектирование объектов с помощью R-CNN"
      ]
    },
    {
      "cell_type": "markdown",
      "metadata": {
        "id": "pwMSGQcsi2KT"
      },
      "source": [
        "### Функция для генерации пропозалов\n",
        "Для работы метода R-CNN нужны паропозалы. В классическом подходе их должен генерировать некоторый сторонний алгоритм Region Proposals. Однако, такие алгоритмы могут быть достаточно сложными, а в текущем уроке наша основная цель -- разобраться со второй частью R-CNN пайплайна: детектирование объекта при условии наличия пропозалов.\n",
        "\n",
        "Поэтому (в демонстрационных целях) реализуем функцию `gen_fake_proposals`, задача которой имитировать поведение некоторого алгоритма Region Proposals. На входе у нас есть набор картинок (x_det), а на выходе набор пропозалов для каждой картинки. Один пропозал характеризуется четырьмя числами `[ry, rx, rh, rw]` -- нормализованные координаты бокса.\n",
        "\n",
        "Для каждой картики список пропозалов будет состоять из ground-truth боксов (которые необходимо передать на вход в эту функцию) и нескильких случайно сгенерированных новых пропозалов. В реальном методе Region Proposals все пропозалы, разумеется, должны генерироваться по картинке и никак не использовать ground-truth информацию."
      ]
    },
    {
      "cell_type": "code",
      "metadata": {
        "id": "bGktWkp96lMu"
      },
      "source": [
        "def gen_fake_proposals(x_det, y_det, ori_shape, num_proposals):\n",
        "    all_proposals = []\n",
        "    for boxes in y_det:\n",
        "        proposals = []\n",
        "        for box in boxes:\n",
        "            proposals.append(box[1:])\n",
        "        extra_prop_num = num_proposals - len(proposals)\n",
        "        for _ in range(extra_prop_num):\n",
        "            proposal_shape = (ori_shape[0] + random.randint(-8, 8), \n",
        "                              ori_shape[1] + random.randint(-8, 8))\n",
        "            ofs = (random.randint(0, x_det.shape[1]-proposal_shape[0]),\n",
        "                   random.randint(0, x_det.shape[2]-proposal_shape[1]))\n",
        "\n",
        "            rh = float(proposal_shape[0]) / x_det.shape[1]\n",
        "            rw = float(proposal_shape[1]) / x_det.shape[2]            \n",
        "            ry = float(ofs[0]) / x_det.shape[1]\n",
        "            rx = float(ofs[1]) / x_det.shape[2]\n",
        "            proposals.append([ry, rx, rh, rw])\n",
        "        \n",
        "        random.shuffle(proposals)                              \n",
        "        all_proposals.append(proposals)\n",
        "        \n",
        "    return all_proposals"
      ],
      "execution_count": 12,
      "outputs": []
    },
    {
      "cell_type": "markdown",
      "metadata": {
        "id": "1gzZOl-4i6WB"
      },
      "source": [
        "### Генерация пропозалов\n",
        "Сгенерируем пропозалы для тестовых изображений детекционного датасета.\n",
        "\n",
        "`ori_shape` - базовый размер пропозала. Новые сгенерированные пропозалы будет меньше или больше этого размера на случайную величину.\n",
        "\n",
        "`num_proposals` - обычно методы Region Proposals имеют входным параметром \"сколкьо пропозалов выдать на выход\". В случае нашей `gen_fake_proposals` мы просто выдаём все ground-turth боксы и оставшееся число случайных пропозалов, чтобы сумма была равна `num_proposals`\n",
        "\n",
        "Посмотрим, что получилось: для нулевой картики из датасета у нас 8 пропозалов, каждый является списком из 4 элементов."
      ]
    },
    {
      "cell_type": "code",
      "metadata": {
        "id": "PfinlvAL6lMz",
        "colab": {
          "base_uri": "https://localhost:8080/"
        },
        "outputId": "343947f3-8ed8-4aa9-971e-1b5fb2122c68"
      },
      "source": [
        "ori_shape = (28, 28)\n",
        "num_proposals = 8 # количество пропозалов на одну картинку\n",
        "\n",
        "test_proposals = gen_fake_proposals(test_x_det, test_y_det, ori_shape, num_proposals)\n",
        "\n",
        "for p in test_proposals[0]:\n",
        "    print(p)"
      ],
      "execution_count": 13,
      "outputs": [
        {
          "output_type": "stream",
          "name": "stdout",
          "text": [
            "[0.296875, 0.1796875, 0.15625, 0.2578125]\n",
            "[0.359375, 0.6171875, 0.1640625, 0.203125]\n",
            "[0.671875, 0.1328125, 0.25, 0.203125]\n",
            "[0.6796875, 0.0234375, 0.1796875, 0.2578125]\n",
            "[0.4609375, 0.2265625, 0.21875, 0.21875]\n",
            "[0.15625, 0.4140625, 0.2734375, 0.171875]\n",
            "[0.171875, 0.109375, 0.1796875, 0.2421875]\n",
            "[0.2109375, 0.1640625, 0.1640625, 0.2578125]\n"
          ]
        }
      ]
    },
    {
      "cell_type": "markdown",
      "metadata": {
        "id": "IoSobUbOill4"
      },
      "source": [
        "### Функция для визуализации пропозалов\n",
        "Вищуализация пропозалов для одного изображения"
      ]
    },
    {
      "cell_type": "code",
      "metadata": {
        "id": "fUaJq4Ia6lM5"
      },
      "source": [
        "def show_proposals(img, proposals):\n",
        "    import matplotlib.patches as patches\n",
        "    \n",
        "    fig,ax = plt.subplots(1)\n",
        "    ax.imshow(img[...,0], 'gray', vmin=0, vmax=1,)\n",
        "    \n",
        "    for proposal in proposals:\n",
        "\n",
        "        ry, rx, rh, rw = proposal\n",
        "        \n",
        "        box_y = int(round(ry * img.shape[0]))\n",
        "        box_x = int(round(rx * img.shape[1]))\n",
        "        box_w = int(round(rw * img.shape[1]))\n",
        "        box_h = int(round(rh * img.shape[0]))\n",
        "\n",
        "        rect = patches.Rectangle((box_x, box_y), box_w, box_h, linewidth=1, edgecolor='r', facecolor='none')\n",
        "        ax.add_patch(rect)"
      ],
      "execution_count": 14,
      "outputs": []
    },
    {
      "cell_type": "markdown",
      "metadata": {
        "id": "S_ZIq_vjipvm"
      },
      "source": [
        "### Пример визуализации пропозалов для одного изображения"
      ]
    },
    {
      "cell_type": "code",
      "metadata": {
        "id": "ekzUhAD86lM7",
        "colab": {
          "base_uri": "https://localhost:8080/",
          "height": 268
        },
        "outputId": "416c2db4-b1c4-4b21-a4f2-368d6a5199b3"
      },
      "source": [
        "idx = 0\n",
        "show_proposals(test_x_det[idx], test_proposals[idx])"
      ],
      "execution_count": 16,
      "outputs": [
        {
          "output_type": "display_data",
          "data": {
            "text/plain": [
              "<Figure size 432x288 with 1 Axes>"
            ],
            "image/png": "[encoded data removed]"
          },
          "metadata": {
            "needs_background": "light"
          }
        }
      ]
    },
    {
      "cell_type": "markdown",
      "metadata": {
        "id": "_RTkG9V7jDFt"
      },
      "source": [
        "### Функция для создания обучающего датасета для R-CNN\n",
        "Внутри R-CNN метода работает обычная классификационная сеть, поэтому для нее нужно сгенерировать классификационный датасет по имеющемуся детекционному датасету. \n",
        "\n",
        "Создадим функцию, у которой на входе будет детекционный датасет `(x_det, y_det)`, а на выходе сгенерированный классификационный `(x_cls, y_cls)`\n",
        "\n",
        "Несмотря на то, что в детекционном датасете все объекты у нас фиксированного размера, в реальном приложении они могут быть разного размера и соотношения сторон. В R-CNN вход в классификационную сеть, как правило, имеет фиксированный размер. Поэтмоу все объекты из детекционного датасета мы преобразуем к этому фиксированному размеру `inp_size` (размер входа в классификатор).\n",
        "\n",
        "Кроме того, нам понадобятся экзамепляры для класса \"фон\" (в количестве `bg_samples_num`). В идеале надо сэмплировать такие экземпляры из тех же изображений входного датасета, и брать те, которые \"не очень сильно\" пересекаются или вообще не пересекаются с реальными объектами. Более формально: если относительная площадь пересечения бокса \"фона\" и бокса объекта меньше некоторого порога. Но в даном примере мы упростим себе задачу и будем сэмплировать примеры класса \"фон\" из изображения `bg_source`, на котором не содержатся никакие цифры."
      ]
    },
    {
      "cell_type": "code",
      "metadata": {
        "id": "zyivxBoc6lM-"
      },
      "source": [
        "def gen_classification_ds(x_det, y_det, inp_size, bg_source, bg_samples_num):\n",
        "    imgs = []\n",
        "    labels = []\n",
        "    for i in range(len(x_det)):\n",
        "        if i % 10000 == 0:\n",
        "            print('[{} / {}]'.format(i, len(x_det)))\n",
        "        img = x_det[i]\n",
        "        for box in y_det[i]:\n",
        "            pred_cls = box[0]\n",
        "            ry, rx, rh, rw = box[1:]\n",
        "\n",
        "            box_y = int(round(ry * img.shape[0]))\n",
        "            box_x = int(round(rx * img.shape[1]))\n",
        "            box_w = int(round(rw * img.shape[1]))\n",
        "            box_h = int(round(rh * img.shape[0]))\n",
        "            img_sub = img[box_y:box_y+box_h, box_x:box_x+box_w, :]     \n",
        "            if img_sub.shape[0] == inp_size[0] and img_sub.shape[1] == inp_size[1]:\n",
        "                img_inp = img_sub\n",
        "            else:\n",
        "                img_inp = resize(img_sub, (inp_size[0], inp_size[1]), \n",
        "                    order=3, mode='reflect', anti_aliasing=True)\n",
        "            imgs.append(img_inp)\n",
        "            labels.append(pred_cls)\n",
        "            \n",
        "    for i in range(bg_samples_num):\n",
        "        if i % 10000 == 0:\n",
        "            print('[{} / {}]'.format(i, bg_samples_num))\n",
        "        ofs = (random.randint(0, bg_source.shape[0]-inp_size[0]),\n",
        "               random.randint(0, bg_source.shape[1]-inp_size[1]))\n",
        "        imgs.append(bg_source[ofs[0]:ofs[0]+inp_size[0], ofs[1]:ofs[1]+inp_size[1], :])\n",
        "        labels.append(10) # bg\n",
        "            \n",
        "    x_cls = np.stack(imgs)\n",
        "    y_cls = np.stack(labels)\n",
        "    return x_cls, y_cls"
      ],
      "execution_count": 17,
      "outputs": []
    },
    {
      "cell_type": "markdown",
      "metadata": {
        "id": "EbRIMkoikYhZ"
      },
      "source": [
        "### Создание обучающего датасета для R-CNN\n",
        "Сгенерируем классификационный обучающий датасет для классификатора, который затем будем использовать в R-CNN.\n"
      ]
    },
    {
      "cell_type": "code",
      "metadata": {
        "id": "u4yY2G5Q6lNA",
        "colab": {
          "base_uri": "https://localhost:8080/"
        },
        "outputId": "d48f95d8-0a7f-4a14-d26f-2a783e17654d"
      },
      "source": [
        "bg_samples_num = 100000 # Количество образцов класса \"фон\"\n",
        "inp_size = (28, 28) # Размер входа в нейросеть\n",
        "\n",
        "train_x_cls, train_y_cls = gen_classification_ds(train_x_det, train_y_det, inp_size, bg_source, bg_samples_num)"
      ],
      "execution_count": 18,
      "outputs": [
        {
          "output_type": "stream",
          "name": "stdout",
          "text": [
            "[0 / 60000]\n",
            "[10000 / 60000]\n",
            "[20000 / 60000]\n",
            "[30000 / 60000]\n",
            "[40000 / 60000]\n",
            "[50000 / 60000]\n",
            "[0 / 100000]\n",
            "[10000 / 100000]\n",
            "[20000 / 100000]\n",
            "[30000 / 100000]\n",
            "[40000 / 100000]\n",
            "[50000 / 100000]\n",
            "[60000 / 100000]\n",
            "[70000 / 100000]\n",
            "[80000 / 100000]\n",
            "[90000 / 100000]\n"
          ]
        }
      ]
    },
    {
      "cell_type": "markdown",
      "metadata": {
        "id": "X55GKp0Uki0v"
      },
      "source": [
        "### Создание классификационной модели\n",
        "Для работы R-CNN нам нужна обычная классификационная модель (CNN), которая будет классифицировать пропозалы.\n",
        "\n",
        "**[Задание 1]** Вопрос: Сколько выходных нейронов будет у такой модели?\n",
        "\n",
        "**[Задание 2]** Реализуйте классификационную модель для R-CNN (создайте объект `model)`. По сути, это должен быть обычный классификатор, на вход в который при инференсе подаётся пропозал, предварительно трансформаированный до нужного фиксированного размера. Транформация пропозала будет производиться за пределами нейросети."
      ]
    },
    {
      "cell_type": "markdown",
      "source": [
        "*11- від 0 до 9 + фон*"
      ],
      "metadata": {
        "id": "JqCA_wo2ObJU"
      }
    },
    {
      "cell_type": "code",
      "metadata": {
        "id": "EpwIIsmY6lNJ"
      },
      "source": [
        "# Ваш код здесь\n",
        "NUM_CLASSES = 11\n",
        "IMG_SIZE = 28\n",
        "\n",
        "model = tf.keras.models.Sequential()\n",
        "model.add(tf.keras.layers.Conv2D(filters=32, kernel_size=(5,5), activation='relu', padding='same'))\n",
        "model.add(tf.keras.layers.MaxPooling2D(pool_size = (2,2), strides = (2,2), padding='same'))\n",
        "model.add(tf.keras.layers.Conv2D(filters=64, kernel_size=(5,5), activation='relu', padding='same'))\n",
        "model.add(tf.keras.layers.MaxPooling2D(pool_size= (2,2), strides = (2,2), padding='same'))\n",
        "model.add(tf.keras.layers.Conv2D(filters=128, kernel_size=(3,3), activation='relu', padding='same'))\n",
        "model.add(tf.keras.layers.MaxPooling2D(pool_size= (2,2), strides = (2,2), padding='same'))\n",
        "model.add(tf.keras.layers.Conv2D(filters=128, kernel_size=(3,3), activation='relu', padding='same'))\n",
        "model.add(tf.keras.layers.MaxPooling2D(pool_size= (2,2), strides = (2,2), padding='same'))\n",
        "\n",
        "model.add(tf.keras.layers.Flatten())\n",
        "model.add(tf.keras.layers.Dense(128, activation='relu'))\n",
        "model.add(tf.keras.layers.Dense(NUM_CLASSES, activation='softmax'))\n",
        "#tf.keras.layers.Conv2d(in)"
      ],
      "execution_count": 31,
      "outputs": []
    },
    {
      "cell_type": "code",
      "source": [
        ""
      ],
      "metadata": {
        "id": "XaVEfau_T8Jj"
      },
      "execution_count": null,
      "outputs": []
    },
    {
      "cell_type": "markdown",
      "metadata": {
        "id": "shHZXPYAlQdT"
      },
      "source": [
        "### Обучение классификационной модели\n",
        "\n",
        "**[ЗАДАНИЕ 3]** Реализуйте пайплайн обучения описанной выше модели `model`, как это делалось для других задач обучения в TensorFlow. Используйте созданный выше классификационный датасет (`train_x_cls` и `train_y_cls`) в качестве обучающего датасета. Постройте график зависимости лосса от эпохи."
      ]
    },
    {
      "cell_type": "code",
      "metadata": {
        "id": "0XKQsEgb6lNL"
      },
      "source": [
        "# Ваш код здесь\n",
        "\n",
        "NUM_EPOCHS = 5\n",
        "NUM_BATCHES = 64\n",
        "\n",
        "loss = tf.keras.losses.SparseCategoricalCrossentropy(from_logits=False)\n",
        "optimizer = tf.keras.optimizers.Adam(learning_rate=5e-4)\n",
        "\n",
        "model.compile(optimizer=optimizer, loss=loss, metrics=['accuracy'])\n"
      ],
      "execution_count": 45,
      "outputs": []
    },
    {
      "cell_type": "code",
      "source": [
        "hist = model.fit(x=train_x_cls, y=train_y_cls, epochs=NUM_EPOCHS, batch_size=NUM_BATCHES)\n",
        "\n"
      ],
      "metadata": {
        "colab": {
          "base_uri": "https://localhost:8080/",
          "height": 390
        },
        "id": "ebKvePP7U3xa",
        "outputId": "c9036c1d-1f69-400d-af12-eb43fa86ffa8"
      },
      "execution_count": 46,
      "outputs": [
        {
          "output_type": "stream",
          "name": "stdout",
          "text": [
            "Epoch 1/5\n",
            "3439/3439 [==============================] - 17s 5ms/step - loss: 0.0242 - accuracy: 0.9926\n",
            "Epoch 2/5\n",
            "3439/3439 [==============================] - 17s 5ms/step - loss: 0.0172 - accuracy: 0.9947\n",
            "Epoch 3/5\n",
            "3439/3439 [==============================] - 16s 5ms/step - loss: 0.0134 - accuracy: 0.9957\n",
            "Epoch 4/5\n",
            "3439/3439 [==============================] - 16s 5ms/step - loss: 0.0101 - accuracy: 0.9967\n",
            "Epoch 5/5\n",
            "3439/3439 [==============================] - 17s 5ms/step - loss: 0.0087 - accuracy: 0.9972\n"
          ]
        },
        {
          "output_type": "error",
          "ename": "TypeError",
          "evalue": "ignored",
          "traceback": [
            "\u001b[0;31m---------------------------------------------------------------------------\u001b[0m",
            "\u001b[0;31mTypeError\u001b[0m                                 Traceback (most recent call last)",
            "\u001b[0;32m<ipython-input-46-5fe338f33527>\u001b[0m in \u001b[0;36m<module>\u001b[0;34m()\u001b[0m\n\u001b[1;32m      1\u001b[0m \u001b[0mhist\u001b[0m \u001b[0;34m=\u001b[0m \u001b[0mmodel\u001b[0m\u001b[0;34m.\u001b[0m\u001b[0mfit\u001b[0m\u001b[0;34m(\u001b[0m\u001b[0mx\u001b[0m\u001b[0;34m=\u001b[0m\u001b[0mtrain_x_cls\u001b[0m\u001b[0;34m,\u001b[0m \u001b[0my\u001b[0m\u001b[0;34m=\u001b[0m\u001b[0mtrain_y_cls\u001b[0m\u001b[0;34m,\u001b[0m \u001b[0mepochs\u001b[0m\u001b[0;34m=\u001b[0m\u001b[0mNUM_EPOCHS\u001b[0m\u001b[0;34m,\u001b[0m \u001b[0mbatch_size\u001b[0m\u001b[0;34m=\u001b[0m\u001b[0mNUM_BATCHES\u001b[0m\u001b[0;34m)\u001b[0m\u001b[0;34m\u001b[0m\u001b[0;34m\u001b[0m\u001b[0m\n\u001b[1;32m      2\u001b[0m \u001b[0;34m\u001b[0m\u001b[0m\n\u001b[0;32m----> 3\u001b[0;31m \u001b[0mplt\u001b[0m\u001b[0;34m.\u001b[0m\u001b[0mplot\u001b[0m\u001b[0;34m(\u001b[0m\u001b[0mhist\u001b[0m\u001b[0;34m.\u001b[0m\u001b[0mhistory\u001b[0m\u001b[0;34m(\u001b[0m\u001b[0;34m'loss'\u001b[0m\u001b[0;34m)\u001b[0m\u001b[0;34m)\u001b[0m\u001b[0;34m\u001b[0m\u001b[0;34m\u001b[0m\u001b[0m\n\u001b[0m",
            "\u001b[0;31mTypeError\u001b[0m: 'dict' object is not callable"
          ]
        }
      ]
    },
    {
      "cell_type": "code",
      "source": [
        "plt.plot(hist.history['loss'])"
      ],
      "metadata": {
        "colab": {
          "base_uri": "https://localhost:8080/",
          "height": 283
        },
        "id": "n4gbfSXvW10W",
        "outputId": "0441730f-e80d-447c-d5f1-28649cac9ac5"
      },
      "execution_count": 48,
      "outputs": [
        {
          "output_type": "execute_result",
          "data": {
            "text/plain": [
              "[<matplotlib.lines.Line2D at 0x7f21dc05e850>]"
            ]
          },
          "metadata": {},
          "execution_count": 48
        },
        {
          "output_type": "display_data",
          "data": {
            "text/plain": [
              "<Figure size 432x288 with 1 Axes>"
            ],
            "image/png": "[encoded data removed]"
          },
          "metadata": {
            "needs_background": "light"
          }
        }
      ]
    },
    {
      "cell_type": "code",
      "source": [
        "inp_size = (28, 28)\n",
        "\n",
        "idx = 0\n",
        "img = test_x_det[idx]\n",
        "proposals_img = test_proposals[idx]\n",
        "proposal = proposals_img[0]\n",
        "\n",
        "ry, rx, rh, rw = proposal        \n",
        "box_y = int(round(ry * img.shape[0]))\n",
        "box_x = int(round(rx * img.shape[1]))\n",
        "box_w = int(round(rw * img.shape[1]))\n",
        "box_h = int(round(rh * img.shape[0]))\n",
        "img_sub = img[box_y:box_y+box_h, box_x:box_x+box_w, :]     \n",
        "img_inp = resize(img_sub, (inp_size[0], inp_size[1]), \n",
        "    order=3, mode='reflect', anti_aliasing=True)\n",
        "\n",
        "# Все пропозалы\n",
        "plt.figure(), show_proposals(img, proposals_img)\n",
        "\n",
        "# Вырезанный и трансформированный пропозал\n",
        "plt.figure(), plt.imshow(img_inp[...,0], 'gray', vmin=0, vmax=1,)"
      ],
      "metadata": {
        "colab": {
          "base_uri": "https://localhost:8080/",
          "height": 571
        },
        "id": "KwWhYabpW6yS",
        "outputId": "943c1d27-d781-4ee8-d825-98b13180c281"
      },
      "execution_count": 49,
      "outputs": [
        {
          "output_type": "execute_result",
          "data": {
            "text/plain": [
              "(<Figure size 432x288 with 1 Axes>,\n",
              " <matplotlib.image.AxesImage at 0x7f21c99ea310>)"
            ]
          },
          "metadata": {},
          "execution_count": 49
        },
        {
          "output_type": "display_data",
          "data": {
            "text/plain": [
              "<Figure size 432x288 with 0 Axes>"
            ]
          },
          "metadata": {}
        },
        {
          "output_type": "display_data",
          "data": {
            "text/plain": [
              "<Figure size 432x288 with 1 Axes>"
            ],
            "image/png": "[encoded data removed]"
          },
          "metadata": {
            "needs_background": "light"
          }
        },
        {
          "output_type": "display_data",
          "data": {
            "text/plain": [
              "<Figure size 432x288 with 1 Axes>"
            ],
            "image/png": "[encoded data removed]"
          },
          "metadata": {
            "needs_background": "light"
          }
        }
      ]
    },
    {
      "cell_type": "code",
      "source": [
        ""
      ],
      "metadata": {
        "id": "dT7oY0KgXCcU"
      },
      "execution_count": null,
      "outputs": []
    }
  ]
}