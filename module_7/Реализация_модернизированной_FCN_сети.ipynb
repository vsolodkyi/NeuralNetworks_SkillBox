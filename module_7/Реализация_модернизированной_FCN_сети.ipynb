{
  "nbformat": 4,
  "nbformat_minor": 0,
  "metadata": {
    "kernelspec": {
      "name": "python3",
      "display_name": "Python 3"
    },
    "language_info": {
      "codemirror_mode": {
        "name": "ipython",
        "version": 3
      },
      "file_extension": ".py",
      "mimetype": "text/x-python",
      "name": "python",
      "nbconvert_exporter": "python",
      "pygments_lexer": "ipython3",
      "version": "3.7.1"
    },
    "colab": {
      "name": "Реализация модернизированной FCN сети.ipynb",
      "provenance": [],
      "collapsed_sections": [],
      "include_colab_link": true
    },
    "accelerator": "GPU"
  },
  "cells": [
    {
      "cell_type": "markdown",
      "metadata": {
        "id": "view-in-github",
        "colab_type": "text"
      },
      "source": [
        "<a href=\"https://colab.research.google.com/github/vsolodkyi/NeuralNetworks_SkillBox/blob/main/module_7/%D0%A0%D0%B5%D0%B0%D0%BB%D0%B8%D0%B7%D0%B0%D1%86%D0%B8%D1%8F_%D0%BC%D0%BE%D0%B4%D0%B5%D1%80%D0%BD%D0%B8%D0%B7%D0%B8%D1%80%D0%BE%D0%B2%D0%B0%D0%BD%D0%BD%D0%BE%D0%B9_FCN_%D1%81%D0%B5%D1%82%D0%B8.ipynb\" target=\"_parent\"><img src=\"https://colab.research.google.com/assets/colab-badge.svg\" alt=\"Open In Colab\"/></a>"
      ]
    },
    {
      "cell_type": "markdown",
      "metadata": {
        "id": "gAW-KZShLpio"
      },
      "source": [
        "# Реализация модернизированной FCN сети\n",
        "В этом уроке мы создадим модернизированную FCN модель с использованием изученных слоёв, которая потенциально должна выдвать более высокое качество на реальных задачах по семантической сегментации."
      ]
    },
    {
      "cell_type": "markdown",
      "metadata": {
        "id": "ByrUHJULLpiq"
      },
      "source": [
        "### Загрузка необходимых библиотек\n",
        "Здесь мы загружаем разоичные библиотеки, включая TensoFlow.\n"
      ]
    },
    {
      "cell_type": "code",
      "metadata": {
        "id": "gaMg5neBLpir",
        "outputId": "adf95038-427e-4265-b841-f144cf9675e9",
        "colab": {
          "base_uri": "https://localhost:8080/",
          "height": 34
        }
      },
      "source": [
        "import numpy as np\n",
        "\n",
        "import tensorflow as tf\n",
        "# tf.enable_eager_execution()\n",
        "print('TensorFlow version:', tf.__version__)"
      ],
      "execution_count": null,
      "outputs": [
        {
          "output_type": "stream",
          "text": [
            "TensorFlow version: 2.2.0\n"
          ],
          "name": "stdout"
        }
      ]
    },
    {
      "cell_type": "markdown",
      "metadata": {
        "id": "-Z-lR4n8Lpjc"
      },
      "source": [
        "### Создание FCN модели\n",
        "Для создания модели создадим собственный класс, наследованный от `tf.keras.Model`.\n",
        "Ранее мы использовали лишь свёртки и пулинги для извлечения признаков и понижения пространственных размерностий. Это был наш Энкодер. В качестве Декодера у нас был простой Upscale слой, который просто расширял изображение до нужного размера. Теперь же давайте реализуем более качественный Декодер с использованием слоёв для повышения разрешения.\n",
        "\n",
        "В примере ниже будем использовать Unpooling (в керасе это делает слой `tf.keras.layers.UpSampling2D`) перемежающиийся со свёрточными слоями."
      ]
    },
    {
      "cell_type": "code",
      "metadata": {
        "id": "xRU14xxDLpje"
      },
      "source": [
        "class Model(tf.keras.Model):\n",
        "    def __init__(self):\n",
        "        super().__init__()\n",
        "        self.conv1 = tf.keras.layers.Conv2D(64, (3, 3), padding='same', activation='relu')\n",
        "        self.conv2 = tf.keras.layers.Conv2D(64, (3, 3), padding='same', activation='relu')        \n",
        "        self.conv3 = tf.keras.layers.Conv2D(128, (3, 3), padding='same', activation='relu')\n",
        "        self.conv4 = tf.keras.layers.Conv2D(128, (3, 3), padding='same', activation='relu')        \n",
        "        self.conv5 = tf.keras.layers.Conv2D(256, (3, 3), padding='same', activation='relu')\n",
        "        self.conv6 = tf.keras.layers.Conv2D(256, (3, 3), padding='same', activation='relu')    \n",
        "        \n",
        "        self.conv7 = tf.keras.layers.Conv2D(128, (3, 3), padding='same', activation='relu')\n",
        "        self.conv8 = tf.keras.layers.Conv2D(128, (3, 3), padding='same', activation='relu')        \n",
        "        self.conv9 = tf.keras.layers.Conv2D(64, (3, 3), padding='same', activation='relu')\n",
        "        self.conv10 = tf.keras.layers.Conv2D(64, (3, 3), padding='same', activation='relu')\n",
        "        self.conv11 = tf.keras.layers.Conv2D(1, (3, 3), padding='same', activation='sigmoid')\n",
        "        \n",
        "        self.pool = tf.keras.layers.MaxPool2D((2, 2))\n",
        "        self.unpool = tf.keras.layers.UpSampling2D((2, 2))\n",
        "                \n",
        "    def call(self, x):\n",
        "      \n",
        "        # Encoder\n",
        "        out = self.conv1(x)\n",
        "        out = self.conv2(out)\n",
        "        out = self.pool(out)        \n",
        "        out = self.conv3(out)\n",
        "        out = self.conv4(out)\n",
        "        out = self.pool(out)        \n",
        "        out = self.conv5(out)\n",
        "        out = self.conv6(out)\n",
        "        \n",
        "        # Decoder        \n",
        "        out = self.unpool(out)        \n",
        "        out = self.conv7(out)\n",
        "        out = self.conv8(out)\n",
        "        out = self.unpool(out)        \n",
        "        out = self.conv9(out)\n",
        "        out = self.conv10(out)\n",
        "        out = self.conv11(out)\n",
        "\n",
        "        return out\n",
        "    \n",
        "model = Model()"
      ],
      "execution_count": null,
      "outputs": []
    },
    {
      "cell_type": "markdown",
      "metadata": {
        "id": "duIuW1HVhZXU"
      },
      "source": [
        "### Задания"
      ]
    },
    {
      "cell_type": "markdown",
      "metadata": {
        "id": "Qg5VqQGEgiq5"
      },
      "source": [
        "\n",
        "**[ЗАДАНИЕ 1]** Для такой модели для каждого промежуточного тензора с картами признаков укажите его размерности. Другими словами, для каждого вычисленного тензора `out` в каждой строчке функции `call()` выпишите его размерность, основываясь лишь на числах из конструктора. Размерность тензора `x` считать равной [1, 256, 256, 3]"
      ]
    },
    {
      "cell_type": "markdown",
      "metadata": {
        "id": "kKBdffb6h54e"
      },
      "source": [
        "\n",
        "**[ЗАДАНИЕ 2]** Создайте новую модель, аналогичную описанной выше, в котрой замените все Pooling слои на свёрточные слои со страйдом 2"
      ]
    },
    {
      "cell_type": "code",
      "metadata": {
        "id": "sBoeiTvOiBSI"
      },
      "source": [
        ""
      ],
      "execution_count": null,
      "outputs": []
    },
    {
      "cell_type": "markdown",
      "metadata": {
        "id": "FrujSxSkh51g"
      },
      "source": [
        "\n",
        "**[ЗАДАНИЕ 3]** Реализуйте одну из написанных моделей (исходную или из Задания 2) с помощью функционального API кераса. Входом в модель сделайте узел `tf.keras.layers.Input((256, 256, 3))`. После этого визуализализируйте полученную модель с помощью `tf.keras.utils.plot_model(model, show_shapes=True)`. Проверьте размерности выходов всех слоёв, сравние с ответом из Задания 1."
      ]
    },
    {
      "cell_type": "code",
      "metadata": {
        "id": "L9edQqr0j6Iq"
      },
      "source": [
        ""
      ],
      "execution_count": null,
      "outputs": []
    },
    {
      "cell_type": "markdown",
      "metadata": {
        "id": "nA36-I0mh5yc"
      },
      "source": [
        "\n",
        "**[ЗАДАНИЕ 4]** Реализуйте пайплайн обучения для такой модели (одной из): подготовка данных, лосс, обучение, тестирование. Используйте материалы из предыдущего практического урока. Обучите модель и сравните время обучения с временем обучения простой FCN из предыдущего урока."
      ]
    },
    {
      "cell_type": "code",
      "metadata": {
        "id": "IRtYKp0l9jrV"
      },
      "source": [
        ""
      ],
      "execution_count": null,
      "outputs": []
    }
  ]
}